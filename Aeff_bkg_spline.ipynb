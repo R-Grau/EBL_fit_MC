{
 "cells": [
  {
   "cell_type": "code",
   "execution_count": 1,
   "metadata": {},
   "outputs": [],
   "source": [
    "from pygam import LinearGAM, s\n",
    "import matplotlib.pyplot as plt\n",
    "import numpy as np\n",
    "import pandas as pd\n",
    "import scipy.interpolate as interpolate"
   ]
  },
  {
   "cell_type": "markdown",
   "metadata": {},
   "source": [
    "After importing the needed libraries we start by defining the $\\chi^2$ which we will need later."
   ]
  },
  {
   "cell_type": "code",
   "execution_count": 2,
   "metadata": {},
   "outputs": [],
   "source": [
    "def chisq(obs, exp, error):\n",
    "    return np.sum(np.square(obs - exp) / np.square(error))"
   ]
  },
  {
   "cell_type": "markdown",
   "metadata": {},
   "source": [
    "Now we just load the txt file with the data and the effective area and then the background."
   ]
  },
  {
   "cell_type": "code",
   "execution_count": 3,
   "metadata": {},
   "outputs": [],
   "source": [
    "fileEA = np.loadtxt('EffArea50h.txt', skiprows = 11)\n",
    "EffA = pd.DataFrame(fileEA)\n",
    "EffA = EffA.rename(columns={ 0 : 'E [TeV]', 1: 'Eff area (m^2)'})\n",
    "EffaE= EffA['E [TeV]'].to_numpy()\n",
    "Effa = EffA['Eff area (m^2)'].to_numpy()\n",
    "\n",
    "#absorption file\n",
    "file = np.loadtxt('tau_dominguez11.out')\n",
    "pdfile = pd.DataFrame(file)\n",
    "pdfile = pdfile.rename(columns={ 0 : 'E [TeV]', 1: 'tau z=0.01', 2: 'tau z=0.02526316', 3: 'tau z=0.04052632', 4: 'tau z=0.05578947', 5: 'tau z=0.07105263', 6: 'tau z=0.08631579', 7: 'tau z=0.10157895', 8: 'tau z=0.11684211', 9: 'tau z=0.13210526', 10: 'tau z=0.14736842', 11: 'tau z=0.16263158', 12: 'tau z=0.17789474', 13: 'tau z=0.19315789', 14: 'tau z=0.20842105'})\n",
    "E = pdfile['E [TeV]'].to_numpy()\n",
    "tau = pdfile['tau z=0.20842105'].to_numpy()"
   ]
  },
  {
   "cell_type": "code",
   "execution_count": 4,
   "metadata": {},
   "outputs": [],
   "source": [
    "fileBkg = np.loadtxt('Bkg50h.txt', skiprows = 10)\n",
    "Bkgpd = pd.DataFrame(fileBkg)\n",
    "Bkgpd = Bkgpd.rename(columns={ 0 : 'E_min (TeV)', 1: 'E_max (TeV)', 2: 'Bck Rate (Hz/deg^2)'})"
   ]
  },
  {
   "cell_type": "markdown",
   "metadata": {},
   "source": [
    "Now we plot the background."
   ]
  },
  {
   "cell_type": "code",
   "execution_count": 5,
   "metadata": {},
   "outputs": [
    {
     "data": {
      "image/png": "[encoded data removed]",
      "text/plain": [
       "<Figure size 432x288 with 1 Axes>"
      ]
     },
     "metadata": {
      "needs_background": "light"
     },
     "output_type": "display_data"
    }
   ],
   "source": [
    "BckgEmin = Bkgpd['E_min (TeV)'].to_numpy()\n",
    "BckgEmax = Bkgpd['E_max (TeV)'].to_numpy()\n",
    "Bckg = Bkgpd['Bck Rate (Hz/deg^2)'].to_numpy()\n",
    "BckgEdiff = BckgEmax - BckgEmin\n",
    "\n",
    "BckgElogmean = []\n",
    "for i in range(len(Bckg)):\n",
    "    BckgElogmean.append(10**(np.mean([np.log10(BckgEmax[i]), np.log10(BckgEmin[i])])))\n",
    "    \n",
    "BckgdivE = Bckg/BckgElogmean\n",
    "\n",
    "plt.scatter(BckgElogmean[1:13], BckgdivE[1:13])\n",
    "plt.bar(BckgEmin[1:13], BckgdivE[1:13], width = BckgEdiff[1:13], align = 'edge')\n",
    "plt.xlim(min(BckgEmin[1:13]), max(BckgEmax[1:13]))\n",
    "plt.grid(axis = 'x', which = 'both', alpha=0.75)\n",
    "plt.grid(axis = 'y', alpha=0.75)\n",
    "plt.ylabel('Bck Rate (Hz/deg^2)',fontsize=15)\n",
    "plt.xlabel('E (TeV)',fontsize=15)\n",
    "plt.xticks(fontsize=15)\n",
    "plt.yticks(fontsize=15)\n",
    "plt.xscale('log')\n",
    "plt.yscale('log')\n",
    "plt.show()"
   ]
  },
  {
   "cell_type": "markdown",
   "metadata": {},
   "source": [
    "Here we reproduce the plot from https://www.cta-observatory.org/science/cta-performance/#1472563453568-c1970a6e-2c0f ."
   ]
  },
  {
   "cell_type": "code",
   "execution_count": 6,
   "metadata": {},
   "outputs": [
    {
     "data": {
      "image/png": "[encoded data removed]",
      "text/plain": [
       "<Figure size 432x288 with 1 Axes>"
      ]
     },
     "metadata": {
      "needs_background": "light"
     },
     "output_type": "display_data"
    }
   ],
   "source": [
    "plt.errorbar(BckgElogmean, Bckg, xerr = [BckgElogmean - BckgEmin, BckgEmax - BckgElogmean], capsize=3, fmt='o',mfc='w')\n",
    "plt.xlim(10**-2, 250)\n",
    "plt.ylim(10**-6, 10)\n",
    "plt.grid(axis = 'x', which = 'both', alpha=0.75)\n",
    "plt.grid(axis = 'y', alpha=0.75)\n",
    "plt.ylabel('Bck Rate (Hz/deg^2)',fontsize=15)\n",
    "plt.xlabel('E (TeV)',fontsize=15)\n",
    "plt.xticks(fontsize=15)\n",
    "plt.yticks(fontsize=15)\n",
    "plt.xscale('log')\n",
    "plt.yscale('log')\n",
    "plt.show()"
   ]
  },
  {
   "cell_type": "markdown",
   "metadata": {},
   "source": [
    "Let's get the background at the same energy bins as the ones of the $\\frac{dN}{dE}$. First of all we will make an approximation of the bin width of the $\\frac{dN}{dE}$ ."
   ]
  },
  {
   "cell_type": "code",
   "execution_count": 7,
   "metadata": {},
   "outputs": [],
   "source": [
    "Ebinsmin = np.zeros(len(E))\n",
    "Ebinsmax = np.zeros(len(E))\n",
    "\n",
    "for i in range(1, len(E)):\n",
    "    Ebinsmin[i] = 10**(np.mean([np.log10(E[i]), np.log10(E[i-1])]))\n",
    "for i in range(len(E) - 1):\n",
    "    Ebinsmax[i] = 10**(np.mean([np.log10(E[i]), np.log10(E[i+1])]))\n",
    "    \n",
    "Ebinsmin[0] = 10**(np.log10(Ebinsmin[1])-(np.log10(Ebinsmin[2])-np.log10(Ebinsmin[1])))\n",
    "Ebinsmax[len(E)-1] = 10**(np.log10(Ebinsmax[len(E)-2])-(np.log10(Ebinsmax[len(E)-3])-np.log10(Ebinsmax[len(E)-2])))\n",
    "Ebinsw = Ebinsmax - Ebinsmin"
   ]
  },
  {
   "cell_type": "markdown",
   "metadata": {},
   "source": [
    "Now we will compute de differential background rate at every bin and interpolate it linearly in the log rate vs log E plot to get the rate at the new bins."
   ]
  },
  {
   "cell_type": "code",
   "execution_count": 8,
   "metadata": {},
   "outputs": [],
   "source": [
    "DifBckg = np.log10(BckgdivE) / (np.log10(BckgEmax) - np.log10(BckgEmin))\n",
    "#logDifBckg = np.log10(DifBckg)\n",
    "logBckgElogmean = np.log10(BckgElogmean)\n",
    "interpolation = interpolate.interp1d(logBckgElogmean, DifBckg, fill_value='extrapolate', kind='slinear') #this may be wrong\n",
    "\n",
    "# IntBckgmin = interpolation(np.log10(BckgEmin[1:-1]))\n",
    "# IntBckgmax = interpolation(np.log10(BckgEmax[1:-1]))\n",
    "# IntBckgmean = (IntBckgmax+IntBckgmin)/2\n",
    "# Intfinal = 0.2 * IntBckgmean\n",
    "\n",
    "# plt.scatter(BckgEmin[1:-1], 10**IntBckgmin, label='interpol min')\n",
    "# plt.scatter(BckgEmax[1:-1], 10**IntBckgmax, label='interpol max')\n",
    "# plt.scatter(10**logBckgElogmean[1:-1], 10**IntBckgmean, label='interpol mean')\n",
    "# plt.scatter(10**logBckgElogmean[1:-1], 10**Intfinal, label='interpol mean final')\n",
    "# plt.plot(10**logBckgElogmean, 10**DifBckg, label= 'interpolation')\n",
    "# plt.scatter(10**logBckgElogmean, BckgdivE, label='differencial bckg')\n",
    "# plt.legend()\n",
    "# plt.xscale('log')\n",
    "# plt.yscale('log')\n",
    "# plt.show()"
   ]
  },
  {
   "cell_type": "markdown",
   "metadata": {},
   "source": [
    "Testing with 3 different integration methods:"
   ]
  },
  {
   "cell_type": "code",
   "execution_count": 9,
   "metadata": {},
   "outputs": [
    {
     "data": {
      "image/png": "[encoded data removed]",
      "text/plain": [
       "<Figure size 432x288 with 1 Axes>"
      ]
     },
     "metadata": {
      "needs_background": "light"
     },
     "output_type": "display_data"
    }
   ],
   "source": [
    "from scipy.integrate import quad\n",
    "newlogBckg2 = np.zeros([len(Bckg[1:-1]),2])\n",
    "for i in range(len(Bckg[1:-1])):\n",
    "    newlogBckg2[i] = quad(interpolation, np.log10(BckgEmin[i+1]), np.log10(BckgEmax[i+1]))\n",
    "newlogBckg2 = newlogBckg2[:,0]\n",
    "\n",
    "\n",
    "def trapint(toplim, bottomlim):\n",
    "    return ((toplim - bottomlim) * (interpolation(toplim) + interpolation(bottomlim)) / 2)\n",
    "\n",
    "newlogBckg3 = np.zeros([len(Bckg[1:-1])])\n",
    "for i in range(len(Bckg[1:-1])):\n",
    "    newlogBckg3[i] = trapint(np.log10(BckgEmax[i+1]), np.log10(BckgEmin[i+1]))\n",
    "\n",
    "\n",
    "def sqint(toplim, bottomlim):\n",
    "    return ((toplim - bottomlim) * (interpolation((toplim + bottomlim) / 2)))\n",
    "\n",
    "newlogBckg4 = np.zeros([len(Bckg[1:-1])])\n",
    "for i in range(len(Bckg[1:-1])):\n",
    "    newlogBckg4[i] = sqint(np.log10(BckgEmax[i+1]), np.log10(BckgEmin[i+1]))\n",
    "    \n",
    "\n",
    "plt.errorbar(BckgElogmean[1:-1], 10**newlogBckg4, xerr = [BckgElogmean[1:-1] - BckgEmin[1:-1], BckgEmax[1:-1] - BckgElogmean[1:-1]], capsize=3, fmt='o',mfc='w', label='4')    \n",
    "plt.errorbar(BckgElogmean[1:-1], 10**newlogBckg3, xerr = [BckgElogmean[1:-1] - BckgEmin[1:-1], BckgEmax[1:-1] - BckgElogmean[1:-1]], capsize=3, fmt='o',mfc='w', label='3', alpha = 0.7)\n",
    "plt.errorbar(BckgElogmean[1:-1], 10**newlogBckg2, xerr = [BckgElogmean[1:-1] - BckgEmin[1:-1], BckgEmax[1:-1] - BckgElogmean[1:-1]], capsize=3, fmt='o',mfc='w', label='2', alpha = 0.7)\n",
    "plt.errorbar(BckgElogmean, BckgdivE, xerr = [BckgElogmean - BckgEmin, BckgEmax - BckgElogmean], capsize=3, fmt='o',mfc='w', label='original', alpha = 0.7)\n",
    "# plt.xlim(10**-2, 250)\n",
    "# plt.ylim(10**-6, 10)\n",
    "plt.grid(axis = 'x', which = 'both', alpha=0.75)\n",
    "plt.grid(axis = 'y', alpha=0.75)\n",
    "plt.ylabel('Bck Rate (Hz/deg^2)',fontsize=15)\n",
    "plt.xlabel('E (TeV)',fontsize=15)\n",
    "plt.xticks(fontsize=15)\n",
    "plt.yticks(fontsize=15)\n",
    "plt.xscale('log')\n",
    "plt.yscale('log')\n",
    "plt.legend()\n",
    "plt.show()\n"
   ]
  },
  {
   "cell_type": "markdown",
   "metadata": {},
   "source": [
    "We can see that all 3 methods fit really good on the data. Now that we have checked that it works, we will try it with the new bins."
   ]
  },
  {
   "cell_type": "code",
   "execution_count": 10,
   "metadata": {},
   "outputs": [
    {
     "data": {
      "image/png": "[encoded data removed]",
      "text/plain": [
       "<Figure size 432x288 with 1 Axes>"
      ]
     },
     "metadata": {
      "needs_background": "light"
     },
     "output_type": "display_data"
    }
   ],
   "source": [
    "newlogBckg = np.zeros([len(E[3:37]),2])\n",
    "for i in range(len(E[3:37])):\n",
    "    newlogBckg[i] = quad(interpolation, np.log10(Ebinsmin[i+3]), np.log10(Ebinsmax[i+3]))\n",
    "newlogBckg = newlogBckg[:,0]\n",
    "\n",
    "newlogBckg5 = np.zeros([len(E[3:37])])\n",
    "for i in range(len(E[3:37])):\n",
    "    newlogBckg5[i] = trapint(np.log10(Ebinsmax[i+3]), np.log10(Ebinsmin[i+3]))\n",
    "\n",
    "newlogBckg6 = np.zeros([len(E[3:37])])\n",
    "for i in range(len(E[3:37])):\n",
    "    newlogBckg6[i] = sqint(np.log10(Ebinsmax[i+3]), np.log10(Ebinsmin[i+3]))\n",
    "\n",
    "plt.errorbar(E[3:37], 10**newlogBckg, xerr = [E[3:37] - Ebinsmin[3:37], Ebinsmax[3:37] - E[3:37]], capsize=3, fmt='o',mfc='w', label = 'quad')\n",
    "plt.errorbar(E[3:37], 10**newlogBckg5, xerr = [E[3:37] - Ebinsmin[3:37], Ebinsmax[3:37] - E[3:37]], capsize=3, fmt='o',mfc='w', label = 'Trapezoid')\n",
    "plt.errorbar(E[3:37], 10**newlogBckg6, xerr = [E[3:37] - Ebinsmin[3:37], Ebinsmax[3:37] - E[3:37]], capsize=3, fmt='o',mfc='w', label = 'Rectangle')\n",
    "plt.errorbar(BckgElogmean, BckgdivE, xerr = [BckgElogmean - BckgEmin, BckgEmax - BckgElogmean], capsize=3, fmt='o',mfc='w', label='original', alpha = 0.7)\n",
    "#plt.xlim(10**-1, 1)\n",
    "# plt.ylim(10**-6, 10)\n",
    "plt.grid(axis = 'x', which = 'both', alpha=0.75)\n",
    "plt.grid(axis = 'y', alpha=0.75)\n",
    "plt.ylabel('Bck Rate (Hz/deg^2)',fontsize=15)\n",
    "plt.xlabel('E (TeV)',fontsize=15)\n",
    "plt.xticks(fontsize=15)\n",
    "plt.yticks(fontsize=15)\n",
    "plt.xscale('log')\n",
    "plt.yscale('log')\n",
    "plt.legend()\n",
    "plt.show()"
   ]
  },
  {
   "cell_type": "markdown",
   "metadata": {},
   "source": [
    "This is the background that we will use from now on.\n",
    "\n",
    "The units of the background are $Hz/deg^2$, therefore it is in the same units as our $\\frac{dN}{dE}$ except for the $E^-1$\n",
    "\n",
    "We will simulate 4 backgrounds, one for the background of the source and 3 for the wobbles (using Poisson statistics, instead of simulating it 3 times we will simulate it once with a Poisson parameter 3 times larger and divide it by 3). We will then add the one of the source to the absorved $\\frac{dN}{dE}$ and substract it with the ones of the wobbles. This procedure will add a bit of noise and uncertainty, like in the real data."
   ]
  },
  {
   "cell_type": "markdown",
   "metadata": {},
   "source": [
    "But first, let's simulate an absorbed $\\frac{dN}{dE}$. This time we will use the one of the BL Lac 1ES1011+496 measured by MAGIC in 2014 (but wihtout uncertainty)."
   ]
  },
  {
   "cell_type": "code",
   "execution_count": 11,
   "metadata": {},
   "outputs": [],
   "source": [
    "#“photon index  = 2.03  +/- 0.03 and normalization factor at 250 GeV    f0 = (8.70 +/- 0.17) * 10^-10 cm^-2  s^-1  TeV^-1.”\n",
    "K =  8.70e-6 #m−2  s−1  TeV−1\n",
    "dNdE = K / ((E/0.25)**2.03) #E is divided by 0.25TeV\n",
    "m_tau = -tau\n",
    "dNdEa = dNdE * np.exp(m_tau)"
   ]
  },
  {
   "cell_type": "markdown",
   "metadata": {},
   "source": [
    "Here we will define the Effective area at the same energy bins as the ones of the $\\frac{dN}{dE}$ assuming linear behaviour between the bins of the effective area (a valid approximation)"
   ]
  },
  {
   "cell_type": "code",
   "execution_count": 12,
   "metadata": {},
   "outputs": [],
   "source": [
    "EffaA2 = np.zeros(len(E[3:37]))\n",
    "for i in range(len(E[3:37])):\n",
    "    for j in range(len(EffaE[9:51])):\n",
    "        if EffaE[j+9] < E[i+3] and EffaE[j+10] > E[i+3]:\n",
    "            m = (Effa[j+10]-Effa[j+9])/(EffaE[j+10]-EffaE[j+9])\n",
    "            n = Effa[j+9] - m * EffaE[j+9]\n",
    "            EffaA2[i] = m * E[i+3] + n"
   ]
  },
  {
   "cell_type": "markdown",
   "metadata": {},
   "source": [
    "Now we can simulate the background"
   ]
  },
  {
   "cell_type": "markdown",
   "metadata": {},
   "source": [
    "But first we need the angular resolution at each energy bin."
   ]
  },
  {
   "cell_type": "code",
   "execution_count": 13,
   "metadata": {},
   "outputs": [
    {
     "data": {
      "image/png": "[encoded data removed]",
      "text/plain": [
       "<Figure size 432x288 with 1 Axes>"
      ]
     },
     "metadata": {
      "needs_background": "light"
     },
     "output_type": "display_data"
    }
   ],
   "source": [
    "fileAng = np.loadtxt('Angres.txt', skiprows = 11)\n",
    "Angresall = pd.DataFrame(fileAng)\n",
    "Angresall = Angresall.rename(columns={ 0 : 'E [TeV]', 1: 'Angular resolution (deg)'})\n",
    "AngresE= Angresall['E [TeV]'].to_numpy()\n",
    "Angres = Angresall['Angular resolution (deg)'].to_numpy()\n",
    "plt.scatter(AngresE, Angres)\n",
    "plt.grid(axis = 'x', which = 'both', alpha=0.75)\n",
    "plt.grid(axis = 'y', alpha=0.75)\n",
    "plt.ylabel('Angular resolution (deg)',fontsize=15)\n",
    "plt.xlabel('E (TeV)',fontsize=15)\n",
    "plt.xticks(fontsize=15)\n",
    "plt.yticks(fontsize=15)\n",
    "plt.xscale('log')\n",
    "plt.yscale('log')\n",
    "plt.show()"
   ]
  },
  {
   "cell_type": "markdown",
   "metadata": {},
   "source": [
    "Let's use the same energy bins as we have used since now. First of all we will do the log of the values to make the fit with thos values. "
   ]
  },
  {
   "cell_type": "code",
   "execution_count": 14,
   "metadata": {},
   "outputs": [],
   "source": [
    "logAngres = np.log10(Angres)\n",
    "logAngresE = np.log10(AngresE)\n",
    "logE = np.log10(E)"
   ]
  },
  {
   "cell_type": "markdown",
   "metadata": {},
   "source": [
    "Now we can assume linear behaviour between the points"
   ]
  },
  {
   "cell_type": "code",
   "execution_count": 15,
   "metadata": {},
   "outputs": [],
   "source": [
    "logAngres2 = np.zeros(len(E[3:37]))\n",
    "for i in range(len(E[3:37])):\n",
    "    for j in range(len(AngresE[1:-1])):\n",
    "        if logAngresE[j+1] < logE[i+3] and logAngresE[j+2] > logE[i+3]:\n",
    "            m = (logAngres[j+2]-logAngres[j+1])/(logAngresE[j+2]-logAngresE[j+1])\n",
    "            n = logAngres[j+1] - m * logAngresE[j+1]\n",
    "            logAngres2[i] = m * logE[i+3] + n\n",
    "Angres2 = 10**logAngres2"
   ]
  },
  {
   "cell_type": "markdown",
   "metadata": {},
   "source": [
    "Check if we did it correctly"
   ]
  },
  {
   "cell_type": "code",
   "execution_count": 16,
   "metadata": {},
   "outputs": [
    {
     "data": {
      "image/png": "[encoded data removed]",
      "text/plain": [
       "<Figure size 432x288 with 1 Axes>"
      ]
     },
     "metadata": {
      "needs_background": "light"
     },
     "output_type": "display_data"
    }
   ],
   "source": [
    "plt.scatter(E[3:37], Angres2, label = 'New bin angular resolution')\n",
    "plt.scatter(AngresE, Angres, label = 'Original angular resolution')\n",
    "plt.grid(axis = 'x', which = 'both', alpha=0.75)\n",
    "plt.grid(axis = 'y', alpha=0.75)\n",
    "plt.ylabel('Angular resolution (deg)',fontsize=15)\n",
    "plt.xlabel('E (TeV)',fontsize=15)\n",
    "plt.xticks(fontsize=15)\n",
    "plt.yticks(fontsize=15)\n",
    "plt.xscale('log')\n",
    "plt.yscale('log')\n",
    "plt.legend()\n",
    "plt.show()"
   ]
  },
  {
   "cell_type": "markdown",
   "metadata": {},
   "source": [
    "Now that we have checked that the new one is ok, we have to get the angle to a solid angle, using the following formula:\n",
    "\n",
    "$$\\Omega (deg^2) = \\bigg(\\frac{180}{\\pi}\\bigg)^2 2\\pi(1-cos(\\alpha(rad)) $$ "
   ]
  },
  {
   "cell_type": "code",
   "execution_count": 17,
   "metadata": {},
   "outputs": [],
   "source": [
    "def degtorad(ang):\n",
    "    return ang * np.pi / 180"
   ]
  },
  {
   "cell_type": "code",
   "execution_count": 18,
   "metadata": {},
   "outputs": [],
   "source": [
    "time = 180000#s\n",
    "newBckgrate = 10**newlogBckg\n",
    "skyang = (180/np.pi)**2 * 2 * np.pi * (1-np.cos(degtorad(Angres2)))#deg^2\n",
    "\n",
    "bckgmu = newBckgrate * time * skyang * E[3:37]\n",
    "\n",
    "my_generator = np.random.default_rng()\n",
    "Simbckg1 = my_generator.poisson(bckgmu)\n",
    "Simbckg1_u = 1/Simbckg1\n",
    "Simbckg3 = my_generator.poisson(3*bckgmu)/3\n",
    "Simbckg3_u = 1/Simbckg3\n",
    "#we now get it to the same units as the dN/dE\n",
    "Simbckg1_norm = Simbckg1 / time / skyang\n",
    "Simbckg1_u_norm = Simbckg1_u / time / skyang\n",
    "Simbckg3_norm = Simbckg3 / time / skyang\n",
    "Simbckg3_u_norm = Simbckg3_u / time / skyang"
   ]
  },
  {
   "cell_type": "markdown",
   "metadata": {},
   "source": [
    "Add Poisson noise to the $\\frac{dN}{dE}$"
   ]
  },
  {
   "cell_type": "code",
   "execution_count": 19,
   "metadata": {},
   "outputs": [],
   "source": [
    "mu = dNdEa[3:37] * EffaA2 * Ebinsw[3:37] * time \n",
    "N = my_generator.poisson(mu)\n",
    "\n",
    "for i in range(len(N)):\n",
    "    if N[i] == 0:\n",
    "        N[i] = mu[i]\n",
    "\n",
    "dNdE_p = dNdEa[3:37] * N/mu\n",
    "dNdE_p_u = dNdEa[3:37] * 1/np.sqrt(N)"
   ]
  },
  {
   "cell_type": "markdown",
   "metadata": {},
   "source": [
    "After that we will add the background and subtract it using the 3 simulated wobbles (which will add some noise and a lot of uncertainty)."
   ]
  },
  {
   "cell_type": "code",
   "execution_count": 20,
   "metadata": {},
   "outputs": [
    {
     "name": "stdout",
     "output_type": "stream",
     "text": [
      "simulated background:\n",
      "[0.12198371 0.1320688  0.14183662 0.14935203 0.16084448 0.1676125\n",
      " 0.17639825 0.1708188  0.17933862 0.19094357 0.19071851 0.19153369\n",
      " 0.22419262 0.20382221 0.21683693 0.21593698 0.24694663 0.26606829\n",
      " 0.2349179  0.22609073 0.22937416 0.24999007 0.2694727  0.26728982\n",
      " 0.27483269 0.30569013 0.2737     0.30370122 0.27026514 0.29455334\n",
      " 0.30798453 0.31185317 0.26777616 0.29800809]\n",
      "Difference between 2 bckg:\n",
      "[-0.00584482  0.00106004 -0.00055826  0.00064481  0.00187815  0.00098712\n",
      " -0.00293031 -0.00665043 -0.001734    0.00708315 -0.00434637 -0.00447915\n",
      "  0.01866344 -0.00568359  0.00514864 -0.00313927  0.01442387  0.03479355\n",
      " -0.01497246 -0.01745433 -0.0235526  -0.01761294  0.01486886 -0.00756889\n",
      "  0.00275521  0.0243772  -0.00436892  0.02490242  0.00171054  0.01204717\n",
      "  0.01434711 -0.00371254 -0.03719113 -0.01789509]\n",
      "dNdE:\n",
      "[2.70117781e-04 2.06853758e-04 1.50937765e-04 1.11544261e-04\n",
      " 8.55041203e-05 6.31274933e-05 4.50396417e-05 3.37693153e-05\n",
      " 2.45887954e-05 1.77363221e-05 1.25389965e-05 8.61950099e-06\n",
      " 6.06766953e-06 4.03403104e-06 2.56252117e-06 1.67548464e-06\n",
      " 1.05474058e-06 6.20144046e-07 3.75777855e-07 2.10881316e-07\n",
      " 1.24047913e-07 7.24350696e-08 5.14508222e-08 2.70309635e-08\n",
      " 1.63093506e-08 1.14814526e-08 7.35816979e-09 4.47514296e-09\n",
      " 2.10254750e-09 1.47787054e-09 1.36987011e-09 6.03467009e-10\n",
      " 4.18265391e-10 1.02510167e-10]\n"
     ]
    },
    {
     "data": {
      "image/png": "[encoded data removed]",
      "text/plain": [
       "<Figure size 432x288 with 1 Axes>"
      ]
     },
     "metadata": {
      "needs_background": "light"
     },
     "output_type": "display_data"
    }
   ],
   "source": [
    "dNdE_b = dNdE_p + (Simbckg1_norm - Simbckg3_norm)\n",
    "dNdE_b_u = dNdE_p_u + (Simbckg1_u_norm + Simbckg3_u_norm)\n",
    "print('simulated background:')\n",
    "print(Simbckg1_norm)\n",
    "print('Difference between 2 bckg:')\n",
    "print(Simbckg1_norm - Simbckg3_norm)\n",
    "print('dNdE:')\n",
    "print(dNdE_p)\n",
    "plt.errorbar(E[3:37], dNdE_p, yerr = dNdE_p_u, label='dNdE with poisson noise before addind bckg', capsize=3, fmt='o', alpha=0.6)\n",
    "plt.errorbar(E[3:37], dNdE_b, yerr = dNdE_b_u, label='dNdE with poisson noise and subtracted bckg', capsize=3, fmt='o', alpha=0.6)\n",
    "plt.errorbar(E[3:37], Simbckg1_norm - Simbckg3_norm, yerr = Simbckg1_u_norm + Simbckg3_u_norm, label='Background difference', capsize=3, fmt='o', alpha=0.6)\n",
    "plt.yscale('log')\n",
    "plt.xscale('log')\n",
    "plt.xlabel('Energy(TeV)')\n",
    "plt.ylabel('dN/dE')\n",
    "plt.legend()\n",
    "plt.show()"
   ]
  },
  {
   "cell_type": "markdown",
   "metadata": {},
   "source": [
    "We transform our $\\frac{dN}{dE}$ with the background subtracted into a SED and then the log of the SED, while doing the error propagation."
   ]
  },
  {
   "cell_type": "code",
   "execution_count": 21,
   "metadata": {},
   "outputs": [
    {
     "name": "stderr",
     "output_type": "stream",
     "text": [
      "D:\\programes\\Anaconda3\\lib\\site-packages\\ipykernel_launcher.py:3: RuntimeWarning: invalid value encountered in log10\n",
      "  This is separate from the ipykernel package so we can avoid doing imports until\n"
     ]
    }
   ],
   "source": [
    "SED = np.square(E[3:37]) * dNdE_b\n",
    "SED_u = np.square(E[3:37]) * dNdE_b_u\n",
    "logSED = np.log10(SED)\n",
    "logSED_u = SED_u / (SED * np.log(10))\n",
    "w = 1/ np.square(logSED_u)"
   ]
  },
  {
   "cell_type": "code",
   "execution_count": null,
   "metadata": {},
   "outputs": [],
   "source": []
  },
  {
   "cell_type": "code",
   "execution_count": null,
   "metadata": {},
   "outputs": [],
   "source": []
  }
 ],
 "metadata": {
  "kernelspec": {
   "display_name": "Python 3",
   "language": "python",
   "name": "python3"
  },
  "language_info": {
   "codemirror_mode": {
    "name": "ipython",
    "version": 3
   },
   "file_extension": ".py",
   "mimetype": "text/x-python",
   "name": "python",
   "nbconvert_exporter": "python",
   "pygments_lexer": "ipython3",
   "version": "3.7.3"
  }
 },
 "nbformat": 4,
 "nbformat_minor": 4
}
