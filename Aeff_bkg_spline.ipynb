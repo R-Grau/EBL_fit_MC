{
 "cells": [
  {
   "cell_type": "code",
   "execution_count": 1,
   "metadata": {},
   "outputs": [],
   "source": [
    "from pygam import LinearGAM, s\n",
    "import matplotlib.pyplot as plt\n",
    "import numpy as np\n",
    "import pandas as pd\n",
    "import scipy.interpolate as interpolate\n",
    "from scipy.integrate import quad"
   ]
  },
  {
   "cell_type": "markdown",
   "metadata": {},
   "source": [
    "After importing the needed libraries we start by defining the $\\chi^2$ which we will need later."
   ]
  },
  {
   "cell_type": "code",
   "execution_count": 2,
   "metadata": {},
   "outputs": [],
   "source": [
    "def chisq(obs, exp, error):\n",
    "    return np.sum(np.square(obs - exp) / np.square(error))"
   ]
  },
  {
   "cell_type": "markdown",
   "metadata": {},
   "source": [
    "Now we just load the txt file with the data and the effective area and then the background."
   ]
  },
  {
   "cell_type": "code",
   "execution_count": 3,
   "metadata": {},
   "outputs": [],
   "source": [
    "fileEA = np.loadtxt('EffArea50h.txt', skiprows = 11)\n",
    "EffA = pd.DataFrame(fileEA)\n",
    "EffA = EffA.rename(columns={ 0 : 'E [TeV]', 1: 'Eff area (m^2)'})\n",
    "EffaE= EffA['E [TeV]'].to_numpy()\n",
    "Effa = EffA['Eff area (m^2)'].to_numpy()\n",
    "\n",
    "#absorption file\n",
    "file = np.loadtxt('tau_dominguez11.out')\n",
    "pdfile = pd.DataFrame(file)\n",
    "pdfile = pdfile.rename(columns={ 0 : 'E [TeV]', 1: 'tau z=0.01', 2: 'tau z=0.02526316', 3: 'tau z=0.04052632', 4: 'tau z=0.05578947', 5: 'tau z=0.07105263', 6: 'tau z=0.08631579', 7: 'tau z=0.10157895', 8: 'tau z=0.11684211', 9: 'tau z=0.13210526', 10: 'tau z=0.14736842', 11: 'tau z=0.16263158', 12: 'tau z=0.17789474', 13: 'tau z=0.19315789', 14: 'tau z=0.20842105'})\n",
    "E = pdfile['E [TeV]'].to_numpy()\n",
    "tau = pdfile['tau z=0.20842105'].to_numpy()"
   ]
  },
  {
   "cell_type": "code",
   "execution_count": 4,
   "metadata": {},
   "outputs": [],
   "source": [
    "fileBkg = np.loadtxt('Bkg50h.txt', skiprows = 10)\n",
    "Bkgpd = pd.DataFrame(fileBkg)\n",
    "Bkgpd = Bkgpd.rename(columns={ 0 : 'E_min (TeV)', 1: 'E_max (TeV)', 2: 'Bck Rate (Hz/deg^2)'})"
   ]
  },
  {
   "cell_type": "markdown",
   "metadata": {},
   "source": [
    "Now we plot the background."
   ]
  },
  {
   "cell_type": "code",
   "execution_count": 5,
   "metadata": {},
   "outputs": [
    {
     "data": {
      "image/png": "[encoded data removed]",
      "text/plain": [
       "<Figure size 432x288 with 1 Axes>"
      ]
     },
     "metadata": {
      "needs_background": "light"
     },
     "output_type": "display_data"
    }
   ],
   "source": [
    "BckgEmin = Bkgpd['E_min (TeV)'].to_numpy()\n",
    "BckgEmax = Bkgpd['E_max (TeV)'].to_numpy()\n",
    "Bckg = Bkgpd['Bck Rate (Hz/deg^2)'].to_numpy()\n",
    "BckgEdiff = BckgEmax - BckgEmin\n",
    "\n",
    "BckgElogmean = []\n",
    "for i in range(len(Bckg)):\n",
    "    BckgElogmean.append(10**(np.mean([np.log10(BckgEmax[i]), np.log10(BckgEmin[i])])))\n",
    "\n",
    "plt.scatter(BckgElogmean[1:13], Bckg[1:13])\n",
    "plt.bar(BckgEmin[1:13], Bckg[1:13], width = BckgEdiff[1:13], align = 'edge')\n",
    "plt.xlim(min(BckgEmin[1:13]), max(BckgEmax[1:13]))\n",
    "plt.grid(axis = 'x', which = 'both', alpha=0.75)\n",
    "plt.grid(axis = 'y', alpha=0.75)\n",
    "plt.ylabel('Bck Rate (Hz/deg^2)',fontsize=15)\n",
    "plt.xlabel('E (TeV)',fontsize=15)\n",
    "plt.xticks(fontsize=15)\n",
    "plt.yticks(fontsize=15)\n",
    "plt.xscale('log')\n",
    "plt.yscale('log')\n",
    "plt.show()"
   ]
  },
  {
   "cell_type": "markdown",
   "metadata": {},
   "source": [
    "Here we reproduce the plot from https://www.cta-observatory.org/science/cta-performance/#1472563453568-c1970a6e-2c0f ."
   ]
  },
  {
   "cell_type": "code",
   "execution_count": 6,
   "metadata": {},
   "outputs": [
    {
     "data": {
      "image/png": "[encoded data removed]",
      "text/plain": [
       "<Figure size 432x288 with 1 Axes>"
      ]
     },
     "metadata": {
      "needs_background": "light"
     },
     "output_type": "display_data"
    }
   ],
   "source": [
    "plt.errorbar(BckgElogmean, Bckg, xerr = [BckgElogmean - BckgEmin, BckgEmax - BckgElogmean], capsize=3, fmt='o',mfc='w')\n",
    "plt.xlim(10**-2, 250)\n",
    "plt.ylim(10**-6, 10)\n",
    "plt.grid(axis = 'x', which = 'both', alpha=0.75)\n",
    "plt.grid(axis = 'y', alpha=0.75)\n",
    "plt.ylabel('Bck Rate (Hz/deg^2)',fontsize=15)\n",
    "plt.xlabel('E (TeV)',fontsize=15)\n",
    "plt.xticks(fontsize=15)\n",
    "plt.yticks(fontsize=15)\n",
    "plt.xscale('log')\n",
    "plt.yscale('log')\n",
    "plt.show()"
   ]
  },
  {
   "cell_type": "markdown",
   "metadata": {},
   "source": [
    "Let's get the background at the same energy bins as the ones of the $\\frac{dN}{dE}$. First of all we will make an approximation of the bin width of the $\\frac{dN}{dE}$ ."
   ]
  },
  {
   "cell_type": "code",
   "execution_count": 7,
   "metadata": {},
   "outputs": [],
   "source": [
    "Ebinsmin = np.zeros(len(E))\n",
    "Ebinsmax = np.zeros(len(E))\n",
    "\n",
    "for i in range(1, len(E)):\n",
    "    Ebinsmin[i] = 10**(np.mean([np.log10(E[i]), np.log10(E[i-1])]))\n",
    "for i in range(len(E) - 1):\n",
    "    Ebinsmax[i] = 10**(np.mean([np.log10(E[i]), np.log10(E[i+1])]))\n",
    "    \n",
    "Ebinsmin[0] = 10**(np.log10(Ebinsmin[1])-(np.log10(Ebinsmin[2])-np.log10(Ebinsmin[1])))\n",
    "Ebinsmax[len(E)-1] = 10**(np.log10(Ebinsmax[len(E)-2])-(np.log10(Ebinsmax[len(E)-3])-np.log10(Ebinsmax[len(E)-2])))\n",
    "Ebinsw = Ebinsmax - Ebinsmin"
   ]
  },
  {
   "cell_type": "markdown",
   "metadata": {},
   "source": [
    "Now we will compute de differential background rate at every bin and interpolate it linearly in the log rate vs log E plot to get the rate at the new bins."
   ]
  },
  {
   "cell_type": "code",
   "execution_count": 68,
   "metadata": {},
   "outputs": [],
   "source": [
    "DifBckg = Bckg / (BckgEmax - BckgEmin) #Hz/deg**2\n",
    "# logDifBckg = np.log10(DifBckg)\n",
    "# logBckgElogmean = np.log10(BckgElogmean)\n",
    "# interpolation = interpolate.interp1d(BckgElogmean, DifBckg, fill_value='extrapolate', kind='slinear')\n",
    "def log_interp1d(xx, yy):\n",
    "    logx = np.log10(xx)\n",
    "    logy = np.log10(yy)\n",
    "    interp = interpolate.interp1d(logx, logy, fill_value='extrapolate', kind='slinear')\n",
    "    log_interp = lambda zz: np.power(10.0, interp(np.log10(zz)))\n",
    "    return log_interp\n",
    "\n",
    "interpolation = log_interp1d(BckgElogmean,DifBckg)"
   ]
  },
  {
   "cell_type": "markdown",
   "metadata": {},
   "source": [
    "Testing with 3 different integration methods:"
   ]
  },
  {
   "cell_type": "code",
   "execution_count": 69,
   "metadata": {},
   "outputs": [
    {
     "data": {
      "image/png": "[encoded data removed]",
      "text/plain": [
       "<Figure size 432x288 with 1 Axes>"
      ]
     },
     "metadata": {
      "needs_background": "light"
     },
     "output_type": "display_data"
    }
   ],
   "source": [
    "def trapint(toplim, bottomlim):\n",
    "    return ((toplim - bottomlim) * (interpolation(toplim) + interpolation(bottomlim)) / 2)\n",
    "\n",
    "def sqint(toplim, bottomlim):\n",
    "    return ((toplim - bottomlim) * (interpolation((toplim + bottomlim) / 2)))\n",
    "\n",
    "newlogBckg2 = np.zeros([len(Bckg[1:-1]),2])\n",
    "for i in range(len(Bckg[1:-1])):\n",
    "    newlogBckg2[i] = quad(interpolation, BckgEmin[i+1], BckgEmax[i+1])\n",
    "newlogBckg2 = newlogBckg2[:,0]\n",
    "\n",
    "newlogBckg3 = trapint(BckgEmax[1:-1], BckgEmin[1:-1])\n",
    "    \n",
    "newlogBckg4 = sqint(BckgEmax[1:-1], BckgEmin[1:-1])\n",
    "    \n",
    "plt.errorbar(BckgElogmean[1:-1], newlogBckg4, xerr = [BckgElogmean[1:-1] - BckgEmin[1:-1], BckgEmax[1:-1] - BckgElogmean[1:-1]], capsize=3, fmt='o',mfc='w', label='4')    \n",
    "plt.errorbar(BckgElogmean[1:-1], newlogBckg3, xerr = [BckgElogmean[1:-1] - BckgEmin[1:-1], BckgEmax[1:-1] - BckgElogmean[1:-1]], capsize=3, fmt='o',mfc='w', label='3', alpha = 0.7)\n",
    "plt.errorbar(BckgElogmean[1:-1], newlogBckg2, xerr = [BckgElogmean[1:-1] - BckgEmin[1:-1], BckgEmax[1:-1] - BckgElogmean[1:-1]], capsize=3, fmt='o',mfc='w', label='2', alpha = 0.7)\n",
    "# plt.errorbar(BckgElogmean[1:-1], 10**newlogBckg4, xerr = [BckgElogmean[1:-1] - BckgEmin[1:-1], BckgEmax[1:-1] - BckgElogmean[1:-1]], capsize=3, fmt='o',mfc='w', label='4')    \n",
    "# plt.errorbar(BckgElogmean[1:-1], 10**newlogBckg3, xerr = [BckgElogmean[1:-1] - BckgEmin[1:-1], BckgEmax[1:-1] - BckgElogmean[1:-1]], capsize=3, fmt='o',mfc='w', label='3', alpha = 0.7)\n",
    "# plt.errorbar(BckgElogmean[1:-1], 10**newlogBckg2, xerr = [BckgElogmean[1:-1] - BckgEmin[1:-1], BckgEmax[1:-1] - BckgElogmean[1:-1]], capsize=3, fmt='o',mfc='w', label='2', alpha = 0.7)\n",
    "plt.errorbar(BckgElogmean, Bckg, xerr = [BckgElogmean - BckgEmin, BckgEmax - BckgElogmean], capsize=3, fmt='o',mfc='w', label='original', alpha = 0.7)\n",
    "# plt.xlim(10**-2, 250)\n",
    "# plt.ylim(10**-6, 10)\n",
    "plt.grid(axis = 'x', which = 'both', alpha=0.75)\n",
    "plt.grid(axis = 'y', alpha=0.75)\n",
    "plt.ylabel('Bck Rate (Hz/deg^2)',fontsize=15)\n",
    "plt.xlabel('E (TeV)',fontsize=15)\n",
    "plt.xticks(fontsize=15)\n",
    "plt.yticks(fontsize=15)\n",
    "plt.xscale('log')\n",
    "plt.yscale('log')\n",
    "plt.legend()\n",
    "plt.show()\n"
   ]
  },
  {
   "cell_type": "markdown",
   "metadata": {},
   "source": [
    "We can see that all 3 methods fit really good on the data. Now that we have checked that it works, we will try it with the new bins. The best fit is the quad but we will keep using the other ones to check if its correct."
   ]
  },
  {
   "cell_type": "code",
   "execution_count": 125,
   "metadata": {},
   "outputs": [
    {
     "data": {
      "image/png": "[encoded data removed]",
      "text/plain": [
       "<Figure size 432x288 with 1 Axes>"
      ]
     },
     "metadata": {
      "needs_background": "light"
     },
     "output_type": "display_data"
    }
   ],
   "source": [
    "newBckgrate = np.zeros([len(E[3:37]),2])\n",
    "for i in range(len(E[3:37])):\n",
    "    newBckgrate[i] = quad(interpolation, Ebinsmin[i+3], Ebinsmax[i+3])\n",
    "newBckgrate = newBckgrate[:,0]\n",
    "\n",
    "newlogBckg5 = trapint(Ebinsmax[3:37], Ebinsmin[3:37])\n",
    "\n",
    "newlogBckg6 = sqint(Ebinsmax[3:37], Ebinsmin[3:37])\n",
    "\n",
    "plt.errorbar(E[3:37], newBckgrate, xerr = [E[3:37] - Ebinsmin[3:37], Ebinsmax[3:37] - E[3:37]], capsize=3, fmt='o',mfc='w', label = 'quad new bins')\n",
    "# plt.errorbar(E[3:37], newlogBckg5, xerr = [E[3:37] - Ebinsmin[3:37], Ebinsmax[3:37] - E[3:37]], capsize=3, fmt='o',mfc='w', label = 'Trapezoid new bins')\n",
    "# plt.errorbar(E[3:37], newlogBckg6, xerr = [E[3:37] - Ebinsmin[3:37], Ebinsmax[3:37] - E[3:37]], capsize=3, fmt='o',mfc='w', label = 'Rectangle new bins')\n",
    "plt.errorbar(BckgElogmean, Bckg, xerr = [BckgElogmean - BckgEmin, BckgEmax - BckgElogmean], capsize=3, fmt='o',mfc='w', label='original', alpha = 0.7)\n",
    "plt.grid(axis = 'x', which = 'both', alpha=0.75)\n",
    "plt.grid(axis = 'y', alpha=0.75)\n",
    "plt.ylabel('Bck Rate (Hz/deg^2)',fontsize=15)\n",
    "plt.xlabel('E (TeV)',fontsize=15)\n",
    "plt.xticks(fontsize=15)\n",
    "plt.yticks(fontsize=15)\n",
    "# plt.xlim(10**-1, 0.5)\n",
    "plt.xscale('log')\n",
    "plt.yscale('log')\n",
    "plt.legend()\n",
    "plt.show()"
   ]
  },
  {
   "cell_type": "markdown",
   "metadata": {},
   "source": [
    "From now on we will use the background obtained with the quad integration method.\n",
    "\n",
    "The units of the background are $Hz/deg^2$, therefore it is in the same units as our $\\frac{dN}{dE}$ except for the $E^-1$\n",
    "\n",
    "We will simulate 6 backgrounds, one for the background of the source and 5 for the wobbles (using Poisson statistics, instead of simulating it 5 times we will simulate it once with a Poisson parameter 5 times larger and divide it by 5). We will then add the one of the source to the absorved $\\frac{dN}{dE}$ and substract it with the ones of the wobbles. This procedure will add a bit of noise and uncertainty, like in the real data."
   ]
  },
  {
   "cell_type": "markdown",
   "metadata": {},
   "source": [
    "But first, let's simulate an absorbed $\\frac{dN}{dE}$. This time we will use the one of the BL Lac 1ES1011+496 measured by MAGIC in 2014 (but wihtout uncertainty)."
   ]
  },
  {
   "cell_type": "code",
   "execution_count": 115,
   "metadata": {},
   "outputs": [],
   "source": [
    "#“photon index  = 2.03  +/- 0.03 and normalization factor at 250 GeV    f0 = (8.70 +/- 0.17) * 10^-10 cm^-2  s^-1  TeV^-1.”\n",
    "K =  8.70e-6 #m−2  s−1  TeV−1\n",
    "dNdE = K / ((E/0.25)**2.03) \n",
    "m_tau = -tau\n",
    "dNdEa = dNdE * np.exp(m_tau)"
   ]
  },
  {
   "cell_type": "markdown",
   "metadata": {},
   "source": [
    "Here we will define the Effective area at the same energy bins as the ones of the $\\frac{dN}{dE}$ assuming linear behaviour between the bins of the effective area (a valid approximation)"
   ]
  },
  {
   "cell_type": "code",
   "execution_count": 116,
   "metadata": {},
   "outputs": [],
   "source": [
    "EffaA2 = np.zeros(len(E[3:37]))\n",
    "for i in range(len(E[3:37])):\n",
    "    for j in range(len(EffaE[9:51])):\n",
    "        if EffaE[j+9] < E[i+3] and EffaE[j+10] > E[i+3]:\n",
    "            m = (Effa[j+10]-Effa[j+9])/(EffaE[j+10]-EffaE[j+9])\n",
    "            n = Effa[j+9] - m * EffaE[j+9]\n",
    "            EffaA2[i] = m * E[i+3] + n"
   ]
  },
  {
   "cell_type": "markdown",
   "metadata": {},
   "source": [
    "Now we can simulate the background"
   ]
  },
  {
   "cell_type": "markdown",
   "metadata": {},
   "source": [
    "But first we need the angular resolution at each energy bin."
   ]
  },
  {
   "cell_type": "code",
   "execution_count": 117,
   "metadata": {},
   "outputs": [
    {
     "data": {
      "image/png": "[encoded data removed]",
      "text/plain": [
       "<Figure size 432x288 with 1 Axes>"
      ]
     },
     "metadata": {
      "needs_background": "light"
     },
     "output_type": "display_data"
    }
   ],
   "source": [
    "fileAng = np.loadtxt('Angres.txt', skiprows = 11)\n",
    "Angresall = pd.DataFrame(fileAng)\n",
    "Angresall = Angresall.rename(columns={ 0 : 'E [TeV]', 1: 'Angular resolution (deg)'})\n",
    "AngresE= Angresall['E [TeV]'].to_numpy()\n",
    "Angres = Angresall['Angular resolution (deg)'].to_numpy()\n",
    "plt.scatter(AngresE, Angres)\n",
    "plt.grid(axis = 'x', which = 'both', alpha=0.75)\n",
    "plt.grid(axis = 'y', alpha=0.75)\n",
    "plt.ylabel('Angular resolution (deg)',fontsize=15)\n",
    "plt.xlabel('E (TeV)',fontsize=15)\n",
    "plt.xticks(fontsize=15)\n",
    "plt.yticks(fontsize=15)\n",
    "plt.xscale('log')\n",
    "plt.yscale('log')\n",
    "plt.show()"
   ]
  },
  {
   "cell_type": "markdown",
   "metadata": {},
   "source": [
    "Let's use the same energy bins as we have used since now. First of all we will do the log of the values to make the fit with thos values. "
   ]
  },
  {
   "cell_type": "code",
   "execution_count": 118,
   "metadata": {},
   "outputs": [],
   "source": [
    "logAngres = np.log10(Angres)\n",
    "logAngresE = np.log10(AngresE)\n",
    "logE = np.log10(E)"
   ]
  },
  {
   "cell_type": "markdown",
   "metadata": {},
   "source": [
    "Now we can assume linear behaviour between the points"
   ]
  },
  {
   "cell_type": "code",
   "execution_count": 119,
   "metadata": {},
   "outputs": [],
   "source": [
    "logAngres2 = np.zeros(len(E[3:37]))\n",
    "for i in range(len(E[3:37])):\n",
    "    for j in range(len(AngresE[1:-1])):\n",
    "        if logAngresE[j+1] < logE[i+3] and logAngresE[j+2] > logE[i+3]:\n",
    "            m = (logAngres[j+2]-logAngres[j+1])/(logAngresE[j+2]-logAngresE[j+1])\n",
    "            n = logAngres[j+1] - m * logAngresE[j+1]\n",
    "            logAngres2[i] = m * logE[i+3] + n\n",
    "Angres2 = 10**logAngres2"
   ]
  },
  {
   "cell_type": "markdown",
   "metadata": {},
   "source": [
    "Check if we did it correctly"
   ]
  },
  {
   "cell_type": "code",
   "execution_count": 120,
   "metadata": {},
   "outputs": [
    {
     "data": {
      "image/png": "[encoded data removed]",
      "text/plain": [
       "<Figure size 432x288 with 1 Axes>"
      ]
     },
     "metadata": {
      "needs_background": "light"
     },
     "output_type": "display_data"
    }
   ],
   "source": [
    "plt.scatter(E[3:37], Angres2, label = 'New bin angular resolution')\n",
    "plt.scatter(AngresE, Angres, label = 'Original angular resolution')\n",
    "plt.grid(axis = 'x', which = 'both', alpha=0.75)\n",
    "plt.grid(axis = 'y', alpha=0.75)\n",
    "plt.ylabel('Angular resolution (deg)',fontsize=15)\n",
    "plt.xlabel('E (TeV)',fontsize=15)\n",
    "plt.xticks(fontsize=15)\n",
    "plt.yticks(fontsize=15)\n",
    "plt.xscale('log')\n",
    "plt.yscale('log')\n",
    "plt.legend()\n",
    "plt.show()"
   ]
  },
  {
   "cell_type": "markdown",
   "metadata": {},
   "source": [
    "Now that we have checked that the new one is ok, we have to get the angle to a solid angle, using the following formula:\n",
    "\n",
    "$$\\Omega (deg^2) = \\bigg(\\frac{180}{\\pi}\\bigg)^2 2\\pi(1-cos(\\alpha(rad)) $$ "
   ]
  },
  {
   "cell_type": "code",
   "execution_count": 121,
   "metadata": {},
   "outputs": [],
   "source": [
    "def degtorad(ang):\n",
    "    return ang * np.pi / 180"
   ]
  },
  {
   "cell_type": "code",
   "execution_count": 126,
   "metadata": {},
   "outputs": [],
   "source": [
    "time = 180000#s\n",
    "skyang = (180/np.pi)**2 * 2 * np.pi * (1-np.cos(degtorad(Angres2)))#deg^2\n",
    "\n",
    "bckgmu = newBckgrate * time * skyang\n",
    "\n",
    "my_generator = np.random.default_rng()\n",
    "Simbckg1 = my_generator.poisson(bckgmu)\n",
    "Simbckg1 = Simbckg1.astype(float)\n",
    "for i in range(len(Simbckg1)):\n",
    "    if Simbckg1[i] == 0:\n",
    "        Simbckg1[i] = bckgmu[i]\n",
    "Simbckg1_u = 1/Simbckg1\n",
    "Simbckg5 = my_generator.poisson(5*bckgmu)/5\n",
    "Simbckg5 = Simbckg3.astype(float)\n",
    "for i in range(len(Simbckg3)):\n",
    "    if Simbckg5[i] == 0:\n",
    "        Simbckg5[i] = bckgmu[i]\n",
    "Simbckg5_u = 1/Simbckg5\n",
    "#we now get it to the same units as the dN/dE \n",
    "Simbckg1_norm = Simbckg1 / time / skyang / (Ebinsmax[3:37] - Ebinsmin[3:37])\n",
    "Simbckg1_u_norm = Simbckg1_u / time / skyang / (Ebinsmax[3:37] - Ebinsmin[3:37])\n",
    "Simbckg5_norm = Simbckg5 / time / skyang / (Ebinsmax[3:37] - Ebinsmin[3:37])\n",
    "Simbckg5_u_norm = Simbckg5_u / time / skyang / (Ebinsmax[3:37] - Ebinsmin[3:37])"
   ]
  },
  {
   "cell_type": "markdown",
   "metadata": {},
   "source": [
    "Add Poisson noise to the $\\frac{dN}{dE}$"
   ]
  },
  {
   "cell_type": "code",
   "execution_count": 127,
   "metadata": {},
   "outputs": [],
   "source": [
    "mu = dNdEa[3:37] * EffaA2 * Ebinsw[3:37] * time \n",
    "N = my_generator.poisson(mu)\n",
    "\n",
    "for i in range(len(N)):\n",
    "    if N[i] == 0:\n",
    "        N[i] = mu[i]\n",
    "\n",
    "dNdE_p = dNdEa[3:37] * N/mu\n",
    "dNdE_p_u = dNdEa[3:37] * 1/np.sqrt(N)"
   ]
  },
  {
   "cell_type": "markdown",
   "metadata": {},
   "source": [
    "After that we will add the background and subtract it using the 5 simulated wobbles (which will add some noise and a lot of uncertainty)."
   ]
  },
  {
   "cell_type": "code",
   "execution_count": 129,
   "metadata": {},
   "outputs": [
    {
     "name": "stdout",
     "output_type": "stream",
     "text": [
      "simulated background:\n",
      "[5.92078972e+01 4.43581112e+01 3.26129692e+01 2.49447346e+01\n",
      " 1.99936388e+01 1.51046959e+01 1.10507396e+01 7.54657989e+00\n",
      " 4.86132537e+00 3.16123259e+00 2.56931766e+00 1.77763665e+00\n",
      " 1.31928392e+00 9.02888626e-01 5.49377601e-01 4.14638827e-01\n",
      " 2.17852045e-01 2.36458263e-01 1.37410141e-01 6.24110600e-02\n",
      " 1.94683699e-02 2.73278480e-02 2.12723318e-02 2.74618522e-02\n",
      " 2.53227415e-02 6.67153100e-03 9.16284731e-03 2.79397590e-03\n",
      " 1.02232149e-02 1.36679873e-03 9.17202641e-04 1.98218352e-03\n",
      " 4.02786651e-04 2.50332705e-04]\n",
      "Difference between 2 bckg:\n",
      "[-1.36770379e-01 -1.06871867e-01 -3.10150214e-01 -1.03710936e-01\n",
      "  2.97721292e-01 -1.31589039e-01  2.95199781e-01  3.75065667e-01\n",
      "  9.55756552e-02 -1.00564799e-01  1.64278623e-01  4.38922631e-02\n",
      "  5.05725504e-02  1.21251230e-01  2.12937055e-02  3.56003034e-02\n",
      " -3.02572284e-02  6.53624466e-02  2.38177578e-02 -1.21354839e-02\n",
      " -4.38038322e-02  1.51821378e-03 -9.92708816e-03  1.04616580e-02\n",
      "  1.32642932e-02  3.33576550e-03  3.05428244e-03  0.00000000e+00\n",
      "  9.37128033e-03  0.00000000e+00 -5.20101060e-04  1.32145568e-03\n",
      "  0.00000000e+00 -2.88973703e-04]\n",
      "dNdE:\n",
      "[2.75772837e-04 2.02210150e-04 1.53116143e-04 1.14305197e-04\n",
      " 8.33434259e-05 6.21599997e-05 4.56677190e-05 3.37079576e-05\n",
      " 2.45863597e-05 1.74712052e-05 1.26398185e-05 8.75080371e-06\n",
      " 5.86985038e-06 4.14452276e-06 2.61268662e-06 1.64967185e-06\n",
      " 1.00644043e-06 6.35877715e-07 3.54677395e-07 2.12620942e-07\n",
      " 1.23272613e-07 7.39183817e-08 4.24001995e-08 2.43747417e-08\n",
      " 1.67417956e-08 9.61694317e-09 6.33510875e-09 4.66693480e-09\n",
      " 2.49190814e-09 1.85789439e-09 1.08887111e-09 6.18185717e-10\n",
      " 3.56755775e-10 1.64016267e-10]\n"
     ]
    },
    {
     "data": {
      "image/png": "[encoded data removed]",
      "text/plain": [
       "<Figure size 432x288 with 1 Axes>"
      ]
     },
     "metadata": {
      "needs_background": "light"
     },
     "output_type": "display_data"
    }
   ],
   "source": [
    "dNdE_b = dNdE_p + (Simbckg1_norm - Simbckg5_norm)\n",
    "dNdE_b_u = dNdE_p_u + (Simbckg1_u_norm + Simbckg5_u_norm)\n",
    "print('simulated background:')\n",
    "print(Simbckg1_norm)\n",
    "print('Difference between 2 bckg:')\n",
    "print(Simbckg1_norm - Simbckg3_norm)\n",
    "print('dNdE:')\n",
    "print(dNdE_p)\n",
    "plt.errorbar(E[3:37], dNdE_p, yerr = dNdE_p_u, label='dNdE with poisson noise before addind bckg', capsize=3, fmt='o', alpha=0.6)\n",
    "#plt.errorbar(E[3:37], dNdE_b, yerr = dNdE_b_u, label='dNdE with poisson noise and subtracted bckg', capsize=3, fmt='o', alpha=0.6)\n",
    "plt.errorbar(E[3:37], Simbckg1_norm - Simbckg3_norm, yerr = Simbckg1_u_norm + Simbckg3_u_norm, label='Background difference', capsize=3, fmt='o', alpha=0.6)\n",
    "plt.yscale('log')\n",
    "plt.xscale('log')\n",
    "plt.xlabel('Energy(TeV)')\n",
    "plt.ylabel('dN/dE')\n",
    "plt.legend()\n",
    "plt.show()"
   ]
  },
  {
   "cell_type": "markdown",
   "metadata": {},
   "source": [
    "We transform our $\\frac{dN}{dE}$ with the background subtracted into a SED and then the log of the SED, while doing the error propagation."
   ]
  },
  {
   "cell_type": "code",
   "execution_count": 87,
   "metadata": {},
   "outputs": [
    {
     "name": "stderr",
     "output_type": "stream",
     "text": [
      "D:\\programes\\Anaconda3\\lib\\site-packages\\ipykernel_launcher.py:3: RuntimeWarning: invalid value encountered in log10\n",
      "  This is separate from the ipykernel package so we can avoid doing imports until\n"
     ]
    }
   ],
   "source": [
    "SED = np.square(E[3:37]) * dNdE_b\n",
    "SED_u = np.square(E[3:37]) * dNdE_b_u\n",
    "logSED = np.log10(SED)\n",
    "logSED_u = SED_u / (SED * np.log(10))\n",
    "w = 1/ np.square(logSED_u)"
   ]
  },
  {
   "cell_type": "code",
   "execution_count": 88,
   "metadata": {},
   "outputs": [
    {
     "data": {
      "text/plain": [
       "array([ 7.84288261e-05, -1.61892187e-03, -5.37828480e-04, -7.81548722e-04,\n",
       "        2.24318951e-03,  6.67392427e-04,  6.50223756e-03,  3.48124533e-03,\n",
       "       -2.69393909e-03,  1.33413271e-03, -8.70276983e-03, -2.04564172e-03,\n",
       "        3.80509029e-03,  1.77713466e-04,  9.25376091e-04,  4.82471147e-03,\n",
       "        7.31605944e-03,  9.24341425e-03, -1.65954374e-02, -3.08408121e-03,\n",
       "        1.81749123e-02, -1.30539587e-02,  1.91046066e-02,  1.07789831e-02,\n",
       "        2.19615342e-03, -1.87924853e-02, -6.51749668e-03, -3.95196012e-03,\n",
       "       -7.40518332e-03,  5.82944702e-03, -5.14216116e-03, -5.92832395e-04,\n",
       "        2.09294708e-02, -6.65678478e-03])"
      ]
     },
     "execution_count": 88,
     "metadata": {},
     "output_type": "execute_result"
    }
   ],
   "source": []
  },
  {
   "cell_type": "code",
   "execution_count": null,
   "metadata": {},
   "outputs": [],
   "source": []
  }
 ],
 "metadata": {
  "kernelspec": {
   "display_name": "Python 3",
   "language": "python",
   "name": "python3"
  },
  "language_info": {
   "codemirror_mode": {
    "name": "ipython",
    "version": 3
   },
   "file_extension": ".py",
   "mimetype": "text/x-python",
   "name": "python",
   "nbconvert_exporter": "python",
   "pygments_lexer": "ipython3",
   "version": "3.7.3"
  }
 },
 "nbformat": 4,
 "nbformat_minor": 4
}
