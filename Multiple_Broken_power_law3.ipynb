{
 "cells": [
  {
   "cell_type": "code",
   "execution_count": 26,
   "metadata": {},
   "outputs": [],
   "source": [
    "import numpy as np\n",
    "import scipy as sc\n",
    "import matplotlib.pyplot as plt\n",
    "import scipy.optimize as optimize\n",
    "from iminuit import Minuit\n",
    "import pandas as pd\n",
    "import scipy.interpolate as interpolate\n",
    "from scipy.integrate import quad"
   ]
  },
  {
   "cell_type": "markdown",
   "metadata": {},
   "source": [
    "First we define some functions that will be used:"
   ]
  },
  {
   "cell_type": "code",
   "execution_count": 27,
   "metadata": {},
   "outputs": [],
   "source": [
    "def chisq(obs, exp, error):\n",
    "    return np.sum(np.square(obs - exp) / np.square(error))"
   ]
  },
  {
   "cell_type": "code",
   "execution_count": 28,
   "metadata": {},
   "outputs": [],
   "source": [
    "def Gauss(E, A, mu, sigma):\n",
    "    return A * (np.exp(-1/2 * np.square((E - mu) / sigma)) / (sigma * np.sqrt(2*np.pi)))\n",
    "\n",
    "def Gauss_int(A, mu, sigma, Em, Ep):\n",
    "    return quad(Gauss, Em, Ep, args=(A, mu, sigma))"
   ]
  },
  {
   "cell_type": "markdown",
   "metadata": {},
   "source": [
    "Now we define the Multiple broken power law"
   ]
  },
  {
   "cell_type": "code",
   "execution_count": 29,
   "metadata": {},
   "outputs": [],
   "source": [
    "def multiple_bpl(xdata, params):\n",
    "    if knots < 2 or knots > 30: #change this when adding more number of knots\n",
    "        raise Exception('knots have to be larger or equal than 3 and smaller than 30')\n",
    "    else:\n",
    "        polw = np.zeros(len(xdata))\n",
    "        Ebr = np.geomspace(xdata[0], xdata[-1], knots+2)[1:-1]\n",
    "        gamma = np.zeros(knots+1)\n",
    "        phi = np.zeros(knots+1)\n",
    "        phi_0 = params[0] #len(sqrtdelta_lam) = len(lam)-1 = len(phi)-1\n",
    "        gamma0 = params[1]\n",
    "        sqrtdelta_gamma = params[2:knots+2]\n",
    "        delta_gamma = np.square(sqrtdelta_gamma)\n",
    "        gamma[0] = gamma0\n",
    "        phi[0] = phi_0\n",
    "        for i in range(knots):\n",
    "            gamma[i+1] = gamma[i] + delta_gamma[i]\n",
    "            phi[i+1] = phi[i] * Ebr[i] ** delta_gamma[i]\n",
    "        for i in range(len(xdata)):\n",
    "            for j in range(knots):\n",
    "                if xdata[i]<Ebr[0]:\n",
    "                    polw[i] = phi[0] * xdata[i] ** (-gamma[0])\n",
    "                elif Ebr[-1] < xdata[i]:\n",
    "                    polw[i] = phi[-1] * xdata[i] ** (-gamma[-1])\n",
    "                elif Ebr[j] <= xdata[i] < Ebr[j+1]:\n",
    "                    polw[i] = phi[j+1] * xdata[i] ** (-gamma[j+1])\n",
    "    return polw"
   ]
  },
  {
   "cell_type": "markdown",
   "metadata": {},
   "source": [
    "The least squares function for that MBWPL"
   ]
  },
  {
   "cell_type": "code",
   "execution_count": 30,
   "metadata": {},
   "outputs": [],
   "source": [
    "# least-squares score function = sum of data residuals squared\n",
    "def LSQ(params):\n",
    "    return np.sum((ydata - multiple_bpl(xdata, params)) ** 2 / ydata_u ** 2)"
   ]
  },
  {
   "cell_type": "markdown",
   "metadata": {},
   "source": [
    "And the fit function"
   ]
  },
  {
   "cell_type": "code",
   "execution_count": 31,
   "metadata": {},
   "outputs": [],
   "source": [
    "def multiple_bpl_fit(initial_guess):\n",
    "    #print('Warning: the shape of the parametes will depend on the number of knots (defined as knots)')\n",
    "    #print('Warning: this will give the parameters of the fit and its errors which have to be put into the multiple_bpl function in order to get the fit')\n",
    "    LSQ.errordef = Minuit.LIKELIHOOD\n",
    "\n",
    "    m = Minuit(LSQ, initial_guess)\n",
    "    #m.limits[\"initial_guess[2:-1]\"] = (0,None)\n",
    "    #m.tol = 1e-30\n",
    "    m.tol = 1e-20\n",
    "\n",
    "    m.migrad()\n",
    "    print(m.values)\n",
    "\n",
    "    m.hesse()\n",
    "    print(m.errors)\n",
    "\n",
    "    return m"
   ]
  },
  {
   "cell_type": "markdown",
   "metadata": {},
   "source": [
    "Here we will load the Effective area of the telescope and the EBL model file. After that we will also load background rate."
   ]
  },
  {
   "cell_type": "code",
   "execution_count": 32,
   "metadata": {},
   "outputs": [],
   "source": [
    "fileEA = np.loadtxt('EffArea50h.txt', skiprows = 11)\n",
    "EffA = pd.DataFrame(fileEA)\n",
    "EffA = EffA.rename(columns={ 0 : 'E [TeV]', 1: 'Eff area (m^2)'})\n",
    "EffaE= EffA['E [TeV]'].to_numpy()\n",
    "Effa = EffA['Eff area (m^2)'].to_numpy()\n",
    "\n",
    "#absorption file\n",
    "file = np.loadtxt('tau_dominguez11.out')\n",
    "pdfile = pd.DataFrame(file)\n",
    "pdfile = pdfile.rename(columns={ 0 : 'E [TeV]', 1: 'tau z=0.01', 2: 'tau z=0.02526316', 3: 'tau z=0.04052632', 4: 'tau z=0.05578947', 5: 'tau z=0.07105263', 6: 'tau z=0.08631579', 7: 'tau z=0.10157895', 8: 'tau z=0.11684211', 9: 'tau z=0.13210526', 10: 'tau z=0.14736842', 11: 'tau z=0.16263158', 12: 'tau z=0.17789474', 13: 'tau z=0.19315789', 14: 'tau z=0.20842105'})\n",
    "E = pdfile['E [TeV]'].to_numpy()\n",
    "tau = pdfile['tau z=0.20842105'].to_numpy()"
   ]
  },
  {
   "cell_type": "markdown",
   "metadata": {},
   "source": [
    "For the background rate we need to do a rebinning to have the same energy bins as with the other data."
   ]
  },
  {
   "cell_type": "code",
   "execution_count": 33,
   "metadata": {},
   "outputs": [],
   "source": [
    "fileBkg = np.loadtxt('Bkg50h.txt', skiprows = 10)\n",
    "Bkgpd = pd.DataFrame(fileBkg)\n",
    "Bkgpd = Bkgpd.rename(columns={ 0 : 'E_min (TeV)', 1: 'E_max (TeV)', 2: 'Bck Rate (Hz/deg^2)'})\n",
    "\n",
    "BckgEmin = Bkgpd['E_min (TeV)'].to_numpy()\n",
    "BckgEmax = Bkgpd['E_max (TeV)'].to_numpy()\n",
    "Bckg = Bkgpd['Bck Rate (Hz/deg^2)'].to_numpy()\n",
    "BckgEdiff = BckgEmax - BckgEmin\n",
    "\n",
    "BckgElogmean = []\n",
    "for i in range(len(Bckg)):\n",
    "    BckgElogmean.append(10**(np.mean([np.log10(BckgEmax[i]), np.log10(BckgEmin[i])])))\n",
    "\n",
    "\n",
    "Ebinsmin = np.zeros(len(E))\n",
    "Ebinsmax = np.zeros(len(E))\n",
    "\n",
    "for i in range(1, len(E)):\n",
    "    Ebinsmin[i] = 10**(np.mean([np.log10(E[i]), np.log10(E[i-1])]))\n",
    "for i in range(len(E) - 1):\n",
    "    Ebinsmax[i] = 10**(np.mean([np.log10(E[i]), np.log10(E[i+1])]))\n",
    "    \n",
    "Ebinsmin[0] = 10**(np.log10(Ebinsmin[1])-(np.log10(Ebinsmin[2])-np.log10(Ebinsmin[1])))\n",
    "Ebinsmax[len(E)-1] = 10**(np.log10(Ebinsmax[len(E)-2])-(np.log10(Ebinsmax[len(E)-3])-np.log10(Ebinsmax[len(E)-2])))\n",
    "Ebinsw = Ebinsmax - Ebinsmin"
   ]
  },
  {
   "cell_type": "code",
   "execution_count": 34,
   "metadata": {},
   "outputs": [],
   "source": [
    "DifBckg = Bckg / (BckgEmax - BckgEmin) #Hz/deg**2\n",
    "def log_interp1d(xx, yy):\n",
    "    logx = np.log10(xx)\n",
    "    logy = np.log10(yy)\n",
    "    interp = interpolate.interp1d(logx, logy, fill_value='extrapolate', kind='slinear')\n",
    "    log_interp = lambda zz: np.power(10.0, interp(np.log10(zz)))\n",
    "    return log_interp\n",
    "\n",
    "interpolation = log_interp1d(BckgElogmean,DifBckg)"
   ]
  },
  {
   "cell_type": "code",
   "execution_count": 35,
   "metadata": {},
   "outputs": [],
   "source": [
    "newBckgrate = np.zeros([len(E[2:37]),2])\n",
    "for i in range(len(E[2:37])):\n",
    "    newBckgrate[i] = quad(interpolation, Ebinsmin[i+2], Ebinsmax[i+2])\n",
    "newBckgrate = newBckgrate[:,0]"
   ]
  },
  {
   "cell_type": "markdown",
   "metadata": {},
   "source": [
    "After that we create the spectrum of the source and we absorve it with the EBL model loaded before. If you want to change the source spectra, change it here."
   ]
  },
  {
   "cell_type": "code",
   "execution_count": 36,
   "metadata": {},
   "outputs": [],
   "source": [
    "#“photon index  = 2.03  +/- 0.03 and normalization factor at 250 GeV    f0 = (8.70 +/- 0.17) * 10^-10 cm^-2  s^-1  TeV^-1.”\n",
    "K =  8.70e-6 #m−2  s−1  TeV−1\n",
    "dNdE = K / ((E/0.25)**2.03) \n",
    "m_tau = -tau\n",
    "dNdEa = dNdE * np.exp(m_tau)"
   ]
  },
  {
   "cell_type": "markdown",
   "metadata": {},
   "source": [
    "We also need to do a rebinning of the effective area"
   ]
  },
  {
   "cell_type": "code",
   "execution_count": 37,
   "metadata": {},
   "outputs": [],
   "source": [
    "EffaA2 = np.zeros(len(E[2:37]))\n",
    "for i in range(len(E[2:37])):\n",
    "    for j in range(len(EffaE[9:51])):\n",
    "        if EffaE[j+9] < E[i+2] and EffaE[j+10] > E[i+2]:\n",
    "            m = (Effa[j+10]-Effa[j+9])/(EffaE[j+10]-EffaE[j+9])\n",
    "            n = Effa[j+9] - m * EffaE[j+9]\n",
    "            EffaA2[i] = m * E[i+2] + n"
   ]
  },
  {
   "cell_type": "markdown",
   "metadata": {},
   "source": [
    "And we will also need the angular resolution of the telescope which, of course, will need to be rebinned."
   ]
  },
  {
   "cell_type": "code",
   "execution_count": 38,
   "metadata": {},
   "outputs": [],
   "source": [
    "fileAng = np.loadtxt('Angres.txt', skiprows = 11)\n",
    "Angresall = pd.DataFrame(fileAng)\n",
    "Angresall = Angresall.rename(columns={ 0 : 'E [TeV]', 1: 'Angular resolution (deg)'})\n",
    "AngresE= Angresall['E [TeV]'].to_numpy()\n",
    "Angres = Angresall['Angular resolution (deg)'].to_numpy()\n",
    "\n",
    "logAngres = np.log10(Angres)\n",
    "logAngresE = np.log10(AngresE)\n",
    "logE = np.log10(E)\n",
    "\n",
    "\n",
    "logAngres2 = np.zeros(len(E[2:37]))\n",
    "for i in range(len(E[2:37])):\n",
    "    for j in range(len(AngresE[1:-1])):\n",
    "        if logAngresE[j+1] < logE[i+2] and logAngresE[j+2] > logE[i+2]:\n",
    "            m = (logAngres[j+2]-logAngres[j+1])/(logAngresE[j+2]-logAngresE[j+1])\n",
    "            n = logAngres[j+1] - m * logAngresE[j+1]\n",
    "            logAngres2[i] = m * logE[i+2] + n\n",
    "Angres2 = 10**logAngres2"
   ]
  },
  {
   "cell_type": "markdown",
   "metadata": {},
   "source": [
    "Let's load the Energy resolution and rebin it to fit our data. After that we will get the poisson parameter of the source taking into account the energy resolution."
   ]
  },
  {
   "cell_type": "code",
   "execution_count": 39,
   "metadata": {},
   "outputs": [],
   "source": [
    "fileEres = np.loadtxt('Eres.txt', skiprows = 8)\n",
    "Eresall = pd.DataFrame(fileEres)\n",
    "Eresall = Eresall.rename(columns={ 0 : 'E [TeV]', 1: 'Energy resolution (deg)'})\n",
    "EresE = Eresall['E [TeV]'].to_numpy()\n",
    "Eres = Eresall['Energy resolution (deg)'].to_numpy()\n",
    "\n",
    "logEres = np.log10(Eres)\n",
    "logEresE = np.log10(EresE)\n",
    "logE = np.log10(E)\n",
    "\n",
    "\n",
    "logEres2 = np.zeros(len(E[2:37]))\n",
    "for i in range(len(E[2:37])):\n",
    "    for j in range(len(EresE[0:-1])):\n",
    "        if logEresE[j] < logE[i+3] and logEresE[j+1] > logE[i+3]:\n",
    "            m = (logEres[j+1]-logEres[j])/(logEresE[j+1]-logEresE[j])\n",
    "            n = logEres[j] - m * logEresE[j]\n",
    "            logEres2[i] = m * logE[i+3] + n\n",
    "Eres2 = 10**logEres2\n",
    "\n",
    "Eres3 = np.zeros(len(Eres2))\n",
    "for i in range(len(Eres2)):\n",
    "    Eres3[i] = Eres2[i] * E[2:37][i]"
   ]
  },
  {
   "cell_type": "code",
   "execution_count": 40,
   "metadata": {},
   "outputs": [],
   "source": [
    "def degtorad(ang):\n",
    "    return ang * np.pi / 180\n"
   ]
  },
  {
   "cell_type": "code",
   "execution_count": 41,
   "metadata": {},
   "outputs": [],
   "source": [
    "time = 42480 #42480 #180000#s\n",
    "skyang = (180/np.pi)**2 * 2 * np.pi * (1-np.cos(degtorad(Angres2)))#deg^2\n",
    "\n",
    "bckgmu = newBckgrate * time * skyang\n",
    "mu_vec = dNdEa[2:37] * EffaA2 * Ebinsw[2:37] * time\n",
    "\n",
    "logEbins = np.zeros(len(E[2:37])+1)\n",
    "for i in range(len(E[2:37])+1):\n",
    "    if i == 0:\n",
    "        logEbins[i] = logE[2] - ((logE[3]-logE[2])/2)\n",
    "    elif i == (len(E[2:37])):\n",
    "        logEbins[i] = logE[2:37][i-1] + ((logE[2:37][i-1]-logE[2:37][i-2])/2)\n",
    "    else:\n",
    "        logEbins[i] = (logE[2:37][i] + logE[2:37][i-1]) / 2\n",
    "\n",
    "Ebins = 10 ** logEbins"
   ]
  },
  {
   "cell_type": "code",
   "execution_count": 51,
   "metadata": {},
   "outputs": [],
   "source": [
    "mu_vec_reco = np.zeros(len(mu_vec))\n",
    "mu_vec_i = np.zeros(len(mu_vec))\n",
    "\n",
    "for i in range(len(mu_vec)):\n",
    "    for j in range(len(mu_vec)):\n",
    "        A = mu_vec[i]\n",
    "        B = bckgmu[i]\n",
    "        Em = Ebins[j]\n",
    "        Ep = Ebins[j+1]\n",
    "        sigma = Eres3[i]\n",
    "        mu = E[2:37][i]\n",
    "\n",
    "        mu_vec_i[j] = Gauss_int(A, mu, sigma, Em, Ep)[0]\n",
    "    mu_vec_reco = mu_vec_reco + mu_vec_i\n",
    "\n",
    "# plt.plot(E[3:37], mu_vec[1:], label=\"True\")\n",
    "# plt.plot(E[3:37], mu_vec_reco[1:], label=\"Reconstructed\")\n",
    "# plt.xscale(\"log\")\n",
    "# plt.legend()\n",
    "# plt.show()"
   ]
  },
  {
   "cell_type": "markdown",
   "metadata": {},
   "source": [
    "Now we generate 2 random samples of the background. The first one is the background contribution to the observations and the other one is the observed background in 5 wobbles that we will use to reduce the background noise. After that we also simulate the source spectra. Those 3 things are made using a Poisson disteibution.Then we sum the 3 contributions and we take the number of photons to SED. "
   ]
  },
  {
   "cell_type": "code",
   "execution_count": 52,
   "metadata": {},
   "outputs": [],
   "source": [
    "my_generator = np.random.default_rng(2021)\n",
    "Simbckg1 = my_generator.poisson(bckgmu)\n",
    "# Simbckg1 = Simbckg1.astype(float)\n",
    "# for i in range(len(Simbckg1)):\n",
    "#     if Simbckg1[i] == 0:\n",
    "#         Simbckg1[i] = bckgmu[i]\n",
    "Simbckg1_u = np.sqrt(Simbckg1)\n",
    "Simbckg5 = my_generator.poisson(5*bckgmu)/5\n",
    "# Simbckg5 = Simbckg5.astype(float)\n",
    "# for i in range(len(Simbckg5)):\n",
    "#     if Simbckg5[i] == 0:\n",
    "#         Simbckg5[i] = bckgmu[i]\n",
    "Simbckg5_u = np.sqrt(Simbckg5)\n",
    "\n",
    "N = my_generator.poisson(mu_vec_reco)\n",
    "# N = mu\n",
    "\n",
    "# for i in range(len(N)):\n",
    "#     if N[i] == 0:\n",
    "#         N[i] = mu[i]\n",
    "N_u = np.sqrt(N)\n",
    "\n",
    "NpB = np.around(N + Simbckg1 - Simbckg5).astype(int)\n",
    "NpB_u = N_u + Simbckg1_u - Simbckg5_u"
   ]
  },
  {
   "cell_type": "code",
   "execution_count": 53,
   "metadata": {},
   "outputs": [],
   "source": [
    "dNdE_b = NpB[1:] / EffaA2[1:35] / Ebinsw[3:37] / time\n",
    "dNdE_b_u = NpB_u[1:] / EffaA2[1:35] / Ebinsw[3:37] / time"
   ]
  },
  {
   "cell_type": "code",
   "execution_count": 54,
   "metadata": {},
   "outputs": [],
   "source": [
    "SED = np.square(E[3:37]) * dNdE_b\n",
    "SED_u = np.square(E[3:37]) * dNdE_b_u"
   ]
  },
  {
   "cell_type": "markdown",
   "metadata": {},
   "source": [
    "We plot the obtained spectra"
   ]
  },
  {
   "cell_type": "code",
   "execution_count": 55,
   "metadata": {},
   "outputs": [
    {
     "data": {
      "image/png": "[encoded data removed]",
      "text/plain": [
       "<Figure size 432x288 with 1 Axes>"
      ]
     },
     "metadata": {
      "needs_background": "light"
     },
     "output_type": "display_data"
    }
   ],
   "source": [
    "plt.errorbar(E[3:37], SED, label='MC data',yerr = SED_u, capsize=3, fmt='o', alpha=0.8)\n",
    "plt.xscale('log')\n",
    "plt.yscale('log')\n",
    "plt.xlabel(r\"$E$ ($TeV$)\")\n",
    "plt.ylabel(r\"$E^2$ $dF/dE$ ($TeV$ $m^{-2}$ $s^{-1}$)\")\n",
    "plt.legend()\n",
    "plt.show()"
   ]
  },
  {
   "cell_type": "markdown",
   "metadata": {},
   "source": [
    "Okay, now let's use the new fitting method:"
   ]
  },
  {
   "cell_type": "code",
   "execution_count": 56,
   "metadata": {},
   "outputs": [
    {
     "name": "stdout",
     "output_type": "stream",
     "text": [
      "<ValueView x0=1.7993340569023153e-06 x1=-0.5000872167874816 x2=-0.9412974885117453 x3=-0.8203472548078293 x4=-0.8124598969053288 x5=-1.1320585395785279e-07 x6=0.0>\n",
      "<ErrorView x0=9.849791681626788e-08 x1=0.02104997708317041 x2=0.018533150475448002 x3=0.023546376938222365 x4=0.030561401233628913 x5=0.12670268882605812 x6=0.21055226119153714>\n"
     ]
    },
    {
     "data": {
      "image/png": "[encoded data removed]",
      "text/plain": [
       "<Figure size 432x288 with 1 Axes>"
      ]
     },
     "metadata": {
      "needs_background": "light"
     },
     "output_type": "display_data"
    }
   ],
   "source": [
    "ydata = SED\n",
    "xdata = E[3:37]\n",
    "knots = 5\n",
    "ydata_u = SED_u\n",
    "initial_guess = np.array([5e-7, 0, 0, 0, 0, 0, 0]) #phi_0, lam1, deltas (len(deltas)=knots-2))\n",
    "things = multiple_bpl_fit(initial_guess=initial_guess)\n",
    "\n",
    "Egam = np.geomspace(E[3],E[36], 300)\n",
    "\n",
    "plt.plot(Egam, multiple_bpl(Egam, things.values), label='concave fit', color = 'orange')\n",
    "plt.errorbar(xdata, ydata, label='MC data',yerr = ydata_u, capsize=3, fmt='o', alpha=0.8)\n",
    "plt.xscale('log')\n",
    "plt.yscale('log')\n",
    "plt.xlabel(r\"$E$ ($TeV$)\")\n",
    "plt.ylabel(r\"$E^2$ $dF/dE$ ($TeV$ $m^{-2}$ $s^{-1}$)\")\n",
    "plt.legend()\n",
    "plt.show()"
   ]
  },
  {
   "cell_type": "markdown",
   "metadata": {},
   "source": [
    "Finally we use this SED and deabsorb the EBL while fitting the MBPWL to every value of $\\alpha$ and get its corresponding $\\chi^2$ value."
   ]
  },
  {
   "cell_type": "code",
   "execution_count": 60,
   "metadata": {},
   "outputs": [
    {
     "name": "stdout",
     "output_type": "stream",
     "text": [
      "<ValueView x0=3.1406718613112394e-07 x1=0.22051725752335768 x2=1.073383948852383 x3=0.0 x4=0.0 x5=0.0 x6=0.0 x7=0.0 x8=0.0 x9=0.0 x10=0.0>\n",
      "<ErrorView x0=0.0 x1=0.0 x2=0.0 x3=0.0 x4=0.0 x5=0.0 x6=0.0 x7=0.0 x8=0.0 x9=0.0 x10=0.0>\n",
      "<ValueView x0=3.219274731341924e-07 x1=0.21107510873453758 x2=-1.045191401089647 x3=0.0 x4=0.0 x5=0.0 x6=0.0 x7=0.0 x8=0.0 x9=0.0 x10=0.0>\n",
      "<ErrorView x0=0.0 x1=0.0 x2=0.0 x3=0.0 x4=0.0 x5=0.0 x6=0.0 x7=0.0 x8=0.0 x9=0.0 x10=0.0>\n",
      "<ValueView x0=3.0862348616965664e-07 x1=0.2314153562577037 x2=-0.9411529818756352 x3=0.5906697314430149 x4=3.5797954332693487e-06 x5=0.0 x6=0.0 x7=0.0 x8=0.0 x9=0.0 x10=0.0>\n",
      "<ErrorView x0=0.0 x1=0.0 x2=0.0 x3=0.0 x4=0.0 x5=0.0 x6=0.0 x7=0.0 x8=0.0 x9=0.0 x10=0.0>\n",
      "<ValueView x0=3.306668431898999e-07 x1=0.20227878891867646 x2=-0.9655275279384173 x3=0.0 x4=0.7487242206853384 x5=0.0 x6=0.0 x7=0.0 x8=0.0 x9=0.0 x10=0.0>\n",
      "<ErrorView x0=0.0 x1=0.0 x2=0.0 x3=0.0 x4=0.0 x5=0.0 x6=0.0 x7=0.0 x8=0.0 x9=0.0 x10=0.0>\n",
      "<ValueView x0=3.2645211412171314e-07 x1=0.2095405492332797 x2=-0.8856677920285239 x3=0.5424818404205584 x4=-0.2529949415828608 x5=0.0 x6=0.0 x7=0.0 x8=0.0 x9=0.0 x10=0.0>\n",
      "<ErrorView x0=0.0 x1=0.0 x2=0.0 x3=0.0 x4=0.0 x5=0.0 x6=0.0 x7=0.0 x8=0.0 x9=0.0 x10=0.0>\n",
      "<ValueView x0=3.551140144355906e-07 x1=0.17364029820877455 x2=-0.9239273153386673 x3=0.0 x4=0.0 x5=0.0 x6=0.0 x7=0.0 x8=0.0 x9=0.0 x10=0.0>\n",
      "<ErrorView x0=0.0 x1=0.0 x2=0.0 x3=0.0 x4=0.0 x5=0.0 x6=0.0 x7=0.0 x8=0.0 x9=0.0 x10=0.0>\n",
      "<ValueView x0=3.638634866325594e-07 x1=0.16436376607319556 x2=-0.8910568043550102 x3=0.0 x4=0.0 x5=0.0 x6=0.0 x7=0.0 x8=0.0 x9=0.0 x10=0.0>\n",
      "<ErrorView x0=0.0 x1=0.0 x2=0.0 x3=0.0 x4=0.0 x5=0.0 x6=0.0 x7=0.0 x8=0.0 x9=0.0 x10=0.0>\n",
      "<ValueView x0=3.550855783629648e-07 x1=0.17679512345712192 x2=-0.7953441489354075 x3=0.460195520031628 x4=-0.4068882150669296 x5=0.0 x6=0.0 x7=0.0 x8=0.0 x9=0.0 x10=0.0>\n",
      "<ErrorView x0=0.0 x1=0.0 x2=0.0 x3=0.0 x4=0.0 x5=0.0 x6=0.0 x7=0.0 x8=0.0 x9=0.0 x10=0.0>\n",
      "<ValueView x0=3.651564352183076e-07 x1=0.165903974232732 x2=-0.7628707855023631 x3=0.42942559299988686 x4=-0.4469156150877222 x5=0.0 x6=0.0 x7=0.0 x8=0.0 x9=0.0 x10=0.0>\n",
      "<ErrorView x0=0.0 x1=0.0 x2=0.0 x3=0.0 x4=0.0 x5=0.0 x6=0.0 x7=0.0 x8=0.0 x9=0.0 x10=0.0>\n",
      "<ValueView x0=3.7550219677930146e-07 x1=0.15502458089059934 x2=-0.7289568971645194 x3=0.3963472110507942 x4=0.4838193630403488 x5=0.0 x6=0.0 x7=0.0 x8=0.0 x9=0.0 x10=0.0>\n",
      "<ErrorView x0=0.0 x1=0.0 x2=0.0 x3=0.0 x4=0.0 x5=0.0 x6=0.0 x7=0.0 x8=0.0 x9=0.0 x10=0.0>\n",
      "<ValueView x0=3.861301836150742e-07 x1=0.1441568138311574 x2=-0.6933918458001919 x3=-0.36032226504161347 x4=0.518270298648118 x5=0.0 x6=0.0 x7=0.0 x8=0.0 x9=0.0 x10=0.0>\n",
      "<ErrorView x0=0.0 x1=0.0 x2=0.0 x3=0.0 x4=0.0 x5=0.0 x6=0.0 x7=0.0 x8=0.0 x9=0.0 x10=0.0>\n",
      "<ValueView x0=3.9704787963415716e-07 x1=0.1333005537401594 x2=-0.6559075858597416 x3=0.3203536385997322 x4=-0.5507327171308146 x5=0.0 x6=0.0 x7=0.0 x8=0.0 x9=0.0 x10=0.0>\n",
      "<ErrorView x0=0.0 x1=0.0 x2=0.0 x3=0.0 x4=0.0 x5=0.0 x6=0.0 x7=0.0 x8=0.0 x9=0.0 x10=0.0>\n",
      "<ValueView x0=4.082629336251467e-07 x1=0.12245573668469475 x2=-0.616154501690816 x3=0.27471991431033477 x4=-0.5815430955705697 x5=0.0 x6=0.0 x7=0.0 x8=0.0 x9=0.0 x10=0.0>\n",
      "<ErrorView x0=0.0 x1=0.0 x2=0.0 x3=0.0 x4=0.0 x5=0.0 x6=0.0 x7=0.0 x8=0.0 x9=0.0 x10=0.0>\n",
      "<ValueView x0=4.1978337410042515e-07 x1=0.11162206641425891 x2=-0.5736618254233558 x3=0.21991733462231552 x4=-0.6109543523283952 x5=0.0 x6=0.0 x7=0.0 x8=0.0 x9=0.0 x10=0.0>\n",
      "<ErrorView x0=0.0 x1=0.0 x2=0.0 x3=0.0 x4=0.0 x5=0.0 x6=0.0 x7=0.0 x8=0.0 x9=0.0 x10=0.0>\n",
      "<ValueView x0=4.3161720344178545e-07 x1=0.10079956608395238 x2=-0.5277692086760166 x3=0.1459463959518843 x4=-0.639161855781367 x5=0.0 x6=0.0 x7=0.0 x8=0.0 x9=0.0 x10=0.0>\n",
      "<ErrorView x0=0.0 x1=0.0 x2=0.0 x3=0.0 x4=0.0 x5=0.0 x6=0.0 x7=0.0 x8=0.0 x9=0.0 x10=0.0>\n",
      "<ValueView x0=4.4343001824762236e-07 x1=0.09033213547322395 x2=-0.4757040514093146 x3=7.067555316994386e-07 x4=0.6587291930458816 x5=0.0 x6=0.0 x7=0.0 x8=0.0 x9=0.0 x10=0.0>\n",
      "<ErrorView x0=0.0 x1=0.0 x2=0.0 x3=0.0 x4=0.0 x5=0.0 x6=0.0 x7=0.0 x8=0.0 x9=0.0 x10=0.0>\n",
      "<ValueView x0=4.5423917501888777e-07 x1=0.0811629650857368 x2=-0.40953634767532593 x3=2.7120099618963697e-08 x4=-0.6494603654838718 x5=0.0 x6=0.0 x7=0.0 x8=0.0 x9=0.0 x10=0.0>\n",
      "<ErrorView x0=0.0 x1=0.0 x2=0.0 x3=0.0 x4=0.0 x5=0.0 x6=0.0 x7=0.0 x8=0.0 x9=0.0 x10=0.0>\n"
     ]
    },
    {
     "name": "stderr",
     "output_type": "stream",
     "text": [
      "/tmp/ipykernel_5203/2771821756.py:25: RuntimeWarning: overflow encountered in double_scalars\n",
      "  polw[i] = phi[j+1] * xdata[i] ** (-gamma[j+1])\n",
      "/tmp/ipykernel_5203/2771821756.py:25: RuntimeWarning: invalid value encountered in double_scalars\n",
      "  polw[i] = phi[j+1] * xdata[i] ** (-gamma[j+1])\n"
     ]
    },
    {
     "name": "stdout",
     "output_type": "stream",
     "text": [
      "<ValueView x0=4.65288662006051e-07 x1=0.07201531339611472 x2=-0.33044551400743394 x3=8.797641668683518e-07 x4=-0.6398411690695863 x5=0.0 x6=0.0 x7=0.0 x8=0.0 x9=0.0 x10=0.0>\n",
      "<ErrorView x0=0.0 x1=0.0 x2=0.0 x3=0.0 x4=0.0 x5=0.0 x6=0.0 x7=0.0 x8=0.0 x9=0.0 x10=0.0>\n",
      "<ValueView x0=4.765842302101521e-07 x1=0.06288819501308897 x2=-0.22520990662858878 x3=-4.368517370327579e-07 x4=-0.6298508096813968 x5=0.0 x6=0.0 x7=0.0 x8=0.0 x9=0.0 x10=0.0>\n",
      "<ErrorView x0=0.0 x1=0.0 x2=0.0 x3=0.0 x4=0.0 x5=0.0 x6=0.0 x7=0.0 x8=0.0 x9=0.0 x10=0.0>\n",
      "<ValueView x0=4.918339463220394e-07 x1=0.0501366515631253 x2=-1.773700601956388e-07 x3=-2.2413015077164024e-07 x4=-0.6074208320865241 x5=0.0 x6=0.0 x7=0.0 x8=0.0 x9=0.0 x10=0.0>\n",
      "<ErrorView x0=0.0 x1=0.0 x2=0.0 x3=0.0 x4=0.0 x5=0.0 x6=0.0 x7=0.0 x8=0.0 x9=0.0 x10=0.0>\n",
      "<ValueView x0=5.329923631834764e-07 x1=0.013784660883726324 x2=0.0 x3=0.0 x4=-0.4927443178563903 x5=0.0 x6=0.0 x7=0.0 x8=0.0 x9=0.0 x10=0.0>\n",
      "<ErrorView x0=0.0 x1=0.0 x2=0.0 x3=0.0 x4=0.0 x5=0.0 x6=0.0 x7=0.0 x8=0.0 x9=0.0 x10=0.0>\n",
      "<ValueView x0=5.747041827064443e-07 x1=-0.01999481085243375 x2=0.0 x3=0.0 x4=0.0 x5=0.0 x6=0.0 x7=0.0 x8=0.0 x9=0.0 x10=0.0>\n",
      "<ErrorView x0=0.0 x1=0.0 x2=0.0 x3=0.0 x4=0.0 x5=0.0 x6=0.0 x7=0.0 x8=0.0 x9=0.0 x10=0.0>\n",
      "<ValueView x0=6.233553181835055e-07 x1=-0.057087419560323746 x2=0.0 x3=0.0 x4=0.0 x5=0.0 x6=0.0 x7=0.0 x8=0.0 x9=0.0 x10=0.0>\n",
      "<ErrorView x0=0.0 x1=0.0 x2=0.0 x3=0.0 x4=0.0 x5=0.0 x6=0.0 x7=0.0 x8=0.0 x9=0.0 x10=0.0>\n",
      "<ValueView x0=6.747685895026297e-07 x1=-0.09322426537241112 x2=0.0 x3=0.0 x4=0.0 x5=0.0 x6=0.0 x7=0.0 x8=0.0 x9=0.0 x10=0.0>\n",
      "<ErrorView x0=0.0 x1=0.0 x2=0.0 x3=0.0 x4=0.0 x5=0.0 x6=0.0 x7=0.0 x8=0.0 x9=0.0 x10=0.0>\n",
      "<ValueView x0=7.289444784693397e-07 x1=-0.12838458533710248 x2=0.0 x3=0.0 x4=0.0 x5=0.0 x6=0.0 x7=0.0 x8=0.0 x9=0.0 x10=0.0>\n",
      "<ErrorView x0=0.0 x1=0.0 x2=0.0 x3=0.0 x4=0.0 x5=0.0 x6=0.0 x7=0.0 x8=0.0 x9=0.0 x10=0.0>\n",
      "<ValueView x0=7.858695697993898e-07 x1=-0.16255261775600105 x2=0.0 x3=0.0 x4=0.0 x5=0.0 x6=0.0 x7=0.0 x8=0.0 x9=0.0 x10=0.0>\n",
      "<ErrorView x0=0.0 x1=0.0 x2=0.0 x3=0.0 x4=0.0 x5=0.0 x6=0.0 x7=0.0 x8=0.0 x9=0.0 x10=0.0>\n",
      "<ValueView x0=8.455180517279175e-07 x1=-0.19571824912948327 x2=0.0 x3=0.0 x4=0.0 x5=0.0 x6=0.0 x7=0.0 x8=0.0 x9=0.0 x10=0.0>\n",
      "<ErrorView x0=0.0 x1=0.0 x2=0.0 x3=0.0 x4=0.0 x5=0.0 x6=0.0 x7=0.0 x8=0.0 x9=0.0 x10=0.0>\n",
      "<ValueView x0=9.078539823523613e-07 x1=-0.2278776217741774 x2=0.0 x3=0.0 x4=0.0 x5=0.0 x6=0.0 x7=0.0 x8=0.0 x9=0.0 x10=0.0>\n",
      "<ErrorView x0=0.0 x1=0.0 x2=0.0 x3=0.0 x4=0.0 x5=0.0 x6=0.0 x7=0.0 x8=0.0 x9=0.0 x10=0.0>\n",
      "<ValueView x0=9.7283415875013e-07 x1=-0.25903358740029053 x2=0.0 x3=0.0 x4=0.0 x5=0.0 x6=0.0 x7=0.0 x8=0.0 x9=0.0 x10=0.0>\n",
      "<ErrorView x0=0.0 x1=0.0 x2=0.0 x3=0.0 x4=0.0 x5=0.0 x6=0.0 x7=0.0 x8=0.0 x9=0.0 x10=0.0>\n",
      "<ValueView x0=1.040410953506358e-06 x1=-0.2891956448131043 x2=0.0 x3=0.0 x4=0.0 x5=0.0 x6=0.0 x7=0.0 x8=0.0 x9=0.0 x10=0.0>\n",
      "<ErrorView x0=0.0 x1=0.0 x2=0.0 x3=0.0 x4=0.0 x5=0.0 x6=0.0 x7=0.0 x8=0.0 x9=0.0 x10=0.0>\n",
      "<ValueView x0=1.1105365853206884e-06 x1=-0.3183804285411014 x2=0.0 x3=0.0 x4=0.0 x5=0.0 x6=0.0 x7=0.0 x8=0.0 x9=0.0 x10=0.0>\n",
      "<ErrorView x0=0.0 x1=0.0 x2=0.0 x3=0.0 x4=0.0 x5=0.0 x6=0.0 x7=0.0 x8=0.0 x9=0.0 x10=0.0>\n",
      "<ValueView x0=1.1831658204486524e-06 x1=-0.3466109030509114 x2=0.0 x3=0.0 x4=0.0 x5=0.0 x6=0.0 x7=0.0 x8=0.0 x9=0.0 x10=0.0>\n",
      "<ErrorView x0=0.0 x1=0.0 x2=0.0 x3=0.0 x4=0.0 x5=0.0 x6=0.0 x7=0.0 x8=0.0 x9=0.0 x10=0.0>\n",
      "<ValueView x0=1.2582598547671026e-06 x1=-0.37391615243943255 x2=0.0 x3=0.0 x4=0.0 x5=0.0 x6=0.0 x7=0.0 x8=0.0 x9=0.0 x10=0.0>\n",
      "<ErrorView x0=0.0 x1=0.0 x2=0.0 x3=0.0 x4=0.0 x5=0.0 x6=0.0 x7=0.0 x8=0.0 x9=0.0 x10=0.0>\n",
      "<ValueView x0=1.335788845309665e-06 x1=-0.40033051983802276 x2=0.0 x3=0.0 x4=0.0 x5=0.0 x6=0.0 x7=0.0 x8=0.0 x9=0.0 x10=0.0>\n",
      "<ErrorView x0=0.0 x1=0.0 x2=0.0 x3=0.0 x4=0.0 x5=0.0 x6=0.0 x7=0.0 x8=0.0 x9=0.0 x10=0.0>\n",
      "<ValueView x0=1.415734473350422e-06 x1=-0.425892750393879 x2=0.0 x3=0.0 x4=0.0 x5=0.0 x6=0.0 x7=0.0 x8=0.0 x9=0.0 x10=0.0>\n",
      "<ErrorView x0=0.0 x1=0.0 x2=0.0 x3=0.0 x4=0.0 x5=0.0 x6=0.0 x7=0.0 x8=0.0 x9=0.0 x10=0.0>\n",
      "<ValueView x0=1.4980924304049438e-06 x1=-0.45064530139655645 x2=0.0 x3=0.0 x4=0.0 x5=0.0 x6=0.0 x7=0.0 x8=0.0 x9=0.0 x10=0.0>\n",
      "<ErrorView x0=0.0 x1=0.0 x2=0.0 x3=0.0 x4=0.0 x5=0.0 x6=0.0 x7=0.0 x8=0.0 x9=0.0 x10=0.0>\n",
      "<ValueView x0=1.5828716786750045e-06 x1=-0.4746326229439093 x2=0.0 x3=0.0 x4=0.0 x5=0.0 x6=0.0 x7=0.0 x8=0.0 x9=0.0 x10=0.0>\n",
      "<ErrorView x0=0.0 x1=0.0 x2=0.0 x3=0.0 x4=0.0 x5=0.0 x6=0.0 x7=0.0 x8=0.0 x9=0.0 x10=0.0>\n",
      "<ValueView x0=1.6700970522876414e-06 x1=-0.49790091370491796 x2=0.0 x3=0.0 x4=0.0 x5=0.0 x6=0.0 x7=0.0 x8=0.0 x9=0.0 x10=0.0>\n",
      "<ErrorView x0=0.0 x1=0.0 x2=0.0 x3=0.0 x4=0.0 x5=0.0 x6=0.0 x7=0.0 x8=0.0 x9=0.0 x10=0.0>\n",
      "<ValueView x0=1.7598083460900054e-06 x1=-0.5204969207592189 x2=0.0 x3=0.0 x4=0.0 x5=0.0 x6=0.0 x7=0.0 x8=0.0 x9=0.0 x10=0.0>\n",
      "<ErrorView x0=0.0 x1=0.0 x2=0.0 x3=0.0 x4=0.0 x5=0.0 x6=0.0 x7=0.0 x8=0.0 x9=0.0 x10=0.0>\n",
      "<ValueView x0=1.8520582329450253e-06 x1=-0.5424665430774841 x2=0.0 x3=0.0 x4=0.0 x5=0.0 x6=0.0 x7=0.0 x8=0.0 x9=0.0 x10=0.0>\n",
      "<ErrorView x0=0.0 x1=0.0 x2=0.0 x3=0.0 x4=0.0 x5=0.0 x6=0.0 x7=0.0 x8=0.0 x9=0.0 x10=0.0>\n",
      "<ValueView x0=1.946913687086966e-06 x1=-0.5638549305001376 x2=0.0 x3=0.0 x4=0.0 x5=0.0 x6=0.0 x7=0.0 x8=0.0 x9=0.0 x10=0.0>\n",
      "<ErrorView x0=0.0 x1=0.0 x2=0.0 x3=0.0 x4=0.0 x5=0.0 x6=0.0 x7=0.0 x8=0.0 x9=0.0 x10=0.0>\n"
     ]
    },
    {
     "data": {
      "image/png": "[encoded data removed]",
      "text/plain": [
       "<Figure size 432x288 with 1 Axes>"
      ]
     },
     "metadata": {
      "needs_background": "light"
     },
     "output_type": "display_data"
    }
   ],
   "source": [
    "chisqs = []\n",
    "alphas = np.arange(0,2.05,0.05)\n",
    "\n",
    "for i in range(len(alphas)):\n",
    "    alpha = alphas[i]\n",
    "    dNdE2 = dNdE_b[4:] * np.exp(alpha*tau[7:37])\n",
    "    dNdE2_u = dNdE_b_u[4:] * np.exp(alpha*tau[7:37])\n",
    "    SED2 = np.square(E[7:37]) * dNdE2\n",
    "    SED_u2 = np.square(E[7:37]) * dNdE2_u\n",
    "    ydata = SED2\n",
    "    xdata = E[7:37]\n",
    "    knots = 3\n",
    "    ydata_u = SED_u2\n",
    "    initial_guess = np.array([5e-7, 0, 0, 0, 0, 0, 0, 0, 0, 0, 0]) #phi_0, lam1, deltas (len(deltas)=knots-2))\n",
    "    things = multiple_bpl_fit(initial_guess=initial_guess)\n",
    "    chi2 = chisq(SED2, multiple_bpl(E[7:37], things.values), SED_u2)\n",
    "    chisqs.append(chi2)\n",
    "\n",
    "    # if alpha == 0.1 or alpha == 0.15 or alpha == 0.9 or alpha == 1.:  #This is used to plot the data+ the fit when there is some alpha value we need to see.\n",
    "    #     plt.plot(xdata, multiple_bpl(xdata, things.values), label='concave fit', color = 'orange')\n",
    "    #     plt.errorbar(xdata, ydata, label='original',yerr = ydata_u, capsize=3, fmt='o', alpha=0.8)\n",
    "    #     plt.xscale('log')\n",
    "    #     plt.yscale('log')\n",
    "    #     plt.xlabel(r\"$E$ ($TeV$)\")\n",
    "    #     plt.ylabel(r\"$E^2$ $dF/dE$ ($TeV$ $m^{-2}$ $s^{-1}$)\")\n",
    "    #     plt.legend()\n",
    "    #     plt.show()\n",
    "\n",
    "plt.plot(alphas, chisqs, 'o')\n",
    "plt.yscale('log')\n",
    "plt.xlabel(r'$\\alpha$')\n",
    "plt.ylabel(r'$\\chi^2$')\n",
    "plt.show()"
   ]
  },
  {
   "cell_type": "markdown",
   "metadata": {},
   "source": [
    "Now we will repeat that but making a zoom between 0.76 and 1.14"
   ]
  },
  {
   "cell_type": "code",
   "execution_count": 61,
   "metadata": {},
   "outputs": [
    {
     "name": "stdout",
     "output_type": "stream",
     "text": [
      "<ValueView x0=4.4343001824762236e-07 x1=0.09033213547322395 x2=-0.4757040514093146 x3=7.067555316994386e-07 x4=0.6587291930458816 x5=0.0 x6=0.0 x7=0.0 x8=0.0 x9=0.0 x10=0.0>\n",
      "<ErrorView x0=0.0 x1=0.0 x2=0.0 x3=0.0 x4=0.0 x5=0.0 x6=0.0 x7=0.0 x8=0.0 x9=0.0 x10=0.0>\n",
      "<ValueView x0=4.4772516954316565e-07 x1=0.08666185815542345 x2=-0.45039859568013085 x3=1.6353787307840037e-07 x4=0.6550623641802805 x5=0.0 x6=0.0 x7=0.0 x8=0.0 x9=0.0 x10=0.0>\n",
      "<ErrorView x0=0.0 x1=0.0 x2=0.0 x3=0.0 x4=0.0 x5=0.0 x6=0.0 x7=0.0 x8=0.0 x9=0.0 x10=0.0>\n",
      "<ValueView x0=4.520582799543279e-07 x1=0.08299506363968022 x2=-0.42359302203875043 x3=2.914249007135257e-07 x4=0.6513416474832693 x5=0.0 x6=0.0 x7=0.0 x8=0.0 x9=0.0 x10=0.0>\n",
      "<ErrorView x0=0.0 x1=0.0 x2=0.0 x3=0.0 x4=0.0 x5=0.0 x6=0.0 x7=0.0 x8=0.0 x9=0.0 x10=0.0>\n",
      "<ValueView x0=4.564296650909805e-07 x1=0.07933174753039106 x2=-0.39498215703443856 x3=-3.830598472874037e-09 x4=-0.6475655482477222 x5=0.0 x6=0.0 x7=0.0 x8=0.0 x9=0.0 x10=0.0>\n",
      "<ErrorView x0=0.0 x1=0.0 x2=0.0 x3=0.0 x4=0.0 x5=0.0 x6=0.0 x7=0.0 x8=0.0 x9=0.0 x10=0.0>\n",
      "<ValueView x0=4.6083970083336153e-07 x1=0.07567181359419263 x2=-0.36414095018540643 x3=2.0859873067363858e-07 x4=-0.6437322798907329 x5=0.0 x6=0.0 x7=0.0 x8=0.0 x9=0.0 x10=0.0>\n",
      "<ErrorView x0=0.0 x1=0.0 x2=0.0 x3=0.0 x4=0.0 x5=0.0 x6=0.0 x7=0.0 x8=0.0 x9=0.0 x10=0.0>\n",
      "<ValueView x0=4.65288662006051e-07 x1=0.07201531339611472 x2=-0.33044551400743394 x3=8.797641668683518e-07 x4=-0.6398411690695863 x5=0.0 x6=0.0 x7=0.0 x8=0.0 x9=0.0 x10=0.0>\n",
      "<ErrorView x0=0.0 x1=0.0 x2=0.0 x3=0.0 x4=0.0 x5=0.0 x6=0.0 x7=0.0 x8=0.0 x9=0.0 x10=0.0>\n",
      "<ValueView x0=4.6977712524748097e-07 x1=0.06836196002860637 x2=-0.29291336713373933 x3=4.564782985502407e-08 x4=-0.6358908026385894 x5=0.0 x6=0.0 x7=0.0 x8=0.0 x9=0.0 x10=0.0>\n",
      "<ErrorView x0=0.0 x1=0.0 x2=0.0 x3=0.0 x4=0.0 x5=0.0 x6=0.0 x7=0.0 x8=0.0 x9=0.0 x10=0.0>\n",
      "<ValueView x0=4.743052225865231e-07 x1=0.06471194906474412 x2=-0.2498206918190204 x3=-9.566286431435146e-09 x4=-0.6318792408100632 x5=0.0 x6=0.0 x7=0.0 x8=0.0 x9=0.0 x10=0.0>\n",
      "<ErrorView x0=0.0 x1=0.0 x2=0.0 x3=0.0 x4=0.0 x5=0.0 x6=0.0 x7=0.0 x8=0.0 x9=0.0 x10=0.0>\n",
      "<ValueView x0=4.788734232618457e-07 x1=0.06106512231631236 x2=-0.19756255642030507 x3=-1.1797146141236962e-07 x4=-0.6278048866255893 x5=0.0 x6=0.0 x7=0.0 x8=0.0 x9=0.0 x10=0.0>\n",
      "<ErrorView x0=0.0 x1=0.0 x2=0.0 x3=0.0 x4=0.0 x5=0.0 x6=0.0 x7=0.0 x8=0.0 x9=0.0 x10=0.0>\n",
      "<ValueView x0=4.834820034200945e-07 x1=0.05742153896672363 x2=-0.12514006234032093 x3=1.4981196601972298e-07 x4=-0.6236666613755756 x5=0.0 x6=0.0 x7=0.0 x8=0.0 x9=0.0 x10=0.0>\n",
      "<ErrorView x0=0.0 x1=0.0 x2=0.0 x3=0.0 x4=0.0 x5=0.0 x6=0.0 x7=0.0 x8=0.0 x9=0.0 x10=0.0>\n",
      "<ValueView x0=4.918339463218701e-07 x1=0.0501366515633353 x2=-1.773695649047103e-07 x3=-2.2413005345926694e-07 x4=-0.6074208320856134 x5=0.0 x6=0.0 x7=0.0 x8=0.0 x9=0.0 x10=0.0>\n",
      "<ErrorView x0=0.0 x1=0.0 x2=0.0 x3=0.0 x4=0.0 x5=0.0 x6=0.0 x7=0.0 x8=0.0 x9=0.0 x10=0.0>\n",
      "<ValueView x0=5.079930486696878e-07 x1=0.035515156665516814 x2=0.0 x3=-1.9289857720142138e-08 x4=-0.5645502037828183 x5=0.0 x6=0.0 x7=0.0 x8=0.0 x9=0.0 x10=0.0>\n",
      "<ErrorView x0=0.0 x1=0.0 x2=0.0 x3=0.0 x4=0.0 x5=0.0 x6=0.0 x7=0.0 x8=0.0 x9=0.0 x10=0.0>\n",
      "<ValueView x0=5.245570891323452e-07 x1=0.021001058327615882 x2=0.0 x3=0.0 x4=-0.5178588793047744 x5=0.0 x6=0.0 x7=0.0 x8=0.0 x9=0.0 x10=0.0>\n",
      "<ErrorView x0=0.0 x1=0.0 x2=0.0 x3=0.0 x4=0.0 x5=0.0 x6=0.0 x7=0.0 x8=0.0 x9=0.0 x10=0.0>\n",
      "<ValueView x0=5.415304628822693e-07 x1=0.006595630902100115 x2=0.0 x3=0.0 x4=-0.46619690295490823 x5=0.0 x6=0.0 x7=0.0 x8=0.0 x9=0.0 x10=0.0>\n",
      "<ErrorView x0=0.0 x1=0.0 x2=0.0 x3=0.0 x4=0.0 x5=0.0 x6=0.0 x7=0.0 x8=0.0 x9=0.0 x10=0.0>\n",
      "<ValueView x0=5.560141999645848e-07 x1=-0.00489561335185024 x2=0.0 x3=0.0 x4=0.0 x5=0.0 x6=0.0 x7=0.0 x8=0.0 x9=0.0 x10=0.0>\n",
      "<ErrorView x0=0.0 x1=0.0 x2=0.0 x3=0.0 x4=0.0 x5=0.0 x6=0.0 x7=0.0 x8=0.0 x9=0.0 x10=0.0>\n",
      "<ValueView x0=5.747041827063603e-07 x1=-0.019994810852347434 x2=0.0 x3=0.0 x4=0.0 x5=0.0 x6=0.0 x7=0.0 x8=0.0 x9=0.0 x10=0.0>\n",
      "<ErrorView x0=0.0 x1=0.0 x2=0.0 x3=0.0 x4=0.0 x5=0.0 x6=0.0 x7=0.0 x8=0.0 x9=0.0 x10=0.0>\n",
      "<ValueView x0=5.938338165893783e-07 x1=-0.034945034867551336 x2=0.0 x3=0.0 x4=0.0 x5=0.0 x6=0.0 x7=0.0 x8=0.0 x9=0.0 x10=0.0>\n",
      "<ErrorView x0=0.0 x1=0.0 x2=0.0 x3=0.0 x4=0.0 x5=0.0 x6=0.0 x7=0.0 x8=0.0 x9=0.0 x10=0.0>\n",
      "<ValueView x0=6.134043956880638e-07 x1=-0.049744618074159634 x2=0.0 x3=0.0 x4=0.0 x5=0.0 x6=0.0 x7=0.0 x8=0.0 x9=0.0 x10=0.0>\n",
      "<ErrorView x0=0.0 x1=0.0 x2=0.0 x3=0.0 x4=0.0 x5=0.0 x6=0.0 x7=0.0 x8=0.0 x9=0.0 x10=0.0>\n",
      "<ValueView x0=6.33416770564054e-07 x1=-0.06439197360317372 x2=0.0 x3=0.0 x4=0.0 x5=0.0 x6=0.0 x7=0.0 x8=0.0 x9=0.0 x10=0.0>\n",
      "<ErrorView x0=0.0 x1=0.0 x2=0.0 x3=0.0 x4=0.0 x5=0.0 x6=0.0 x7=0.0 x8=0.0 x9=0.0 x10=0.0>\n",
      "<ValueView x0=6.538714705269715e-07 x1=-0.07888565237854281 x2=0.0 x3=0.0 x4=0.0 x5=0.0 x6=0.0 x7=0.0 x8=0.0 x9=0.0 x10=0.0>\n",
      "<ErrorView x0=0.0 x1=0.0 x2=0.0 x3=0.0 x4=0.0 x5=0.0 x6=0.0 x7=0.0 x8=0.0 x9=0.0 x10=0.0>\n",
      "<ValueView x0=6.747685895025605e-07 x1=-0.0932242653723535 x2=0.0 x3=0.0 x4=0.0 x5=0.0 x6=0.0 x7=0.0 x8=0.0 x9=0.0 x10=0.0>\n",
      "<ErrorView x0=0.0 x1=0.0 x2=0.0 x3=0.0 x4=0.0 x5=0.0 x6=0.0 x7=0.0 x8=0.0 x9=0.0 x10=0.0>\n",
      "<ValueView x0=6.961078855527146e-07 x1=-0.1074065796252097 x2=0.0 x3=0.0 x4=0.0 x5=0.0 x6=0.0 x7=0.0 x8=0.0 x9=0.0 x10=0.0>\n",
      "<ErrorView x0=0.0 x1=0.0 x2=0.0 x3=0.0 x4=0.0 x5=0.0 x6=0.0 x7=0.0 x8=0.0 x9=0.0 x10=0.0>\n",
      "<ValueView x0=7.178887459843054e-07 x1=-0.12143147805820133 x2=0.0 x3=0.0 x4=0.0 x5=0.0 x6=0.0 x7=0.0 x8=0.0 x9=0.0 x10=0.0>\n",
      "<ErrorView x0=0.0 x1=0.0 x2=0.0 x3=0.0 x4=0.0 x5=0.0 x6=0.0 x7=0.0 x8=0.0 x9=0.0 x10=0.0>\n",
      "<ValueView x0=7.40110122180866e-07 x1=-0.13529788944653254 x2=0.0 x3=0.0 x4=0.0 x5=0.0 x6=0.0 x7=0.0 x8=0.0 x9=0.0 x10=0.0>\n",
      "<ErrorView x0=0.0 x1=0.0 x2=0.0 x3=0.0 x4=0.0 x5=0.0 x6=0.0 x7=0.0 x8=0.0 x9=0.0 x10=0.0>\n",
      "<ValueView x0=7.627710286670204e-07 x1=-0.14900526215618015 x2=0.0 x3=0.0 x4=0.0 x5=0.0 x6=0.0 x7=0.0 x8=0.0 x9=0.0 x10=0.0>\n",
      "<ErrorView x0=0.0 x1=0.0 x2=0.0 x3=0.0 x4=0.0 x5=0.0 x6=0.0 x7=0.0 x8=0.0 x9=0.0 x10=0.0>\n"
     ]
    },
    {
     "data": {
      "image/png": "[encoded data removed]",
      "text/plain": [
       "<Figure size 432x288 with 1 Axes>"
      ]
     },
     "metadata": {
      "needs_background": "light"
     },
     "output_type": "display_data"
    }
   ],
   "source": [
    "chisqs = []\n",
    "alphas = np.arange(0.75,1.25,0.02)\n",
    "\n",
    "for i in range(len(alphas)):\n",
    "    alpha = alphas[i]\n",
    "    dNdE2 = dNdE_b[4:] * np.exp(alpha*tau[7:37])\n",
    "    dNdE2_u = dNdE_b_u[4:] * np.exp(alpha*tau[7:37])\n",
    "    SED2 = np.square(E[7:37]) * dNdE2\n",
    "    SED_u2 = np.square(E[7:37]) * dNdE2_u\n",
    "    ydata = SED2\n",
    "    xdata = E[7:37]\n",
    "    knots = 3\n",
    "    ydata_u = SED_u2\n",
    "    initial_guess = np.array([5e-7, 0, 0, 0, 0, 0, 0, 0, 0, 0, 0]) #phi_0, lam1, deltas (len(deltas)=knots-2))\n",
    "    things = multiple_bpl_fit(initial_guess=initial_guess)\n",
    "    chi2 = chisq(SED2, multiple_bpl(E[7:37], things.values), SED_u2)\n",
    "    chisqs.append(chi2)\n",
    "\n",
    "    # if alpha == 0.1 or alpha == 0.15 or alpha == 0.9 or alpha == 1.:  #This is used to plot the data+ the fit when there is some alpha value we need to see.\n",
    "    #     plt.plot(xdata, multiple_bpl(xdata, things.values), label='concave fit', color = 'orange')\n",
    "    #     plt.errorbar(xdata, ydata, label='original',yerr = ydata_u, capsize=3, fmt='o', alpha=0.8)\n",
    "    #     plt.xscale('log')\n",
    "    #     plt.yscale('log')\n",
    "    #     plt.xlabel(r\"$E$ ($TeV$)\")\n",
    "    #     plt.ylabel(r\"$E^2$ $dF/dE$ ($TeV$ $m^{-2}$ $s^{-1}$)\")\n",
    "    #     plt.legend()\n",
    "    #     plt.show()\n",
    "plt.plot(alphas, chisqs, 'o')\n",
    "#plt.yscale('log')\n",
    "plt.xlabel(r'$\\alpha$')\n",
    "plt.ylabel(r'$\\chi^2$')\n",
    "plt.show()"
   ]
  },
  {
   "cell_type": "code",
   "execution_count": 63,
   "metadata": {},
   "outputs": [
    {
     "name": "stdout",
     "output_type": "stream",
     "text": [
      "alpha =  0\n",
      "<ValueView x0=3.1406718613112394e-07 x1=0.22051725752335768 x2=1.073383948852383 x3=0.0 x4=0.0>\n",
      "<ErrorView x0=7.930286270854555e-09 x1=0.01266829757512844 x2=0.009523942572077332 x3=1.4144819583327357 x4=0.06508095844765645>\n"
     ]
    },
    {
     "data": {
      "image/png": "[encoded data removed]",
      "text/plain": [
       "<Figure size 432x288 with 1 Axes>"
      ]
     },
     "metadata": {
      "needs_background": "light"
     },
     "output_type": "display_data"
    }
   ],
   "source": [
    "my_generator = np.random.default_rng(9)\n",
    "Simbckg1 = my_generator.poisson(bckgmu)\n",
    "# Simbckg1 = Simbckg1.astype(float)\n",
    "# for i in range(len(Simbckg1)):\n",
    "#     if Simbckg1[i] == 0:\n",
    "#         Simbckg1[i] = bckgmu[i]\n",
    "Simbckg1_u = np.sqrt(Simbckg1)\n",
    "Simbckg5 = my_generator.poisson(5*bckgmu)/5\n",
    "# Simbckg5 = Simbckg5.astype(float)\n",
    "# for i in range(len(Simbckg5)):\n",
    "#     if Simbckg5[i] == 0:\n",
    "#         Simbckg5[i] = bckgmu[i]\n",
    "Simbckg5_u = np.sqrt(Simbckg5)\n",
    "\n",
    "N = my_generator.poisson(mu_vec_reco)\n",
    "\n",
    "for i in range(len(N)): #this is used to avoid crashing when dividing by 0.\n",
    "    if N[i] == 0:\n",
    "        N[i] = 1\n",
    "N_u = np.sqrt(N)\n",
    "\n",
    "NpB = np.around(N + Simbckg1 - Simbckg5).astype(int)\n",
    "NpB_u = N_u + Simbckg1_u - Simbckg5_u\n",
    "\n",
    "dNdE_b = NpB[1:] / EffaA2[1:35] / Ebinsw[3:37] / time  #not strictly correct after energy migration\n",
    "dNdE_b_u = NpB_u[1:] / EffaA2[1:35] / Ebinsw[3:37] / time\n",
    "\n",
    "SED = np.square(E[3:37]) * dNdE_b\n",
    "SED_u = np.square(E[3:37]) * dNdE_b_u\n",
    "\n",
    "chisqs = []\n",
    "alphas = np.arange(0,2.05,0.05) #if you want to change the alpha values\n",
    "\n",
    "\n",
    "alpha = 0\n",
    "print(\"alpha = \", alpha)\n",
    "dNdE2 = dNdE_b[4:] * np.exp(alpha*tau[7:37])\n",
    "dNdE2_u = dNdE_b_u[4:] * np.exp(alpha*tau[7:37])\n",
    "SED2 = np.square(E[7:37]) * dNdE2\n",
    "SED_u2 = np.square(E[7:37]) * dNdE2_u\n",
    "ydata = SED2\n",
    "xdata = E[7:37]\n",
    "knots = 3\n",
    "ydata_u = SED_u2\n",
    "initial_guess = np.array([5e-7, 0, 0, 0, 0]) #phi_0, lam1, deltas (len(deltas)=knots))\n",
    "things = multiple_bpl_fit(initial_guess=initial_guess)\n",
    "chi2 = chisq(SED2, multiple_bpl(E[7:37], things.values), SED_u2)\n",
    "\n",
    "plt.plot(xdata, multiple_bpl(xdata, things.values), label='concave fit', color = 'orange')\n",
    "plt.errorbar(xdata, ydata, label='original',yerr = ydata_u, capsize=3, fmt='o', alpha=0.8)\n",
    "plt.xscale('log')\n",
    "plt.yscale('log')\n",
    "plt.xlabel(r\"$E$ ($TeV$)\")\n",
    "plt.ylabel(r\"$E^2$ $dF/dE$ ($TeV$ $m^{-2}$ $s^{-1}$)\")\n",
    "plt.legend()\n",
    "plt.show() "
   ]
  },
  {
   "cell_type": "code",
   "execution_count": null,
   "metadata": {},
   "outputs": [],
   "source": []
  },
  {
   "cell_type": "code",
   "execution_count": null,
   "metadata": {},
   "outputs": [],
   "source": []
  }
 ],
 "metadata": {
  "interpreter": {
   "hash": "31f2aee4e71d21fbe5cf8b01ff0e069b9275f58929596ceb00d14d90e3e16cd6"
  },
  "kernelspec": {
   "display_name": "Python 3.8.10 64-bit",
   "name": "python3"
  },
  "language_info": {
   "codemirror_mode": {
    "name": "ipython",
    "version": 3
   },
   "file_extension": ".py",
   "mimetype": "text/x-python",
   "name": "python",
   "nbconvert_exporter": "python",
   "pygments_lexer": "ipython3",
   "version": "3.8.10"
  },
  "orig_nbformat": 4
 },
 "nbformat": 4,
 "nbformat_minor": 2
}
