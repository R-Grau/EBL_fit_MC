{
 "cells": [
  {
   "cell_type": "code",
   "execution_count": 88,
   "metadata": {},
   "outputs": [],
   "source": [
    "import numpy as np\n",
    "import scipy as sc\n",
    "import matplotlib.pyplot as plt\n",
    "import scipy.optimize as optimize\n",
    "from iminuit import Minuit\n",
    "import pandas as pd\n",
    "import scipy.interpolate as interpolate\n",
    "from scipy.integrate import quad"
   ]
  },
  {
   "cell_type": "code",
   "execution_count": 89,
   "metadata": {},
   "outputs": [],
   "source": [
    "def chisq(obs, exp, error):\n",
    "    return np.sum(np.square(obs - exp) / np.square(error))"
   ]
  },
  {
   "cell_type": "code",
   "execution_count": 90,
   "metadata": {},
   "outputs": [],
   "source": [
    "def Gauss(E, A, mu, sigma):\n",
    "    return A * (np.exp(-1/2 * np.square((E - mu) / sigma)) / (sigma * np.sqrt(2*np.pi)))\n",
    "\n",
    "def Gauss_int(A, mu, sigma, Em, Ep):\n",
    "    return quad(Gauss, Em, Ep, args=(A, mu, sigma))"
   ]
  },
  {
   "cell_type": "markdown",
   "metadata": {},
   "source": [
    "As we will do a multiple broken power law, from now on the position of the knots will not be a free parameter anymore in order to make the convergence of the fit easier."
   ]
  },
  {
   "cell_type": "code",
   "execution_count": 119,
   "metadata": {},
   "outputs": [],
   "source": [
    "def multiple_bpl(xdata, params):\n",
    "    if knots < 3 or knots > 30: #change this when adding more number of knots\n",
    "        raise Exception('knots have to be larger or equal than 3 and smaller than 30')\n",
    "    else:\n",
    "        polw = np.zeros(len(xdata))\n",
    "        Es = np.geomspace(xdata[0], xdata[-1], knots)\n",
    "        lam = np.zeros(knots-1)\n",
    "        phi = np.zeros(knots-1)\n",
    "        phi_0 = params[0] #len(sqrtdelta_lam) = len(lam)-1 = len(phi)-1\n",
    "        lam0 = params[1]\n",
    "        sqrtdelta_lam = params[2:knots]\n",
    "        lam[0] = lam0\n",
    "        phi[0] = phi_0 * ((1/Es[1]) ** (-lam[0]))\n",
    "        for i in range(1, knots-1):\n",
    "            lam[i] = lam[i-1] + (sqrtdelta_lam[i-1]) ** 2\n",
    "            phi[i] = phi[i-1] * ((Es[i]/Es[i-1]) ** (-lam[i-1]))\n",
    "        for i in range(knots-1):\n",
    "            for j in range(len(xdata)):\n",
    "                if Es[i] < xdata[j] <= Es[i+1]:\n",
    "                    polw[j] = phi[i] * ((xdata[j] / Es[i]) ** (-lam[i]))\n",
    "                elif xdata[j] <= Es[1]:\n",
    "                    polw[j] = phi[0] * ((xdata[j] / Es[0]) ** (-lam[0]))\n",
    "                elif xdata[j] > Es[-1]:\n",
    "                    polw[j] = phi[-2] * ((xdata[j] / Es[-2]) ** (-lam[-2]))\n",
    "    return polw\n"
   ]
  },
  {
   "cell_type": "code",
   "execution_count": 92,
   "metadata": {},
   "outputs": [],
   "source": [
    "# least-squares score function = sum of data residuals squared\n",
    "def LSQ(params):\n",
    "    return np.sum((ydata - multiple_bpl(xdata, params)) ** 2 / ydata_u ** 2)"
   ]
  },
  {
   "cell_type": "markdown",
   "metadata": {},
   "source": [
    "Now we define the function of the fit"
   ]
  },
  {
   "cell_type": "code",
   "execution_count": 93,
   "metadata": {},
   "outputs": [],
   "source": [
    "def multiple_bpl_fit(initial_guess):\n",
    "    #print('Warning: the shape of the parametes will depend on the number of knots (defined as knots)')\n",
    "    #print('Warning: this will give the parameters of the fit and its errors which have to be put into the multiple_bpl function in order to get the fit')\n",
    "    LSQ.errordef = Minuit.LIKELIHOOD\n",
    "\n",
    "    m = Minuit(LSQ, initial_guess)\n",
    "    #m.limits[\"initial_guess[2:-1]\"] = (0,None)\n",
    "    #m.tol = 1e-30\n",
    "\n",
    "    m.migrad()\n",
    "    #print(m.values)\n",
    "\n",
    "    m.hesse()\n",
    "    #print(m.errors)\n",
    "\n",
    "    return m"
   ]
  },
  {
   "cell_type": "markdown",
   "metadata": {},
   "source": [
    "Let's check that the program works as intended"
   ]
  },
  {
   "cell_type": "code",
   "execution_count": 94,
   "metadata": {},
   "outputs": [],
   "source": [
    "file = np.loadtxt('tau_dominguez11.out')\n",
    "\n",
    "pdfile = pd.DataFrame(file)\n",
    "pdfile = pdfile.rename(columns={ 0 : 'E [TeV]', 1: 'tau z=0.01', 2: 'tau z=0.02526316', 3: 'tau z=0.04052632', 4: 'tau z=0.05578947', 5: 'tau z=0.07105263', 6: 'tau z=0.08631579', 7: 'tau z=0.10157895', 8: 'tau z=0.11684211', 9: 'tau z=0.13210526', 10: 'tau z=0.14736842', 11: 'tau z=0.16263158', 12: 'tau z=0.17789474', 13: 'tau z=0.19315789', 14: 'tau z=0.20842105'})\n",
    "\n",
    "E = pdfile['E [TeV]'].to_numpy()\n",
    "tau = pdfile['tau z=0.20842105'].to_numpy()\n",
    "logE = np.log10(E)\n",
    "\n",
    "K =  8.70e-6 #m−2  s−1  TeV−1\n",
    "dNdE = K / ((E/0.25)**2.03) \n",
    "m_tau = -tau\n",
    "dNdEa = dNdE * np.exp(m_tau)\n",
    "SED = np.square(E) * dNdEa\n",
    "SED_u = SED * 0.1"
   ]
  },
  {
   "cell_type": "code",
   "execution_count": 95,
   "metadata": {
    "tags": []
   },
   "outputs": [],
   "source": [
    "ydata = SED[3:37]\n",
    "xdata = E[3:37]\n",
    "knots = 5\n",
    "ydata_u = SED_u[3:37]\n",
    "initial_guess = np.array([5e-7, 0, 1, 1, 1, 1, 1, 1, 1, 1, 1, 1, 1, 1, 1, 1, 1, 1, 1, 1]) #phi_0, lam1, deltas (len(deltas)=knots-2))\n",
    "things = multiple_bpl_fit(initial_guess=initial_guess)"
   ]
  },
  {
   "cell_type": "code",
   "execution_count": 96,
   "metadata": {},
   "outputs": [],
   "source": [
    "fileEA = np.loadtxt('EffArea50h.txt', skiprows = 11)\n",
    "EffA = pd.DataFrame(fileEA)\n",
    "EffA = EffA.rename(columns={ 0 : 'E [TeV]', 1: 'Eff area (m^2)'})\n",
    "EffaE= EffA['E [TeV]'].to_numpy()\n",
    "Effa = EffA['Eff area (m^2)'].to_numpy()\n",
    "\n",
    "#absorption file\n",
    "file = np.loadtxt('tau_dominguez11.out')\n",
    "pdfile = pd.DataFrame(file)\n",
    "pdfile = pdfile.rename(columns={ 0 : 'E [TeV]', 1: 'tau z=0.01', 2: 'tau z=0.02526316', 3: 'tau z=0.04052632', 4: 'tau z=0.05578947', 5: 'tau z=0.07105263', 6: 'tau z=0.08631579', 7: 'tau z=0.10157895', 8: 'tau z=0.11684211', 9: 'tau z=0.13210526', 10: 'tau z=0.14736842', 11: 'tau z=0.16263158', 12: 'tau z=0.17789474', 13: 'tau z=0.19315789', 14: 'tau z=0.20842105'})\n",
    "E = pdfile['E [TeV]'].to_numpy()\n",
    "tau = pdfile['tau z=0.20842105'].to_numpy()"
   ]
  },
  {
   "cell_type": "code",
   "execution_count": 97,
   "metadata": {},
   "outputs": [],
   "source": [
    "fileBkg = np.loadtxt('Bkg50h.txt', skiprows = 10)\n",
    "Bkgpd = pd.DataFrame(fileBkg)\n",
    "Bkgpd = Bkgpd.rename(columns={ 0 : 'E_min (TeV)', 1: 'E_max (TeV)', 2: 'Bck Rate (Hz/deg^2)'})\n",
    "\n",
    "BckgEmin = Bkgpd['E_min (TeV)'].to_numpy()\n",
    "BckgEmax = Bkgpd['E_max (TeV)'].to_numpy()\n",
    "Bckg = Bkgpd['Bck Rate (Hz/deg^2)'].to_numpy()\n",
    "BckgEdiff = BckgEmax - BckgEmin\n",
    "\n",
    "BckgElogmean = []\n",
    "for i in range(len(Bckg)):\n",
    "    BckgElogmean.append(10**(np.mean([np.log10(BckgEmax[i]), np.log10(BckgEmin[i])])))\n",
    "\n",
    "\n",
    "Ebinsmin = np.zeros(len(E))\n",
    "Ebinsmax = np.zeros(len(E))\n",
    "\n",
    "for i in range(1, len(E)):\n",
    "    Ebinsmin[i] = 10**(np.mean([np.log10(E[i]), np.log10(E[i-1])]))\n",
    "for i in range(len(E) - 1):\n",
    "    Ebinsmax[i] = 10**(np.mean([np.log10(E[i]), np.log10(E[i+1])]))\n",
    "    \n",
    "Ebinsmin[0] = 10**(np.log10(Ebinsmin[1])-(np.log10(Ebinsmin[2])-np.log10(Ebinsmin[1])))\n",
    "Ebinsmax[len(E)-1] = 10**(np.log10(Ebinsmax[len(E)-2])-(np.log10(Ebinsmax[len(E)-3])-np.log10(Ebinsmax[len(E)-2])))\n",
    "Ebinsw = Ebinsmax - Ebinsmin"
   ]
  },
  {
   "cell_type": "code",
   "execution_count": 98,
   "metadata": {},
   "outputs": [],
   "source": [
    "DifBckg = Bckg / (BckgEmax - BckgEmin) #Hz/deg**2\n",
    "def log_interp1d(xx, yy):\n",
    "    logx = np.log10(xx)\n",
    "    logy = np.log10(yy)\n",
    "    interp = interpolate.interp1d(logx, logy, fill_value='extrapolate', kind='slinear')\n",
    "    log_interp = lambda zz: np.power(10.0, interp(np.log10(zz)))\n",
    "    return log_interp\n",
    "\n",
    "interpolation = log_interp1d(BckgElogmean,DifBckg)"
   ]
  },
  {
   "cell_type": "code",
   "execution_count": 99,
   "metadata": {},
   "outputs": [],
   "source": [
    "def trapint(toplim, bottomlim):\n",
    "    return ((toplim - bottomlim) * (interpolation(toplim) + interpolation(bottomlim)) / 2)\n",
    "\n",
    "def sqint(toplim, bottomlim):\n",
    "    return ((toplim - bottomlim) * (interpolation((toplim + bottomlim) / 2)))\n"
   ]
  },
  {
   "cell_type": "code",
   "execution_count": 100,
   "metadata": {},
   "outputs": [],
   "source": [
    "newBckgrate = np.zeros([len(E[2:37]),2])\n",
    "for i in range(len(E[2:37])):\n",
    "    newBckgrate[i] = quad(interpolation, Ebinsmin[i+2], Ebinsmax[i+2])\n",
    "newBckgrate = newBckgrate[:,0]\n",
    "\n",
    "newlogBckg5 = trapint(Ebinsmax[2:37], Ebinsmin[2:37])\n",
    "\n",
    "newlogBckg6 = sqint(Ebinsmax[2:37], Ebinsmin[2:37])"
   ]
  },
  {
   "cell_type": "code",
   "execution_count": 101,
   "metadata": {},
   "outputs": [],
   "source": [
    "#“photon index  = 2.03  +/- 0.03 and normalization factor at 250 GeV    f0 = (8.70 +/- 0.17) * 10^-10 cm^-2  s^-1  TeV^-1.”\n",
    "K =  8.70e-6 #m−2  s−1  TeV−1\n",
    "dNdE = K / ((E/0.25)**2.03) \n",
    "m_tau = -tau\n",
    "dNdEa = dNdE * np.exp(m_tau)"
   ]
  },
  {
   "cell_type": "code",
   "execution_count": 102,
   "metadata": {},
   "outputs": [],
   "source": [
    "EffaA2 = np.zeros(len(E[2:37]))\n",
    "for i in range(len(E[2:37])):\n",
    "    for j in range(len(EffaE[9:51])):\n",
    "        if EffaE[j+9] < E[i+2] and EffaE[j+10] > E[i+2]:\n",
    "            m = (Effa[j+10]-Effa[j+9])/(EffaE[j+10]-EffaE[j+9])\n",
    "            n = Effa[j+9] - m * EffaE[j+9]\n",
    "            EffaA2[i] = m * E[i+2] + n"
   ]
  },
  {
   "cell_type": "code",
   "execution_count": 103,
   "metadata": {},
   "outputs": [],
   "source": [
    "fileAng = np.loadtxt('Angres.txt', skiprows = 11)\n",
    "Angresall = pd.DataFrame(fileAng)\n",
    "Angresall = Angresall.rename(columns={ 0 : 'E [TeV]', 1: 'Angular resolution (deg)'})\n",
    "AngresE= Angresall['E [TeV]'].to_numpy()\n",
    "Angres = Angresall['Angular resolution (deg)'].to_numpy()\n",
    "\n",
    "logAngres = np.log10(Angres)\n",
    "logAngresE = np.log10(AngresE)\n",
    "logE = np.log10(E)\n",
    "\n",
    "\n",
    "logAngres2 = np.zeros(len(E[2:37]))\n",
    "for i in range(len(E[2:37])):\n",
    "    for j in range(len(AngresE[1:-1])):\n",
    "        if logAngresE[j+1] < logE[i+2] and logAngresE[j+2] > logE[i+2]:\n",
    "            m = (logAngres[j+2]-logAngres[j+1])/(logAngresE[j+2]-logAngresE[j+1])\n",
    "            n = logAngres[j+1] - m * logAngresE[j+1]\n",
    "            logAngres2[i] = m * logE[i+2] + n\n",
    "Angres2 = 10**logAngres2"
   ]
  },
  {
   "cell_type": "code",
   "execution_count": 104,
   "metadata": {},
   "outputs": [],
   "source": [
    "fileEres = np.loadtxt('Eres.txt', skiprows = 8)\n",
    "Eresall = pd.DataFrame(fileEres)\n",
    "Eresall = Eresall.rename(columns={ 0 : 'E [TeV]', 1: 'Energy resolution (deg)'})\n",
    "EresE = Eresall['E [TeV]'].to_numpy()\n",
    "Eres = Eresall['Energy resolution (deg)'].to_numpy()\n",
    "\n",
    "logEres = np.log10(Eres)\n",
    "logEresE = np.log10(EresE)\n",
    "logE = np.log10(E)\n",
    "\n",
    "\n",
    "logEres2 = np.zeros(len(E[2:37]))\n",
    "for i in range(len(E[2:37])):\n",
    "    for j in range(len(EresE[0:-1])):\n",
    "        if logEresE[j] < logE[i+3] and logEresE[j+1] > logE[i+3]:\n",
    "            m = (logEres[j+1]-logEres[j])/(logEresE[j+1]-logEresE[j])\n",
    "            n = logEres[j] - m * logEresE[j]\n",
    "            logEres2[i] = m * logE[i+3] + n\n",
    "Eres2 = 10**logEres2\n",
    "\n",
    "Eres3 = np.zeros(len(Eres2))\n",
    "for i in range(len(Eres2)):\n",
    "    Eres3[i] = Eres2[i] * E[2:37][i]"
   ]
  },
  {
   "cell_type": "code",
   "execution_count": 105,
   "metadata": {},
   "outputs": [],
   "source": [
    "def degtorad(ang):\n",
    "    return ang * np.pi / 180\n"
   ]
  },
  {
   "cell_type": "code",
   "execution_count": 106,
   "metadata": {},
   "outputs": [],
   "source": [
    "time = 42480 #42480 #180000#s\n",
    "skyang = (180/np.pi)**2 * 2 * np.pi * (1-np.cos(degtorad(Angres2)))#deg^2\n",
    "\n",
    "bckgmu = newBckgrate * time * skyang\n",
    "mu_vec = dNdEa[2:37] * EffaA2 * Ebinsw[2:37] * time\n",
    "\n",
    "logEbins = np.zeros(len(E[2:37])+1)\n",
    "for i in range(len(E[2:37])+1):\n",
    "    if i == 0:\n",
    "        logEbins[i] = logE[2] - ((logE[3]-logE[2])/2)\n",
    "    elif i == (len(E[2:37])):\n",
    "        logEbins[i] = logE[2:37][i-1] + ((logE[2:37][i-1]-logE[2:37][i-2])/2)\n",
    "    else:\n",
    "        logEbins[i] = (logE[2:37][i] + logE[2:37][i-1]) / 2\n",
    "\n",
    "Ebins = 10 ** logEbins"
   ]
  },
  {
   "cell_type": "code",
   "execution_count": 107,
   "metadata": {},
   "outputs": [],
   "source": [
    "mu_vec_reco = np.zeros(len(mu_vec))\n",
    "mu_vec_i = np.zeros(len(mu_vec))\n",
    "bckgmu_vec_reco = np.zeros(len(mu_vec))\n",
    "bckgmu_vec_i = np.zeros(len(mu_vec))\n",
    "\n",
    "for i in range(len(mu_vec)):\n",
    "    for j in range(len(mu_vec)):\n",
    "        A = mu_vec[i]\n",
    "        B = bckgmu[i]\n",
    "        Em = Ebins[j]\n",
    "        Ep = Ebins[j+1]\n",
    "        sigma = Eres3[i]\n",
    "        mu = E[2:37][i]\n",
    "\n",
    "        mu_vec_i[j] = Gauss_int(A, mu, sigma, Em, Ep)[0]\n",
    "        bckgmu_vec_i[j] = Gauss_int(B, mu, sigma, Em, Ep)[0]\n",
    "    mu_vec_reco = mu_vec_reco + mu_vec_i\n",
    "    bckgmu_vec_reco = bckgmu_vec_reco + bckgmu_vec_i\n",
    "\n",
    "# plt.plot(E[3:37], mu_vec[1:], label=\"True\")\n",
    "# plt.plot(E[3:37], mu_vec_reco[1:], label=\"Reconstructed\")\n",
    "# plt.xscale(\"log\")\n",
    "# plt.legend()\n",
    "# plt.show()"
   ]
  },
  {
   "cell_type": "code",
   "execution_count": 108,
   "metadata": {},
   "outputs": [],
   "source": [
    "my_generator = np.random.default_rng(2021)\n",
    "Simbckg1 = my_generator.poisson(bckgmu_vec_reco)\n",
    "# Simbckg1 = Simbckg1.astype(float)\n",
    "# for i in range(len(Simbckg1)):\n",
    "#     if Simbckg1[i] == 0:\n",
    "#         Simbckg1[i] = bckgmu[i]\n",
    "Simbckg1_u = np.sqrt(Simbckg1)\n",
    "Simbckg5 = my_generator.poisson(5*bckgmu_vec_reco)/5\n",
    "# Simbckg5 = Simbckg5.astype(float)\n",
    "# for i in range(len(Simbckg5)):\n",
    "#     if Simbckg5[i] == 0:\n",
    "#         Simbckg5[i] = bckgmu[i]\n",
    "Simbckg5_u = np.sqrt(Simbckg5)\n",
    "\n",
    "N = my_generator.poisson(mu_vec_reco)\n",
    "# N = mu\n",
    "\n",
    "# for i in range(len(N)):\n",
    "#     if N[i] == 0:\n",
    "#         N[i] = mu[i]\n",
    "N_u = np.sqrt(N)\n",
    "\n",
    "NpB = np.around(N + Simbckg1 - Simbckg5).astype(int)\n",
    "NpB_u = N_u + Simbckg1_u - Simbckg5_u"
   ]
  },
  {
   "cell_type": "code",
   "execution_count": 109,
   "metadata": {},
   "outputs": [],
   "source": [
    "dNdE_b = NpB[1:] / EffaA2[1:35] / Ebinsw[3:37] / time\n",
    "dNdE_b_u = NpB_u[1:] / EffaA2[1:35] / Ebinsw[3:37] / time"
   ]
  },
  {
   "cell_type": "code",
   "execution_count": 110,
   "metadata": {},
   "outputs": [],
   "source": [
    "SED = np.square(E[3:37]) * dNdE_b\n",
    "SED_u = np.square(E[3:37]) * dNdE_b_u"
   ]
  },
  {
   "cell_type": "code",
   "execution_count": 111,
   "metadata": {},
   "outputs": [
    {
     "data": {
      "image/png": "[encoded data removed]",
      "text/plain": [
       "<Figure size 432x288 with 1 Axes>"
      ]
     },
     "metadata": {
      "needs_background": "light"
     },
     "output_type": "display_data"
    }
   ],
   "source": [
    "plt.errorbar(E[3:37], SED, label='MC data',yerr = SED_u, capsize=3, fmt='o', alpha=0.8)\n",
    "plt.xscale('log')\n",
    "plt.yscale('log')\n",
    "plt.xlabel(r\"$E$ ($TeV$)\")\n",
    "plt.ylabel(r\"$E^2$ $dF/dE$ ($TeV$ $m^{-2}$ $s^{-1}$)\")\n",
    "plt.legend()\n",
    "plt.show()"
   ]
  },
  {
   "cell_type": "markdown",
   "metadata": {},
   "source": [
    "Okay, now let's test the new fitting method:"
   ]
  },
  {
   "cell_type": "code",
   "execution_count": 112,
   "metadata": {},
   "outputs": [
    {
     "data": {
      "image/png": "[encoded data removed]",
      "text/plain": [
       "<Figure size 432x288 with 1 Axes>"
      ]
     },
     "metadata": {
      "needs_background": "light"
     },
     "output_type": "display_data"
    }
   ],
   "source": [
    "ydata = SED\n",
    "xdata = E[3:37]\n",
    "knots = 7\n",
    "ydata_u = SED_u\n",
    "initial_guess = np.array([5e-7, 0, 0, 0, 0, 0, 0]) #phi_0, lam1, deltas (len(deltas)=knots-2))\n",
    "things = multiple_bpl_fit(initial_guess=initial_guess)\n",
    "\n",
    "Egam = np.geomspace(E[3],E[36], 300)\n",
    "\n",
    "plt.plot(Egam, multiple_bpl(Egam, things.values), label='concave fit', color = 'orange')\n",
    "plt.errorbar(xdata, ydata, label='MC data',yerr = ydata_u, capsize=3, fmt='o', alpha=0.8)\n",
    "plt.xscale('log')\n",
    "plt.yscale('log')\n",
    "plt.xlabel(r\"$E$ ($TeV$)\")\n",
    "plt.ylabel(r\"$E^2$ $dF/dE$ ($TeV$ $m^{-2}$ $s^{-1}$)\")\n",
    "plt.legend()\n",
    "plt.show()"
   ]
  },
  {
   "cell_type": "code",
   "execution_count": 122,
   "metadata": {},
   "outputs": [
    {
     "name": "stdout",
     "output_type": "stream",
     "text": [
      "alpha =  0.0\n",
      "alpha =  0.05\n",
      "alpha =  0.1\n"
     ]
    },
    {
     "data": {
      "image/png": "[encoded data removed]",
      "text/plain": [
       "<Figure size 432x288 with 1 Axes>"
      ]
     },
     "metadata": {
      "needs_background": "light"
     },
     "output_type": "display_data"
    },
    {
     "name": "stdout",
     "output_type": "stream",
     "text": [
      "alpha =  0.15\n"
     ]
    },
    {
     "data": {
      "image/png": "[encoded data removed]",
      "text/plain": [
       "<Figure size 432x288 with 1 Axes>"
      ]
     },
     "metadata": {
      "needs_background": "light"
     },
     "output_type": "display_data"
    },
    {
     "name": "stdout",
     "output_type": "stream",
     "text": [
      "alpha =  0.2\n",
      "alpha =  0.25\n",
      "alpha =  0.3\n",
      "alpha =  0.35\n",
      "alpha =  0.4\n",
      "alpha =  0.45\n",
      "alpha =  0.5\n",
      "alpha =  0.55\n",
      "alpha =  0.6\n",
      "alpha =  0.65\n",
      "alpha =  0.7\n",
      "alpha =  0.75\n",
      "alpha =  0.8\n",
      "alpha =  0.85\n",
      "alpha =  0.9\n"
     ]
    },
    {
     "data": {
      "image/png": "[encoded data removed]",
      "text/plain": [
       "<Figure size 432x288 with 1 Axes>"
      ]
     },
     "metadata": {
      "needs_background": "light"
     },
     "output_type": "display_data"
    },
    {
     "name": "stdout",
     "output_type": "stream",
     "text": [
      "alpha =  0.95\n",
      "alpha =  1.0\n"
     ]
    },
    {
     "data": {
      "image/png": "[encoded data removed]",
      "text/plain": [
       "<Figure size 432x288 with 1 Axes>"
      ]
     },
     "metadata": {
      "needs_background": "light"
     },
     "output_type": "display_data"
    },
    {
     "name": "stdout",
     "output_type": "stream",
     "text": [
      "alpha =  1.05\n",
      "alpha =  1.1\n",
      "alpha =  1.15\n",
      "alpha =  1.2\n",
      "alpha =  1.25\n",
      "alpha =  1.3\n",
      "alpha =  1.35\n",
      "alpha =  1.4\n",
      "alpha =  1.45\n",
      "alpha =  1.5\n",
      "alpha =  1.55\n",
      "alpha =  1.6\n",
      "alpha =  1.65\n",
      "alpha =  1.7\n",
      "alpha =  1.75\n",
      "alpha =  1.8\n",
      "alpha =  1.85\n",
      "alpha =  1.9\n",
      "alpha =  1.95\n",
      "alpha =  2.0\n"
     ]
    },
    {
     "data": {
      "image/png": "[encoded data removed]",
      "text/plain": [
       "<Figure size 432x288 with 1 Axes>"
      ]
     },
     "metadata": {
      "needs_background": "light"
     },
     "output_type": "display_data"
    }
   ],
   "source": [
    "chisqs = []\n",
    "alphas = []\n",
    "\n",
    "for i in range(41):\n",
    "    alpha = round(0.05 * i, 2)\n",
    "    print(\"alpha = \", alpha)\n",
    "    alphas.append(alpha)\n",
    "    dNdE2 = dNdE_b[4:] * np.exp(alpha*tau[7:37])\n",
    "    dNdE2_u = dNdE_b_u[4:] * np.exp(alpha*tau[7:37])\n",
    "    SED2 = np.square(E[7:37]) * dNdE2\n",
    "    SED_u2 = np.square(E[7:37]) * dNdE2_u\n",
    "    ydata = SED2\n",
    "    xdata = E[7:37]\n",
    "    knots = 5\n",
    "    ydata_u = SED_u2\n",
    "    initial_guess = np.array([5e-7, 0, 0, 0, 0, 0, 0, 0, 0, 0, 0]) #phi_0, lam1, deltas (len(deltas)=knots-2))\n",
    "    things = multiple_bpl_fit(initial_guess=initial_guess)\n",
    "    chi2 = chisq(SED2, multiple_bpl(E[7:37], things.values), SED_u2)\n",
    "    chisqs.append(chi2)\n",
    "\n",
    "    if alpha == 0.1 or alpha == 0.15 or alpha == 0.9 or alpha == 1.:\n",
    "        plt.plot(xdata, multiple_bpl(xdata, things.values), label='concave fit', color = 'orange')\n",
    "        plt.errorbar(xdata, ydata, label='original',yerr = ydata_u, capsize=3, fmt='o', alpha=0.8)\n",
    "        plt.xscale('log')\n",
    "        plt.yscale('log')\n",
    "        plt.xlabel(r\"$E$ ($TeV$)\")\n",
    "        plt.ylabel(r\"$E^2$ $dF/dE$ ($TeV$ $m^{-2}$ $s^{-1}$)\")\n",
    "        plt.legend()\n",
    "        plt.show()\n",
    "\n",
    "plt.plot(alphas, chisqs, 'o')\n",
    "plt.yscale('log')\n",
    "plt.xlabel(r'$\\alpha$')\n",
    "plt.ylabel(r'$\\chi^2$')\n",
    "plt.show()"
   ]
  },
  {
   "cell_type": "code",
   "execution_count": 114,
   "metadata": {},
   "outputs": [
    {
     "data": {
      "image/png": "[encoded data removed]",
      "text/plain": [
       "<Figure size 432x288 with 1 Axes>"
      ]
     },
     "metadata": {
      "needs_background": "light"
     },
     "output_type": "display_data"
    }
   ],
   "source": [
    "chisqs = []\n",
    "alphas = []\n",
    "\n",
    "for i in range(20):\n",
    "    alpha = round(0.76 + 0.02 * i, 2)\n",
    "    alphas.append(alpha)\n",
    "    dNdE2 = dNdE_b * np.exp(alpha*tau[3:37])\n",
    "    dNdE2_u = dNdE_b_u * np.exp(alpha*tau[3:37])\n",
    "    SED2 = np.square(E[3:37]) * dNdE2\n",
    "    SED_u2 = np.square(E[3:37]) * dNdE2_u\n",
    "    ydata = SED2\n",
    "    xdata = E[3:37]\n",
    "    knots = 7\n",
    "    ydata_u = SED_u2\n",
    "    initial_guess = np.array([5e-7, 0, 0, 0, 0, 0, 0, 0, 0, 0, 0]) #phi_0, lam1, deltas (len(deltas)=knots-2))\n",
    "    things = multiple_bpl_fit(initial_guess=initial_guess)\n",
    "    chi2 = chisq(SED2, multiple_bpl(E[3:37], things.values), SED_u2)\n",
    "    chisqs.append(chi2)\n",
    "\n",
    "plt.plot(alphas, chisqs, 'o')\n",
    "#plt.yscale('log')\n",
    "plt.xlabel(r'$\\alpha$')\n",
    "plt.ylabel(r'$\\chi^2$')\n",
    "plt.show()"
   ]
  },
  {
   "cell_type": "markdown",
   "metadata": {},
   "source": [
    "Now checking consistency with MAGIC Aeff and bckg"
   ]
  },
  {
   "cell_type": "code",
   "execution_count": 115,
   "metadata": {},
   "outputs": [
    {
     "data": {
      "image/png": "[encoded data removed]",
      "text/plain": [
       "<Figure size 432x288 with 1 Axes>"
      ]
     },
     "metadata": {
      "needs_background": "light"
     },
     "output_type": "display_data"
    }
   ],
   "source": [
    "alpha = 0.94\n",
    "dNdE2 = dNdE_b * np.exp(alpha*tau[3:37])\n",
    "dNdE2_u = dNdE_b_u * np.exp(alpha*tau[3:37])\n",
    "SED2 = np.square(E[3:37]) * dNdE2\n",
    "SED_u2 = np.square(E[3:37]) * dNdE2_u\n",
    "ydata = SED2\n",
    "xdata = E[3:37]\n",
    "knots = 5\n",
    "ydata_u = SED_u2\n",
    "initial_guess = np.array([5e-7, 0, 0, 0, 0, 0, 0, 0, 0, 0, 0]) #phi_0, lam1, deltas (len(deltas)=knots-2))\n",
    "things = multiple_bpl_fit(initial_guess=initial_guess)\n",
    "\n",
    "Egam = np.geomspace(E[3],E[36], 300)\n",
    "\n",
    "plt.plot(Egam, multiple_bpl(Egam, things.values), label='concave fit', color = 'orange')\n",
    "plt.errorbar(xdata, ydata, label='original',yerr = ydata_u, capsize=3, fmt='o', alpha=0.8)\n",
    "plt.xscale('log')\n",
    "plt.yscale('log')\n",
    "plt.xlabel(r\"$E$ ($TeV$)\")\n",
    "plt.ylabel(r\"$E^2$ $dF/dE$ ($TeV$ $m^{-2}$ $s^{-1}$)\")\n",
    "plt.legend()\n",
    "plt.show()"
   ]
  },
  {
   "cell_type": "code",
   "execution_count": null,
   "metadata": {},
   "outputs": [],
   "source": []
  }
 ],
 "metadata": {
  "interpreter": {
   "hash": "31f2aee4e71d21fbe5cf8b01ff0e069b9275f58929596ceb00d14d90e3e16cd6"
  },
  "kernelspec": {
   "display_name": "Python 3.8.10 64-bit",
   "name": "python3"
  },
  "language_info": {
   "codemirror_mode": {
    "name": "ipython",
    "version": 3
   },
   "file_extension": ".py",
   "mimetype": "text/x-python",
   "name": "python",
   "nbconvert_exporter": "python",
   "pygments_lexer": "ipython3",
   "version": "3.8.10"
  },
  "orig_nbformat": 4
 },
 "nbformat": 4,
 "nbformat_minor": 2
}
