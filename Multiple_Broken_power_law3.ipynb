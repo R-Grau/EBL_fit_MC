{
 "cells": [
  {
   "cell_type": "code",
   "execution_count": 2,
   "metadata": {},
   "outputs": [],
   "source": [
    "import numpy as np\n",
    "import scipy as sc\n",
    "import matplotlib.pyplot as plt\n",
    "import scipy.optimize as optimize\n",
    "from iminuit import Minuit\n",
    "import pandas as pd\n",
    "import scipy.interpolate as interpolate\n",
    "from scipy.integrate import quad"
   ]
  },
  {
   "cell_type": "markdown",
   "metadata": {},
   "source": [
    "First we define some functions that will be used:"
   ]
  },
  {
   "cell_type": "code",
   "execution_count": 3,
   "metadata": {},
   "outputs": [],
   "source": [
    "def chisq(obs, exp, error):\n",
    "    return np.sum(np.square(obs - exp) / np.square(error))"
   ]
  },
  {
   "cell_type": "code",
   "execution_count": 4,
   "metadata": {},
   "outputs": [],
   "source": [
    "def Gauss(E, A, mu, sigma):\n",
    "    return A * (np.exp(-1/2 * np.square((E - mu) / sigma)) / (sigma * np.sqrt(2*np.pi)))\n",
    "\n",
    "def Gauss_int(A, mu, sigma, Em, Ep):\n",
    "    return quad(Gauss, Em, Ep, args=(A, mu, sigma))"
   ]
  },
  {
   "cell_type": "markdown",
   "metadata": {},
   "source": [
    "Now we define the Multiple broken power law"
   ]
  },
  {
   "cell_type": "code",
   "execution_count": 5,
   "metadata": {},
   "outputs": [],
   "source": [
    "def multiple_bpl(xdata, params):\n",
    "    if knots < 2 or knots > 30: #change this when adding more number of knots\n",
    "        raise Exception('knots have to be larger or equal than 3 and smaller than 30')\n",
    "    else:\n",
    "        polw = np.zeros(len(xdata))\n",
    "        Ebr = np.geomspace(xdata[0], xdata[-1], knots+2)[1:-1]\n",
    "        gamma = np.zeros(knots+1)\n",
    "        phi = np.zeros(knots+1)\n",
    "        phi_0 = params[0] #len(sqrtdelta_lam) = len(lam)-1 = len(phi)-1\n",
    "        gamma0 = params[1]\n",
    "        sqrtdelta_gamma = params[2:knots+2]\n",
    "        delta_gamma = np.square(sqrtdelta_gamma)\n",
    "        gamma[0] = gamma0\n",
    "        phi[0] = phi_0\n",
    "        for i in range(knots):\n",
    "            gamma[i+1] = gamma[i] + delta_gamma[i]\n",
    "            phi[i+1] = phi[i] * Ebr[i] ** delta_gamma[i]\n",
    "        for i in range(len(xdata)):\n",
    "            for j in range(knots):\n",
    "                if xdata[i]<Ebr[0]:\n",
    "                    polw[i] = phi[0] * xdata[i] ** (-gamma[0])\n",
    "                elif Ebr[-1] < xdata[i]:\n",
    "                    polw[i] = phi[-1] * xdata[i] ** (-gamma[-1])\n",
    "                elif Ebr[j] <= xdata[i] < Ebr[j+1]:\n",
    "                    polw[i] = phi[j+1] * xdata[i] ** (-gamma[j+1])\n",
    "    return polw"
   ]
  },
  {
   "cell_type": "markdown",
   "metadata": {},
   "source": [
    "The least squares function for that MBWPL"
   ]
  },
  {
   "cell_type": "code",
   "execution_count": 6,
   "metadata": {},
   "outputs": [],
   "source": [
    "# least-squares score function = sum of data residuals squared\n",
    "def LSQ(params):\n",
    "    return np.sum((ydata - multiple_bpl(xdata, params)) ** 2 / ydata_u ** 2)"
   ]
  },
  {
   "cell_type": "markdown",
   "metadata": {},
   "source": [
    "And the fit function"
   ]
  },
  {
   "cell_type": "code",
   "execution_count": 7,
   "metadata": {},
   "outputs": [],
   "source": [
    "def multiple_bpl_fit(initial_guess):\n",
    "    #print('Warning: the shape of the parametes will depend on the number of knots (defined as knots)')\n",
    "    #print('Warning: this will give the parameters of the fit and its errors which have to be put into the multiple_bpl function in order to get the fit')\n",
    "    LSQ.errordef = Minuit.LIKELIHOOD\n",
    "\n",
    "    m = Minuit(LSQ, initial_guess)\n",
    "    #m.limits[\"initial_guess[2:-1]\"] = (0,None)\n",
    "    #m.tol = 1e-30\n",
    "    m.tol = 1e-20\n",
    "\n",
    "    m.migrad()\n",
    "    print(m.values)\n",
    "\n",
    "    m.hesse()\n",
    "    print(m.errors)\n",
    "\n",
    "    return m"
   ]
  },
  {
   "cell_type": "markdown",
   "metadata": {},
   "source": [
    "Here we will load the Effective area of the telescope and the EBL model file. After that we will also load background rate."
   ]
  },
  {
   "cell_type": "code",
   "execution_count": 8,
   "metadata": {},
   "outputs": [],
   "source": [
    "fileEA = np.loadtxt('EffArea50h.txt', skiprows = 11)\n",
    "EffA = pd.DataFrame(fileEA)\n",
    "EffA = EffA.rename(columns={ 0 : 'E [TeV]', 1: 'Eff area (m^2)'})\n",
    "EffaE= EffA['E [TeV]'].to_numpy()\n",
    "Effa = EffA['Eff area (m^2)'].to_numpy()\n",
    "\n",
    "#absorption file\n",
    "file = np.loadtxt('tau_dominguez11.out')\n",
    "pdfile = pd.DataFrame(file)\n",
    "pdfile = pdfile.rename(columns={ 0 : 'E [TeV]', 1: 'tau z=0.01', 2: 'tau z=0.02526316', 3: 'tau z=0.04052632', 4: 'tau z=0.05578947', 5: 'tau z=0.07105263', 6: 'tau z=0.08631579', 7: 'tau z=0.10157895', 8: 'tau z=0.11684211', 9: 'tau z=0.13210526', 10: 'tau z=0.14736842', 11: 'tau z=0.16263158', 12: 'tau z=0.17789474', 13: 'tau z=0.19315789', 14: 'tau z=0.20842105'})\n",
    "E = pdfile['E [TeV]'].to_numpy()\n",
    "tau = pdfile['tau z=0.20842105'].to_numpy()"
   ]
  },
  {
   "cell_type": "markdown",
   "metadata": {},
   "source": [
    "For the background rate we need to do a rebinning to have the same energy bins as with the other data."
   ]
  },
  {
   "cell_type": "code",
   "execution_count": 9,
   "metadata": {},
   "outputs": [],
   "source": [
    "fileBkg = np.loadtxt('Bkg50h.txt', skiprows = 10)\n",
    "Bkgpd = pd.DataFrame(fileBkg)\n",
    "Bkgpd = Bkgpd.rename(columns={ 0 : 'E_min (TeV)', 1: 'E_max (TeV)', 2: 'Bck Rate (Hz/deg^2)'})\n",
    "\n",
    "BckgEmin = Bkgpd['E_min (TeV)'].to_numpy()\n",
    "BckgEmax = Bkgpd['E_max (TeV)'].to_numpy()\n",
    "Bckg = Bkgpd['Bck Rate (Hz/deg^2)'].to_numpy()\n",
    "BckgEdiff = BckgEmax - BckgEmin\n",
    "\n",
    "BckgElogmean = []\n",
    "for i in range(len(Bckg)):\n",
    "    BckgElogmean.append(10**(np.mean([np.log10(BckgEmax[i]), np.log10(BckgEmin[i])])))\n",
    "\n",
    "\n",
    "Ebinsmin = np.zeros(len(E))\n",
    "Ebinsmax = np.zeros(len(E))\n",
    "\n",
    "for i in range(1, len(E)):\n",
    "    Ebinsmin[i] = 10**(np.mean([np.log10(E[i]), np.log10(E[i-1])]))\n",
    "for i in range(len(E) - 1):\n",
    "    Ebinsmax[i] = 10**(np.mean([np.log10(E[i]), np.log10(E[i+1])]))\n",
    "    \n",
    "Ebinsmin[0] = 10**(np.log10(Ebinsmin[1])-(np.log10(Ebinsmin[2])-np.log10(Ebinsmin[1])))\n",
    "Ebinsmax[len(E)-1] = 10**(np.log10(Ebinsmax[len(E)-2])-(np.log10(Ebinsmax[len(E)-3])-np.log10(Ebinsmax[len(E)-2])))\n",
    "Ebinsw = Ebinsmax - Ebinsmin"
   ]
  },
  {
   "cell_type": "code",
   "execution_count": 10,
   "metadata": {},
   "outputs": [],
   "source": [
    "DifBckg = Bckg / (BckgEmax - BckgEmin) #Hz/deg**2\n",
    "def log_interp1d(xx, yy):\n",
    "    logx = np.log10(xx)\n",
    "    logy = np.log10(yy)\n",
    "    interp = interpolate.interp1d(logx, logy, fill_value='extrapolate', kind='slinear')\n",
    "    log_interp = lambda zz: np.power(10.0, interp(np.log10(zz)))\n",
    "    return log_interp\n",
    "\n",
    "interpolation = log_interp1d(BckgElogmean,DifBckg)"
   ]
  },
  {
   "cell_type": "code",
   "execution_count": 11,
   "metadata": {},
   "outputs": [],
   "source": [
    "newBckgrate = np.zeros([len(E[2:37]),2])\n",
    "for i in range(len(E[2:37])):\n",
    "    newBckgrate[i] = quad(interpolation, Ebinsmin[i+2], Ebinsmax[i+2])\n",
    "newBckgrate = newBckgrate[:,0]"
   ]
  },
  {
   "cell_type": "markdown",
   "metadata": {},
   "source": [
    "After that we create the spectrum of the source and we absorve it with the EBL model loaded before. If you want to change the source spectra, change it here."
   ]
  },
  {
   "cell_type": "code",
   "execution_count": 12,
   "metadata": {},
   "outputs": [],
   "source": [
    "#“photon index  = 2.03  +/- 0.03 and normalization factor at 250 GeV    f0 = (8.70 +/- 0.17) * 10^-10 cm^-2  s^-1  TeV^-1.”\n",
    "K =  8.70e-6 #m−2  s−1  TeV−1\n",
    "dNdE = K / ((E/0.25)**2.03) \n",
    "m_tau = -tau\n",
    "dNdEa = dNdE * np.exp(m_tau)"
   ]
  },
  {
   "cell_type": "markdown",
   "metadata": {},
   "source": [
    "We also need to do a rebinning of the effective area"
   ]
  },
  {
   "cell_type": "code",
   "execution_count": 13,
   "metadata": {},
   "outputs": [],
   "source": [
    "EffaA2 = np.zeros(len(E[2:37]))\n",
    "for i in range(len(E[2:37])):\n",
    "    for j in range(len(EffaE[9:51])):\n",
    "        if EffaE[j+9] < E[i+2] and EffaE[j+10] > E[i+2]:\n",
    "            m = (Effa[j+10]-Effa[j+9])/(EffaE[j+10]-EffaE[j+9])\n",
    "            n = Effa[j+9] - m * EffaE[j+9]\n",
    "            EffaA2[i] = m * E[i+2] + n"
   ]
  },
  {
   "cell_type": "markdown",
   "metadata": {},
   "source": [
    "And we will also need the angular resolution of the telescope which, of course, will need to be rebinned."
   ]
  },
  {
   "cell_type": "code",
   "execution_count": 14,
   "metadata": {},
   "outputs": [],
   "source": [
    "fileAng = np.loadtxt('Angres.txt', skiprows = 11)\n",
    "Angresall = pd.DataFrame(fileAng)\n",
    "Angresall = Angresall.rename(columns={ 0 : 'E [TeV]', 1: 'Angular resolution (deg)'})\n",
    "AngresE= Angresall['E [TeV]'].to_numpy()\n",
    "Angres = Angresall['Angular resolution (deg)'].to_numpy()\n",
    "\n",
    "logAngres = np.log10(Angres)\n",
    "logAngresE = np.log10(AngresE)\n",
    "logE = np.log10(E)\n",
    "\n",
    "\n",
    "logAngres2 = np.zeros(len(E[2:37]))\n",
    "for i in range(len(E[2:37])):\n",
    "    for j in range(len(AngresE[1:-1])):\n",
    "        if logAngresE[j+1] < logE[i+2] and logAngresE[j+2] > logE[i+2]:\n",
    "            m = (logAngres[j+2]-logAngres[j+1])/(logAngresE[j+2]-logAngresE[j+1])\n",
    "            n = logAngres[j+1] - m * logAngresE[j+1]\n",
    "            logAngres2[i] = m * logE[i+2] + n\n",
    "Angres2 = 10**logAngres2"
   ]
  },
  {
   "cell_type": "markdown",
   "metadata": {},
   "source": [
    "Let's load the Energy resolution and rebin it to fit our data. After that we will get the poisson parameter of the source taking into account the energy resolution."
   ]
  },
  {
   "cell_type": "code",
   "execution_count": 15,
   "metadata": {},
   "outputs": [],
   "source": [
    "fileEres = np.loadtxt('Eres.txt', skiprows = 8)\n",
    "Eresall = pd.DataFrame(fileEres)\n",
    "Eresall = Eresall.rename(columns={ 0 : 'E [TeV]', 1: 'Energy resolution (deg)'})\n",
    "EresE = Eresall['E [TeV]'].to_numpy()\n",
    "Eres = Eresall['Energy resolution (deg)'].to_numpy()\n",
    "\n",
    "logEres = np.log10(Eres)\n",
    "logEresE = np.log10(EresE)\n",
    "logE = np.log10(E)\n",
    "\n",
    "\n",
    "logEres2 = np.zeros(len(E[2:37]))\n",
    "for i in range(len(E[2:37])):\n",
    "    for j in range(len(EresE[0:-1])):\n",
    "        if logEresE[j] < logE[i+3] and logEresE[j+1] > logE[i+3]:\n",
    "            m = (logEres[j+1]-logEres[j])/(logEresE[j+1]-logEresE[j])\n",
    "            n = logEres[j] - m * logEresE[j]\n",
    "            logEres2[i] = m * logE[i+3] + n\n",
    "Eres2 = 10**logEres2\n",
    "\n",
    "Eres3 = np.zeros(len(Eres2))\n",
    "for i in range(len(Eres2)):\n",
    "    Eres3[i] = Eres2[i] * E[2:37][i]"
   ]
  },
  {
   "cell_type": "code",
   "execution_count": 16,
   "metadata": {},
   "outputs": [],
   "source": [
    "def degtorad(ang):\n",
    "    return ang * np.pi / 180\n"
   ]
  },
  {
   "cell_type": "code",
   "execution_count": 17,
   "metadata": {},
   "outputs": [],
   "source": [
    "time = 42480 #42480 #180000#s\n",
    "skyang = (180/np.pi)**2 * 2 * np.pi * (1-np.cos(degtorad(Angres2)))#deg^2\n",
    "\n",
    "bckgmu = newBckgrate * time * skyang\n",
    "mu_vec = dNdEa[2:37] * EffaA2 * Ebinsw[2:37] * time\n",
    "\n",
    "logEbins = np.zeros(len(E[2:37])+1)\n",
    "for i in range(len(E[2:37])+1):\n",
    "    if i == 0:\n",
    "        logEbins[i] = logE[2] - ((logE[3]-logE[2])/2)\n",
    "    elif i == (len(E[2:37])):\n",
    "        logEbins[i] = logE[2:37][i-1] + ((logE[2:37][i-1]-logE[2:37][i-2])/2)\n",
    "    else:\n",
    "        logEbins[i] = (logE[2:37][i] + logE[2:37][i-1]) / 2\n",
    "\n",
    "Ebins = 10 ** logEbins"
   ]
  },
  {
   "cell_type": "code",
   "execution_count": 18,
   "metadata": {},
   "outputs": [],
   "source": [
    "mu_vec_reco = np.zeros(len(mu_vec))\n",
    "mu_vec_i = np.zeros(len(mu_vec))\n",
    "\n",
    "for i in range(len(mu_vec)):\n",
    "    for j in range(len(mu_vec)):\n",
    "        A = mu_vec[i]\n",
    "        B = bckgmu[i]\n",
    "        Em = Ebins[j]\n",
    "        Ep = Ebins[j+1]\n",
    "        sigma = Eres3[i]\n",
    "        mu = E[2:37][i]\n",
    "\n",
    "        mu_vec_i[j] = Gauss_int(A, mu, sigma, Em, Ep)[0]\n",
    "    mu_vec_reco = mu_vec_reco + mu_vec_i\n",
    "\n",
    "# plt.plot(E[3:37], mu_vec[1:], label=\"True\")\n",
    "# plt.plot(E[3:37], mu_vec_reco[1:], label=\"Reconstructed\")\n",
    "# plt.xscale(\"log\")\n",
    "# plt.legend()\n",
    "# plt.show()"
   ]
  },
  {
   "cell_type": "markdown",
   "metadata": {},
   "source": [
    "Now we generate 2 random samples of the background. The first one is the background contribution to the observations and the other one is the observed background in 5 wobbles that we will use to reduce the background noise. After that we also simulate the source spectra. Those 3 things are made using a Poisson disteibution.Then we sum the 3 contributions and we take the number of photons to SED. "
   ]
  },
  {
   "cell_type": "code",
   "execution_count": 19,
   "metadata": {},
   "outputs": [],
   "source": [
    "my_generator = np.random.default_rng(2021)\n",
    "Simbckg1 = my_generator.poisson(bckgmu)\n",
    "# Simbckg1 = Simbckg1.astype(float)\n",
    "# for i in range(len(Simbckg1)):\n",
    "#     if Simbckg1[i] == 0:\n",
    "#         Simbckg1[i] = bckgmu[i]\n",
    "Simbckg1_u = np.sqrt(Simbckg1)\n",
    "Simbckg5 = my_generator.poisson(5*bckgmu)/5\n",
    "# Simbckg5 = Simbckg5.astype(float)\n",
    "# for i in range(len(Simbckg5)):\n",
    "#     if Simbckg5[i] == 0:\n",
    "#         Simbckg5[i] = bckgmu[i]\n",
    "Simbckg5_u = np.sqrt(Simbckg5)\n",
    "\n",
    "N = my_generator.poisson(mu_vec_reco)\n",
    "# N = mu\n",
    "\n",
    "# for i in range(len(N)):\n",
    "#     if N[i] == 0:\n",
    "#         N[i] = mu[i]\n",
    "N_u = np.sqrt(N)\n",
    "\n",
    "NpB = np.around(N + Simbckg1 - Simbckg5).astype(int)\n",
    "NpB_u = N_u + Simbckg1_u - Simbckg5_u"
   ]
  },
  {
   "cell_type": "code",
   "execution_count": 20,
   "metadata": {},
   "outputs": [],
   "source": [
    "dNdE_b = NpB[1:] / EffaA2[1:35] / Ebinsw[3:37] / time\n",
    "dNdE_b_u = NpB_u[1:] / EffaA2[1:35] / Ebinsw[3:37] / time"
   ]
  },
  {
   "cell_type": "code",
   "execution_count": 21,
   "metadata": {},
   "outputs": [],
   "source": [
    "SED = np.square(E[3:37]) * dNdE_b\n",
    "SED_u = np.square(E[3:37]) * dNdE_b_u"
   ]
  },
  {
   "cell_type": "markdown",
   "metadata": {},
   "source": [
    "We plot the obtained spectra"
   ]
  },
  {
   "cell_type": "code",
   "execution_count": 22,
   "metadata": {},
   "outputs": [
    {
     "data": {
      "image/png": "[encoded data removed]",
      "text/plain": [
       "<Figure size 432x288 with 1 Axes>"
      ]
     },
     "metadata": {
      "needs_background": "light"
     },
     "output_type": "display_data"
    }
   ],
   "source": [
    "plt.errorbar(E[3:37], SED, label='MC data',yerr = SED_u, capsize=3, fmt='o', alpha=0.8)\n",
    "plt.xscale('log')\n",
    "plt.yscale('log')\n",
    "plt.xlabel(r\"$E$ ($TeV$)\")\n",
    "plt.ylabel(r\"$E^2$ $dF/dE$ ($TeV$ $m^{-2}$ $s^{-1}$)\")\n",
    "plt.legend()\n",
    "plt.show()"
   ]
  },
  {
   "cell_type": "markdown",
   "metadata": {},
   "source": [
    "Okay, now let's use the new fitting method:"
   ]
  },
  {
   "cell_type": "code",
   "execution_count": 23,
   "metadata": {},
   "outputs": [
    {
     "name": "stdout",
     "output_type": "stream",
     "text": [
      "<ValueView x0=1.7993340569023153e-06 x1=-0.5000872167874816 x2=-0.9412974885117453 x3=-0.8203472548078293 x4=-0.8124598969053288 x5=-1.1320585395785279e-07 x6=0.0>\n",
      "<ErrorView x0=9.849791681626788e-08 x1=0.02104997708317041 x2=0.018533150475448002 x3=0.023546376938222365 x4=0.030561401233628913 x5=0.12670268882605812 x6=0.21055226119153714>\n"
     ]
    },
    {
     "data": {
      "image/png": "[encoded data removed]",
      "text/plain": [
       "<Figure size 432x288 with 1 Axes>"
      ]
     },
     "metadata": {
      "needs_background": "light"
     },
     "output_type": "display_data"
    }
   ],
   "source": [
    "ydata = SED\n",
    "xdata = E[3:37]\n",
    "knots = 5\n",
    "ydata_u = SED_u\n",
    "initial_guess = np.array([5e-7, 0, 0, 0, 0, 0, 0]) #phi_0, lam1, deltas (len(deltas)=knots-2))\n",
    "things = multiple_bpl_fit(initial_guess=initial_guess)\n",
    "\n",
    "Egam = np.geomspace(E[3],E[36], 300)\n",
    "\n",
    "plt.plot(Egam, multiple_bpl(Egam, things.values), label='concave fit', color = 'orange')\n",
    "plt.errorbar(xdata, ydata, label='MC data',yerr = ydata_u, capsize=3, fmt='o', alpha=0.8)\n",
    "plt.xscale('log')\n",
    "plt.yscale('log')\n",
    "plt.xlabel(r\"$E$ ($TeV$)\")\n",
    "plt.ylabel(r\"$E^2$ $dF/dE$ ($TeV$ $m^{-2}$ $s^{-1}$)\")\n",
    "plt.legend()\n",
    "plt.show()"
   ]
  },
  {
   "cell_type": "markdown",
   "metadata": {},
   "source": [
    "Finally we use this SED and deabsorb the EBL while fitting the MBPWL to every value of $\\alpha$ and get its corresponding $\\chi^2$ value."
   ]
  },
  {
   "cell_type": "code",
   "execution_count": 24,
   "metadata": {},
   "outputs": [
    {
     "name": "stdout",
     "output_type": "stream",
     "text": [
      "<ValueView x0=3.3580626401535595e-07 x1=0.18848931937007474 x2=-1.1093973258530032 x3=0.0 x4=0.0 x5=0.0 x6=0.0 x7=0.0 x8=0.0 x9=0.0 x10=0.0>\n",
      "<ErrorView x0=0.0 x1=0.0 x2=0.0 x3=0.0 x4=0.0 x5=0.0 x6=0.0 x7=0.0 x8=0.0 x9=0.0 x10=0.0>\n",
      "<ValueView x0=3.4425817459419725e-07 x1=0.1789785545024471 x2=-1.082263367441554 x3=0.0 x4=0.0 x5=0.0 x6=0.0 x7=0.0 x8=0.0 x9=0.0 x10=0.0>\n",
      "<ErrorView x0=0.0 x1=0.0 x2=0.0 x3=0.0 x4=0.0 x5=0.0 x6=0.0 x7=0.0 x8=0.0 x9=0.0 x10=0.0>\n",
      "<ValueView x0=3.270861499441414e-07 x1=0.20349694626966722 x2=-0.9704101312572888 x3=-0.6486657460182239 x4=-1.2026526521995924e-07 x5=0.0 x6=0.0 x7=0.0 x8=0.0 x9=0.0 x10=0.0>\n",
      "<ErrorView x0=0.0 x1=0.0 x2=0.0 x3=0.0 x4=0.0 x5=0.0 x6=0.0 x7=0.0 x8=0.0 x9=0.0 x10=0.0>\n",
      "<ValueView x0=3.617200915947131e-07 x1=0.16006073123862719 x2=-1.0258544559468112 x3=0.0 x4=0.0 x5=0.0 x6=0.0 x7=0.0 x8=0.0 x9=0.0 x10=0.0>\n",
      "<ErrorView x0=0.0 x1=0.0 x2=0.0 x3=0.0 x4=0.0 x5=0.0 x6=0.0 x7=0.0 x8=0.0 x9=0.0 x10=0.0>\n",
      "<ValueView x0=3.456980347672509e-07 x1=0.18195860107808712 x2=-0.915579682134297 x3=-0.6170232393459781 x4=0.0 x5=0.0 x6=0.0 x7=0.0 x8=0.0 x9=0.0 x10=0.0>\n",
      "<ErrorView x0=0.0 x1=0.0 x2=0.0 x3=0.0 x4=0.0 x5=0.0 x6=0.0 x7=0.0 x8=0.0 x9=0.0 x10=0.0>\n",
      "<ValueView x0=3.7994941435255957e-07 x1=0.14127963254345352 x2=-0.9661745126527714 x3=0.0 x4=0.0 x5=0.0 x6=0.0 x7=0.0 x8=0.0 x9=0.0 x10=0.0>\n",
      "<ErrorView x0=0.0 x1=0.0 x2=0.0 x3=0.0 x4=0.0 x5=0.0 x6=0.0 x7=0.0 x8=0.0 x9=0.0 x10=0.0>\n",
      "<ValueView x0=3.893608476792221e-07 x1=0.13193970902807325 x2=-0.9349146879657062 x3=0.0 x4=0.0 x5=0.0 x6=0.0 x7=0.0 x8=0.0 x9=0.0 x10=0.0>\n",
      "<ErrorView x0=0.0 x1=0.0 x2=0.0 x3=0.0 x4=0.0 x5=0.0 x6=0.0 x7=0.0 x8=0.0 x9=0.0 x10=0.0>\n",
      "<ValueView x0=3.7551989822743567e-07 x1=0.1497636949052385 x2=-0.8265311661445375 x3=-0.567152460557471 x4=0.0 x5=0.0 x6=0.0 x7=0.0 x8=0.0 x9=0.0 x10=0.0>\n",
      "<ErrorView x0=0.0 x1=0.0 x2=0.0 x3=0.0 x4=0.0 x5=0.0 x6=0.0 x7=0.0 x8=0.0 x9=0.0 x10=0.0>\n",
      "<ValueView x0=3.8599473403133863e-07 x1=0.13906139330929101 x2=-0.794633931063079 x3=-0.5497557642504727 x4=0.0 x5=0.0 x6=0.0 x7=0.0 x8=0.0 x9=0.0 x10=0.0>\n",
      "<ErrorView x0=0.0 x1=0.0 x2=0.0 x3=0.0 x4=0.0 x5=0.0 x6=0.0 x7=0.0 x8=0.0 x9=0.0 x10=0.0>\n",
      "<ValueView x0=3.9674822780202106e-07 x1=0.12837343720094838 x2=-0.7614030389709675 x3=-0.5319036700122891 x4=-2.878104808708692e-07 x5=0.0 x6=0.0 x7=0.0 x8=0.0 x9=0.0 x10=0.0>\n",
      "<ErrorView x0=0.0 x1=0.0 x2=0.0 x3=0.0 x4=0.0 x5=0.0 x6=0.0 x7=0.0 x8=0.0 x9=0.0 x10=0.0>\n",
      "<ValueView x0=4.07787553308418e-07 x1=0.11769967091425833 x2=-0.7266563380741622 x3=-0.5135446917660144 x4=0.0 x5=0.0 x6=0.0 x7=0.0 x8=0.0 x9=0.0 x10=0.0>\n",
      "<ErrorView x0=0.0 x1=0.0 x2=0.0 x3=0.0 x4=0.0 x5=0.0 x6=0.0 x7=0.0 x8=0.0 x9=0.0 x10=0.0>\n",
      "<ValueView x0=4.191200982812484e-07 x1=0.10703989648396316 x2=-0.690165811459093 x3=-0.4946186056353173 x4=2.4830858481386274e-08 x5=0.0 x6=0.0 x7=0.0 x8=0.0 x9=0.0 x10=0.0>\n",
      "<ErrorView x0=0.0 x1=0.0 x2=0.0 x3=0.0 x4=0.0 x5=0.0 x6=0.0 x7=0.0 x8=0.0 x9=0.0 x10=0.0>\n",
      "<ValueView x0=4.3075338273637365e-07 x1=0.09639397736632514 x2=-0.6516395068777294 x3=-0.47505340472576385 x4=-1.5080141065336536e-06 x5=0.0 x6=0.0 x7=0.0 x8=0.0 x9=0.0 x10=0.0>\n",
      "<ErrorView x0=0.0 x1=0.0 x2=0.0 x3=0.0 x4=0.0 x5=0.0 x6=0.0 x7=0.0 x8=0.0 x9=0.0 x10=0.0>\n",
      "<ValueView x0=4.4269538104137326e-07 x1=0.08576151757281636 x2=-0.6106933601893253 x3=-0.4547623672829621 x4=-1.67926382156042e-07 x5=0.0 x6=0.0 x7=0.0 x8=0.0 x9=0.0 x10=0.0>\n",
      "<ErrorView x0=0.0 x1=0.0 x2=0.0 x3=0.0 x4=0.0 x5=0.0 x6=0.0 x7=0.0 x8=0.0 x9=0.0 x10=0.0>\n",
      "<ValueView x0=4.5495384195242215e-07 x1=0.0751425411318638 x2=-0.5668040650378491 x3=-0.433639512760582 x4=-1.1349116472826612e-06 x5=0.0 x6=0.0 x7=0.0 x8=0.0 x9=0.0 x10=0.0>\n",
      "<ErrorView x0=0.0 x1=0.0 x2=0.0 x3=0.0 x4=0.0 x5=0.0 x6=0.0 x7=0.0 x8=0.0 x9=0.0 x10=0.0>\n",
      "<ValueView x0=4.6753711247834023e-07 x1=0.06453671903340742 x2=-0.5192271914703013 x3=-0.4115515778533763 x4=0.0 x5=0.0 x6=0.0 x7=0.0 x8=0.0 x9=0.0 x10=0.0>\n",
      "<ErrorView x0=0.0 x1=0.0 x2=0.0 x3=0.0 x4=0.0 x5=0.0 x6=0.0 x7=0.0 x8=0.0 x9=0.0 x10=0.0>\n",
      "<ValueView x0=4.804535781106364e-07 x1=0.0539438410616934 x2=-0.46683791192899715 x3=-0.3883297159705089 x4=2.1296580337108942e-08 x5=0.0 x6=0.0 x7=0.0 x8=0.0 x9=0.0 x10=0.0>\n",
      "<ErrorView x0=0.0 x1=0.0 x2=0.0 x3=0.0 x4=0.0 x5=0.0 x6=0.0 x7=0.0 x8=0.0 x9=0.0 x10=0.0>\n",
      "<ValueView x0=4.937118669705988e-07 x1=0.043363714854215585 x2=-0.4077870591279991 x3=-0.36375180377691174 x4=-8.363305775885035e-08 x5=0.0 x6=0.0 x7=0.0 x8=0.0 x9=0.0 x10=0.0>\n",
      "<ErrorView x0=0.0 x1=0.0 x2=0.0 x3=0.0 x4=0.0 x5=0.0 x6=0.0 x7=0.0 x8=0.0 x9=0.0 x10=0.0>\n",
      "<ValueView x0=5.073209170774756e-07 x1=0.03279605959908715 x2=-0.33860918940244306 x3=-0.33751574288402986 x4=1.1222317492814308e-07 x5=0.0 x6=0.0 x7=0.0 x8=0.0 x9=0.0 x10=0.0>\n",
      "<ErrorView x0=0.0 x1=0.0 x2=0.0 x3=0.0 x4=0.0 x5=0.0 x6=0.0 x7=0.0 x8=0.0 x9=0.0 x10=0.0>\n",
      "<ValueView x0=5.212898431796135e-07 x1=0.02224064459478518 x2=-0.25107073343920994 x3=-0.30919476184884176 x4=0.0 x5=0.0 x6=0.0 x7=0.0 x8=0.0 x9=0.0 x10=0.0>\n",
      "<ErrorView x0=0.0 x1=0.0 x2=0.0 x3=0.0 x4=0.0 x5=0.0 x6=0.0 x7=0.0 x8=0.0 x9=0.0 x10=0.0>\n",
      "<ValueView x0=5.307097905655806e-07 x1=0.016090287939053705 x2=0.0 x3=-0.2992332054961718 x4=3.5313343873833196e-07 x5=0.0 x6=0.0 x7=0.0 x8=0.0 x9=0.0 x10=0.0>\n",
      "<ErrorView x0=0.0 x1=0.0 x2=0.0 x3=0.0 x4=0.0 x5=0.0 x6=0.0 x7=0.0 x8=0.0 x9=0.0 x10=0.0>\n",
      "<ValueView x0=5.662315339122667e-07 x1=-0.012225546004476177 x2=0.0 x3=0.0 x4=0.0 x5=0.0 x6=0.0 x7=0.0 x8=0.0 x9=0.0 x10=0.0>\n",
      "<ErrorView x0=0.0 x1=0.0 x2=0.0 x3=0.0 x4=0.0 x5=0.0 x6=0.0 x7=0.0 x8=0.0 x9=0.0 x10=0.0>\n",
      "<ValueView x0=6.158972953916104e-07 x1=-0.050723926678089046 x2=0.0 x3=0.0 x4=0.0 x5=0.0 x6=0.0 x7=0.0 x8=0.0 x9=0.0 x10=0.0>\n",
      "<ErrorView x0=0.0 x1=0.0 x2=0.0 x3=0.0 x4=0.0 x5=0.0 x6=0.0 x7=0.0 x8=0.0 x9=0.0 x10=0.0>\n",
      "<ValueView x0=6.686758327040924e-07 x1=-0.08836293240139485 x2=0.0 x3=0.0 x4=0.0 x5=0.0 x6=0.0 x7=0.0 x8=0.0 x9=0.0 x10=0.0>\n",
      "<ErrorView x0=0.0 x1=0.0 x2=0.0 x3=0.0 x4=0.0 x5=0.0 x6=0.0 x7=0.0 x8=0.0 x9=0.0 x10=0.0>\n",
      "<ValueView x0=7.246075957842545e-07 x1=-0.12511466118703082 x2=0.0 x3=0.0 x4=0.0 x5=0.0 x6=0.0 x7=0.0 x8=0.0 x9=0.0 x10=0.0>\n",
      "<ErrorView x0=0.0 x1=0.0 x2=0.0 x3=0.0 x4=0.0 x5=0.0 x6=0.0 x7=0.0 x8=0.0 x9=0.0 x10=0.0>\n",
      "<ValueView x0=7.837168724106112e-07 x1=-0.16095441079350936 x2=0.0 x3=0.0 x4=0.0 x5=0.0 x6=0.0 x7=0.0 x8=0.0 x9=0.0 x10=0.0>\n",
      "<ErrorView x0=0.0 x1=0.0 x2=0.0 x3=0.0 x4=0.0 x5=0.0 x6=0.0 x7=0.0 x8=0.0 x9=0.0 x10=0.0>\n",
      "<ValueView x0=8.460125529225905e-07 x1=-0.19586177638930438 x2=0.0 x3=0.0 x4=0.0 x5=0.0 x6=0.0 x7=0.0 x8=0.0 x9=0.0 x10=0.0>\n",
      "<ErrorView x0=0.0 x1=0.0 x2=0.0 x3=0.0 x4=0.0 x5=0.0 x6=0.0 x7=0.0 x8=0.0 x9=0.0 x10=0.0>\n",
      "<ValueView x0=9.114879368107425e-07 x1=-0.2298206548169795 x2=0.0 x3=0.0 x4=0.0 x5=0.0 x6=0.0 x7=0.0 x8=0.0 x9=0.0 x10=0.0>\n",
      "<ErrorView x0=0.0 x1=0.0 x2=0.0 x3=0.0 x4=0.0 x5=0.0 x6=0.0 x7=0.0 x8=0.0 x9=0.0 x10=0.0>\n",
      "<ValueView x0=9.80123724776178e-07 x1=-0.26282077311555696 x2=0.0 x3=0.0 x4=0.0 x5=0.0 x6=0.0 x7=0.0 x8=0.0 x9=0.0 x10=0.0>\n",
      "<ErrorView x0=0.0 x1=0.0 x2=0.0 x3=0.0 x4=0.0 x5=0.0 x6=0.0 x7=0.0 x8=0.0 x9=0.0 x10=0.0>\n",
      "<ValueView x0=1.0518896481741527e-06 x1=-0.29485770196892536 x2=0.0 x3=0.0 x4=0.0 x5=0.0 x6=0.0 x7=0.0 x8=0.0 x9=0.0 x10=0.0>\n",
      "<ErrorView x0=0.0 x1=0.0 x2=0.0 x3=0.0 x4=0.0 x5=0.0 x6=0.0 x7=0.0 x8=0.0 x9=0.0 x10=0.0>\n",
      "<ValueView x0=1.1267477200054914e-06 x1=-0.32593341375487933 x2=0.0 x3=0.0 x4=0.0 x5=0.0 x6=0.0 x7=0.0 x8=0.0 x9=0.0 x10=0.0>\n",
      "<ErrorView x0=0.0 x1=0.0 x2=0.0 x3=0.0 x4=0.0 x5=0.0 x6=0.0 x7=0.0 x8=0.0 x9=0.0 x10=0.0>\n",
      "<ValueView x0=1.2046558425845082e-06 x1=-0.35605652168265334 x2=0.0 x3=0.0 x4=0.0 x5=0.0 x6=0.0 x7=0.0 x8=0.0 x9=0.0 x10=0.0>\n",
      "<ErrorView x0=0.0 x1=0.0 x2=0.0 x3=0.0 x4=0.0 x5=0.0 x6=0.0 x7=0.0 x8=0.0 x9=0.0 x10=0.0>\n",
      "<ValueView x0=1.285571613676829e-06 x1=-0.3852422289100415 x2=0.0 x3=0.0 x4=0.0 x5=0.0 x6=0.0 x7=0.0 x8=0.0 x9=0.0 x10=0.0>\n",
      "<ErrorView x0=0.0 x1=0.0 x2=0.0 x3=0.0 x4=0.0 x5=0.0 x6=0.0 x7=0.0 x8=0.0 x9=0.0 x10=0.0>\n",
      "<ValueView x0=1.3694560536822257e-06 x1=-0.4135120571263743 x2=0.0 x3=0.0 x4=0.0 x5=0.0 x6=0.0 x7=0.0 x8=0.0 x9=0.0 x10=0.0>\n",
      "<ErrorView x0=0.0 x1=0.0 x2=0.0 x3=0.0 x4=0.0 x5=0.0 x6=0.0 x7=0.0 x8=0.0 x9=0.0 x10=0.0>\n",
      "<ValueView x0=1.456277210250367e-06 x1=-0.44089331431004464 x2=0.0 x3=0.0 x4=0.0 x5=0.0 x6=0.0 x7=0.0 x8=0.0 x9=0.0 x10=0.0>\n",
      "<ErrorView x0=0.0 x1=0.0 x2=0.0 x3=0.0 x4=0.0 x5=0.0 x6=0.0 x7=0.0 x8=0.0 x9=0.0 x10=0.0>\n",
      "<ValueView x0=1.5460142011275228e-06 x1=-0.4674187259174283 x2=0.0 x3=0.0 x4=0.0 x5=0.0 x6=0.0 x7=0.0 x8=0.0 x9=0.0 x10=0.0>\n",
      "<ErrorView x0=0.0 x1=0.0 x2=0.0 x3=0.0 x4=0.0 x5=0.0 x6=0.0 x7=0.0 x8=0.0 x9=0.0 x10=0.0>\n",
      "<ValueView x0=1.6386580447377165e-06 x1=-0.49312492085222454 x2=0.0 x3=0.0 x4=0.0 x5=0.0 x6=0.0 x7=0.0 x8=0.0 x9=0.0 x10=0.0>\n",
      "<ErrorView x0=0.0 x1=0.0 x2=0.0 x3=0.0 x4=0.0 x5=0.0 x6=0.0 x7=0.0 x8=0.0 x9=0.0 x10=0.0>\n",
      "<ValueView x0=1.7342158358845576e-06 x1=-0.5180522742743162 x2=0.0 x3=0.0 x4=0.0 x5=0.0 x6=0.0 x7=0.0 x8=0.0 x9=0.0 x10=0.0>\n",
      "<ErrorView x0=0.0 x1=0.0 x2=0.0 x3=0.0 x4=0.0 x5=0.0 x6=0.0 x7=0.0 x8=0.0 x9=0.0 x10=0.0>\n",
      "<ValueView x0=1.832709996637323e-06 x1=-0.5422433116739229 x2=0.0 x3=0.0 x4=0.0 x5=0.0 x6=0.0 x7=0.0 x8=0.0 x9=0.0 x10=0.0>\n",
      "<ErrorView x0=0.0 x1=0.0 x2=0.0 x3=0.0 x4=0.0 x5=0.0 x6=0.0 x7=0.0 x8=0.0 x9=0.0 x10=0.0>\n",
      "<ValueView x0=1.934180010910002e-06 x1=-0.565741979023382 x2=0.0 x3=0.0 x4=0.0 x5=0.0 x6=0.0 x7=0.0 x8=0.0 x9=0.0 x10=0.0>\n",
      "<ErrorView x0=0.0 x1=0.0 x2=0.0 x3=0.0 x4=0.0 x5=0.0 x6=0.0 x7=0.0 x8=0.0 x9=0.0 x10=0.0>\n",
      "<ValueView x0=2.0386816455514247e-06 x1=-0.5885927230851825 x2=0.0 x3=0.0 x4=0.0 x5=0.0 x6=0.0 x7=0.0 x8=0.0 x9=0.0 x10=0.0>\n",
      "<ErrorView x0=0.0 x1=0.0 x2=0.0 x3=0.0 x4=0.0 x5=0.0 x6=0.0 x7=0.0 x8=0.0 x9=0.0 x10=0.0>\n"
     ]
    },
    {
     "data": {
      "image/png": "[encoded data removed]",
      "text/plain": [
       "<Figure size 432x288 with 1 Axes>"
      ]
     },
     "metadata": {
      "needs_background": "light"
     },
     "output_type": "display_data"
    }
   ],
   "source": [
    "chisqs = []\n",
    "alphas = np.arange(0,2.05,0.05)\n",
    "\n",
    "for i in range(len(alphas)):\n",
    "    alpha = alphas[i]\n",
    "    dNdE2 = dNdE_b[4:] * np.exp(alpha*tau[7:37])\n",
    "    dNdE2_u = dNdE_b_u[4:] * np.exp(alpha*tau[7:37])\n",
    "    SED2 = np.square(E[7:37]) * dNdE2\n",
    "    SED_u2 = np.square(E[7:37]) * dNdE2_u\n",
    "    ydata = SED2\n",
    "    xdata = E[7:37]\n",
    "    knots = 3\n",
    "    ydata_u = SED_u2\n",
    "    initial_guess = np.array([5e-7, 0, 0, 0, 0, 0, 0, 0, 0, 0, 0]) #phi_0, lam1, deltas (len(deltas)=knots-2))\n",
    "    things = multiple_bpl_fit(initial_guess=initial_guess)\n",
    "    chi2 = chisq(SED2, multiple_bpl(E[7:37], things.values), SED_u2)\n",
    "    chisqs.append(chi2)\n",
    "\n",
    "    # if alpha == 0.1 or alpha == 0.15 or alpha == 0.9 or alpha == 1.:  #This is used to plot the data+ the fit when there is some alpha value we need to see.\n",
    "    #     plt.plot(xdata, multiple_bpl(xdata, things.values), label='concave fit', color = 'orange')\n",
    "    #     plt.errorbar(xdata, ydata, label='original',yerr = ydata_u, capsize=3, fmt='o', alpha=0.8)\n",
    "    #     plt.xscale('log')\n",
    "    #     plt.yscale('log')\n",
    "    #     plt.xlabel(r\"$E$ ($TeV$)\")\n",
    "    #     plt.ylabel(r\"$E^2$ $dF/dE$ ($TeV$ $m^{-2}$ $s^{-1}$)\")\n",
    "    #     plt.legend()\n",
    "    #     plt.show()\n",
    "\n",
    "plt.plot(alphas, chisqs, 'o')\n",
    "plt.yscale('log')\n",
    "plt.xlabel(r'$\\alpha$')\n",
    "plt.ylabel(r'$\\chi^2$')\n",
    "plt.show()"
   ]
  },
  {
   "cell_type": "markdown",
   "metadata": {},
   "source": [
    "Now we will repeat that but making a zoom between 0.76 and 1.14"
   ]
  },
  {
   "cell_type": "code",
   "execution_count": 25,
   "metadata": {},
   "outputs": [
    {
     "name": "stdout",
     "output_type": "stream",
     "text": [
      "<ValueView x0=4.6753711247834023e-07 x1=0.06453671903340742 x2=-0.5192271914703013 x3=-0.4115515778533763 x4=0.0 x5=0.0 x6=0.0 x7=0.0 x8=0.0 x9=0.0 x10=0.0>\n",
      "<ErrorView x0=0.0 x1=0.0 x2=0.0 x3=0.0 x4=0.0 x5=0.0 x6=0.0 x7=0.0 x8=0.0 x9=0.0 x10=0.0>\n",
      "<ValueView x0=4.726631811696761e-07 x1=0.06029810448640484 x2=-0.49893059961365477 x3=-0.40240992386467206 x4=1.1919170807293103e-06 x5=0.0 x6=0.0 x7=0.0 x8=0.0 x9=0.0 x10=0.0>\n",
      "<ErrorView x0=0.0 x1=0.0 x2=0.0 x3=0.0 x4=0.0 x5=0.0 x6=0.0 x7=0.0 x8=0.0 x9=0.0 x10=0.0>\n",
      "<ValueView x0=4.778432202931874e-07 x1=0.05606138723764709 x2=-0.47777458185979566 x3=-0.3930747287794208 x4=-1.3625516951703316e-06 x5=0.0 x6=0.0 x7=0.0 x8=0.0 x9=0.0 x10=0.0>\n",
      "<ErrorView x0=0.0 x1=0.0 x2=0.0 x3=0.0 x4=0.0 x5=0.0 x6=0.0 x7=0.0 x8=0.0 x9=0.0 x10=0.0>\n",
      "<ValueView x0=4.83077614292851e-07 x1=0.05182680512038928 x2=-0.4556391854906349 x3=-0.38353150312813583 x4=0.0 x5=0.0 x6=0.0 x7=0.0 x8=0.0 x9=0.0 x10=0.0>\n",
      "<ErrorView x0=0.0 x1=0.0 x2=0.0 x3=0.0 x4=0.0 x5=0.0 x6=0.0 x7=0.0 x8=0.0 x9=0.0 x10=0.0>\n",
      "<ValueView x0=4.883669815038582e-07 x1=0.04759425011784049 x2=-0.43237448838908094 x3=-0.3737627296411267 x4=0.0 x5=0.0 x6=0.0 x7=0.0 x8=0.0 x9=0.0 x10=0.0>\n",
      "<ErrorView x0=0.0 x1=0.0 x2=0.0 x3=0.0 x4=0.0 x5=0.0 x6=0.0 x7=0.0 x8=0.0 x9=0.0 x10=0.0>\n",
      "<ValueView x0=4.937118669705988e-07 x1=0.043363714854215585 x2=-0.4077870591279991 x3=-0.36375180377691174 x4=-8.363305775885035e-08 x5=0.0 x6=0.0 x7=0.0 x8=0.0 x9=0.0 x10=0.0>\n",
      "<ErrorView x0=0.0 x1=0.0 x2=0.0 x3=0.0 x4=0.0 x5=0.0 x6=0.0 x7=0.0 x8=0.0 x9=0.0 x10=0.0>\n",
      "<ValueView x0=4.991129041394804e-07 x1=0.039135156679881856 x2=-0.38162157711084044 x3=-0.3534765734853143 x4=-6.956359265177883e-09 x5=0.0 x6=0.0 x7=0.0 x8=0.0 x9=0.0 x10=0.0>\n",
      "<ErrorView x0=0.0 x1=0.0 x2=0.0 x3=0.0 x4=0.0 x5=0.0 x6=0.0 x7=0.0 x8=0.0 x9=0.0 x10=0.0>\n",
      "<ValueView x0=5.045706553211812e-07 x1=0.03490855699279642 x2=-0.35352781782493065 x3=-0.3429138838464364 x4=-2.2140672007398114e-06 x5=0.0 x6=0.0 x7=0.0 x8=0.0 x9=0.0 x10=0.0>\n",
      "<ErrorView x0=0.0 x1=0.0 x2=0.0 x3=0.0 x4=0.0 x5=0.0 x6=0.0 x7=0.0 x8=0.0 x9=0.0 x10=0.0>\n",
      "<ValueView x0=5.100856846078615e-07 x1=0.030683939313040035 x2=-0.3230033388644113 x3=-0.3320350060327326 x4=1.0047390294540542e-06 x5=0.0 x6=0.0 x7=0.0 x8=0.0 x9=0.0 x10=0.0>\n",
      "<ErrorView x0=0.0 x1=0.0 x2=0.0 x3=0.0 x4=0.0 x5=0.0 x6=0.0 x7=0.0 x8=0.0 x9=0.0 x10=0.0>\n",
      "<ValueView x0=5.156585466719359e-07 x1=0.02646131278329946 x2=-0.28927973695824233 x3=-0.3208078388667079 x4=0.0 x5=0.0 x6=0.0 x7=0.0 x8=0.0 x9=0.0 x10=0.0>\n",
      "<ErrorView x0=0.0 x1=0.0 x2=0.0 x3=0.0 x4=0.0 x5=0.0 x6=0.0 x7=0.0 x8=0.0 x9=0.0 x10=0.0>\n",
      "<ValueView x0=5.212898431791374e-07 x1=0.022240644595251557 x2=-0.2510707334375412 x3=-0.3091947618497793 x4=0.0 x5=0.0 x6=0.0 x7=0.0 x8=0.0 x9=0.0 x10=0.0>\n",
      "<ErrorView x0=0.0 x1=0.0 x2=0.0 x3=0.0 x4=0.0 x5=0.0 x6=0.0 x7=0.0 x8=0.0 x9=0.0 x10=0.0>\n",
      "<ValueView x0=5.269801973137911e-07 x1=0.01802192566375971 x2=-0.20589510963812316 x3=-0.2971491552855048 x4=0.0 x5=0.0 x6=0.0 x7=0.0 x8=0.0 x9=0.0 x10=0.0>\n",
      "<ErrorView x0=0.0 x1=0.0 x2=0.0 x3=0.0 x4=0.0 x5=0.0 x6=0.0 x7=0.0 x8=0.0 x9=0.0 x10=0.0>\n",
      "<ValueView x0=5.234512366680608e-07 x1=0.022171374486041322 x2=0.0 x3=-0.3227668150451367 x4=4.5539659286726543e-07 x5=0.0 x6=0.0 x7=0.0 x8=0.0 x9=0.0 x10=0.0>\n",
      "<ErrorView x0=0.0 x1=0.0 x2=0.0 x3=0.0 x4=0.0 x5=0.0 x6=0.0 x7=0.0 x8=0.0 x9=0.0 x10=0.0>\n",
      "<ValueView x0=5.304535284768696e-07 x1=0.017411488150367048 x2=0.0 x3=0.0 x4=-0.3498639986497818 x5=0.0 x6=0.0 x7=0.0 x8=0.0 x9=0.0 x10=0.0>\n",
      "<ErrorView x0=0.0 x1=0.0 x2=0.0 x3=0.0 x4=0.0 x5=0.0 x6=0.0 x7=0.0 x8=0.0 x9=0.0 x10=0.0>\n",
      "<ValueView x0=5.472247463664332e-07 x1=0.0034076865990181645 x2=0.0 x3=0.0 x4=0.0 x5=0.0 x6=0.0 x7=0.0 x8=0.0 x9=0.0 x10=0.0>\n",
      "<ErrorView x0=0.0 x1=0.0 x2=0.0 x3=0.0 x4=0.0 x5=0.0 x6=0.0 x7=0.0 x8=0.0 x9=0.0 x10=0.0>\n",
      "<ValueView x0=5.662315339122944e-07 x1=-0.012225546004570067 x2=0.0 x3=0.0 x4=0.0 x5=0.0 x6=0.0 x7=0.0 x8=0.0 x9=0.0 x10=0.0>\n",
      "<ErrorView x0=0.0 x1=0.0 x2=0.0 x3=0.0 x4=0.0 x5=0.0 x6=0.0 x7=0.0 x8=0.0 x9=0.0 x10=0.0>\n",
      "<ValueView x0=5.857274804705989e-07 x1=-0.027726047694759344 x2=0.0 x3=0.0 x4=0.0 x5=0.0 x6=0.0 x7=0.0 x8=0.0 x9=0.0 x10=0.0>\n",
      "<ErrorView x0=0.0 x1=0.0 x2=0.0 x3=0.0 x4=0.0 x5=0.0 x6=0.0 x7=0.0 x8=0.0 x9=0.0 x10=0.0>\n",
      "<ValueView x0=6.057166959359016e-07 x1=-0.0430920588322797 x2=0.0 x3=0.0 x4=0.0 x5=0.0 x6=0.0 x7=0.0 x8=0.0 x9=0.0 x10=0.0>\n",
      "<ErrorView x0=0.0 x1=0.0 x2=0.0 x3=0.0 x4=0.0 x5=0.0 x6=0.0 x7=0.0 x8=0.0 x9=0.0 x10=0.0>\n",
      "<ValueView x0=6.262024557909703e-07 x1=-0.05832141125006672 x2=0.0 x3=0.0 x4=0.0 x5=0.0 x6=0.0 x7=0.0 x8=0.0 x9=0.0 x10=0.0>\n",
      "<ErrorView x0=0.0 x1=0.0 x2=0.0 x3=0.0 x4=0.0 x5=0.0 x6=0.0 x7=0.0 x8=0.0 x9=0.0 x10=0.0>\n",
      "<ValueView x0=6.47187937651311e-07 x1=-0.07341230560372627 x2=0.0 x3=0.0 x4=0.0 x5=0.0 x6=0.0 x7=0.0 x8=0.0 x9=0.0 x10=0.0>\n",
      "<ErrorView x0=0.0 x1=0.0 x2=0.0 x3=0.0 x4=0.0 x5=0.0 x6=0.0 x7=0.0 x8=0.0 x9=0.0 x10=0.0>\n",
      "<ValueView x0=6.686758327034749e-07 x1=-0.0883629324008905 x2=0.0 x3=0.0 x4=0.0 x5=0.0 x6=0.0 x7=0.0 x8=0.0 x9=0.0 x10=0.0>\n",
      "<ErrorView x0=0.0 x1=0.0 x2=0.0 x3=0.0 x4=0.0 x5=0.0 x6=0.0 x7=0.0 x8=0.0 x9=0.0 x10=0.0>\n",
      "<ValueView x0=6.906684253564031e-07 x1=-0.10317155887061971 x2=0.0 x3=0.0 x4=0.0 x5=0.0 x6=0.0 x7=0.0 x8=0.0 x9=0.0 x10=0.0>\n",
      "<ErrorView x0=0.0 x1=0.0 x2=0.0 x3=0.0 x4=0.0 x5=0.0 x6=0.0 x7=0.0 x8=0.0 x9=0.0 x10=0.0>\n",
      "<ValueView x0=7.13167583759155e-07 x1=-0.11783653403913966 x2=0.0 x3=0.0 x4=0.0 x5=0.0 x6=0.0 x7=0.0 x8=0.0 x9=0.0 x10=0.0>\n",
      "<ErrorView x0=0.0 x1=0.0 x2=0.0 x3=0.0 x4=0.0 x5=0.0 x6=0.0 x7=0.0 x8=0.0 x9=0.0 x10=0.0>\n",
      "<ValueView x0=7.36174774066485e-07 x1=-0.1323563059162747 x2=0.0 x3=0.0 x4=0.0 x5=0.0 x6=0.0 x7=0.0 x8=0.0 x9=0.0 x10=0.0>\n",
      "<ErrorView x0=0.0 x1=0.0 x2=0.0 x3=0.0 x4=0.0 x5=0.0 x6=0.0 x7=0.0 x8=0.0 x9=0.0 x10=0.0>\n",
      "<ValueView x0=7.596911172615847e-07 x1=-0.14672948038508243 x2=0.0 x3=0.0 x4=0.0 x5=0.0 x6=0.0 x7=0.0 x8=0.0 x9=0.0 x10=0.0>\n",
      "<ErrorView x0=0.0 x1=0.0 x2=0.0 x3=0.0 x4=0.0 x5=0.0 x6=0.0 x7=0.0 x8=0.0 x9=0.0 x10=0.0>\n"
     ]
    },
    {
     "data": {
      "image/png": "[encoded data removed]",
      "text/plain": [
       "<Figure size 432x288 with 1 Axes>"
      ]
     },
     "metadata": {
      "needs_background": "light"
     },
     "output_type": "display_data"
    }
   ],
   "source": [
    "chisqs = []\n",
    "alphas = np.arange(0.75,1.25,0.02)\n",
    "\n",
    "for i in range(len(alphas)):\n",
    "    alpha = alphas[i]\n",
    "    dNdE2 = dNdE_b[4:] * np.exp(alpha*tau[7:37])\n",
    "    dNdE2_u = dNdE_b_u[4:] * np.exp(alpha*tau[7:37])\n",
    "    SED2 = np.square(E[7:37]) * dNdE2\n",
    "    SED_u2 = np.square(E[7:37]) * dNdE2_u\n",
    "    ydata = SED2\n",
    "    xdata = E[7:37]\n",
    "    knots = 3\n",
    "    ydata_u = SED_u2\n",
    "    initial_guess = np.array([5e-7, 0, 0, 0, 0, 0, 0, 0, 0, 0, 0]) #phi_0, lam1, deltas (len(deltas)=knots-2))\n",
    "    things = multiple_bpl_fit(initial_guess=initial_guess)\n",
    "    chi2 = chisq(SED2, multiple_bpl(E[7:37], things.values), SED_u2)\n",
    "    chisqs.append(chi2)\n",
    "\n",
    "    # if alpha == 0.1 or alpha == 0.15 or alpha == 0.9 or alpha == 1.:  #This is used to plot the data+ the fit when there is some alpha value we need to see.\n",
    "    #     plt.plot(xdata, multiple_bpl(xdata, things.values), label='concave fit', color = 'orange')\n",
    "    #     plt.errorbar(xdata, ydata, label='original',yerr = ydata_u, capsize=3, fmt='o', alpha=0.8)\n",
    "    #     plt.xscale('log')\n",
    "    #     plt.yscale('log')\n",
    "    #     plt.xlabel(r\"$E$ ($TeV$)\")\n",
    "    #     plt.ylabel(r\"$E^2$ $dF/dE$ ($TeV$ $m^{-2}$ $s^{-1}$)\")\n",
    "    #     plt.legend()\n",
    "    #     plt.show()\n",
    "plt.plot(alphas, chisqs, 'o')\n",
    "#plt.yscale('log')\n",
    "plt.xlabel(r'$\\alpha$')\n",
    "plt.ylabel(r'$\\chi^2$')\n",
    "plt.show()"
   ]
  },
  {
   "cell_type": "code",
   "execution_count": 26,
   "metadata": {},
   "outputs": [
    {
     "name": "stdout",
     "output_type": "stream",
     "text": [
      "alpha =  0\n",
      "<ValueView x0=3.1406718613112394e-07 x1=0.22051725752335768 x2=1.073383948852383 x3=0.0 x4=0.0>\n",
      "<ErrorView x0=7.930286270854555e-09 x1=0.01266829757512844 x2=0.009523942572077332 x3=1.4144819583327357 x4=0.06508095844765645>\n"
     ]
    },
    {
     "data": {
      "image/png": "[encoded data removed]",
      "text/plain": [
       "<Figure size 432x288 with 1 Axes>"
      ]
     },
     "metadata": {
      "needs_background": "light"
     },
     "output_type": "display_data"
    }
   ],
   "source": [
    "my_generator = np.random.default_rng(9)\n",
    "Simbckg1 = my_generator.poisson(bckgmu)\n",
    "# Simbckg1 = Simbckg1.astype(float)\n",
    "# for i in range(len(Simbckg1)):\n",
    "#     if Simbckg1[i] == 0:\n",
    "#         Simbckg1[i] = bckgmu[i]\n",
    "Simbckg1_u = np.sqrt(Simbckg1)\n",
    "Simbckg5 = my_generator.poisson(5*bckgmu)/5\n",
    "# Simbckg5 = Simbckg5.astype(float)\n",
    "# for i in range(len(Simbckg5)):\n",
    "#     if Simbckg5[i] == 0:\n",
    "#         Simbckg5[i] = bckgmu[i]\n",
    "Simbckg5_u = np.sqrt(Simbckg5)\n",
    "\n",
    "N = my_generator.poisson(mu_vec_reco)\n",
    "\n",
    "for i in range(len(N)): #this is used to avoid crashing when dividing by 0.\n",
    "    if N[i] == 0:\n",
    "        N[i] = 1\n",
    "N_u = np.sqrt(N)\n",
    "\n",
    "NpB = np.around(N + Simbckg1 - Simbckg5).astype(int)\n",
    "NpB_u = N_u + Simbckg1_u - Simbckg5_u\n",
    "\n",
    "dNdE_b = NpB[1:] / EffaA2[1:35] / Ebinsw[3:37] / time  #not strictly correct after energy migration\n",
    "dNdE_b_u = NpB_u[1:] / EffaA2[1:35] / Ebinsw[3:37] / time\n",
    "\n",
    "SED = np.square(E[3:37]) * dNdE_b\n",
    "SED_u = np.square(E[3:37]) * dNdE_b_u\n",
    "\n",
    "chisqs = []\n",
    "alphas = np.arange(0,2.05,0.05) #if you want to change the alpha values\n",
    "\n",
    "\n",
    "alpha = 0\n",
    "print(\"alpha = \", alpha)\n",
    "dNdE2 = dNdE_b[4:] * np.exp(alpha*tau[7:37])\n",
    "dNdE2_u = dNdE_b_u[4:] * np.exp(alpha*tau[7:37])\n",
    "SED2 = np.square(E[7:37]) * dNdE2\n",
    "SED_u2 = np.square(E[7:37]) * dNdE2_u\n",
    "ydata = SED2\n",
    "xdata = E[7:37]\n",
    "knots = 3\n",
    "ydata_u = SED_u2\n",
    "initial_guess = np.array([5e-7, 0, 0, 0, 0]) #phi_0, lam1, deltas (len(deltas)=knots))\n",
    "things = multiple_bpl_fit(initial_guess=initial_guess)\n",
    "chi2 = chisq(SED2, multiple_bpl(E[7:37], things.values), SED_u2)\n",
    "\n",
    "plt.plot(xdata, multiple_bpl(xdata, things.values), label='concave fit', color = 'orange')\n",
    "plt.errorbar(xdata, ydata, label='original',yerr = ydata_u, capsize=3, fmt='o', alpha=0.8)\n",
    "plt.xscale('log')\n",
    "plt.yscale('log')\n",
    "plt.xlabel(r\"$E$ ($TeV$)\")\n",
    "plt.ylabel(r\"$E^2$ $dF/dE$ ($TeV$ $m^{-2}$ $s^{-1}$)\")\n",
    "plt.legend()\n",
    "plt.show() "
   ]
  },
  {
   "cell_type": "code",
   "execution_count": 29,
   "metadata": {},
   "outputs": [
    {
     "name": "stdout",
     "output_type": "stream",
     "text": [
      "<ValueView x0=5.244120277901452e-07 x1=0.020740467688220923 x2=0.0 x3=0.0 x4=0.0>\n",
      "<ErrorView x0=6.786882772693187e-09 x1=0.007005435368103961 x2=1.4158228566319144 x3=0.12049175026572706 x4=0.11307420741761837>\n",
      "alpha =  1.05\n",
      "<ValueView x0=5.69735159800532e-07 x1=-0.016983303140318057 x2=0.0 x3=0.0 x4=0.0>\n",
      "<ErrorView x0=7.538809277051276e-09 x1=0.00718544689139771 x2=0.08540724647223395 x3=0.10571712961692391 x4=0.22216701341332923>\n",
      "alpha =  1.1\n",
      "<ValueView x0=6.178396105990031e-07 x1=-0.053858943203316426 x2=0.0 x3=0.0 x4=0.0>\n",
      "<ErrorView x0=8.359029343723856e-09 x1=0.007365426884165271 x2=0.05493469753935641 x3=0.07694751575794843 x4=0.18450360326011164>\n",
      "alpha =  1.1500000000000001\n",
      "<ValueView x0=6.687665030479791e-07 x1=-0.08986789792829751 x2=0.0 x3=0.0 x4=0.0>\n",
      "<ErrorView x0=9.253254483094353e-09 x1=0.007549618569803394 x2=0.04410664676908001 x3=0.06478851131999515 x4=0.16517839733323667>\n",
      "alpha =  1.2000000000000002\n",
      "<ValueView x0=7.225459183438472e-07 x1=-0.12499506939414017 x2=0.0 x3=0.0 x4=0.0>\n",
      "<ErrorView x0=1.0225268774417797e-08 x1=0.007737404518922344 x2=0.0382082701748124 x3=0.05794605722263599 x4=0.15383085067001695>\n",
      "alpha =  1.2500000000000002\n",
      "<ValueView x0=7.791973869631644e-07 x1=-0.15922931711920324 x2=0.0 x3=0.0 x4=0.0>\n",
      "<ErrorView x0=1.127863328022823e-08 x1=0.007928133413356877 x2=0.03441670346026834 x3=0.05360186089586877 x4=0.14685492175536866>\n",
      "alpha =  1.3000000000000003\n",
      "<ValueView x0=8.387308369577073e-07 x1=-0.1925638970153987 x2=0.0 x3=0.0 x4=0.0>\n",
      "<ErrorView x0=1.2416634878202675e-08 x1=0.00812112286575971 x2=0.03175251373306326 x3=0.05067582945044758 x4=0.1426340830143247>\n",
      "alpha =  1.3500000000000003\n",
      "<ValueView x0=9.011479827116202e-07 x1=-0.22499680812938955 x2=0.0 x3=0.0 x4=0.0>\n",
      "<ErrorView x0=1.3642253136807283e-08 x1=0.008315669440193046 x2=0.029774344059541893 x3=0.048654910685499125 x4=0.1403292325031638>\n",
      "alpha =  1.4000000000000004\n",
      "<ValueView x0=9.66444104820332e-07 x1=-0.25653102136574296 x2=0.0 x3=0.0 x4=0.0>\n",
      "<ErrorView x0=1.4958138733136872e-08 x1=0.008511059438846549 x2=0.02825019267153323 x3=0.04726101843860279 x4=0.1394617825359348>\n",
      "alpha =  1.4500000000000004\n",
      "<ValueView x0=1.0346101395536206e-06 x1=-0.28717456966635996 x2=0.0 x3=0.0 x4=0.0>\n",
      "<ErrorView x0=1.6366611713788225e-08 x1=0.008706583364427395 x2=0.027044859855377357 x3=0.04632926724758497 x4=0.13974110089393507>\n",
      "alpha =  1.5000000000000004\n",
      "<ValueView x0=1.1056349697209995e-06 x1=-0.3169404870334507 x2=0.0 x3=0.0 x4=0.0>\n",
      "<ErrorView x0=1.7869686283636165e-08 x1=0.008901555440873956 x2=0.02607346350140631 x3=0.04575534003109208 x4=0.1409833882415812>\n",
      "alpha =  1.5500000000000005\n",
      "<ValueView x0=1.1795077914275425e-06 x1=-0.3458465935874354 x2=0.0 x3=0.0 x4=0.0>\n",
      "<ErrorView x0=1.9469105994415576e-08 x1=0.009095328095209368 x2=0.0252796051292823 x3=0.04546994362864498 x4=0.14306979678676104>\n",
      "alpha =  1.6000000000000005\n",
      "<ValueView x0=1.2562204259622968e-06 x1=-0.37391513453750475 x2=0.0 x3=0.0 x4=0.0>\n",
      "<ErrorView x0=2.1166397095041954e-08 x1=0.009287306394732565 x2=0.0246240972382533 x3=0.04542528900448974 x4=0.14592319993408506>\n",
      "alpha =  1.6500000000000006\n",
      "<ValueView x0=1.3357694537762674e-06 x1=-0.40117229120374726 x2=0.0 x3=0.0 x4=0.0>\n",
      "<ErrorView x0=2.2962946141843215e-08 x1=0.00947696545004051 x2=0.0240787057992661 x3=0.04558743838310832 x4=0.14949456002997583>\n",
      "alpha =  1.7000000000000006\n",
      "<ValueView x0=1.418158067076413e-06 x1=-0.42764759080938053 x2=0.0 x3=0.0 x4=0.0>\n",
      "<ErrorView x0=2.4860065440709512e-08 x1=0.009663854894783153 x2=0.02362246962089933 x3=0.04593173368169794 x4=0.1537545616470337>\n",
      "alpha =  1.7500000000000007\n",
      "<ValueView x0=1.5033974343323491e-06 x1=-0.45337320044508084 x2=0.0 x3=0.0 x4=0.0>\n",
      "<ErrorView x0=2.6796400758169413e-08 x1=0.009824633151162065 x2=0.0232394301770249 x3=0.046439944982750836 x4=0.15868829818649163>\n",
      "alpha =  1.8000000000000007\n",
      "<ValueView x0=1.5915084563067819e-06 x1=-0.4783834704140031 x2=0.0 x3=0.0 x4=0.0>\n",
      "<ErrorView x0=2.8961383411917168e-08 x1=0.010027938991351898 x2=0.022917187886720834 x3=0.047098421229193596 x4=0.16429176108692725>\n",
      "alpha =  1.8500000000000008\n",
      "<ValueView x0=1.682520871954855e-06 x1=-0.5027136804185688 x2=0.0 x3=0.0 x4=0.0>\n",
      "<ErrorView x0=3.1082397780648736e-08 x1=0.010176452365735975 x2=0.02264591469795323 x3=0.04789686941712656 x4=0.17056960712372157>\n",
      "alpha =  1.9000000000000008\n",
      "<ValueView x0=1.7764760972642881e-06 x1=-0.526400268590739 x2=0.0 x3=0.0 x4=0.0>\n",
      "<ErrorView x0=3.348229021339715e-08 x1=0.010377605374081618 x2=0.022417730874004935 x3=0.04882749655071 x4=0.1775334557885957>\n",
      "alpha =  1.9500000000000008\n",
      "<ValueView x0=1.8734242703409357e-06 x1=-0.5494792063619632 x2=0.0 x3=0.0 x4=0.0>\n",
      "<ErrorView x0=3.590466215085588e-08 x1=0.01054675915569881 x2=0.022226211033200115 x3=0.04988444243278215 x4=0.18520099781889393>\n",
      "alpha =  2.000000000000001\n",
      "<ValueView x0=1.973426237965416e-06 x1=-0.5719862669733119 x2=0.0 x3=0.0 x4=0.0>\n",
      "<ErrorView x0=3.8437942822714146e-08 x1=0.010712111680573289 x2=0.022066078872973426 x3=0.05106334351524612 x4=0.19359515090524315>\n",
      "alpha =  1.0\n",
      "<ValueView x0=5.347490858458831e-07 x1=0.01127025119340664 x2=-0.1385384312590527 x3=0.0 x4=0.0>\n",
      "<ErrorView x0=1.4618384958797372e-08 x1=0.01363662999053314 x2=0.08559032152352926 x3=0.19715908351201808 x4=0.28211416350289187>\n",
      "alpha =  0.95\n",
      "<ValueView x0=5.221084173089767e-07 x1=0.020365254122769415 x2=-0.2790065147489547 x3=-1.6638984036564655e-08 x4=0.0>\n",
      "<ErrorView x0=1.4268201267513562e-08 x1=0.013635814563157473 x2=0.04236693706722015 x3=0.2914302990142237 x4=0.29892742125749755>\n",
      "alpha =  0.8999999999999999\n",
      "<ValueView x0=5.094556403631079e-07 x1=0.02973209009048251 x2=-0.36792407541496563 x3=0.05558625876811619 x4=-1.174502778046701e-06>\n",
      "<ErrorView x0=1.4709823652726827e-08 x1=0.01425435298191419 x2=0.04194100356959063 x3=0.47263184806497527 x4=0.3121368355582474>\n",
      "alpha =  0.8499999999999999\n",
      "<ValueView x0=4.95630311058055e-07 x1=0.040429160929777934 x2=-0.4321370267684544 x3=-0.14994168812264919 x4=-3.56190131138731e-09>\n",
      "<ErrorView x0=1.4305477247038226e-08 x1=0.014252087409359583 x2=0.03562060196359692 x3=0.1756182696398466 x4=0.2914102368476123>\n",
      "alpha =  0.7999999999999998\n",
      "<ValueView x0=4.821659364015631e-07 x1=0.0511384986176504 x2=-0.4879837274353039 x3=-0.20488888761241228 x4=-1.1665443080586384e-06>\n",
      "<ErrorView x0=1.3879626179071739e-08 x1=0.014215238568736457 x2=0.031485404598892285 x3=0.12931505921955808 x4=0.2744691015603868>\n",
      "alpha =  0.7499999999999998\n",
      "<ValueView x0=4.690531148439023e-07 x1=0.0618604732218406 x2=-0.5380741167847971 x3=-0.24816537760342552 x4=1.6543106555585545e-09>\n",
      "<ErrorView x0=1.350624510650454e-08 x1=0.01422133855375714 x2=0.028532920933105447 x3=0.10726884260133142 x4=0.2603014715241492>\n",
      "alpha =  0.6999999999999997\n",
      "<ValueView x0=4.562828409335195e-07 x1=0.07259529588276156 x2=-0.5838903285119015 x3=-0.2851442103396462 x4=-1.1899233067686076e-08>\n",
      "<ErrorView x0=1.3096835936271184e-08 x1=0.014178167487789571 x2=0.0262159701268629 x3=0.09383367821069039 x4=0.2482417889436932>\n",
      "alpha =  0.6499999999999997\n",
      "<ValueView x0=4.4384635728791054e-07 x1=0.08334317901193973 x2=-0.6263699670206664 x3=-0.31803699147738623 x4=3.558965397897927e-09>\n",
      "<ErrorView x0=1.272390836629602e-08 x1=0.014162202843294449 x2=0.024397774029388402 x3=0.08456562827697546 x4=0.2378285605733535>\n",
      "alpha =  0.5999999999999996\n",
      "<ValueView x0=4.3173509270612453e-07 x1=0.09410435619024858 x2=-0.6661505247308096 x3=-0.34801146006927564 x4=-2.3783602420142194e-09>\n",
      "<ErrorView x0=1.2358872278007124e-08 x1=0.014143566462297615 x2=0.02289987779004299 x3=0.07769009078099559 x4=0.22873180287290676>\n",
      "alpha =  0.5499999999999996\n",
      "<ValueView x0=4.199407756076588e-07 x1=0.10487899051641132 x2=-0.7036889836231824 x3=-0.375773246443364 x4=-5.310075062751781e-10>\n",
      "<ErrorView x0=1.20034695990658e-08 x1=0.01412446174303918 x2=0.02163864722062679 x3=0.07233728784101819 x4=0.2207078017202432>\n",
      "alpha =  0.49999999999999956\n",
      "<ValueView x0=4.084552737255825e-07 x1=0.11566732308221478 x2=-0.7393259650040744 x3=-0.4017877247518959 x4=6.226468621508423e-10>\n",
      "<ErrorView x0=1.1659389586559077e-08 x1=0.014107100973798227 x2=0.020561204660341285 x3=0.06803138124060593 x4=0.21357231483540134>\n",
      "alpha =  0.4499999999999995\n",
      "<ValueView x0=3.972707000574723e-07 x1=0.12646955041762567 x2=-0.7733234696559304 x3=-0.4263810151433906 x4=1.2194903265243818e-07>\n",
      "<ErrorView x0=1.1324968055506096e-08 x1=0.0140899536761714 x2=0.019625223375787614 x3=0.06447497218265662 x4=0.20718320833866172>\n",
      "alpha =  0.39999999999999947\n",
      "<ValueView x0=3.8637936848333884e-07 x1=0.1372858757189904 x2=-0.8058880430669297 x3=-0.44979269954770906 x4=9.278743748239907e-08>\n",
      "<ErrorView x0=1.1002377893443857e-08 x1=0.014076032640753426 x2=0.0188061629061836 x3=0.061483767459424174 x4=0.20142871578980676>\n",
      "alpha =  0.3499999999999994\n",
      "<ValueView x0=3.757737609717452e-07 x1=0.1481165235664617 x2=-0.8371861670876084 x3=-0.4722037328356689 x4=-1.929247632818646e-07>\n",
      "<ErrorView x0=1.0711047826500884e-08 x1=0.014091181816477815 x2=0.0181101638348784 x3=0.05895350695456335 x4=0.1962198883135686>\n",
      "alpha =  0.2999999999999994\n",
      "<ValueView x0=3.6544671483126847e-07 x1=0.15896154201743484 x2=-0.8673541520203236 x3=-0.49375663037849943 x4=1.3091795685426609e-07>\n",
      "<ErrorView x0=1.0403817549827318e-08 x1=0.014075348980464622 x2=0.017455043602175604 x3=0.056732252604215126 x4=0.19148470155714745>\n",
      "alpha =  0.24999999999999933\n",
      "<ValueView x0=3.5539099244727395e-07 x1=0.169821265102066 x2=-0.8965051579193862 x3=-0.5145648053386304 x4=4.6814856538945643e-08>\n",
      "<ErrorView x0=1.0077114890666953e-08 x1=0.014021333005449206 x2=0.01682369719120618 x3=0.054746321049018255 x4=0.18716432406631553>\n",
      "alpha =  0.1999999999999993\n",
      "<ValueView x0=3.4559973076300654e-07 x1=0.18069581790106323 x2=-0.9247345789112198 x3=-0.5347208771099671 x4=3.764029084604669e-08>\n",
      "<ErrorView x0=9.78653761079727e-09 x1=0.014004348109394837 x2=0.016286149500920444 x3=0.053026062624083346 x4=0.1832098756089139>\n",
      "alpha =  0.14999999999999925\n",
      "<ValueView x0=3.3606617469644543e-07 x1=0.19158539350018233 x2=-0.9521236120565046 x3=-0.5543014864583454 x4=-1.3640032722859614e-07>\n",
      "<ErrorView x0=9.504237994791823e-09 x1=0.01398769596314996 x2=0.015795293017144087 x3=0.05149486185057375 x4=0.17958082485075086>\n",
      "alpha =  0.0999999999999992\n",
      "<ValueView x0=3.267837831412643e-07 x1=0.20249011805822523 x2=-0.9787420673738799 x3=-0.5733709565921138 x4=-3.339440853066065e-08>\n",
      "<ErrorView x0=9.229852042214277e-09 x1=0.013971212487136994 x2=0.015344461172117104 x3=0.050122822212875506 x4=0.17624305680650368>\n",
      "alpha =  0.049999999999999156\n",
      "<ValueView x0=3.177461175445874e-07 x1=0.21341022948934388 x2=-1.0046503732948369 x3=-0.5919843558344612 x4=-4.0208705409762116e-08>\n",
      "<ErrorView x0=8.963423317727688e-09 x1=0.013955276150017107 x2=0.014929096361069422 x3=0.04888748774432603 x4=0.17316752821483758>\n",
      "alpha =  -8.881784197001252e-16\n",
      "<ValueView x0=3.089469687795621e-07 x1=0.22434584842874847 x2=-1.029901409883436 x3=-0.610188742009118 x4=-1.617096445214356e-08>\n",
      "<ErrorView x0=8.703374658444303e-09 x1=0.0139377208722279 x2=0.014543178567420953 x3=0.04776881490859271 x4=0.17032958025051603>\n"
     ]
    },
    {
     "data": {
      "image/png": "[encoded data removed]",
      "text/plain": [
       "<Figure size 432x288 with 1 Axes>"
      ]
     },
     "metadata": {
      "needs_background": "light"
     },
     "output_type": "display_data"
    }
   ],
   "source": [
    "my_generator = np.random.default_rng(6)\n",
    "Simbckg1 = my_generator.poisson(bckgmu)\n",
    "# Simbckg1 = Simbckg1.astype(float)\n",
    "# for i in range(len(Simbckg1)):\n",
    "#     if Simbckg1[i] == 0:\n",
    "#         Simbckg1[i] = bckgmu[i]\n",
    "Simbckg1_u = np.sqrt(Simbckg1)\n",
    "Simbckg5 = my_generator.poisson(5*bckgmu)/5\n",
    "# Simbckg5 = Simbckg5.astype(float)\n",
    "# for i in range(len(Simbckg5)):\n",
    "#     if Simbckg5[i] == 0:\n",
    "#         Simbckg5[i] = bckgmu[i]\n",
    "Simbckg5_u = np.sqrt(Simbckg5)\n",
    "\n",
    "N = my_generator.poisson(mu_vec_reco)\n",
    "\n",
    "for i in range(len(N)): #this is used to avoid crashing when dividing by 0.\n",
    "    if N[i] == 0:\n",
    "        N[i] = 1\n",
    "N_u = np.sqrt(N)\n",
    "\n",
    "NpB = np.around(N + Simbckg1 - Simbckg5).astype(int)\n",
    "NpB_u = N_u + Simbckg1_u - Simbckg5_u\n",
    "\n",
    "dNdE_b = NpB[1:] / EffaA2[1:35] / Ebinsw[3:37] / time  #not strictly correct after energy migration\n",
    "dNdE_b_u = NpB_u[1:] / EffaA2[1:35] / Ebinsw[3:37] / time\n",
    "\n",
    "SED = np.square(E[3:37]) * dNdE_b\n",
    "SED_u = np.square(E[3:37]) * dNdE_b_u\n",
    "\n",
    "chisqs = []\n",
    "# alphas = np.arange(0,2.05,0.05) #if you want to change the alpha values\n",
    "alphas1 = np.arange(1.05,2.05,0.05)\n",
    "alphas2 = np.arange(1, -0.05, -0.05)\n",
    "alphas = np.append(alphas1, alphas2)\n",
    "\n",
    "alpha = 1\n",
    "dNdE2 = dNdE_b[4:] * np.exp(alpha*tau[7:37])\n",
    "dNdE2_u = dNdE_b_u[4:] * np.exp(alpha*tau[7:37])\n",
    "SED2 = np.square(E[7:37]) * dNdE2\n",
    "SED_u2 = np.square(E[7:37]) * dNdE2_u\n",
    "ydata = SED2\n",
    "xdata = E[7:37]\n",
    "knots = 3\n",
    "ydata_u = SED_u2\n",
    "initial_guess = np.array([5e-7, 0, 0, 0, 0]) #phi_0, lam1, deltas (len(deltas)=knots))\n",
    "things = multiple_bpl_fit(initial_guess=initial_guess)\n",
    "\n",
    "\n",
    "initial_guess_mat = np.zeros((len(alphas)+1, 5))\n",
    "initial_guess_mat[0] = things.values #phi_0, lam1, deltas (len(deltas)=knots))\n",
    "\n",
    "for i in range(len(alphas)):\n",
    "    alpha = alphas[i]\n",
    "    print(\"alpha = \", alpha)\n",
    "    dNdE2 = dNdE_b[4:] * np.exp(alpha*tau[7:37])\n",
    "    dNdE2_u = dNdE_b_u[4:] * np.exp(alpha*tau[7:37])\n",
    "    SED2 = np.square(E[7:37]) * dNdE2\n",
    "    SED_u2 = np.square(E[7:37]) * dNdE2_u\n",
    "    ydata = SED2\n",
    "    xdata = E[7:37]\n",
    "    knots = 3\n",
    "    ydata_u = SED_u2\n",
    "    # initial_guess = np.array([5e-7, 0, 0, 0, 0])\n",
    "    initial_guess = initial_guess_mat[i] \n",
    "    if alpha == 1.:\n",
    "        initial_guess = initial_guess_mat [0]\n",
    "    things = multiple_bpl_fit(initial_guess=initial_guess)\n",
    "    if i < (len(alphas)):\n",
    "        initial_guess_mat[i+1] = things.values\n",
    "    chi2 = chisq(SED2, multiple_bpl(E[7:37], things.values), SED_u2)\n",
    "    chisqs.append(chi2)\n",
    "\n",
    "plt.plot(alphas, chisqs, 'o')\n",
    "#plt.yscale('log')\n",
    "# plt.xlim(0.75,1.15)\n",
    "# plt.ylim(30,40)\n",
    "plt.xlabel(r'$\\alpha$')\n",
    "plt.ylabel(r'$\\chi^2$')\n",
    "plt.show()\n"
   ]
  },
  {
   "cell_type": "code",
   "execution_count": null,
   "metadata": {},
   "outputs": [],
   "source": []
  }
 ],
 "metadata": {
  "interpreter": {
   "hash": "31f2aee4e71d21fbe5cf8b01ff0e069b9275f58929596ceb00d14d90e3e16cd6"
  },
  "kernelspec": {
   "display_name": "Python 3.8.10 64-bit",
   "name": "python3"
  },
  "language_info": {
   "codemirror_mode": {
    "name": "ipython",
    "version": 3
   },
   "file_extension": ".py",
   "mimetype": "text/x-python",
   "name": "python",
   "nbconvert_exporter": "python",
   "pygments_lexer": "ipython3",
   "version": "3.8.10"
  },
  "orig_nbformat": 4
 },
 "nbformat": 4,
 "nbformat_minor": 2
}
