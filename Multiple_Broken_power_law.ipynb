{
 "metadata": {
  "language_info": {
   "codemirror_mode": {
    "name": "ipython",
    "version": 3
   },
   "file_extension": ".py",
   "mimetype": "text/x-python",
   "name": "python",
   "nbconvert_exporter": "python",
   "pygments_lexer": "ipython3",
   "version": "3.8.10"
  },
  "orig_nbformat": 4,
  "kernelspec": {
   "name": "python3",
   "display_name": "Python 3.8.10 64-bit"
  },
  "interpreter": {
   "hash": "31f2aee4e71d21fbe5cf8b01ff0e069b9275f58929596ceb00d14d90e3e16cd6"
  }
 },
 "nbformat": 4,
 "nbformat_minor": 2,
 "cells": [
  {
   "cell_type": "code",
   "execution_count": 1,
   "metadata": {},
   "outputs": [],
   "source": [
    "import numpy as np\n",
    "import scipy as sc\n",
    "import matplotlib.pyplot as plt\n",
    "import pandas as pd\n",
    "import scipy.optimize as optimize\n",
    "from iminuit import Minuit"
   ]
  },
  {
   "cell_type": "code",
   "execution_count": 2,
   "metadata": {},
   "outputs": [],
   "source": [
    "def chisq(obs, exp, error):\n",
    "    return np.sum(np.square(obs - exp) / np.square(error))"
   ]
  },
  {
   "source": [
    "We will first try with the usual broken power law:"
   ],
   "cell_type": "markdown",
   "metadata": {}
  },
  {
   "cell_type": "code",
   "execution_count": 3,
   "metadata": {},
   "outputs": [],
   "source": [
    "def br_po_lw(xdata, E1, fl_0, lam1, sqrtdelta_lam12):\n",
    "    E0 = xdata[0]\n",
    "    polw = np.zeros(len(xdata))\n",
    "    lam2 = lam1 + sqrtdelta_lam12**2 #for multiple broken power law add lam_i = lam_(i-1) + delta_lam\n",
    "    phi_0 = fl_0\n",
    "    phi_1 = phi_0 * ((E1/E0) ** (-lam1))\n",
    "    for i in range(len(xdata)):\n",
    "        if xdata[i] < E1:#you can add E>E0\n",
    "            polw[i] = phi_0 * ((xdata[i]/E0) ** (-lam1))\n",
    "        else:#you can add elifs for multiple broken power law\n",
    "            polw[i] = phi_1 * ((xdata[i]/E1) ** (-lam2))\n",
    "    return polw"
   ]
  },
  {
   "source": [
    "Now let's add the $\\chi^2$ to the function in order to minimize:"
   ],
   "cell_type": "markdown",
   "metadata": {}
  },
  {
   "cell_type": "code",
   "execution_count": 4,
   "metadata": {},
   "outputs": [],
   "source": [
    "def br_po_lw_chsq(params): \n",
    "    #you need to define theE, SED and SED_u before(E and SED must be a numpy.array and SED an scalar or a numpy.array)\n",
    "    E1, fl_0, lam1, sqrtdelta_lam12 = params\n",
    "    E0 = xdata[0]\n",
    "    polw = np.zeros(len(xdata))\n",
    "    lam2 = lam1 + sqrtdelta_lam12**2 #for multiple broken power law add lam_i = lam_(i-1) + delta_lam\n",
    "    phi_0 = fl_0\n",
    "    phi_1 = phi_0 * ((E1/E0) ** (-lam1))\n",
    "    for i in range(len(xdata)):\n",
    "        if xdata[i] < E1:#you can add E>E0\n",
    "            polw[i] = phi_0 * ((xdata[i]/E0) ** (-lam1))\n",
    "        else:#you can add elifs for multiple broken power law\n",
    "            polw[i] = phi_1 * ((xdata[i]/E1) ** (-lam2))\n",
    "    return np.sum(np.square(ydata - polw) / np.square(ydata_u))"
   ]
  },
  {
   "source": [
    "In this case we will define the multiple broken power law, but as it depends on the number of knots it will be much longer."
   ],
   "cell_type": "markdown",
   "metadata": {}
  },
  {
   "cell_type": "code",
   "execution_count": 6,
   "metadata": {},
   "outputs": [],
   "source": [
    "#m = Minuit(LSQ, a=5, b=5,\n",
    " #          error_a=0.1, error_b=0.1,\n",
    " #          limit_a=(0, None), limit_b=(0, 10),\n",
    " #          errordef=1)"
   ]
  },
  {
   "source": [
    "from now on the position of the knots will not be a free parameter anymore in order to make the convergence of the fit easier"
   ],
   "cell_type": "markdown",
   "metadata": {}
  },
  {
   "cell_type": "code",
   "execution_count": 8,
   "metadata": {},
   "outputs": [],
   "source": [
    "def multiple_bpl(params):\n",
    "    print('Warning: the shape of the parametes will depend on the number of knots (defined as knots)')\n",
    "    if knots < 3 or knots >3: #change this when adding more number of knots\n",
    "        raise Exception('at thins moment knots can only be equal to 3')\n",
    "    polw = np.zeros(len(xdata))\n",
    "    E0 = xdata[0]\n",
    "    if knots == 3:\n",
    "        phi_0, lam0, sqrtdelta_lam01 = params\n",
    "        E1 = (E0 + xdata[-1]) / 2\n",
    "        lam1 = lam0 + sqrtdelta_lam01**2 \n",
    "        phi_1 = phi_0 * ((E1/E0) ** (-lam0))\n",
    "        for i in range(len(xdata)):\n",
    "            if xdata[i] < E1:\n",
    "                polw[i] = phi_0 * ((xdata[i]/E0) ** (-lam0))\n",
    "            else:\n",
    "                polw[i] = phi_1 * ((xdata[i]/E1) ** (-lam1))\n",
    "\n",
    "\n",
    "\n",
    "\n",
    "\n",
    "\n",
    "\n",
    "    return polw\n"
   ]
  },
  {
   "cell_type": "code",
   "execution_count": 9,
   "metadata": {},
   "outputs": [],
   "source": [
    "# least-squares score function = sum of data residuals squared\n",
    "def LSQ(params):\n",
    "    return np.sum((ydata - multiple_bpl(xdata, params)) ** 2 / ydata_u ** 2)"
   ]
  },
  {
   "cell_type": "code",
   "execution_count": 19,
   "metadata": {},
   "outputs": [],
   "source": [
    "def multiple_bpl_fit(knots, xdata, ydata, ydata_u, initial_guess):\n",
    "    LSQ.errordef = Minuit.LIKELIHOOD\n",
    "\n",
    "    m = Minuit(LSQ, initial_guess)\n",
    "\n",
    "    m.migrad()\n",
    "    print(m.values)\n",
    "\n",
    "    m.hesse()\n",
    "    print(m.errors)\n",
    "\n",
    "    return m"
   ]
  },
  {
   "cell_type": "code",
   "execution_count": null,
   "metadata": {},
   "outputs": [],
   "source": []
  }
 ]
}