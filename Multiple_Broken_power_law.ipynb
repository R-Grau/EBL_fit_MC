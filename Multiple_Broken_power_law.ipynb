{
 "cells": [
  {
   "cell_type": "code",
   "execution_count": 1,
   "metadata": {},
   "outputs": [],
   "source": [
    "import numpy as np\n",
    "import scipy as sc\n",
    "import matplotlib.pyplot as plt\n",
    "import scipy.optimize as optimize\n",
    "from iminuit import Minuit\n",
    "import pandas as pd\n",
    "import scipy.interpolate as interpolate\n",
    "from scipy.integrate import quad"
   ]
  },
  {
   "cell_type": "code",
   "execution_count": 2,
   "metadata": {},
   "outputs": [],
   "source": [
    "def chisq(obs, exp, error):\n",
    "    return np.sum(np.square(obs - exp) / np.square(error))"
   ]
  },
  {
   "cell_type": "markdown",
   "metadata": {},
   "source": [
    "We will first try with the usual convex broken power law:"
   ]
  },
  {
   "cell_type": "code",
   "execution_count": 3,
   "metadata": {},
   "outputs": [],
   "source": [
    "def br_po_lw(xdata, E1, fl_0, lam1, sqrtdelta_lam12):\n",
    "    E0 = xdata[0]\n",
    "    polw = np.zeros(len(xdata))\n",
    "    lam2 = lam1 + sqrtdelta_lam12**2 #for multiple broken power law add lam_i = lam_(i-1) + delta_lam\n",
    "    phi_0 = fl_0\n",
    "    phi_1 = phi_0 * ((E1/E0) ** (-lam1))\n",
    "    for i in range(len(xdata)):\n",
    "        if xdata[i] < E1:#you can add E>E0\n",
    "            polw[i] = phi_0 * ((xdata[i]/E0) ** (-lam1))\n",
    "        else:#you can add elifs for multiple broken power law\n",
    "            polw[i] = phi_1 * ((xdata[i]/E1) ** (-lam2))\n",
    "    return polw"
   ]
  },
  {
   "cell_type": "markdown",
   "metadata": {},
   "source": [
    "Now let's add the $\\chi^2$ to the function in order to minimize:"
   ]
  },
  {
   "cell_type": "code",
   "execution_count": 4,
   "metadata": {},
   "outputs": [],
   "source": [
    "def br_po_lw_chsq(params): \n",
    "    #you need to define theE, SED and SED_u before(E and SED must be a numpy.array and SED an scalar or a numpy.array)\n",
    "    E1, fl_0, lam1, sqrtdelta_lam12 = params\n",
    "    E0 = xdata[0]\n",
    "    polw = np.zeros(len(xdata))\n",
    "    lam2 = lam1 + sqrtdelta_lam12**2 #for multiple broken power law add lam_i = lam_(i-1) + delta_lam\n",
    "    phi_0 = fl_0\n",
    "    phi_1 = phi_0 * ((E1/E0) ** (-lam1))\n",
    "    for i in range(len(xdata)):\n",
    "        if xdata[i] < E1:#you can add E>E0\n",
    "            polw[i] = phi_0 * ((xdata[i]/E0) ** (-lam1))\n",
    "        else:#you can add elifs for multiple broken power law\n",
    "            polw[i] = phi_1 * ((xdata[i]/E1) ** (-lam2))\n",
    "    return np.sum(np.square(ydata - polw) / np.square(ydata_u))"
   ]
  },
  {
   "cell_type": "markdown",
   "metadata": {},
   "source": [
    "As we will do a multiple broken power law, from now on the position of the knots will not be a free parameter anymore in order to make the convergence of the fit easier."
   ]
  },
  {
   "cell_type": "code",
   "execution_count": 5,
   "metadata": {},
   "outputs": [],
   "source": [
    "def multiple_bpl(xdata, params):\n",
    "    if knots < 3 or knots > 30: #change this when adding more number of knots\n",
    "        raise Exception('knots have to be larger or equal than 3 and smaller than 30')\n",
    "    else:\n",
    "        polw = np.zeros(len(xdata))\n",
    "        Es = np.geomspace(xdata[0], xdata[-1], knots)\n",
    "        lam = np.zeros(knots-1)\n",
    "        phi = np.zeros(knots-1)\n",
    "        phi_0 = params[0] #len(sqrtdelta_lam) = len(lam)-1 = len(phi)-1\n",
    "        lam0 = params[1]\n",
    "        sqrtdelta_lam = params[2:knots]\n",
    "        lam[0] = lam0\n",
    "        phi[0] = phi_0\n",
    "        for i in range(1, knots-1):\n",
    "            lam[i] = lam[i-1] + (sqrtdelta_lam[i-1]) ** 2\n",
    "            phi[i] = phi[i-1] * ((Es[i]/Es[i-1]) ** (-lam[i-1]))\n",
    "        for i in range(knots-1):\n",
    "            for j in range(len(xdata)):\n",
    "                if Es[i] < xdata[j] <= Es[i+1]:\n",
    "                    polw[j] = phi[i] * ((xdata[j] / Es[i]) ** (-lam[i]))\n",
    "                elif xdata[j] <= Es[1]:\n",
    "                    polw[j] = phi[0] * ((xdata[j] / Es[0]) ** (-lam[0]))\n",
    "                elif xdata[j] > Es[-1]:\n",
    "                    polw[j] = phi[-2] * ((xdata[j] / Es[-2]) ** (-lam[-2]))\n",
    "    return polw\n"
   ]
  },
  {
   "cell_type": "code",
   "execution_count": 6,
   "metadata": {},
   "outputs": [],
   "source": [
    "# least-squares score function = sum of data residuals squared\n",
    "def LSQ(params):\n",
    "    return np.sum((ydata - multiple_bpl(xdata, params)) ** 2 / ydata_u ** 2)"
   ]
  },
  {
   "cell_type": "markdown",
   "metadata": {},
   "source": [
    "Now we define the function of the fit"
   ]
  },
  {
   "cell_type": "code",
   "execution_count": 7,
   "metadata": {},
   "outputs": [],
   "source": [
    "def multiple_bpl_fit(initial_guess):\n",
    "    #print('Warning: the shape of the parametes will depend on the number of knots (defined as knots)')\n",
    "    #print('Warning: this will give the parameters of the fit and its errors which have to be put into the multiple_bpl function in order to get the fit')\n",
    "    LSQ.errordef = Minuit.LIKELIHOOD\n",
    "\n",
    "    m = Minuit(LSQ, initial_guess)\n",
    "\n",
    "    m.migrad()\n",
    "    print(m.values)\n",
    "\n",
    "    m.hesse()\n",
    "    print(m.errors)\n",
    "\n",
    "    return m"
   ]
  },
  {
   "cell_type": "markdown",
   "metadata": {},
   "source": [
    "Let's check that the program works as intended"
   ]
  },
  {
   "cell_type": "code",
   "execution_count": 8,
   "metadata": {},
   "outputs": [],
   "source": [
    "file = np.loadtxt('tau_dominguez11.out')\n",
    "\n",
    "pdfile = pd.DataFrame(file)\n",
    "pdfile = pdfile.rename(columns={ 0 : 'E [TeV]', 1: 'tau z=0.01', 2: 'tau z=0.02526316', 3: 'tau z=0.04052632', 4: 'tau z=0.05578947', 5: 'tau z=0.07105263', 6: 'tau z=0.08631579', 7: 'tau z=0.10157895', 8: 'tau z=0.11684211', 9: 'tau z=0.13210526', 10: 'tau z=0.14736842', 11: 'tau z=0.16263158', 12: 'tau z=0.17789474', 13: 'tau z=0.19315789', 14: 'tau z=0.20842105'})\n",
    "\n",
    "E = pdfile['E [TeV]'].to_numpy()\n",
    "tau = pdfile['tau z=0.20842105'].to_numpy()\n",
    "logE = np.log10(E)\n",
    "\n",
    "K =  8.70e-6 #m−2  s−1  TeV−1\n",
    "dNdE = K / ((E/0.25)**2.03) \n",
    "m_tau = -tau\n",
    "dNdEa = dNdE * np.exp(m_tau)\n",
    "SED = np.square(E) * dNdEa\n",
    "SED_u = SED * 0.1"
   ]
  },
  {
   "cell_type": "code",
   "execution_count": 9,
   "metadata": {
    "tags": []
   },
   "outputs": [
    {
     "name": "stdout",
     "output_type": "stream",
     "text": [
      "<ValueView x0=5.703573030881759e-07 x1=0.05181409518620117 x2=0.2481752174159884 x3=0.12751631830264518 x4=-0.13303751000114533 x5=-0.353006711563082 x6=-0.3388464958272586 x7=0.5014433255900446 x8=0.7413015775805903 x9=0.5422732634474405 x10=0.015726475865771097 x11=-0.020655008739311094 x12=0.0006732442506016266 x13=0.0026533262258690966 x14=0.0014525182178424054 x15=0.0021507098749621876 x16=-0.00037238666012531503 x17=-0.006950326608418294 x18=0.036197795941185405 x19=-0.9887584521541709>\n",
      "<ErrorView x0=2.5453931819428655e-08 x1=0.11330948849163683 x2=0.21508071846200344 x3=0.2435199484654368 x4=0.2507092015455024 x5=0.21091108192233685 x6=0.2439636680681158 x7=0.2122915189791456 x8=0.17536053240284627 x9=0.1615778239975399 x10=0.266006210029611 x11=0.17827343864435966 x12=0.13224780582026088 x13=0.11041521747274846 x14=0.10460079629874304 x15=0.11259173205992398 x16=0.14123929843467098 x17=0.21814298119261563 x18=0.4864430652796149 x19=0.16512627885781886>\n"
     ]
    }
   ],
   "source": [
    "ydata = SED[3:37]\n",
    "xdata = E[3:37]\n",
    "knots = 20\n",
    "ydata_u = SED_u[3:37]\n",
    "initial_guess = np.array([5e-7, 0, 1, 1, 1, 1, 1, 1, 1, 1, 1, 1, 1, 1, 1, 1, 1, 1, 1, 1]) #phi_0, lam1, deltas (len(deltas)=knots-2))\n",
    "things = multiple_bpl_fit(initial_guess=initial_guess)"
   ]
  },
  {
   "cell_type": "code",
   "execution_count": 10,
   "metadata": {},
   "outputs": [
    {
     "data": {
      "image/png": "[encoded data removed]",
      "text/plain": [
       "<Figure size 432x288 with 1 Axes>"
      ]
     },
     "metadata": {
      "needs_background": "light"
     },
     "output_type": "display_data"
    }
   ],
   "source": [
    "Egam = np.geomspace(E[3],E[36], 300)\n",
    "\n",
    "plt.plot(Egam, multiple_bpl(Egam, things.values), label='concave fit', color = 'orange')\n",
    "plt.errorbar(xdata, ydata, label='original',yerr = ydata_u, capsize=3, fmt='o', alpha=0.8)\n",
    "plt.xscale('log')\n",
    "plt.yscale('log')\n",
    "plt.legend()\n",
    "plt.show()"
   ]
  },
  {
   "cell_type": "markdown",
   "metadata": {},
   "source": [
    "Now let's try it with more realistic data. For that, we will copy the data from the Aeff_bkg_spline.ipynb"
   ]
  },
  {
   "cell_type": "code",
   "execution_count": 11,
   "metadata": {},
   "outputs": [],
   "source": [
    "fileEA = np.loadtxt('EffArea50h.txt', skiprows = 11)\n",
    "EffA = pd.DataFrame(fileEA)\n",
    "EffA = EffA.rename(columns={ 0 : 'E [TeV]', 1: 'Eff area (m^2)'})\n",
    "EffaE= EffA['E [TeV]'].to_numpy()\n",
    "Effa = EffA['Eff area (m^2)'].to_numpy()\n",
    "\n",
    "#absorption file\n",
    "file = np.loadtxt('tau_dominguez11.out')\n",
    "pdfile = pd.DataFrame(file)\n",
    "pdfile = pdfile.rename(columns={ 0 : 'E [TeV]', 1: 'tau z=0.01', 2: 'tau z=0.02526316', 3: 'tau z=0.04052632', 4: 'tau z=0.05578947', 5: 'tau z=0.07105263', 6: 'tau z=0.08631579', 7: 'tau z=0.10157895', 8: 'tau z=0.11684211', 9: 'tau z=0.13210526', 10: 'tau z=0.14736842', 11: 'tau z=0.16263158', 12: 'tau z=0.17789474', 13: 'tau z=0.19315789', 14: 'tau z=0.20842105'})\n",
    "E = pdfile['E [TeV]'].to_numpy()\n",
    "tau = pdfile['tau z=0.20842105'].to_numpy()"
   ]
  },
  {
   "cell_type": "code",
   "execution_count": 12,
   "metadata": {},
   "outputs": [],
   "source": [
    "fileBkg = np.loadtxt('Bkg50h.txt', skiprows = 10)\n",
    "Bkgpd = pd.DataFrame(fileBkg)\n",
    "Bkgpd = Bkgpd.rename(columns={ 0 : 'E_min (TeV)', 1: 'E_max (TeV)', 2: 'Bck Rate (Hz/deg^2)'})\n",
    "\n",
    "BckgEmin = Bkgpd['E_min (TeV)'].to_numpy()\n",
    "BckgEmax = Bkgpd['E_max (TeV)'].to_numpy()\n",
    "Bckg = Bkgpd['Bck Rate (Hz/deg^2)'].to_numpy()\n",
    "BckgEdiff = BckgEmax - BckgEmin\n",
    "\n",
    "BckgElogmean = []\n",
    "for i in range(len(Bckg)):\n",
    "    BckgElogmean.append(10**(np.mean([np.log10(BckgEmax[i]), np.log10(BckgEmin[i])])))\n",
    "\n",
    "\n",
    "Ebinsmin = np.zeros(len(E))\n",
    "Ebinsmax = np.zeros(len(E))\n",
    "\n",
    "for i in range(1, len(E)):\n",
    "    Ebinsmin[i] = 10**(np.mean([np.log10(E[i]), np.log10(E[i-1])]))\n",
    "for i in range(len(E) - 1):\n",
    "    Ebinsmax[i] = 10**(np.mean([np.log10(E[i]), np.log10(E[i+1])]))\n",
    "    \n",
    "Ebinsmin[0] = 10**(np.log10(Ebinsmin[1])-(np.log10(Ebinsmin[2])-np.log10(Ebinsmin[1])))\n",
    "Ebinsmax[len(E)-1] = 10**(np.log10(Ebinsmax[len(E)-2])-(np.log10(Ebinsmax[len(E)-3])-np.log10(Ebinsmax[len(E)-2])))\n",
    "Ebinsw = Ebinsmax - Ebinsmin"
   ]
  },
  {
   "cell_type": "code",
   "execution_count": 13,
   "metadata": {},
   "outputs": [],
   "source": [
    "DifBckg = Bckg / (BckgEmax - BckgEmin) #Hz/deg**2\n",
    "def log_interp1d(xx, yy):\n",
    "    logx = np.log10(xx)\n",
    "    logy = np.log10(yy)\n",
    "    interp = interpolate.interp1d(logx, logy, fill_value='extrapolate', kind='slinear')\n",
    "    log_interp = lambda zz: np.power(10.0, interp(np.log10(zz)))\n",
    "    return log_interp\n",
    "\n",
    "interpolation = log_interp1d(BckgElogmean,DifBckg)"
   ]
  },
  {
   "cell_type": "code",
   "execution_count": 14,
   "metadata": {},
   "outputs": [],
   "source": [
    "def trapint(toplim, bottomlim):\n",
    "    return ((toplim - bottomlim) * (interpolation(toplim) + interpolation(bottomlim)) / 2)\n",
    "\n",
    "def sqint(toplim, bottomlim):\n",
    "    return ((toplim - bottomlim) * (interpolation((toplim + bottomlim) / 2)))\n"
   ]
  },
  {
   "cell_type": "code",
   "execution_count": 15,
   "metadata": {},
   "outputs": [],
   "source": [
    "newBckgrate = np.zeros([len(E[3:37]),2])\n",
    "for i in range(len(E[3:37])):\n",
    "    newBckgrate[i] = quad(interpolation, Ebinsmin[i+3], Ebinsmax[i+3])\n",
    "newBckgrate = newBckgrate[:,0]\n",
    "\n",
    "newlogBckg5 = trapint(Ebinsmax[3:37], Ebinsmin[3:37])\n",
    "\n",
    "newlogBckg6 = sqint(Ebinsmax[3:37], Ebinsmin[3:37])"
   ]
  },
  {
   "cell_type": "code",
   "execution_count": 16,
   "metadata": {},
   "outputs": [],
   "source": [
    "#“photon index  = 2.03  +/- 0.03 and normalization factor at 250 GeV    f0 = (8.70 +/- 0.17) * 10^-10 cm^-2  s^-1  TeV^-1.”\n",
    "K =  8.70e-6 #m−2  s−1  TeV−1\n",
    "dNdE = K / ((E/0.25)**2.03) \n",
    "m_tau = -tau\n",
    "dNdEa = dNdE * np.exp(m_tau)"
   ]
  },
  {
   "cell_type": "code",
   "execution_count": 17,
   "metadata": {},
   "outputs": [],
   "source": [
    "EffaA2 = np.zeros(len(E[3:37]))\n",
    "for i in range(len(E[3:37])):\n",
    "    for j in range(len(EffaE[9:51])):\n",
    "        if EffaE[j+9] < E[i+3] and EffaE[j+10] > E[i+3]:\n",
    "            m = (Effa[j+10]-Effa[j+9])/(EffaE[j+10]-EffaE[j+9])\n",
    "            n = Effa[j+9] - m * EffaE[j+9]\n",
    "            EffaA2[i] = m * E[i+3] + n"
   ]
  },
  {
   "cell_type": "code",
   "execution_count": 18,
   "metadata": {},
   "outputs": [],
   "source": [
    "fileAng = np.loadtxt('Angres.txt', skiprows = 11)\n",
    "Angresall = pd.DataFrame(fileAng)\n",
    "Angresall = Angresall.rename(columns={ 0 : 'E [TeV]', 1: 'Angular resolution (deg)'})\n",
    "AngresE= Angresall['E [TeV]'].to_numpy()\n",
    "Angres = Angresall['Angular resolution (deg)'].to_numpy()\n",
    "\n",
    "logAngres = np.log10(Angres)\n",
    "logAngresE = np.log10(AngresE)\n",
    "logE = np.log10(E)\n",
    "\n",
    "\n",
    "logAngres2 = np.zeros(len(E[3:37]))\n",
    "for i in range(len(E[3:37])):\n",
    "    for j in range(len(AngresE[1:-1])):\n",
    "        if logAngresE[j+1] < logE[i+3] and logAngresE[j+2] > logE[i+3]:\n",
    "            m = (logAngres[j+2]-logAngres[j+1])/(logAngresE[j+2]-logAngresE[j+1])\n",
    "            n = logAngres[j+1] - m * logAngresE[j+1]\n",
    "            logAngres2[i] = m * logE[i+3] + n\n",
    "Angres2 = 10**logAngres2"
   ]
  },
  {
   "cell_type": "code",
   "execution_count": 19,
   "metadata": {},
   "outputs": [],
   "source": [
    "def degtorad(ang):\n",
    "    return ang * np.pi / 180\n",
    "\n",
    "\n",
    "time = 42480 #42480 #180000#s\n",
    "skyang = (180/np.pi)**2 * 2 * np.pi * (1-np.cos(degtorad(Angres2)))#deg^2\n",
    "\n",
    "bckgmu = newBckgrate * time * skyang\n",
    "\n",
    "my_generator = np.random.default_rng(2021)\n",
    "Simbckg1 = my_generator.poisson(bckgmu)\n",
    "# Simbckg1 = bckgmu\n",
    "Simbckg1 = Simbckg1.astype(float)\n",
    "for i in range(len(Simbckg1)):\n",
    "    if Simbckg1[i] == 0:\n",
    "        Simbckg1[i] = bckgmu[i]\n",
    "Simbckg1_u = np.sqrt(Simbckg1)\n",
    "Simbckg5 = my_generator.poisson(5*bckgmu)/5\n",
    "# Simbckg5 = 5*bckgmu/5\n",
    "Simbckg5 = Simbckg5.astype(float)\n",
    "for i in range(len(Simbckg5)):\n",
    "    if Simbckg5[i] == 0:\n",
    "        Simbckg5[i] = bckgmu[i]\n",
    "Simbckg5_u = np.sqrt(Simbckg5)"
   ]
  },
  {
   "cell_type": "code",
   "execution_count": 20,
   "metadata": {},
   "outputs": [],
   "source": [
    "mu = dNdEa[3:37] * EffaA2 * Ebinsw[3:37] * time \n",
    "N = my_generator.poisson(mu)\n",
    "# N = mu\n",
    "\n",
    "for i in range(len(N)):\n",
    "    if N[i] == 0:\n",
    "        N[i] = mu[i]\n",
    "N_u = np.sqrt(N)\n",
    "dNdE_p = dNdEa[3:37] * N/mu\n",
    "dNdE_p_u = dNdEa[3:37] * 1/np.sqrt(N)\n",
    "\n",
    "Simbckg = (Simbckg1 - Simbckg5) / EffaA2 / Ebinsw[3:37] / time\n",
    "Simbckg_u = (Simbckg1_u + Simbckg5_u) / EffaA2 / Ebinsw[3:37] / time\n",
    "\n",
    "\n",
    "dNdE_b = dNdE_p + Simbckg\n",
    "dNdE_b_u = dNdE_p_u + Simbckg_u"
   ]
  },
  {
   "cell_type": "code",
   "execution_count": 21,
   "metadata": {},
   "outputs": [],
   "source": [
    "SED = np.square(E[3:37]) * dNdE_b\n",
    "SED_u = np.square(E[3:37]) * dNdE_b_u"
   ]
  },
  {
   "cell_type": "code",
   "execution_count": 22,
   "metadata": {},
   "outputs": [
    {
     "data": {
      "image/png": "[encoded data removed]",
      "text/plain": [
       "<Figure size 432x288 with 1 Axes>"
      ]
     },
     "metadata": {
      "needs_background": "light"
     },
     "output_type": "display_data"
    }
   ],
   "source": [
    "plt.errorbar(E[3:37], SED, label='original',yerr = SED_u, capsize=3, fmt='o', alpha=0.8)\n",
    "plt.xscale('log')\n",
    "plt.yscale('log')\n",
    "plt.xlabel(r\"$E$ ($TeV$)\")\n",
    "plt.ylabel(r\"$E^2$ $dF/dE$ ($TeV$ $m^{-2}$ $s^{-1}$)\")\n",
    "plt.legend()\n",
    "plt.show()"
   ]
  },
  {
   "cell_type": "markdown",
   "metadata": {},
   "source": [
    "Okay, now let's test the new fitting method:"
   ]
  },
  {
   "cell_type": "code",
   "execution_count": 23,
   "metadata": {},
   "outputs": [
    {
     "name": "stdout",
     "output_type": "stream",
     "text": [
      "<ValueView x0=5.656440803306359e-07 x1=0.048740202454146675 x2=-0.5082128835433398 x3=-0.8992672697597098 x4=-0.7350644496887507 x5=-3.983620995107141e-05 x6=0.0>\n",
      "<ErrorView x0=1.6709713338061027e-08 x1=0.04803560427296684 x2=0.06787622232745628 x3=0.030668570832464683 x4=0.044374920175150386 x5=0.1025308102090477 x6=0.20851869110167548>\n"
     ]
    },
    {
     "data": {
      "image/png": "[encoded data removed]",
      "text/plain": [
       "<Figure size 432x288 with 1 Axes>"
      ]
     },
     "metadata": {
      "needs_background": "light"
     },
     "output_type": "display_data"
    }
   ],
   "source": [
    "ydata = SED\n",
    "xdata = E[3:37]\n",
    "knots = 7\n",
    "ydata_u = SED_u\n",
    "initial_guess = np.array([5e-7, 0, 0, 0, 0, 0, 0]) #phi_0, lam1, deltas (len(deltas)=knots-2))\n",
    "things = multiple_bpl_fit(initial_guess=initial_guess)\n",
    "\n",
    "Egam = np.geomspace(E[3],E[36], 300)\n",
    "\n",
    "plt.plot(Egam, multiple_bpl(Egam, things.values), label='concave fit', color = 'orange')\n",
    "plt.errorbar(xdata, ydata, label='original',yerr = ydata_u, capsize=3, fmt='o', alpha=0.8)\n",
    "plt.xscale('log')\n",
    "plt.yscale('log')\n",
    "plt.xlabel(r\"$E$ ($TeV$)\")\n",
    "plt.ylabel(r\"$E^2$ $dF/dE$ ($TeV$ $m^{-2}$ $s^{-1}$)\")\n",
    "plt.legend()\n",
    "plt.show()"
   ]
  },
  {
   "cell_type": "code",
   "execution_count": 28,
   "metadata": {},
   "outputs": [
    {
     "name": "stdout",
     "output_type": "stream",
     "text": [
      "<ValueView x0=5.658822755662123e-07 x1=0.046896530194815 x2=-0.26906056105096104 x3=-0.43359542386483446 x4=-0.6291059603852536 x5=-0.8242359123662278 x6=-0.4621879804213088 x7=0.0018598231726045177 x8=0.0 x9=0.0 x10=-0.002899645483001853>\n",
      "<ErrorView x0=1.6631918159463964e-08 x1=0.061236803691967025 x2=0.1404147188955614 x3=0.09389159774340265 x4=0.07305361456424946 x5=0.06566628824024831 x6=0.10312379942117646 x7=0.1118317113672853 x8=0.11476902479551511 x9=0.1758347659818785 x10=0.35233890959780145>\n",
      "<ValueView x0=4.346200588018185e-07 x1=-1.3813630294337458 x2=-1.5149390076841063 x3=0.0 x4=0.0 x5=0.0 x6=0.0 x7=0.0 x8=0.0 x9=0.0 x10=0.0>\n",
      "<ErrorView x0=5.018821963804599e-09 x1=0.01739726409647108 x2=0.0061227872346728595 x3=0.02381921760059672 x4=0.049840180765105 x5=1.4160823612535596 x6=0.04480581310354623 x7=0.02695474552800271 x8=0.021834454826465385 x9=0.019847999233577527 x10=0.018962139809093757>\n",
      "<ValueView x0=5.470119534055545e-07 x1=-0.20476834715888315 x2=-0.744408823147806 x3=0.0 x4=0.0 x5=-1.03748793654504 x6=0.002444865170673589 x7=0.00018346732627204658 x8=3.602237831673535e-06 x9=0.0004401149020783457 x10=-3.4386106316697436e-05>\n",
      "<ErrorView x0=1.3023392045379439e-08 x1=0.051036986439991355 x2=0.03734080071921272 x3=0.1742589647262975 x4=1.4156722474778316 x5=0.014625877162973516 x6=0.0728755300753596 x7=0.0628476436812162 x8=0.06334849013448351 x9=0.0692275184517393 x10=0.07334840437412975>\n",
      "<ValueView x0=5.645520199718489e-07 x1=-0.005191306329045012 x2=-0.4445931368549268 x3=0.0 x4=-0.6683631979871895 x5=-0.7278052214285456 x6=-0.43425060950254973 x7=3.1468580502886853e-06 x8=7.0629014720850845e-06 x9=-4.419138202316913e-05 x10=7.168081960806866e-05>\n",
      "<ErrorView x0=1.746530153193787e-08 x1=0.07394162093961586 x2=0.09685154426091433 x3=1.4258607096688967 x4=0.04826833771339036 x5=0.06332641491895184 x6=0.09265458280195117 x7=0.09894741702982178 x8=0.1004097027549088 x9=0.12990375347153382 x10=0.16518012844073038>\n",
      "<ValueView x0=5.496145588258712e-07 x1=-0.18139707139518293 x2=-0.7044765197459232 x3=0.0 x4=0.0 x5=-0.9771817855033582 x6=-0.003311883970709019 x7=-0.00018782259475104467 x8=0.0 x9=5.864883660344582e-05 x10=-0.0006846690952215613>\n",
      "<ErrorView x0=1.3300223012491312e-08 x1=0.052160215783560546 x2=0.04029415301561536 x3=0.1819188966147262 x4=1.415629509796271 x5=0.015523905408249777 x6=0.07676197874595404 x7=0.06563452221956219 x8=0.06625891078499624 x9=0.0726963683777346 x10=0.0772851402805554>\n",
      "<ValueView x0=5.70462250018409e-07 x1=0.06480977187894982 x2=-0.10135518759201853 x3=-0.4199534406264234 x4=-0.5322258409269904 x5=-0.714637479338914 x6=-0.39083355015074617 x7=-0.001667805300869958 x8=0.0 x9=0.0 x10=0.0>\n",
      "<ErrorView x0=1.590653550933026e-08 x1=0.049274546397621403 x2=0.24716977172048465 x3=0.09847936927699276 x4=0.09158531311595912 x5=0.0785419686180272 x6=0.12292077817516765 x7=0.11944427275630412 x8=0.12236701554451405 x9=0.18529158698009 x10=0.3611428406575532>\n",
      "<ValueView x0=5.657703228914364e-07 x1=-0.0006985333310138898 x2=-0.40555227964643464 x3=0.0 x4=-0.6097908914480973 x5=-0.6575004395431583 x6=-0.38956161526473543 x7=-0.00010454320596718636 x8=0.0 x9=0.00023380774743663466 x10=0.0>\n",
      "<ErrorView x0=1.7460550250176044e-08 x1=0.073692449120941 x2=0.10586938010820957 x3=1.4308656006668625 x4=0.05291578785728537 x5=0.06971306214151439 x6=0.10157125621545064 x7=0.1036708794553787 x8=0.10539820859642422 x9=0.13660699549552188 x10=0.1748156540084455>\n",
      "<ValueView x0=5.662923570884603e-07 x1=0.0017643591948102682 x2=-0.38986758887219025 x3=0.0 x4=-0.5901322591404066 x5=-0.6307963527686886 x6=-0.3759275741851358 x7=0.00033663245892377096 x8=0.0 x9=0.0 x10=0.0>\n",
      "<ErrorView x0=1.752226616080853e-08 x1=0.07385848741650171 x2=0.11028412790779697 x3=1.4263338517061843 x4=0.054703921647126834 x5=0.0728833150183397 x6=0.10548065846377681 x7=0.10627639099964771 x8=0.10833270498747401 x9=0.1416603891846319 x10=0.1840417652221305>\n",
      "<ValueView x0=5.667015723905154e-07 x1=0.0032072369568222382 x2=-0.37555413934645787 x3=0.0 x4=-0.5684827078902941 x5=-0.6045385615840013 x6=-0.35950435700677863 x7=-9.680064627835209e-05 x8=0.0 x9=0.0 x10=0.0>\n",
      "<ErrorView x0=1.752567034120036e-08 x1=0.07377435600277331 x2=0.11433454460626816 x3=1.431569125296995 x4=0.05661167948322806 x5=0.07545093693576362 x6=0.10897180334436811 x7=0.10763433235242727 x8=0.1097237068198094 x9=0.14294220548971284 x10=0.18481585645920667>\n",
      "<ValueView x0=5.561180439951003e-07 x1=-0.12298227043120395 x2=-0.5929334967148275 x3=0.0 x4=0.0 x5=-0.807604914025256 x6=-0.0002061400768328071 x7=-4.523715072241713e-05 x8=0.0 x9=0.0 x10=0.0>\n",
      "<ErrorView x0=1.4098066466448781e-08 x1=0.05549873038934909 x2=0.05085339709437202 x3=0.21719668598300845 x4=1.415677211123217 x5=0.018783264053357004 x6=0.09037434873161825 x7=0.07493829240252407 x8=0.07608619069225997 x9=0.084710753946045 x10=0.09119626478874644>\n",
      "<ValueView x0=5.709375605326885e-07 x1=0.05332490109202745 x2=-0.030927682915297523 x3=-0.35697570051231853 x4=-0.43685258205019484 x5=-0.577686264941945 x6=-0.31226609209248174 x7=-0.00015968681769030986 x8=0.0 x9=0.0 x10=0.0>\n",
      "<ErrorView x0=1.550506278826904e-08 x1=0.04152058897524921 x2=0.40573359274141896 x3=0.11571525986799418 x4=0.11493171306458591 x5=0.09909832012292712 x6=0.1536760269873241 x7=0.12851472205032505 x8=0.13219643402048617 x9=0.19753835811114043 x10=0.37029817379482444>\n",
      "<ValueView x0=5.709010257445471e-07 x1=0.05021626218041778 x2=-0.016135322249031626 x3=-0.3423981427210769 x4=-0.4151925606867633 x5=-0.546183009460823 x6=-0.2949794348837424 x7=-7.84885332200103e-05 x8=0.0 x9=0.0 x10=0.0>\n",
      "<ErrorView x0=1.5430912445934398e-08 x1=0.03976141195350587 x2=0.47628446613711295 x3=0.11969421177768334 x4=0.12022412910719728 x5=0.10404810724317491 x6=0.16137029033941547 x7=0.13039756777964306 x8=0.134437429711491 x9=0.20032771926991774 x10=0.3720635107662111>\n",
      "<ValueView x0=5.708221119605602e-07 x1=0.046751736096401986 x2=-0.016339186419932202 x3=-0.326573963667036 x4=-0.3925487402175799 x5=-0.5123869070174529 x6=-0.27700960803821145 x7=9.679474086321624e-05 x8=-8.685742719937706e-07 x9=-9.444310148104749e-07 x10=-1.0541934051603517e-06>\n",
      "<ErrorView x0=1.540207749173986e-08 x1=0.03954409580319358 x2=0.4421294998259441 x3=0.12499649833399097 x4=0.1268966930173927 x5=0.11093026216245716 x6=0.17151581562393395 x7=0.1325551891155593 x8=0.13690173525907282 x9=0.2033698468187885 x10=0.3739390032785794>\n",
      "<ValueView x0=5.707502814304662e-07 x1=0.04335546809286368 x2=-0.009374075475844441 x3=-0.31010005726831896 x4=-0.36840966906246786 x5=-0.47638743750668655 x6=-0.25789266672318195 x7=0.0 x8=0.0 x9=0.0 x10=0.0>\n",
      "<ErrorView x0=1.5431248246818175e-08 x1=0.039301392656734664 x2=0.5485325476220028 x3=0.13301013393839486 x4=0.13676759582864764 x5=0.12004334632478644 x6=0.18432442303212765 x7=0.13484082244625287 x8=0.13952883784617925 x9=0.20659607328996038 x10=0.3758228513265815>\n",
      "<ValueView x0=5.706826059541013e-07 x1=0.04001399054891648 x2=-0.005945256835142774 x3=-0.2920290590186728 x4=-0.3431526351282202 x5=-0.4371341808562324 x6=-0.23760507344520113 x7=1.0872645354797698e-06 x8=4.81437131100957e-07 x9=4.810937678467533e-07 x10=4.674485187219946e-07>\n",
      "<ErrorView x0=1.532484560431141e-08 x1=0.03857426522121961 x2=0.44171757693657693 x3=0.13947182620968576 x4=0.14564457775555256 x5=0.13025802323709013 x6=0.1989113984307716 x7=0.13719452601671955 x8=0.14231354130342758 x9=0.2100069985974604 x10=0.37770362928543416>\n",
      "<ValueView x0=5.706878809234428e-07 x1=0.036809442596551924 x2=0.0014596454155631007 x3=-0.27178466682038205 x4=-0.31693740256939434 x5=-0.3934015723045485 x6=-0.21607315598584415 x7=0.0 x8=0.0 x9=0.0 x10=0.0>\n",
      "<ErrorView x0=1.5511096974734764e-08 x1=0.03935278653250408 x2=0.9903627545480758 x3=0.1546202624207394 x4=0.16185961430613488 x5=0.14675109383346507 x6=0.220024653338064 x7=0.13979975406634698 x8=0.14533733019490996 x9=0.2136746682836883 x10=0.3796264531656193>\n",
      "<ValueView x0=5.7051004188529e-07 x1=0.033026149529917274 x2=-0.009933862394045773 x3=-0.25258179504640244 x4=-0.2858403531445357 x5=-0.34512230239093994 x6=-0.192083055557368 x7=3.4701942768714294e-06 x8=1.7768986095889653e-06 x9=1.8738628146968715e-06 x10=1.7273412416317809e-06>\n",
      "<ErrorView x0=1.553747138455421e-08 x1=0.0401200057279843 x2=0.7018130628412391 x3=0.16639544130115722 x4=0.17923462136720936 x5=0.16728930030840355 x6=0.24692924247990156 x7=0.14247509058223104 x8=0.14854947751127417 x9=0.21755643698339297 x10=0.38153568767254153>\n",
      "<ValueView x0=5.703884342947145e-07 x1=0.02950147283291262 x2=-0.006232066721940332 x3=-0.23126158480984485 x4=-0.2515089847835952 x5=-0.28867186936988143 x6=-0.16490448999181906 x7=1.0605097735495074e-06 x8=4.797883479591698e-07 x9=4.586830391403745e-07 x10=3.753824622469839e-07>\n",
      "<ErrorView x0=1.5178589125223502e-08 x1=0.03787404360440795 x2=0.3937742542859282 x3=0.1701913930295246 x4=0.19117325011404887 x5=0.1912842702776106 x6=0.2785317907948462 x7=0.14514076872757564 x8=0.15193078144980154 x9=0.22163392496084314 x10=0.38339928049094957>\n",
      "<ValueView x0=5.703319781887156e-07 x1=0.025996956748572584 x2=-0.007934868203609289 x3=-0.20729632617772964 x4=-0.2119441181247385 x5=-0.21812168459656028 x6=0.13238792417115552 x7=-2.9310596424782082e-06 x8=-1.629697731045385e-06 x9=-1.669089900901675e-06 x10=-1.3926187978616785e-06>\n",
      "<ErrorView x0=1.517975338896652e-08 x1=0.03788969080272342 x2=0.4201387283797999 x3=0.18769492167108617 x4=0.22168614920298638 x5=0.24713670861921663 x6=0.3406229583017967 x7=0.14809425413696048 x8=0.15562939002149842 x9=0.22604419756489866 x10=0.38530775382081267>\n",
      "<ValueView x0=5.740012317328363e-07 x1=0.03547202103298451 x2=0.0 x3=0.0 x4=-0.2308364742454074 x5=0.09554364975214355 x6=0.021217390917901417 x7=0.0 x8=0.0 x9=0.0 x10=0.0>\n",
      "<ErrorView x0=1.1578656498342999e-08 x1=0.019063527913637492 x2=0.3552709824962496 x3=1.4338162808671462 x4=0.09564384119619579 x5=0.22318581345182187 x6=0.3694543163617457 x7=0.14002093721343545 x8=0.14502460025459632 x9=0.18970165009843684 x10=0.24991560435230903>\n",
      "<ValueView x0=5.746156938344355e-07 x1=0.03303309831377226 x2=0.0 x3=0.0 x4=0.0 x5=0.0 x6=0.0 x7=0.0 x8=0.0 x9=0.0 x10=0.0>\n",
      "<ErrorView x0=7.87805124125131e-09 x1=0.008697202622387858 x2=0.30631759767631117 x3=1.4260525709260867 x4=0.29524110416068816 x5=0.18485589086130325 x6=0.18543544592869682 x7=0.12465838199529183 x8=0.13503302265972533 x9=0.17469641301305913 x10=0.2227863310017753>\n",
      "<ValueView x0=5.579193590939259e-07 x1=-0.00268109928415122 x2=0.0 x3=0.0 x4=0.0 x5=0.0 x6=0.0 x7=0.0 x8=0.0 x9=0.0 x10=0.0>\n",
      "<ErrorView x0=7.836369825918964e-09 x1=0.008934409977798055 x2=0.21179161870595886 x3=0.11778526086114703 x4=0.08459775477538206 x5=0.07985694902849771 x6=0.09560828814309144 x7=0.1007946865070342 x8=0.12781603066891836 x9=0.19723849684248013 x10=0.3575499616033188>\n",
      "<ValueView x0=5.41990581279214e-07 x1=-0.03763724141419835 x2=0.0 x3=0.0 x4=0.0 x5=0.0 x6=0.0 x7=0.0 x8=0.0 x9=0.0 x10=0.0>\n",
      "<ErrorView x0=7.804568989921892e-09 x1=0.009217221882206448 x2=0.1507188469305502 x3=0.08169000230512648 x4=0.060749968971967876 x5=0.059148980570085996 x6=0.07211006478889606 x7=0.08492625501607151 x8=0.11380736792650613 x9=0.18106974709279522 x10=0.34376200291824505>\n",
      "<ValueView x0=5.268682851190128e-07 x1=-0.07176608764018493 x2=0.0 x3=0.0 x4=0.0 x5=0.0 x6=0.0 x7=0.0 x8=0.0 x9=0.0 x10=0.0>\n",
      "<ErrorView x0=7.778322268862254e-09 x1=0.00950798437352257 x2=0.12597251732723586 x3=0.06722774230109846 x4=0.050473381486867405 x5=0.049782840917063705 x6=0.06142770828345258 x7=0.07620884872486249 x8=0.10549260054681352 x9=0.1714467894371769 x10=0.3367369552617056>\n",
      "<ValueView x0=5.125306490914381e-07 x1=-0.1050227350676343 x2=0.0 x3=0.0 x4=0.0 x5=0.0 x6=0.0 x7=0.0 x8=0.0 x9=0.0 x10=0.0>\n",
      "<ErrorView x0=7.756428854873191e-09 x1=0.009804934175767646 x2=0.11008672844494022 x3=0.058871868876566404 x4=0.04446882056581931 x5=0.04426004669607722 x6=0.055212102427177036 x7=0.07079766290762483 x8=0.10026183687833168 x9=0.1656974064637462 x10=0.3344418367138713>\n",
      "<ValueView x0=4.98869317210608e-07 x1=-0.13754165416868114 x2=0.0 x3=0.0 x4=0.0 x5=0.0 x6=0.0 x7=0.0 x8=0.0 x9=0.0 x10=0.0>\n",
      "<ErrorView x0=7.736873455254713e-09 x1=0.010105635413699077 x2=0.10074021918720359 x3=0.05354478758801377 x4=0.04052965206789268 x5=0.040618055239050314 x6=0.05119937491210459 x7=0.06727411545641923 x8=0.09697729020585195 x9=0.16255308237008348 x10=0.33576224260947624>\n",
      "<ValueView x0=4.859904813924338e-07 x1=-0.16915262121079253 x2=0.0 x3=0.0 x4=0.0 x5=0.0 x6=0.0 x7=0.0 x8=0.0 x9=0.0 x10=0.0>\n",
      "<ErrorView x0=7.72213447953996e-09 x1=0.010411396936403554 x2=0.09388942215612264 x3=0.04972111174343006 x4=0.0376972555046065 x5=0.03802289716450602 x6=0.048438391787287066 x7=0.06493702860411918 x8=0.0950147656210681 x9=0.16128650765597083 x10=0.3400443396347278>\n",
      "<ValueView x0=4.738167030742673e-07 x1=-0.19991679837769216 x2=0.0 x3=0.0 x4=0.0 x5=0.0 x6=0.0 x7=0.0 x8=0.0 x9=0.0 x10=0.0>\n",
      "<ErrorView x0=7.710281551682757e-09 x1=0.01071996075714069 x2=0.08878960015533215 x3=0.04686247227197922 x4=0.03557065790265464 x5=0.03609973390193918 x6=0.046489741532067065 x7=0.06343079316376693 x8=0.09403846278589334 x9=0.16149315486402588 x10=0.34690252251794734>\n",
      "<ValueView x0=4.623289746303458e-07 x1=-0.2298268505083826 x2=0.0 x3=0.0 x4=0.0 x5=0.0 x6=0.0 x7=0.0 x8=0.0 x9=0.0 x10=0.0>\n",
      "<ErrorView x0=7.700909696413308e-09 x1=0.011030204155880054 x2=0.08484265526220632 x3=0.04464306771251298 x4=0.03391802047562639 x5=0.03463421267799684 x6=0.04510434628385817 x7=0.06254137419967426 x8=0.09383855592094616 x9=0.16291934278350242 x10=0.35611315333561494>\n",
      "<ValueView x0=4.515053083247369e-07 x1=-0.2589064939890552 x2=0.0 x3=0.0 x4=0.0 x5=0.0 x6=0.0 x7=0.0 x8=0.0 x9=0.0 x10=0.0>\n",
      "<ErrorView x0=7.694284893660057e-09 x1=0.011341562288427321 x2=0.0822853102692988 x3=0.04292262686624879 x4=0.03261173572105104 x5=0.033501014460098906 x6=0.04413415968800384 x7=0.06213565810832138 x8=0.09428118255561313 x9=0.16540331462616314 x10=0.36754683132173765>\n",
      "<ValueView x0=4.412908720561662e-07 x1=-0.2871194216873241 x2=0.0 x3=0.0 x4=0.0 x5=0.0 x6=0.0 x7=0.0 x8=0.0 x9=0.0 x10=0.0>\n",
      "<ErrorView x0=7.687549418197558e-09 x1=0.01165096672241533 x2=0.07914016342691708 x3=0.04143123517081154 x4=0.03153415982143452 x5=0.032607334757900494 x6=0.043478652503989024 x7=0.062125005726838996 x8=0.09528047456197994 x9=0.16885127892709406 x10=0.38118327962466125>\n",
      "<ValueView x0=4.316887220085525e-07 x1=-0.31457373376146697 x2=0.0 x3=0.0 x4=0.0 x5=0.0 x6=0.0 x7=0.0 x8=0.0 x9=0.0 x10=0.0>\n",
      "<ErrorView x0=7.684512088839678e-09 x1=0.011960981791061132 x2=0.07810317016976871 x3=0.04032741133644886 x4=0.03067295060370415 x5=0.031912262647907336 x6=0.04307920335442797 x7=0.06245040928955866 x8=0.09677332141763298 x9=0.1731854390149743 x10=0.3969688688334514>\n",
      "<ValueView x0=4.2262195758149147e-07 x1=-0.34116211419677167 x2=0.0 x3=0.0 x4=0.0 x5=0.0 x6=0.0 x7=0.0 x8=0.0 x9=0.0 x10=0.0>\n",
      "<ErrorView x0=7.678881663504809e-09 x1=0.012265406323273918 x2=0.07550689570734744 x3=0.03925912957198704 x4=0.029929028818515963 x5=0.03135789323699441 x6=0.04288376070972452 x7=0.0630721823725845 x8=0.09873066079998713 x9=0.17839688488451644 x10=0.4150354111020071>\n",
      "<ValueView x0=4.1409052109629775e-07 x1=-0.3670136181342516 x2=0.0 x3=0.0 x4=0.0 x5=0.0 x6=0.0 x7=0.0 x8=0.0 x9=0.0 x10=0.0>\n",
      "<ErrorView x0=7.675088217244177e-09 x1=0.012567689975361881 x2=0.07404850592259077 x3=0.03841396777268482 x4=0.029316098132350893 x5=0.030928892076128558 x6=0.04286383468690659 x7=0.06395942884879474 x8=0.10111927458833862 x9=0.18444781741503274 x10=0.435386003716264>\n",
      "<ValueView x0=4.060580450791942e-07 x1=-0.39210581893852076 x2=0.0 x3=0.0 x4=0.0 x5=0.0 x6=0.0 x7=0.0 x8=0.0 x9=0.0 x10=0.0>\n",
      "<ErrorView x0=7.671360307038222e-09 x1=0.012865683884188257 x2=0.0727174566071177 x3=0.03768212418329286 x4=0.028795963994376814 x5=0.030598557201112642 x6=0.04299334099314656 x7=0.0650927946376789 x8=0.1039284161274651 x9=0.1913480460672657 x10=0.4581589755856305>\n",
      "<ValueView x0=3.9849325484615485e-07 x1=-0.41646795840282663 x2=0.0 x3=0.0 x4=0.0 x5=0.0 x6=0.0 x7=0.0 x8=0.0 x9=0.0 x10=0.0>\n",
      "<ErrorView x0=7.66759777443468e-09 x1=0.013158946778337921 x2=0.07152045102485127 x3=0.03704474668012789 x4=0.02835215024124514 x5=0.030350362907896184 x6=0.04325366658916149 x7=0.06645804899458616 x8=0.10715105305907653 x9=0.199109326437262 x10=0.4834860928391956>\n",
      "<ValueView x0=3.913087611621394e-07 x1=-0.440245985056324 x2=0.0 x3=0.0 x4=0.0 x5=0.0 x6=0.0 x7=0.0 x8=0.0 x9=0.0 x10=0.0>\n",
      "<ErrorView x0=7.663497020456724e-09 x1=0.013447797598887333 x2=0.07078135114055874 x3=0.036519350169873246 x4=0.027979185266124584 x5=0.030173409848228815 x6=0.04362931255454897 x7=0.06804025660945878 x8=0.11077434392908465 x9=0.20772636756995377 x10=0.5114417978950075>\n",
      "<ValueView x0=3.8453560157200924e-07 x1=-0.4633372309339023 x2=0.0 x3=0.0 x4=0.0 x5=0.0 x6=0.0 x7=0.0 x8=0.0 x9=0.0 x10=0.0>\n",
      "<ErrorView x0=7.658716190411924e-09 x1=0.013730616911921732 x2=0.06993060518277448 x3=0.03604021701218515 x4=0.027655001791911684 x5=0.03005374212487068 x6=0.044109299055300234 x7=0.06983833311049278 x8=0.11481390555189402 x9=0.2172571031131347 x10=0.5422904881139491>\n",
      "<ValueView x0=3.781250974310774e-07 x1=-0.485826841150052 x2=0.0 x3=0.0 x4=0.0 x5=0.0 x6=0.0 x7=0.0 x8=0.0 x9=0.0 x10=0.0>\n",
      "<ErrorView x0=7.653730018866971e-09 x1=0.01400839053825536 x2=0.06923102181008002 x3=0.035621366241988126 x4=0.027376220076641034 x5=0.029984228732612573 x6=0.04468391191552365 x7=0.07184579303886217 x8=0.11927078177433169 x9=0.22772413044656462 x10=0.5761895968979109>\n",
      "<ValueView x0=3.720397058982211e-07 x1=-0.507761207862391 x2=0.0 x3=0.0 x4=0.0 x5=0.0 x6=0.0 x7=0.0 x8=0.0 x9=0.0 x10=0.0>\n",
      "<ErrorView x0=7.648027536922415e-09 x1=0.014280567045499664 x2=0.0686154464286983 x3=0.03525072400624485 x4=0.02713553492068342 x5=0.029957727907793146 x6=0.0453452615726478 x7=0.07406002671332909 x8=0.12415333702452412 x9=0.23916581790561156 x10=0.6133463127183784>\n",
      "<ValueView x0=3.663368910634448e-07 x1=-0.5290267082492387 x2=0.0 x3=0.0 x4=0.0 x5=0.0 x6=0.0 x7=0.0 x8=0.0 x9=0.0 x10=0.0>\n",
      "<ErrorView x0=7.643416490229389e-09 x1=0.014548146404041914 x2=0.06803993426668321 x3=0.034910348572317 x4=0.026923605173530384 x5=0.02996757796662667 x6=0.0460893381666176 x7=0.07648873239897627 x8=0.12949173472669873 x9=0.25167048418538157 x10=0.654126632258079>\n"
     ]
    },
    {
     "data": {
      "image/png": "[encoded data removed]",
      "text/plain": [
       "<Figure size 432x288 with 1 Axes>"
      ]
     },
     "metadata": {
      "needs_background": "light"
     },
     "output_type": "display_data"
    }
   ],
   "source": [
    "chisqs = []\n",
    "alphas = []\n",
    "\n",
    "for i in range(41):\n",
    "    alpha = round(0.05 * i, 2)\n",
    "    alphas.append(alpha)\n",
    "    dNdE2 = dNdE_b * np.exp(alpha*tau[3:37])\n",
    "    dNdE2_u = dNdE_b_u * np.exp(alpha*tau[3:37])\n",
    "    SED2 = np.square(E[3:37]) * dNdE2\n",
    "    SED_u2 = np.square(E[3:37]) * dNdE2_u\n",
    "    ydata = SED2\n",
    "    xdata = E[3:37]\n",
    "    knots =11\n",
    "    ydata_u = SED_u2\n",
    "    initial_guess = np.array([5e-7, 0, 0, 0, 0, 0, 0, 0, 0, 0, 0]) #phi_0, lam1, deltas (len(deltas)=knots-2))\n",
    "    things = multiple_bpl_fit(initial_guess=initial_guess)\n",
    "    chi2 = chisq(SED2, multiple_bpl(E[3:37], things.values), SED_u2)\n",
    "    chisqs.append(chi2)\n",
    "\n",
    "plt.plot(alphas, chisqs, 'o')\n",
    "plt.yscale('log')\n",
    "plt.xlabel(r'$\\alpha$')\n",
    "plt.ylabel(r'$\\chi^2$')\n",
    "plt.show()"
   ]
  },
  {
   "cell_type": "code",
   "execution_count": 40,
   "metadata": {},
   "outputs": [
    {
     "name": "stdout",
     "output_type": "stream",
     "text": [
      "<ValueView x0=5.696147278271429e-07 x1=0.03171438663033132 x2=-0.4514786881764247 x3=-0.4426535972861456 x4=-0.0004587619949935444 x5=0.0 x6=0.0 x7=0.0 x8=0.0 x9=0.0 x10=0.0>\n",
      "<ErrorView x0=0.0 x1=0.0 x2=0.0 x3=0.0 x4=0.0 x5=0.0 x6=0.0 x7=0.0 x8=0.0 x9=0.0 x10=0.0>\n",
      "<ValueView x0=5.699139221364894e-07 x1=0.03149855456533118 x2=-0.43315301354876695 x3=-0.4216759786502269 x4=0.0 x5=0.0 x6=0.0 x7=0.0 x8=0.0 x9=0.0 x10=0.0>\n",
      "<ErrorView x0=0.0 x1=0.0 x2=0.0 x3=0.0 x4=0.0 x5=0.0 x6=0.0 x7=0.0 x8=0.0 x9=0.0 x10=0.0>\n",
      "<ValueView x0=5.702465970251097e-07 x1=0.03128030593538843 x2=-0.41407544055103673 x3=-0.39989003005193 x4=0.0 x5=0.0 x6=0.0 x7=0.0 x8=0.0 x9=0.0 x10=0.0>\n",
      "<ErrorView x0=0.0 x1=0.0 x2=0.0 x3=0.0 x4=0.0 x5=0.0 x6=0.0 x7=0.0 x8=0.0 x9=0.0 x10=0.0>\n",
      "<ValueView x0=5.705218898553459e-07 x1=0.03104900843796016 x2=-0.3941908323010789 x3=-0.376477712507152 x4=0.0002885900684328745 x5=0.0 x6=0.0 x7=0.0 x8=0.0 x9=0.0 x10=0.0>\n",
      "<ErrorView x0=0.0 x1=0.0 x2=0.0 x3=0.0 x4=0.0 x5=0.0 x6=0.0 x7=0.0 x8=0.0 x9=0.0 x10=0.0>\n",
      "<ValueView x0=5.708110161399689e-07 x1=0.030785983971499856 x2=-0.37316448131667734 x3=-0.35205527207656667 x4=0.0 x5=0.0 x6=0.0 x7=0.0 x8=0.0 x9=0.0 x10=0.0>\n",
      "<ErrorView x0=0.0 x1=0.0 x2=0.0 x3=0.0 x4=0.0 x5=0.0 x6=0.0 x7=0.0 x8=0.0 x9=0.0 x10=0.0>\n",
      "<ValueView x0=5.711671845319744e-07 x1=0.030587545459984027 x2=-0.35079882340852175 x3=-0.32580905216001466 x4=0.0 x5=0.0 x6=0.0 x7=0.0 x8=0.0 x9=0.0 x10=0.0>\n",
      "<ErrorView x0=0.0 x1=0.0 x2=0.0 x3=0.0 x4=0.0 x5=0.0 x6=0.0 x7=0.0 x8=0.0 x9=0.0 x10=0.0>\n",
      "<ValueView x0=5.714253043712065e-07 x1=0.03017991354809633 x2=-0.3276120383946507 x3=-0.29656453989207626 x4=0.0 x5=0.0 x6=0.0 x7=0.0 x8=0.0 x9=0.0 x10=0.0>\n",
      "<ErrorView x0=0.0 x1=0.0 x2=0.0 x3=0.0 x4=0.0 x5=0.0 x6=0.0 x7=0.0 x8=0.0 x9=0.0 x10=0.0>\n",
      "<ValueView x0=5.717874543150598e-07 x1=0.030156096129108138 x2=-0.30126860831002855 x3=-0.2654673203823558 x4=-0.00046991513303465285 x5=0.0 x6=0.0 x7=0.0 x8=0.0 x9=0.0 x10=0.0>\n",
      "<ErrorView x0=0.0 x1=0.0 x2=0.0 x3=0.0 x4=0.0 x5=0.0 x6=0.0 x7=0.0 x8=0.0 x9=0.0 x10=0.0>\n",
      "<ValueView x0=5.721529936239418e-07 x1=0.03002301487071562 x2=-0.27307796303808113 x3=-0.23001541301373118 x4=0.0 x5=0.0 x6=0.0 x7=0.0 x8=0.0 x9=0.0 x10=0.0>\n",
      "<ErrorView x0=0.0 x1=0.0 x2=0.0 x3=0.0 x4=0.0 x5=0.0 x6=0.0 x7=0.0 x8=0.0 x9=0.0 x10=0.0>\n",
      "<ValueView x0=5.724531620343873e-07 x1=0.029806361821824553 x2=-0.24171248512256172 x3=-0.18673897326477693 x4=0.0 x5=0.0 x6=0.0 x7=0.0 x8=0.0 x9=0.0 x10=0.0>\n",
      "<ErrorView x0=0.0 x1=0.0 x2=0.0 x3=0.0 x4=0.0 x5=0.0 x6=0.0 x7=0.0 x8=0.0 x9=0.0 x10=0.0>\n",
      "<ValueView x0=5.832467657892022e-07 x1=0.054034599155708386 x2=0.0 x3=-0.2155994870347121 x4=0.0 x5=0.0 x6=0.0 x7=0.0 x8=0.0 x9=0.0 x10=0.0>\n",
      "<ErrorView x0=0.0 x1=0.0 x2=0.0 x3=0.0 x4=0.0 x5=0.0 x6=0.0 x7=0.0 x8=0.0 x9=0.0 x10=0.0>\n",
      "<ValueView x0=5.795514347850289e-07 x1=0.04450612630482616 x2=0.0 x3=-0.13228522901847362 x4=0.0 x5=0.0 x6=0.0 x7=0.0 x8=0.0 x9=0.0 x10=0.0>\n",
      "<ErrorView x0=0.0 x1=0.0 x2=0.0 x3=0.0 x4=0.0 x5=0.0 x6=0.0 x7=0.0 x8=0.0 x9=0.0 x10=0.0>\n",
      "<ValueView x0=5.746116887466183e-07 x1=0.03302605830575153 x2=0.0 x3=0.0 x4=0.0 x5=0.0 x6=0.0 x7=0.0 x8=0.0 x9=0.0 x10=0.0>\n",
      "<ErrorView x0=0.0 x1=0.0 x2=0.0 x3=0.0 x4=0.0 x5=0.0 x6=0.0 x7=0.0 x8=0.0 x9=0.0 x10=0.0>\n",
      "<ValueView x0=5.678484589834536e-07 x1=0.018657408987003424 x2=0.0 x3=0.0 x4=0.0 x5=0.0 x6=0.0 x7=0.0 x8=0.0 x9=0.0 x10=0.0>\n",
      "<ErrorView x0=0.0 x1=0.0 x2=0.0 x3=0.0 x4=0.0 x5=0.0 x6=0.0 x7=0.0 x8=0.0 x9=0.0 x10=0.0>\n",
      "<ValueView x0=5.611905952043431e-07 x1=0.004386305600368433 x2=0.0 x3=0.0 x4=0.0 x5=0.0 x6=0.0 x7=0.0 x8=0.0 x9=0.0 x10=0.0>\n",
      "<ErrorView x0=0.0 x1=0.0 x2=0.0 x3=0.0 x4=0.0 x5=0.0 x6=0.0 x7=0.0 x8=0.0 x9=0.0 x10=0.0>\n",
      "<ValueView x0=5.546702576791256e-07 x1=-0.00974396759323383 x2=0.0 x3=0.0 x4=0.0 x5=0.0 x6=0.0 x7=0.0 x8=0.0 x9=0.0 x10=0.0>\n",
      "<ErrorView x0=0.0 x1=0.0 x2=0.0 x3=0.0 x4=0.0 x5=0.0 x6=0.0 x7=0.0 x8=0.0 x9=0.0 x10=0.0>\n",
      "<ValueView x0=5.482797226798281e-07 x1=-0.02374466894687007 x2=0.0 x3=0.0 x4=0.0 x5=0.0 x6=0.0 x7=0.0 x8=0.0 x9=0.0 x10=0.0>\n",
      "<ErrorView x0=0.0 x1=0.0 x2=0.0 x3=0.0 x4=0.0 x5=0.0 x6=0.0 x7=0.0 x8=0.0 x9=0.0 x10=0.0>\n",
      "<ValueView x0=5.419975225732614e-07 x1=-0.03763400272828213 x2=0.0 x3=0.0 x4=0.0 x5=0.0 x6=0.0 x7=0.0 x8=0.0 x9=0.0 x10=0.0>\n",
      "<ErrorView x0=0.0 x1=0.0 x2=0.0 x3=0.0 x4=0.0 x5=0.0 x6=0.0 x7=0.0 x8=0.0 x9=0.0 x10=0.0>\n",
      "<ValueView x0=5.35850093199003e-07 x1=-0.05138422265219003 x2=0.0 x3=0.0 x4=0.0 x5=0.0 x6=0.0 x7=0.0 x8=0.0 x9=0.0 x10=0.0>\n",
      "<ErrorView x0=0.0 x1=0.0 x2=0.0 x3=0.0 x4=0.0 x5=0.0 x6=0.0 x7=0.0 x8=0.0 x9=0.0 x10=0.0>\n",
      "<ValueView x0=5.298312191143334e-07 x1=-0.06499760187289802 x2=0.0 x3=0.0 x4=0.0 x5=0.0 x6=0.0 x7=0.0 x8=0.0 x9=0.0 x10=0.0>\n",
      "<ErrorView x0=0.0 x1=0.0 x2=0.0 x3=0.0 x4=0.0 x5=0.0 x6=0.0 x7=0.0 x8=0.0 x9=0.0 x10=0.0>\n"
     ]
    },
    {
     "data": {
      "image/png": "[encoded data removed]",
      "text/plain": [
       "<Figure size 432x288 with 1 Axes>"
      ]
     },
     "metadata": {
      "needs_background": "light"
     },
     "output_type": "display_data"
    }
   ],
   "source": [
    "chisqs = []\n",
    "alphas = []\n",
    "\n",
    "for i in range(20):\n",
    "    alpha = round(0.76 + 0.02 * i, 2)\n",
    "    alphas.append(alpha)\n",
    "    dNdE2 = dNdE_b * np.exp(alpha*tau[3:37])\n",
    "    dNdE2_u = dNdE_b_u * np.exp(alpha*tau[3:37])\n",
    "    SED2 = np.square(E[3:37]) * dNdE2\n",
    "    SED_u2 = np.square(E[3:37]) * dNdE2_u\n",
    "    ydata = SED2\n",
    "    xdata = E[3:37]\n",
    "    knots = 5\n",
    "    ydata_u = SED_u2\n",
    "    initial_guess = np.array([5e-7, 0, 0, 0, 0, 0, 0, 0, 0, 0, 0]) #phi_0, lam1, deltas (len(deltas)=knots-2))\n",
    "    things = multiple_bpl_fit(initial_guess=initial_guess)\n",
    "    chi2 = chisq(SED2, multiple_bpl(E[3:37], things.values), SED_u2)\n",
    "    chisqs.append(chi2)\n",
    "\n",
    "plt.plot(alphas, chisqs, 'o')\n",
    "#plt.yscale('log')\n",
    "plt.xlabel(r'$\\alpha$')\n",
    "plt.ylabel(r'$\\chi^2$')\n",
    "plt.show()"
   ]
  },
  {
   "cell_type": "code",
   "execution_count": null,
   "metadata": {},
   "outputs": [],
   "source": []
  }
 ],
 "metadata": {
  "interpreter": {
   "hash": "31f2aee4e71d21fbe5cf8b01ff0e069b9275f58929596ceb00d14d90e3e16cd6"
  },
  "kernelspec": {
   "display_name": "Python 3.8.10 64-bit",
   "name": "python3"
  },
  "language_info": {
   "codemirror_mode": {
    "name": "ipython",
    "version": 3
   },
   "file_extension": ".py",
   "mimetype": "text/x-python",
   "name": "python",
   "nbconvert_exporter": "python",
   "pygments_lexer": "ipython3",
   "version": "3.8.10"
  },
  "orig_nbformat": 4
 },
 "nbformat": 4,
 "nbformat_minor": 2
}
