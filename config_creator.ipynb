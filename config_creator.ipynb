{
 "cells": [
  {
   "cell_type": "code",
   "execution_count": 1,
   "metadata": {},
   "outputs": [],
   "source": [
    "import yaml"
   ]
  },
  {
   "cell_type": "code",
   "execution_count": 19,
   "metadata": {},
   "outputs": [],
   "source": [
    "data = dict(\n",
    "    redshift = 0.03,\n",
    "    #filepath = \"~/Desktop/EBL_Gamma2016/EBL_samples/Mrk421_20130413c/data/nominal/flute/Output_flute.root\", #z=0.03, Efirst =382.0839, Elast = 12082.5559\n",
    "    #filepath = \"~/Desktop/EBL_Gamma2016/EBL_samples/1ES1011_Feb2014/data/nominal/flute/Output_flute.root\", #z=0.212, Efirst = 103.113 , Elast = 819.0624 \n",
    "    #filepath = \"~/Desktop/EBL_Gamma2016/EBL_samples/Mrk421_20130417/data/nominal/flute/Output_flute.root\", #z=0.03, Efirst = 60.450, maxEfirst = 1911.609\n",
    "    #filepath = \"~/Desktop/EBL_Gamma2016/EBL_samples/BLLac_20150615/data/nominal/flute/Output_flute.root\", #z=0.069, Efirst = 58.577 , Elast = 585.775\n",
    "    #filepath = \"~/Desktop/EBL_Gamma2016/EBL_samples/1ES1959+650_2015/data/nominal/flute/Output_flute.root\", #z=0.048, Efirst = 212.4330, maxEfirst = 2674.374\n",
    "    #filepath = \"~/Desktop/EBL_Gamma2016/EBL_samples/PG1553_ST0203/data/nominal/flute/Output_flute.root\", #z=0.430, Efirst = 75.3907, maxEfirst = 377.8486\n",
    "    #filepath = \"~/Desktop/EBL_Gamma2016/EBL_samples/PKS1424_2014/data/nominal/flute/Output_flute.root\", #z=0.604, Efirst = 116.985, maxEfirst = 465.728\n",
    "    filepath = \"~/Desktop/EBL_Gamma2016/EBL_samples/PKS1441+25_2015/data/nominal/flute/Output_flute.root\", #z=0.939, Efirst = 34.440, maxEfirst = 172.611\n",
    "    deltalogE = 1,\n",
    "    EBLscale = 0.,\n",
    "    minEfirst = 20.,\n",
    "    maxEfirst = 80.,\n",
    "    n_steps = 20,\n",
    ")\n",
    "\n",
    "with open('MBPWLopt_config.yml', 'w') as outfile:\n",
    "    #outfile.write(\"# Input data for MBPWLopt.py \\n\")\n",
    "    yaml.dump(data, outfile, default_flow_style=False)\n"
   ]
  },
  {
   "cell_type": "code",
   "execution_count": null,
   "metadata": {},
   "outputs": [],
   "source": []
  }
 ],
 "metadata": {
  "interpreter": {
   "hash": "916dbcbb3f70747c44a77c7bcd40155683ae19c65e1c03b4aa3499c5328201f1"
  },
  "kernelspec": {
   "display_name": "Python 3.8.10 64-bit",
   "language": "python",
   "name": "python3"
  },
  "language_info": {
   "codemirror_mode": {
    "name": "ipython",
    "version": 3
   },
   "file_extension": ".py",
   "mimetype": "text/x-python",
   "name": "python",
   "nbconvert_exporter": "python",
   "pygments_lexer": "ipython3",
   "version": "3.8.10"
  },
  "orig_nbformat": 4
 },
 "nbformat": 4,
 "nbformat_minor": 2
}
