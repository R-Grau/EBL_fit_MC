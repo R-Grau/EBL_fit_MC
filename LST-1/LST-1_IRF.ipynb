{
 "cells": [
  {
   "cell_type": "markdown",
   "id": "6ad4d98b",
   "metadata": {},
   "source": [
    "# This code reads the DL3 files of LST-1 data, gets the IRFs and background from them and saves them in the needed format for the simualtion"
   ]
  },
  {
   "cell_type": "code",
   "execution_count": 1,
   "id": "1003fc8a",
   "metadata": {},
   "outputs": [],
   "source": [
    "import numpy as np\n",
    "from astropy.coordinates import SkyCoord\n",
    "from regions import PointSkyRegion\n",
    "from gammapy.data import DataStore\n",
    "from gammapy.maps import MapAxis, RegionGeom, Map\n",
    "from gammapy.datasets import (\n",
    "    Datasets,\n",
    "    SpectrumDataset,\n",
    "\n",
    ")\n",
    "from gammapy.makers import (\n",
    "    SpectrumDatasetMaker,\n",
    "    WobbleRegionsFinder,\n",
    "    ReflectedRegionsBackgroundMaker,\n",
    "    SafeMaskMaker,\n",
    ")"
   ]
  },
  {
   "cell_type": "code",
   "execution_count": 2,
   "id": "700c756b-e8be-4629-b83a-c1319e9d8602",
   "metadata": {},
   "outputs": [],
   "source": [
    "# load the DL3 files\n",
    "dir_path = \"testData/\" #change to the path where you have the data\n",
    "\n",
    "data_store = DataStore.from_dir(dir_path)\n",
    "observations = data_store.get_observations(\n",
    "    required_irf=[\"aeff\", \"edisp\", \"rad_max\"]\n",
    ")"
   ]
  },
  {
   "cell_type": "markdown",
   "id": "9d9a8f8b",
   "metadata": {},
   "source": [
    "Run the below cell only if you don't have the index files (you need to have lstchain installed)"
   ]
  },
  {
   "cell_type": "code",
   "execution_count": 3,
   "id": "72f7559e-4bec-4c2a-9d93-4f0f56c223dc",
   "metadata": {},
   "outputs": [],
   "source": [
    "# !lstchain_create_dl3_index_files -d $dir_path --overwrite  #do first time you use the data."
   ]
  },
  {
   "cell_type": "code",
   "execution_count": 4,
   "id": "0f417b4b-680b-4c05-9818-2214832d4f8c",
   "metadata": {},
   "outputs": [],
   "source": [
    "obj_name = np.unique(data_store.obs_table[\"OBJECT\"])[0]\n",
    "target_position = SkyCoord.from_name(obj_name, frame='icrs')\n",
    "on_region = PointSkyRegion(target_position)"
   ]
  },
  {
   "cell_type": "markdown",
   "id": "e0a143c4-9c4d-40de-b2ba-3b9f9555327b",
   "metadata": {},
   "source": [
    "Set the migration matrix axis"
   ]
  },
  {
   "cell_type": "code",
   "execution_count": 5,
   "id": "7bc18409-e308-4092-945c-94a9328e5067",
   "metadata": {},
   "outputs": [],
   "source": [
    "# true and estimated energy axes\n",
    "energy_axis = MapAxis.from_energy_bounds(\n",
    "    50, 1e5, nbin=5, per_decade=True, unit=\"GeV\", name=\"energy\"\n",
    ")\n",
    "energy_axis_true = MapAxis.from_energy_bounds(\n",
    "    10, 1e5, nbin=10, per_decade=True, unit=\"GeV\", name=\"energy_true\"\n",
    ")\n",
    "\n",
    "# geometry defining the ON region and SpectrumDataset based on it\n",
    "geom = RegionGeom.create(region=on_region, axes=[energy_axis])\n",
    "\n",
    "dataset_empty = SpectrumDataset.create(\n",
    "    geom=geom, energy_axis_true=energy_axis_true\n",
    ")\n"
   ]
  },
  {
   "cell_type": "code",
   "execution_count": 6,
   "id": "e6bfd406-8ee1-4f10-8a15-85c20251a7e8",
   "metadata": {},
   "outputs": [],
   "source": [
    "dataset_maker = SpectrumDatasetMaker(\n",
    "    containment_correction=False, selection=[\"counts\", \"exposure\", \"edisp\"]\n",
    ")\n",
    "\n",
    "region_finder = WobbleRegionsFinder(n_off_regions=1) #select the number of OFF regions, in this case we use 1 (use the same as the one in the DL3 files)\n",
    "bkg_maker = ReflectedRegionsBackgroundMaker(region_finder=region_finder)\n",
    "\n",
    "# use the energy threshold specified in the DL3 files\n",
    "safe_mask_masker = SafeMaskMaker(methods=[\"aeff-default\"])\n"
   ]
  },
  {
   "cell_type": "code",
   "execution_count": 7,
   "id": "e35e3f13-a292-4d60-ab14-b51d83fe3caf",
   "metadata": {},
   "outputs": [
    {
     "name": "stderr",
     "output_type": "stream",
     "text": [
      "No default upper safe energy threshold defined for obs 5447\n",
      "No default lower safe energy threshold defined for obs 5447\n"
     ]
    }
   ],
   "source": [
    "datasets = Datasets()\n",
    "\n",
    "# create a counts map for visualisation later...\n",
    "counts = Map.create(skydir=target_position, width=3)\n",
    "\n",
    "for observation in observations:\n",
    "    dataset = dataset_maker.run(\n",
    "        dataset_empty.copy(name=str(observation.obs_id)), observation\n",
    "    )\n",
    "    counts.fill_events(observation.events)\n",
    "    dataset_on_off = bkg_maker.run(dataset, observation)\n",
    "    dataset_on_off = safe_mask_masker.run(dataset_on_off, observation)\n",
    "    datasets.append(dataset_on_off)\n"
   ]
  },
  {
   "cell_type": "markdown",
   "id": "7f9c373a-74b8-4748-9210-f064d62af72e",
   "metadata": {},
   "source": [
    "## Outputs we want"
   ]
  },
  {
   "cell_type": "code",
   "execution_count": 8,
   "id": "43f0c79a-f325-4172-8319-607724b033ba",
   "metadata": {},
   "outputs": [
    {
     "name": "stdout",
     "output_type": "stream",
     "text": [
      "observation time: 1144.492552611293 s\n"
     ]
    }
   ],
   "source": [
    "background_for_txt = datasets[0].background.data[:,0][:,0] #change [0] in all lines of this cell for the dl3 file you want to produce the data from.\n",
    "time = data_store.obs_table[\"LIVETIME\"][0]\n",
    "migmat_for_txt = (datasets[0].edisp.get_edisp_kernel().data.T * datasets[0].exposure.data[:,0][:,0]).T\n",
    "Etrue = energy_axis_true.as_plot_center\n",
    "Eest = energy_axis.as_plot_center\n",
    "migmatxEtrue = energy_axis_true.edges\n",
    "migmatyEest = energy_axis.edges\n",
    "print(\"observation time: \" + str(time) + ' s')\n",
    "excess = datasets[0].excess.data[:,0][:,0]"
   ]
  },
  {
   "cell_type": "code",
   "execution_count": 9,
   "id": "ab0e6038-3788-49eb-8b38-fb4155599441",
   "metadata": {},
   "outputs": [],
   "source": [
    "#save it in the path that you want\n",
    "np.savetxt('data_lst-1/migmatval.txt', migmat_for_txt)\n",
    "np.savetxt('data_lst-1/bckg.txt', background_for_txt)\n",
    "np.savetxt('data_lst-1/migmatxEtrue.txt', migmatxEtrue.to_value())\n",
    "np.savetxt('data_lst-1/migmatyEest.txt', migmatyEest.to_value())\n",
    "np.savetxt('data_lst-1/Eest.txt', Eest.to_value())\n",
    "np.savetxt('data_lst-1/Etrue.txt', Etrue.to_value())"
   ]
  }
 ],
 "metadata": {
  "kernelspec": {
   "display_name": "Python 3 (ipykernel)",
   "language": "python",
   "name": "python3"
  },
  "language_info": {
   "codemirror_mode": {
    "name": "ipython",
    "version": 3
   },
   "file_extension": ".py",
   "mimetype": "text/x-python",
   "name": "python",
   "nbconvert_exporter": "python",
   "pygments_lexer": "ipython3",
   "version": "3.8.10"
  }
 },
 "nbformat": 4,
 "nbformat_minor": 5
}
