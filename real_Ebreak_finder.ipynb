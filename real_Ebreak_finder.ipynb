{
 "cells": [
  {
   "cell_type": "code",
   "execution_count": 101,
   "metadata": {},
   "outputs": [],
   "source": [
    "import numpy as np\n",
    "import scipy as sc\n",
    "from iminuit import Minuit\n",
    "import pandas as pd\n",
    "import scipy.interpolate as interpolate\n",
    "from scipy.integrate import quad\n",
    "from matplotlib import colors\n",
    "from EBL_fit_MC_functions import *\n",
    "from scipy.stats import norm\n",
    "from scipy.stats import poisson\n",
    "import yaml\n",
    "import matplotlib.pyplot as plt\n",
    "import h5py\n",
    "import time\n",
    "import sys\n",
    "import os\n",
    "import uproot\n",
    "from scipy.stats import norm, chi2\n",
    "from pathlib import Path"
   ]
  },
  {
   "cell_type": "code",
   "execution_count": 102,
   "metadata": {},
   "outputs": [],
   "source": [
    "Source_name = \"Mrk421_20130415c\" #'PG1553_ST0203' \"1ES1011_Feb2014\", 'Mrk421_20130415c',\n",
    "Source_z = 0.03\n",
    "data_path = \"/home/rgrau/Desktop/EBL_Gamma2016/EBL_samples/{0}/data/nominal/flute/Output_flute.root\".format(Source_name)#\"/home/rgrau/Desktop/EBL_Gamma2016/EBL_samples/Mrk421_20130415c/data/nominal/flute/Output_flute.root\"\n",
    "knots = 2\n",
    "Emin = 0.06\n",
    "Emax = 15.\n",
    "break_limit = 0.4\n",
    "sum_lim = 2.\n",
    "\n",
    "fit_func_name = \"MBPWL\"\n",
    "Telescope = \"MAGIC\"\n",
    "EBL_Model = \"Dominguez\"\n",
    "# Source_flux = inp_config[\"Source_flux\"]\n",
    "Observation_time = 42480\n",
    "Background_scale = 1.\n",
    "Forward_folding = True\n",
    "Norm = 0.25\n",
    "# Ph_index = inp_config[\"Ph_index\"]\n",
    "if knots == 1:\n",
    "    initial_guess_0 = np.array((5e-6, 2.0, 0.0, 2.))\n",
    "else:\n",
    "    initial_guess_0 = np.zeros(knots + 4)\n",
    "    initial_guess_0[0] = 5e-6\n",
    "    initial_guess_0[1] = 2.0\n",
    "    initial_guess_0[-1] = 0.1\n",
    "    initial_guess_0[-2] = 0.1\n",
    "# LP_curvature = inp_config[\"LP_curvature\"]\n",
    "\n",
    "def fit_func(xdata, params): #for 1 knot\n",
    "    if knots == 1:\n",
    "        polw = np.zeros(len(xdata))\n",
    "        gamma = np.zeros(knots+1)\n",
    "        phi = np.zeros(knots+1)\n",
    "        phi_0 = params[0] #len(sqrtdelta_lam) = len(lam)-1 = len(phi)-1\n",
    "        gamma0 = params[1]\n",
    "        sqrtdelta_gamma = params[2:knots+2]\n",
    "        Eknot = params[-1]\n",
    "        delta_gamma = np.square(sqrtdelta_gamma)\n",
    "        gamma[0] = gamma0\n",
    "        phi[0] = phi_0\n",
    "        gamma[1] = gamma[0] + delta_gamma[0]\n",
    "        phi[1] = phi[0] * (Eknot/0.25) ** delta_gamma[0]\n",
    "        for i in range(len(xdata)):\n",
    "            if xdata[i] < Eknot:\n",
    "                polw[i] = phi[0] * (xdata[i]/0.25) ** (-gamma[0])\n",
    "            elif xdata[i] >= Eknot:\n",
    "                polw[i] = phi[1] * (xdata[i]/0.25) ** (-gamma[1])\n",
    "        return polw\n",
    "    else:\n",
    "        polw = np.zeros(len(xdata))\n",
    "\n",
    "        gamma = np.zeros(knots+1)\n",
    "        phi = np.zeros(knots+1)\n",
    "        phi_0 = params[0] #len(sqrtdelta_lam) = len(lam)-1 = len(phi)-1\n",
    "        gamma0 = params[1]\n",
    "        sqrtdelta_gamma = params[2:knots+2]\n",
    "        Efirst = params[-2]\n",
    "        DeltaElast = params[-1]\n",
    "        Elast = Efirst + DeltaElast\n",
    "        Ebr = np.geomspace(Efirst, Elast, knots)\n",
    "        delta_gamma = np.square(sqrtdelta_gamma)\n",
    "        gamma[0] = gamma0\n",
    "        phi[0] = phi_0\n",
    "        for i in range(knots):\n",
    "            gamma[i+1] = gamma[i] + delta_gamma[i]\n",
    "            phi[i+1] = phi[i] * (Ebr[i]/0.25) ** delta_gamma[i]\n",
    "        for i in range(len(xdata)):\n",
    "            for j in range(knots):\n",
    "                if xdata[i]<Ebr[0]:\n",
    "                    polw[i] = phi[0] * (xdata[i]/0.25) ** (-gamma[0])\n",
    "                elif Ebr[-1] < xdata[i]:\n",
    "                    polw[i] = phi[-1] * (xdata[i]/0.25) ** (-gamma[-1])\n",
    "                elif Ebr[j] <= xdata[i] < Ebr[j+1]:\n",
    "                    polw[i] = phi[j+1] * (xdata[i]/0.25) ** (-gamma[j+1])\n",
    "        return polw\n",
    "\n",
    "if Telescope == \"CTAN_alpha\": #this part needs to be changed to include the real CTAN_alpha configuration\n",
    "    Nwobbles = 5\n",
    "    def m2LogL(params):\n",
    "        xdata = E_EBL\n",
    "        mtau = -tau\n",
    "        mu_gam0 = dNdE_to_mu((fit_func(xdata, params) * np.exp(mtau * alpha))[2:37], Effa_reb, Ebinsw[2:37], Observation_time, Ebins, Eres_reb2, E_EBL[2:37])\n",
    "        mu_gam = mu_gam0[5:-4]\n",
    "        mu_bg = mu_BG(mu_gam, Non, Noff, Nwobbles)\n",
    "        min_num_gauss = 20\n",
    "        conditions = [((Non >= min_num_gauss) & (Noff >= min_num_gauss)), (Non == 0.), (Noff == 0.), (Non != 0.) & (Noff != 0.)]\n",
    "        choices = [Gauss_logL(Non, Noff, mu_gam, Nwobbles), Poisson_logL_Non0(Non, Noff, mu_gam, Nwobbles), Poisson_logL_Noff0(Non, Noff, mu_gam, Nwobbles), Poisson_logL(Non, Noff, mu_gam, mu_bg, Nwobbles)]\n",
    "        res = np.select(conditions, choices, default = 999999999)\n",
    "        return np.sum(res)\n",
    "        \n",
    "elif Telescope == \"MAGIC\":\n",
    "    Nwobbles = 4\n",
    "    def m2LogL(params):\n",
    "        xdata = Etrue\n",
    "        mtau = -tau\n",
    "        mu_gam = dNdE_to_mu_MAGIC(fit_func(xdata, params), Ebinsw_Etrue, migmatval, Eest)\n",
    "        mu_gam_final = mu_gam[minbin:maxbin]\n",
    "        Non_final = Non[minbin:maxbin] \n",
    "        Noff_final = Noff[minbin:maxbin]\n",
    "        mu_bg = mu_BG(mu_gam, Non, Noff, Nwobbles)\n",
    "        mu_bg_final = mu_bg[minbin:maxbin]\n",
    "        min_num_gauss = 20\n",
    "        conditions = [((Non_final >= min_num_gauss) & (Noff_final >= min_num_gauss)), (Non_final == 0.), (Noff_final == 0.), (Non_final != 0.) & (Noff_final != 0.)]\n",
    "        choices = [Gauss_logL(Non_final, Noff_final, mu_gam_final, Nwobbles), Poisson_logL_Non0(Non_final, Noff_final, mu_gam_final, Nwobbles), Poisson_logL_Noff0(Non_final, Noff_final, mu_gam_final, Nwobbles), Poisson_logL(Non_final, Noff_final, mu_gam_final, mu_bg_final, Nwobbles)]\n",
    "        res = np.select(conditions, choices, default = 999999999)\n",
    "        return np.sum(res)\n",
    "\n",
    "def fit(initial_guess):\n",
    "    \n",
    "    m2LogL.errordef = Minuit.LIKELIHOOD\n",
    "    m = Minuit(m2LogL, initial_guess)\n",
    "    MBPWL_limits = ([(1e-6, 1e-3), (-4., 5.)])\n",
    "    for i in range(knots):\n",
    "        MBPWL_limits.append(None)\n",
    "    if knots == 1:\n",
    "        MBPWL_limits.append((0.08, 4.0))\n",
    "    else:\n",
    "        MBPWL_limits.append((None, break_limit)) #0.13 for 3 knots 0.1 for 4 knots\n",
    "        MBPWL_limits.append((sum_lim, None))\n",
    "    m.limits = MBPWL_limits\n",
    "    #m.tol = 1e-6\n",
    "    #m.strategy = 2\n",
    "\n",
    "    m.migrad()\n",
    "    return m\n",
    "# if EBL_Model == \"Dominguez\": #loads the EBL data of the Dominguez et al 2011 paper.\n",
    "#     possible_z = np.array([0.01, 0.02526316, 0.04052632, 0.05578947, 0.07105263, 0.08631579, 0.10157895, 0.11684211, 0.13210526, 0.14736842, 0.16263158, 0.17789474, 0.19315789, 0.20842105, 0.22368421, 0.23894737, 0.25421053, 0.26947368, 0.28473684, 0.3, 0.35, 0.4, 0.45, 0.5, 0.55, 0.6, 0.65, 0.7, 0.75])\n",
    "#     closest_z = find_z(possible_z, Source_z)\n",
    "#     file = np.loadtxt('/home/rgrau/Desktop/EBL-splines/tau_dominguez11.out')\n",
    "#     pdfile = pd.DataFrame(file)\n",
    "#     pdfile = pdfile.rename(columns={ 0 : 'E [TeV]', 1: 'tau z=0.01', 2: 'tau z=0.02526316', 3: 'tau z=0.04052632', 4: 'tau z=0.05578947', 5: 'tau z=0.07105263', 6: 'tau z=0.08631579', 7: 'tau z=0.10157895', 8: 'tau z=0.11684211', 9: 'tau z=0.13210526', 10: 'tau z=0.14736842', 11: 'tau z=0.16263158', 12: 'tau z=0.17789474', 13: 'tau z=0.19315789', 14: 'tau z=0.20842105', 15: 'tau z=0.22368421', 16: 'tau z=0.23894737', 17: 'tau z=0.25421053', 18: 'tau z=0.26947368', 19: 'tau z=0.28473684', 20: 'tau z=0.3' , 21: 'tau z=0.35', 22: 'tau z=0.4' , 23: 'tau z=0.45', 24: 'tau z=0.5', 25: 'tau z=0.55', 26: 'tau z=0.6', 27: 'tau z=0.65', 28: 'tau z=0.7' , 29: 'tau z=0.75'})\n",
    "#     E_EBL = pdfile['E [TeV]'].to_numpy() #energy bins\n",
    "#     tau_EBL = pdfile['tau z={0}'.format(closest_z)].to_numpy() #tau bins\n",
    "# else:\n",
    "#     raise Exception('The EBL model \"{func}\" has not been implemented.'.format(func = EBL_Model))"
   ]
  },
  {
   "cell_type": "code",
   "execution_count": 103,
   "metadata": {},
   "outputs": [],
   "source": [
    "if Telescope == \"MAGIC\": #compute values needed for minimization if the selected telescope is MAGIC\n",
    "    \n",
    "    Bckg = uproot.open(\"{0}:hEstBckgE\".format(data_path))#uproot.open(data_path + \":hEstBckgE\")#load background values\n",
    "    bckgmu_final = Bckg.values() #counts in 42480s (can be normalized for any time but as the migmatrix is for that time, only use that time).\n",
    "\n",
    "    migrmatrix = uproot.open(\"/home/rgrau/Desktop/EBL-splines/fold_migmatrix_{0}.root:mig_matrix\".format(Source_name))\n",
    "    migmatval = migrmatrix.values() #m^2 * s #values\n",
    "    migmatxEtrue = migrmatrix.axis(\"x\").edges()/1e3 #TeV #edge values of X axis of the migration matrix (True Energy)\n",
    "    migmatyEest = migrmatrix.axis(\"y\").edges()/1e3 #TeV #edge values of Y axis of the migration matrix (Estimated Energy)\n",
    "\n",
    "    Eest = migrmatrix.axis(\"y\").centers()/1e3 #TeV #center values of X axis of the migration matrix (True Energy)\n",
    "    Etrue = migrmatrix.axis(\"x\").centers()/1e3 #TeV #center values of Y axis of the migration matrix (Estimated Energy)\n",
    "    E_final = Etrue\n",
    "    Usedbins = np.where((Emin <= Eest) & (Eest <= Emax))\n",
    "    minbin = Usedbins[0][0]\n",
    "    maxbin = Usedbins[0][-1] + 1\n",
    "    Eest_final = Eest[minbin:maxbin]\n",
    "    \n",
    "    tau = tau_interp(Etrue, Source_z, EBL_Model, kind_of_interp = \"log\") #interpolate the tau values to have the same bins as the migration matrix and the data.\n",
    "    Ebinsw_final = migmatyEest[1:] - migmatyEest[:-1] #compute the bin width of the final energy bins\n",
    "    Ebinsw_Etrue = migmatxEtrue[1:] - migmatxEtrue[:-1] #compute the bin width of Etrue energy bins\n",
    "\n",
    "    excess = uproot.open(\"/home/rgrau/Desktop/EBL-splines/excess_{0}.root:_px\".format(Source_name))\n",
    "    excess_events = excess.values() #Energy bins = Eest\n",
    "\n",
    "    mu_vec_final = excess_events"
   ]
  },
  {
   "cell_type": "code",
   "execution_count": 104,
   "metadata": {},
   "outputs": [
    {
     "name": "stderr",
     "output_type": "stream",
     "text": [
      "/home/rgrau/Desktop/EBL-splines/EBL_fit_MC_functions.py:278: RuntimeWarning: divide by zero encountered in log\n",
      "  logL = np.log(poisson.pmf(Non, mu_gam + mu_bg)) + np.log(poisson.pmf(Noff, Nwobbles * mu_bg)) #change this to sum of logs.(and maybie add gaussian)\n",
      "/home/rgrau/.local/lib/python3.8/site-packages/numpy/core/function_base.py:423: RuntimeWarning: invalid value encountered in log10\n",
      "  log_start = _nx.log10(start)\n",
      "/tmp/ipykernel_31055/2280811348.py:66: RuntimeWarning: invalid value encountered in double_scalars\n",
      "  phi[i+1] = phi[i] * (Ebr[i]/0.25) ** delta_gamma[i]\n",
      "/tmp/ipykernel_31055/2280811348.py:66: RuntimeWarning: overflow encountered in double_scalars\n",
      "  phi[i+1] = phi[i] * (Ebr[i]/0.25) ** delta_gamma[i]\n"
     ]
    },
    {
     "name": "stdout",
     "output_type": "stream",
     "text": [
      "<ValueView x0=5.3058920543097796e-05 x1=1.8389242945439683 x2=-0.6352606398493353 x3=-1.1062333193658032 x4=0.3887665866729649 x5=3.110682861468516> 34.751479043346066\n"
     ]
    }
   ],
   "source": [
    "def process2(mu_on, mu_off):\n",
    "    global Non, Noff\n",
    "    Non, Noff = np.round(mu_on), np.round(Nwobbles * mu_off)\n",
    "    Non_u, Noff_u = np.sqrt(Non), np.sqrt(Noff)\n",
    "    things = fit(initial_guess=initial_guess_0)\n",
    "    if things.valid == False:\n",
    "        raise Warning(\"The minimum is not valid\")\n",
    "    chi2 = m2LogL(things.values)\n",
    "    return chi2, things.values\n",
    "\n",
    "mu_on = mu_vec_final + bckgmu_final\n",
    "mu_off = bckgmu_final \n",
    "chis, fit_results = process2(mu_on, mu_off)\n",
    "print(fit_results, chis)"
   ]
  },
  {
   "cell_type": "code",
   "execution_count": 105,
   "metadata": {},
   "outputs": [
    {
     "data": {
      "image/png": "[encoded data removed]",
      "text/plain": [
       "<Figure size 640x480 with 1 Axes>"
      ]
     },
     "metadata": {},
     "output_type": "display_data"
    }
   ],
   "source": [
    "E_forplot = Eest[minbin:maxbin]\n",
    "mu_gam = dNdE_to_mu_MAGIC((fit_func(E_final, fit_results)), Ebinsw_Etrue, migmatval, Eest)\n",
    "mu_gam_final = mu_gam[minbin:maxbin]\n",
    "mu_bg = mu_BG(mu_gam, Non, Noff, Nwobbles)\n",
    "mu_bg_final = mu_bg[minbin:maxbin]\n",
    "mu_on_sim = mu_gam_final + mu_bg_final\n",
    "if knots == 1:\n",
    "    Ebreaks = fit_results[-1]\n",
    "else:\n",
    "    Ebreaks = np.geomspace(fit_results[knots + 2], fit_results[knots + 2] + fit_results[knots + 3], knots)\n",
    "\n",
    "plt.errorbar(E_forplot, Non[minbin:maxbin], yerr=0, fmt = \".\", label = \"Non\", capsize = 3)\n",
    "plt.scatter(E_forplot, mu_on_sim, marker = \".\", label = \"Non fit\", color = 'orange')\n",
    "# plt.axvline(fit_results[3])\n",
    "if knots == 1:\n",
    "    plt.axvline(Ebreaks, label = \"break\", color = \"red\")\n",
    "else:\n",
    "    for i in range(knots):\n",
    "        plt.axvline(Ebreaks[i], label = \"break\", color = \"red\")\n",
    "plt.yscale('log')\n",
    "plt.xscale('log')\n",
    "plt.legend()\n",
    "plt.show()"
   ]
  },
  {
   "cell_type": "code",
   "execution_count": 106,
   "metadata": {},
   "outputs": [
    {
     "data": {
      "image/png": "[encoded data removed]",
      "text/plain": [
       "<Figure size 640x480 with 2 Axes>"
      ]
     },
     "metadata": {},
     "output_type": "display_data"
    }
   ],
   "source": [
    "Data = uproot.open(data_path + \":DiffEspectrum\")\n",
    "Data_values = Data.values()\n",
    "dNdE_u = Data.errors(\"mean\")[1]\n",
    "dNdE = Data_values[1] # 1/ cm^2 / s / TeV\n",
    "Eest_data = Data_values[0] * 1e-3 #TeV\n",
    "SED_orig = Eest_data * Eest_data * dNdE * 1e4 #put it in 1/m^2 instead of 1/cm^2\n",
    "SED_orig_u = Eest_data *  Eest_data * dNdE_u *1e4\n",
    "SED_fit = fit_func(Etrue, fit_results) * Etrue * Etrue\n",
    "SED_fit2 = fit_func(Eest_data, fit_results) * Eest_data * Eest_data\n",
    "binw = np.zeros(len(Eest)-1)\n",
    "\n",
    "Etrue_bins = np.where((Emin <= Etrue) & (Etrue <= Emax))\n",
    "minbin_tr = Etrue_bins[0][0]\n",
    "maxbin_tr = Etrue_bins[0][-1] + 1\n",
    "\n",
    "\n",
    "f, (ax1, ax2) = plt.subplots(2, 1, gridspec_kw={'height_ratios': [5, 1]}, sharex=True)\n",
    "ax1.errorbar(Eest_data, SED_orig, yerr= SED_orig_u, fmt = \".\", capsize = 3, label = \"{0} SED\".format(Source_name))\n",
    "# ax1.errorbar(Eest_final, SED_orig, yerr=SED_orig_u, fmt = \".\", label = \"Assimov dataset SED\")\n",
    "ax1.plot(Etrue[minbin_tr:maxbin_tr], SED_fit[minbin_tr:maxbin_tr], label = \"Best fit SED\", color = 'orange')\n",
    "if knots == 1:\n",
    "    ax1.axvline(Ebreaks, label = \"break\", color = \"red\")\n",
    "else:\n",
    "    for i in range(knots):\n",
    "        ax1.axvline(Ebreaks[i], label = \"break\", color = \"red\")\n",
    "ax1.set_xscale('log')\n",
    "ax1.set_yscale('log')\n",
    "ax2.set_xlabel(\"True Energy (TeV)\")\n",
    "ax1.set_ylabel(r\"E$^2$ dF/dE (TeV m$^{-2}$ s$^{-1}$)\")\n",
    "ax1.legend()\n",
    "ax2.errorbar(Eest_data, SED_fit2 - SED_orig, yerr= SED_orig_u, fmt = \".\", capsize = 3)\n",
    "ax2.axhline(color = \"black\")\n",
    "ax2.set_title(\"residuals\")\n",
    "ax2.set_ylabel(r\"E$^2$ dF/dE (TeV m$^{-2}$ s$^{-1}$)\")\n",
    "# ax2.set_yscale('log')\n",
    "plt.show()"
   ]
  },
  {
   "cell_type": "code",
   "execution_count": 107,
   "metadata": {},
   "outputs": [
    {
     "name": "stdout",
     "output_type": "stream",
     "text": [
      "[0.38876659 3.49944945]\n"
     ]
    }
   ],
   "source": [
    "print(Ebreaks)"
   ]
  },
  {
   "cell_type": "code",
   "execution_count": 108,
   "metadata": {},
   "outputs": [
    {
     "data": {
      "text/plain": [
       "array([1.01301186e-06, 2.96905320e-07, 2.30965619e-07, 1.68503904e-07,\n",
       "       1.46920827e-07, 1.50577445e-07, 1.41151931e-07, 1.31823970e-07,\n",
       "       1.08952831e-07, 1.24368107e-07, 1.32268997e-07, 1.31962494e-07,\n",
       "       1.19693558e-07, 1.18918831e-07, 1.04929081e-07, 9.90480465e-08,\n",
       "       6.93153723e-08, 5.31296274e-08])"
      ]
     },
     "execution_count": 108,
     "metadata": {},
     "output_type": "execute_result"
    }
   ],
   "source": [
    "SED_orig_u"
   ]
  },
  {
   "cell_type": "code",
   "execution_count": null,
   "metadata": {},
   "outputs": [],
   "source": []
  }
 ],
 "metadata": {
  "kernelspec": {
   "display_name": "Python 3",
   "language": "python",
   "name": "python3"
  },
  "language_info": {
   "codemirror_mode": {
    "name": "ipython",
    "version": 3
   },
   "file_extension": ".py",
   "mimetype": "text/x-python",
   "name": "python",
   "nbconvert_exporter": "python",
   "pygments_lexer": "ipython3",
   "version": "3.8.10"
  },
  "orig_nbformat": 4,
  "vscode": {
   "interpreter": {
    "hash": "916dbcbb3f70747c44a77c7bcd40155683ae19c65e1c03b4aa3499c5328201f1"
   }
  }
 },
 "nbformat": 4,
 "nbformat_minor": 2
}
