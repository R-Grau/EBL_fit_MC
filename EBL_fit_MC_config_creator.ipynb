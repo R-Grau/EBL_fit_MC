{
 "cells": [
  {
   "cell_type": "code",
   "execution_count": 1,
   "metadata": {
    "tags": []
   },
   "outputs": [],
   "source": [
    "import ipywidgets as widgets\n",
    "from IPython.display import display\n",
    "import yaml\n",
    "import numpy as np"
   ]
  },
  {
   "cell_type": "code",
   "execution_count": 2,
   "metadata": {
    "tags": []
   },
   "outputs": [
    {
     "data": {
      "application/vnd.jupyter.widget-view+json": {
       "model_id": "fa56ef273950432caa0721ac74897102",
       "version_major": 2,
       "version_minor": 0
      },
      "text/plain": [
       "VBox(children=(Dropdown(description='Telescope', options=('MAGIC', 'CTAN_alpha'), style=DescriptionStyle(descr…"
      ]
     },
     "metadata": {},
     "output_type": "display_data"
    }
   ],
   "source": [
    "fit_func_name1 = widgets.Dropdown(options = [\"PWL\", \"LP\", \"MBPWL\", \"freeLP\"], description = \"Function to fit\", style= {'description_width': 'initial'})\n",
    "Telescope1 = widgets.Dropdown(options = [\"MAGIC\", \"CTAN_alpha\"], description = \"Telescope\", style= {'description_width': 'initial'})\n",
    "Spectrum_func_name1 = widgets.Dropdown(options = [\"PWL\", \"LP\"], description = \"Simulated spectrum function\", style= {'description_width': 'initial'})\n",
    "EBL_Model1 = widgets.Dropdown(options = [\"Dominguez\"], description = \"EBL model\", style= {'description_width': 'initial'})\n",
    "Source_flux1 = widgets.FloatText(value=8.7e-6, min=1e-8, max=1e-3, step=1e-7, description='Source flux:', disabled=False, continuous_update=True, style= {'description_width': 'initial'})\n",
    "Source_z1 = widgets.FloatText(value=0.212, min=0.0, max=0.76, step=1e-2, description='Source redshift:', disabled=False, continuous_update=True, style= {'description_width': 'initial'})\n",
    "Observation_time1 = widgets.IntSlider(value = 42480, min = 1e3, max = 1e5, step= 1e3, description = \"Observation time\", indent = True, style= {'description_width': 'initial'})\n",
    "\n",
    "niter1 = widgets.IntSlider(value = 1000, min = 1, max = 1e5, step= 10, description = \"Number of simulations\", style= {'description_width': 'initial'})\n",
    "Energy_migration1 = widgets.Checkbox(value=True, description='Energy migration', indent=True, style= {'description_width': 'initial'})\n",
    "IRF_u1 = widgets.Checkbox(value=True, description='IRF uncertainty', indent=True, style= {'description_width': 'initial'})\n",
    "Background1 = widgets.Checkbox(value=True, description='Simulated Bacgkround', indent=True, style= {'description_width': 'initial'})\n",
    "Background_scale1 = widgets.FloatSlider(value = 1., min = 0., max = 3, step= 1e-2, description = \"Background scale\", style= {'description_width': 'initial'})\n",
    "Forward_folding1 = widgets.Checkbox(value=True, description='Forward folding', indent=True, style= {'description_width': 'initial'})\n",
    "box2 = widgets.HBox([Forward_folding1, Energy_migration1, IRF_u1])\n",
    "box3 = widgets.HBox([Background1, Background_scale1])\n",
    "first_bin1 = widgets.FloatSlider(min = 0., max = 1., value = 0., step = 0.01, description = \"First alpha bin\", style= {'description_width': 'initial'})\n",
    "last_bin1 = widgets.FloatSlider(min = 1., max = 2., value = 2., step = 0.01, description = \"Last alpha bin\", style= {'description_width': 'initial'})\n",
    "step1  = widgets.FloatSlider(min = 0.01, max = 0.1, value = 0.05, step = 0.01, description = \"Alpha bin width (step)\", style= {'description_width': 'initial'})\n",
    "initial_guess_pos1 = widgets.FloatSlider(value = 1.2, description = \"Initial guess alpha position\", style= {'description_width': 'initial'})\n",
    "widgets.jslink((first_bin1, 'value'), (initial_guess_pos1, 'min'))\n",
    "widgets.jslink((last_bin1, 'value'), (initial_guess_pos1, 'max'))\n",
    "widgets.jslink((step1, 'value'), (initial_guess_pos1, 'step'))\n",
    "widgets.jslink((step1, 'value'), (last_bin1, 'step'))\n",
    "widgets.jslink((step1, 'value'), (first_bin1, 'step'))\n",
    "box4 = widgets.HBox([first_bin1,last_bin1,step1, initial_guess_pos1])\n",
    "\n",
    "#This has to be changed when more Simulated functions\n",
    "Norm1 = widgets.FloatSlider(min = 0.1, max = 10, value = 0.25, step = 0.1, disabled=True, description=\"Normalization Energy in TeV\", style= {'description_width': 'initial'})\n",
    "Ph_index1 = widgets.FloatSlider(value =2.03, min = 1., max = 3., step = 0.01, description = \"Photon index\", style= {'description_width': 'initial'})\n",
    "box1 = widgets.HBox([Source_flux1, Observation_time1, Norm1, Ph_index1])\n",
    "# box_layout = widgets.Layout(display='flex',\n",
    "#                 flex_flow='column',\n",
    "#                 align_items='center',\n",
    "#                 width='50%')\n",
    "box = widgets.VBox(children=[Telescope1, EBL_Model1, niter1, Spectrum_func_name1, box1, Source_z1, fit_func_name1, box2, box3, box4])\n",
    "display(box)"
   ]
  },
  {
   "cell_type": "code",
   "execution_count": 9,
   "metadata": {},
   "outputs": [],
   "source": [
    "fit_func_name = fit_func_name1.value\n",
    "Telescope = Telescope1.value\n",
    "Spectrum_func_name = Spectrum_func_name1.value \n",
    "EBL_Model = EBL_Model1.value \n",
    "Source_flux = Source_flux1.value\n",
    "Source_z = Source_z1.value\n",
    "Observation_time = Observation_time1.value\n",
    "niter = niter1.value\n",
    "Energy_migration = Energy_migration1.value\n",
    "Background = Background1.value\n",
    "Background_scale = Background_scale1.value\n",
    "Forward_folding = Forward_folding1.value\n",
    "initial_guess_pos = initial_guess_pos1.value\n",
    "step = step1.value\n",
    "last_bin = last_bin1.value\n",
    "first_bin = first_bin1.value\n",
    "Norm = Norm1.value\n",
    "Ph_index = Ph_index1.value\n",
    "IRF_u = IRF_u1.value"
   ]
  },
  {
   "cell_type": "code",
   "execution_count": 10,
   "metadata": {
    "tags": []
   },
   "outputs": [
    {
     "data": {
      "application/vnd.jupyter.widget-view+json": {
       "model_id": "6f19e2a75d6d422a9bef7dcc09d8bf9e",
       "version_major": 2,
       "version_minor": 0
      },
      "text/plain": [
       "HBox(children=(FloatSlider(value=0.01, description='Log-Parabola curvature', max=1.0, min=-1.0, readout_format…"
      ]
     },
     "metadata": {},
     "output_type": "display_data"
    }
   ],
   "source": [
    "if fit_func_name == \"MBPWL\":\n",
    "    knots1 = widgets.IntSlider(value = 2, min = 1, max = 20, description=\"Number of knots\", style= {'description_width': 'initial'}) #Number of knots of the function. 3 is the default.\n",
    "    Efirst1 = widgets.FloatSlider(value = 0.1694, min = 0.01, max = 1., step = 0.01, description = \"Energy of the first knot\", style= {'description_width': 'initial'}) #Energy of the first knot\n",
    "    DeltaE1 = widgets.FloatSlider(value = 0.157, min = 0.01, max = 4., step = 0.1, description = \"Energy of the last knot - Energy of first knot\", style= {'description_width': 'initial'})\n",
    "    #the rest of the bins are distributed logaritmically between those two values\n",
    "    display(widgets.HBox([knots1, Efirst1, DeltaE1]))\n",
    "#for PWL\n",
    "elif fit_func_name == \"PWL\":\n",
    "    if Forward_folding:\n",
    "        initial_guess_0 = np.array([5e-6, 2.00])\n",
    "    else:\n",
    "        initial_guess_0 = np.array([5e-7, 2.]) #phi_0, gamma\n",
    "#for LP and freeLP\n",
    "elif fit_func_name == \"LP\":\n",
    "    if Forward_folding:\n",
    "        initial_guess_0 = np.array([5e-6, 2., 0.])\n",
    "    else:\n",
    "        initial_guess_0 = np.array([5e-7, 2., 0.]) #phi_0, alpha, beta\n",
    "        \n",
    "elif fit_func_name == \"freeLP\":\n",
    "    if Forward_folding:\n",
    "        initial_guess_0 = np.array([5e-6, 2., 0.])\n",
    "    else:\n",
    "        initial_guess_0 = np.array([5e-7, 2., 0.]) #phi_0, alpha, beta\n",
    "\n",
    "LP_curvature = widgets.FloatSlider(value = 0.01, min = -1, max = 1, step = 0.005, description=\"Log-Parabola curvature\", style= {'description_width': 'initial'}, readout_format='.3f')\n",
    "display(widgets.HBox([LP_curvature]))\n"
   ]
  },
  {
   "cell_type": "code",
   "execution_count": 11,
   "metadata": {},
   "outputs": [],
   "source": [
    "if fit_func_name == \"MBPWL\":\n",
    "    knots = knots1.value\n",
    "    if Forward_folding:\n",
    "        initial_guess_0 = np.zeros(knots+2)\n",
    "        initial_guess_0[0] = 5e-6\n",
    "        initial_guess_0[1] = 2.\n",
    "    else:\n",
    "        initial_guess_0 = np.zeros(knots+2)\n",
    "        initial_guess_0[0] = 5e-6\n",
    "        initial_guess_0[1] = 2.\n",
    "\n",
    "    config = dict(\n",
    "        fit_func_name = fit_func_name1.value,\n",
    "        Telescope = Telescope1.value,\n",
    "        Spectrum_func_name = Spectrum_func_name1.value, \n",
    "        EBL_Model = EBL_Model1.value, \n",
    "        Source_flux = Source_flux1.value,\n",
    "        Source_z= Source_z1.value, \n",
    "        Observation_time = Observation_time1.value,\n",
    "        niter = niter1.value,\n",
    "        Energy_migration = Energy_migration1.value,\n",
    "        Background = Background1.value,\n",
    "        Background_scale = Background_scale1.value,\n",
    "        Forward_folding = Forward_folding1.value,\n",
    "        initial_guess_pos = initial_guess_pos1.value,\n",
    "        step = step1.value,\n",
    "        last_bin = last_bin1.value,\n",
    "        first_bin = first_bin1.value,\n",
    "        Norm = Norm1.value,\n",
    "        Ph_index = Ph_index1.value,\n",
    "        knots = knots1.value,\n",
    "        Efirst = Efirst1.value,\n",
    "        DeltaE = DeltaE1.value,\n",
    "        initial_guess_0 = initial_guess_0.tolist(),\n",
    "        LP_curvature = LP_curvature.value,\n",
    "        IRF_u = IRF_u1.value,\n",
    "    )\n",
    "else:    \n",
    "    config = dict(\n",
    "        fit_func_name = fit_func_name1.value,\n",
    "        Telescope = Telescope1.value,\n",
    "        Spectrum_func_name = Spectrum_func_name1.value, \n",
    "        EBL_Model = EBL_Model1.value, \n",
    "        Source_flux = Source_flux1.value,\n",
    "        Source_z = Source_z1.value, \n",
    "        Observation_time = Observation_time1.value,\n",
    "        niter = niter1.value,\n",
    "        Energy_migration = Energy_migration1.value,\n",
    "        Background = Background1.value,\n",
    "        Background_scale = Background_scale1.value,\n",
    "        Forward_folding = Forward_folding1.value,\n",
    "        initial_guess_pos = initial_guess_pos1.value,\n",
    "        step = step1.value,\n",
    "        last_bin = last_bin1.value,\n",
    "        first_bin = first_bin1.value,\n",
    "        Norm = Norm1.value,\n",
    "        Ph_index = Ph_index1.value,\n",
    "        initial_guess_0 = initial_guess_0.tolist(),\n",
    "        LP_curvature = LP_curvature.value,\n",
    "        IRF_u = IRF_u1.value,\n",
    "    )\n",
    "\n",
    "with open('EBL_fit_config2_1.yml', 'w') as outfile:\n",
    "    #outfile.write(\"# Input data for MBPWLopt.py \\n\")\n",
    "    yaml.dump(config, outfile, default_flow_style=False)"
   ]
  },
  {
   "cell_type": "code",
   "execution_count": 12,
   "metadata": {},
   "outputs": [
    {
     "name": "stdout",
     "output_type": "stream",
     "text": [
      "{'Background': True, 'Background_scale': 1.0, 'EBL_Model': 'Dominguez', 'Energy_migration': True, 'Forward_folding': True, 'IRF_u': True, 'LP_curvature': 0.01, 'Norm': 0.25, 'Observation_time': 42480, 'Ph_index': 2.03, 'Source_flux': 8.7e-06, 'Source_z': 0.212, 'Spectrum_func_name': 'PWL', 'Telescope': 'MAGIC', 'first_bin': 0.0, 'fit_func_name': 'PWL', 'initial_guess_0': [5e-06, 2.0], 'initial_guess_pos': 1.2, 'last_bin': 2.0, 'niter': 1000, 'step': 0.05}\n"
     ]
    }
   ],
   "source": [
    "with open(\"EBL_fit_config2_1.yml\", \"r\") as f:\n",
    "    inp_config = yaml.safe_load(f)\n",
    "\n",
    "print(inp_config)"
   ]
  },
  {
   "cell_type": "code",
   "execution_count": null,
   "metadata": {},
   "outputs": [],
   "source": []
  }
 ],
 "metadata": {
  "kernelspec": {
   "display_name": "rgrauenv",
   "language": "python",
   "name": "rgrauenv"
  },
  "language_info": {
   "codemirror_mode": {
    "name": "ipython",
    "version": 3
   },
   "file_extension": ".py",
   "mimetype": "text/x-python",
   "name": "python",
   "nbconvert_exporter": "python",
   "pygments_lexer": "ipython3",
   "version": "3.6.8"
  },
  "vscode": {
   "interpreter": {
    "hash": "916dbcbb3f70747c44a77c7bcd40155683ae19c65e1c03b4aa3499c5328201f1"
   }
  }
 },
 "nbformat": 4,
 "nbformat_minor": 4
}
