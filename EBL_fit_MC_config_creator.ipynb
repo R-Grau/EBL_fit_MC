{
 "cells": [
  {
   "cell_type": "code",
   "execution_count": 3,
   "metadata": {},
   "outputs": [],
   "source": [
    "import ipywidgets as widgets\n",
    "from IPython.display import display\n",
    "import yaml\n",
    "import numpy as np"
   ]
  },
  {
   "cell_type": "code",
   "execution_count": 35,
   "metadata": {},
   "outputs": [
    {
     "data": {
      "application/vnd.jupyter.widget-view+json": {
       "model_id": "0c01d332c98c4b7081aa794d8dd791ef",
       "version_major": 2,
       "version_minor": 0
      },
      "text/plain": [
       "VBox(children=(Dropdown(description='Telescope', options=('MAGIC', 'CTAN_alpha'), style=DescriptionStyle(descr…"
      ]
     },
     "metadata": {},
     "output_type": "display_data"
    }
   ],
   "source": [
    "fit_func_name1 = widgets.Dropdown(options = [\"PWL\", \"LP\", \"MBPWL\", \"freeLP\"], description = \"Function to fit\", style= {'description_width': 'initial'})\n",
    "Telescope1 = widgets.Dropdown(options = [\"MAGIC\", \"CTAN_alpha\"], description = \"Telescope\", style= {'description_width': 'initial'})\n",
    "Spectrum_func_name1 = widgets.Dropdown(options = [\"PWL\", \"LP\"], description = \"Simulated spectrum function\", style= {'description_width': 'initial'})\n",
    "EBL_Model1 = widgets.Dropdown(options = [\"Dominguez\"], description = \"EBL model\", style= {'description_width': 'initial'})\n",
    "Source_flux1 = widgets.FloatText(value=8.7e-6, min=1e-8, max=1e-3, step=1e-7, description='Source flux:', disabled=False, continuous_update=True, style= {'description_width': 'initial'})\n",
    "Observation_time1 = widgets.IntSlider(value = 42480, min = 1e3, max = 1e5, step= 1e3, description = \"Observation time\", indent = True, style= {'description_width': 'initial'})\n",
    "\n",
    "niter1 = widgets.IntSlider(value = 1000, min = 1, max = 1e5, step= 10, description = \"Number of simulations\", style= {'description_width': 'initial'})\n",
    "Energy_migration1 = widgets.Checkbox(value=True, description='Energy migration', indent=True, style= {'description_width': 'initial'})\n",
    "Background1 = widgets.Checkbox(value=True, description='Simulated Bacgkround', indent=True, style= {'description_width': 'initial'})\n",
    "Background_scale1 = widgets.FloatSlider(value = 1., min = 0., max = 3, step= 1e-2, description = \"Background scale\", style= {'description_width': 'initial'})\n",
    "Forward_folding1 = widgets.Checkbox(value=True, description='Forward folding', indent=True, style= {'description_width': 'initial'})\n",
    "box2 = widgets.HBox([Forward_folding1, Energy_migration1])\n",
    "box3 = widgets.HBox([Background1, Background_scale1])\n",
    "first_bin1 = widgets.FloatSlider(min = 0., max = 1., value = 0., step = 0.01, description = \"First alpha bin\", style= {'description_width': 'initial'})\n",
    "last_bin1 = widgets.FloatSlider(min = 1., max = 2., value = 2., step = 0.01, description = \"Last alpha bin\", style= {'description_width': 'initial'})\n",
    "step1  = widgets.FloatSlider(min = 0.01, max = 0.1, value = 0.05, step = 0.01, description = \"Alpha bin width (step)\", style= {'description_width': 'initial'})\n",
    "initial_guess_pos1 = widgets.FloatSlider(value = 1.2, description = \"Initial guess alpha position\", style= {'description_width': 'initial'})\n",
    "widgets.jslink((first_bin1, 'value'), (initial_guess_pos1, 'min'))\n",
    "widgets.jslink((last_bin1, 'value'), (initial_guess_pos1, 'max'))\n",
    "widgets.jslink((step1, 'value'), (initial_guess_pos1, 'step'))\n",
    "widgets.jslink((step1, 'value'), (last_bin1, 'step'))\n",
    "widgets.jslink((step1, 'value'), (first_bin1, 'step'))\n",
    "box4 = widgets.HBox([first_bin1,last_bin1,step1, initial_guess_pos1])\n",
    "\n",
    "#This has to be changed when more Simulated functions\n",
    "Norm1 = widgets.FloatSlider(min = 0.1, max = 10, value = 0.25, step = 0.1, disabled=True, description=\"Normalization Energy in TeV\", style= {'description_width': 'initial'})\n",
    "Ph_index1 = widgets.FloatSlider(value =2.03, min = 1., max = 3., step = 0.01, description = \"Photon index\", style= {'description_width': 'initial'})\n",
    "box1 = widgets.HBox([Source_flux1,Observation_time1, Norm1, Ph_index1])\n",
    "# box_layout = widgets.Layout(display='flex',\n",
    "#                 flex_flow='column',\n",
    "#                 align_items='center',\n",
    "#                 width='50%')\n",
    "box = widgets.VBox(children=[Telescope1, EBL_Model1, niter1, Spectrum_func_name1, box1, fit_func_name1, box2, box3, box4])\n",
    "display(box)"
   ]
  },
  {
   "cell_type": "code",
   "execution_count": 36,
   "metadata": {},
   "outputs": [],
   "source": [
    "fit_func_name = fit_func_name1.value\n",
    "Telescope = Telescope1.value\n",
    "Spectrum_func_name = Spectrum_func_name1.value \n",
    "EBL_Model = EBL_Model1.value \n",
    "Source_flux = Source_flux1.value \n",
    "Observation_time = Observation_time1.value\n",
    "niter = niter1.value\n",
    "Energy_migration = Energy_migration1.value\n",
    "Background = Background1.value\n",
    "Background_scale = Background_scale1.value\n",
    "Forward_folding = Forward_folding1.value\n",
    "initial_guess_pos = initial_guess_pos1.value\n",
    "step = step1.value\n",
    "last_bin = last_bin1.value\n",
    "first_bin = first_bin1.value\n",
    "Norm = Norm1.value\n",
    "Ph_index = Ph_index1.value"
   ]
  },
  {
   "cell_type": "code",
   "execution_count": 40,
   "metadata": {},
   "outputs": [
    {
     "data": {
      "application/vnd.jupyter.widget-view+json": {
       "model_id": "cbd09ae5f37a478f8c7366763922d5c6",
       "version_major": 2,
       "version_minor": 0
      },
      "text/plain": [
       "HBox(children=(IntSlider(value=3, description='Number of knots', max=20, min=3, style=SliderStyle(description_…"
      ]
     },
     "metadata": {},
     "output_type": "display_data"
    },
    {
     "data": {
      "application/vnd.jupyter.widget-view+json": {
       "model_id": "551a5da9d20044c68094dc4f228ef79d",
       "version_major": 2,
       "version_minor": 0
      },
      "text/plain": [
       "HBox(children=(FloatSlider(value=0.01, description='Log-Parabola curvature', max=1.0, min=-1.0, readout_format…"
      ]
     },
     "metadata": {},
     "output_type": "display_data"
    }
   ],
   "source": [
    "if fit_func_name == \"MBPWL\":\n",
    "    knots1 = widgets.IntSlider(value = 3, min = 3, max = 20, description=\"Number of knots\", style= {'description_width': 'initial'}) #Number of knots of the function. 3 is the default.\n",
    "    Efirst1 = widgets.FloatSlider(value = 0.2, min = 0.01, max = 1., step = 0.01, description = \"Energy of the first knot\", style= {'description_width': 'initial'}) #Energy of the first knot\n",
    "    Elast1 = widgets.FloatSlider(value = 1.1, min = 1., max = 4., step = 0.1, description = \"Energy of the last knot\", style= {'description_width': 'initial'})\n",
    "    #the rest of the bins are distributed logaritmically between those two values\n",
    "    display(widgets.HBox([knots1, Efirst1, Elast1]))\n",
    "#for PWL\n",
    "elif fit_func_name == \"PWL\":\n",
    "    if Forward_folding:\n",
    "        initial_guess_0 = np.array([5e-6, 2.00])\n",
    "    else:\n",
    "        initial_guess_0 = np.array([5e-7, 2.]) #phi_0, gamma\n",
    "#for LP and freeLP\n",
    "elif fit_func_name == \"LP\" or fit_func_name == \"freeLP\":\n",
    "    if Forward_folding:\n",
    "        initial_guess_0 = np.array([5e-6, 2., 0.])\n",
    "    else:\n",
    "        initial_guess_0 = np.array([5e-7, 2., 0.]) #phi_0, alpha, beta\n",
    "\n",
    "LP_curvature = widgets.FloatSlider(value = 0.01, min = -1, max = 1, step = 0.005, description=\"Log-Parabola curvature\", style= {'description_width': 'initial'}, readout_format='.3f')\n",
    "display(widgets.HBox([LP_curvature]))\n"
   ]
  },
  {
   "cell_type": "code",
   "execution_count": 41,
   "metadata": {},
   "outputs": [],
   "source": [
    "if fit_func_name == \"MBPWL\":\n",
    "    knots = knots1.value\n",
    "    if Forward_folding:\n",
    "        initial_guess_0 = np.zeros(knots+2)\n",
    "        initial_guess_0[0] = 5e-6\n",
    "        initial_guess_0[1] = 2.\n",
    "    else:\n",
    "        initial_guess_0 = np.zeros(knots+2)\n",
    "        initial_guess_0[0] = 5e-6\n",
    "        initial_guess_0[1] = 2.\n",
    "\n",
    "    config = dict(\n",
    "        fit_func_name = fit_func_name1.value,\n",
    "        Telescope = Telescope1.value,\n",
    "        Spectrum_func_name = Spectrum_func_name1.value, \n",
    "        EBL_Model = EBL_Model1.value, \n",
    "        Source_flux = Source_flux1.value, \n",
    "        Observation_time = Observation_time1.value,\n",
    "        niter = niter1.value,\n",
    "        Energy_migration = Energy_migration1.value,\n",
    "        Background = Background1.value,\n",
    "        Background_scale = Background_scale1.value,\n",
    "        Forward_folding = Forward_folding1.value,\n",
    "        initial_guess_pos = initial_guess_pos1.value,\n",
    "        step = step1.value,\n",
    "        last_bin = last_bin1.value,\n",
    "        first_bin = first_bin1.value,\n",
    "        Norm = Norm1.value,\n",
    "        Ph_index = Ph_index1.value,\n",
    "        knots = knots1.value,\n",
    "        Efirst = Efirst1.value,\n",
    "        Elast = Elast1.value,\n",
    "        initial_guess_0 = initial_guess_0.tolist(),\n",
    "        LP_curvature = LP_curvature.value,\n",
    "    )\n",
    "else:    \n",
    "    config = dict(\n",
    "        fit_func_name = fit_func_name1.value,\n",
    "        Telescope = Telescope1.value,\n",
    "        Spectrum_func_name = Spectrum_func_name1.value, \n",
    "        EBL_Model = EBL_Model1.value, \n",
    "        Source_flux = Source_flux1.value, \n",
    "        Observation_time = Observation_time1.value,\n",
    "        niter = niter1.value,\n",
    "        Energy_migration = Energy_migration1.value,\n",
    "        Background = Background1.value,\n",
    "        Background_scale = Background_scale1.value,\n",
    "        Forward_folding = Forward_folding1.value,\n",
    "        initial_guess_pos = initial_guess_pos1.value,\n",
    "        step = step1.value,\n",
    "        last_bin = last_bin1.value,\n",
    "        first_bin = first_bin1.value,\n",
    "        Norm = Norm1.value,\n",
    "        Ph_index = Ph_index1.value,\n",
    "        initial_guess_0 = initial_guess_0.tolist(),\n",
    "        LP_curvature = LP_curvature.value,\n",
    "    )\n",
    "\n",
    "with open('EBL_fit_config.yml', 'w') as outfile:\n",
    "    #outfile.write(\"# Input data for MBPWLopt.py \\n\")\n",
    "    yaml.dump(config, outfile, default_flow_style=False)"
   ]
  },
  {
   "cell_type": "code",
   "execution_count": 42,
   "metadata": {},
   "outputs": [
    {
     "name": "stdout",
     "output_type": "stream",
     "text": [
      "{'Background': True, 'Background_scale': 1.0, 'EBL_Model': 'Dominguez', 'Efirst': 0.2, 'Elast': 1.1, 'Energy_migration': True, 'Forward_folding': True, 'LP_curvature': 0.01, 'Norm': 0.25, 'Observation_time': 42480, 'Ph_index': 2.03, 'Source_flux': 8.7e-06, 'Spectrum_func_name': 'PWL', 'Telescope': 'MAGIC', 'first_bin': 0.0, 'fit_func_name': 'MBPWL', 'initial_guess_0': [5e-06, 2.0, 0.0, 0.0, 0.0, 0.0, 0.0], 'initial_guess_pos': 1.2, 'knots': 5, 'last_bin': 2.0, 'niter': 1000, 'step': 0.05}\n"
     ]
    }
   ],
   "source": [
    "with open(\"EBL_fit_config.yml\", \"r\") as f:\n",
    "    inp_config = yaml.safe_load(f)\n",
    "\n",
    "print(inp_config)"
   ]
  },
  {
   "cell_type": "code",
   "execution_count": null,
   "metadata": {},
   "outputs": [],
   "source": []
  }
 ],
 "metadata": {
  "interpreter": {
   "hash": "1f2f7e8324b75f14826c3d6674dd3eaf600318dfcda051e77b4683649f0eb20c"
  },
  "kernelspec": {
   "display_name": "rgrauenv",
   "language": "python",
   "name": "rgrauenv"
  },
  "language_info": {
   "codemirror_mode": {
    "name": "ipython",
    "version": 3
   },
   "file_extension": ".py",
   "mimetype": "text/x-python",
   "name": "python",
   "nbconvert_exporter": "python",
   "pygments_lexer": "ipython3",
   "version": "3.6.8"
  }
 },
 "nbformat": 4,
 "nbformat_minor": 4
}
