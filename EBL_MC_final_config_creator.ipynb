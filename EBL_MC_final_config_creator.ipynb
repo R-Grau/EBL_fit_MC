{
 "cells": [
  {
   "cell_type": "code",
   "execution_count": 1,
   "metadata": {},
   "outputs": [],
   "source": [
    "import ipywidgets as widgets\n",
    "from IPython.display import display\n",
    "import yaml\n",
    "import numpy as np"
   ]
  },
  {
   "attachments": {},
   "cell_type": "markdown",
   "metadata": {},
   "source": [
    "General config"
   ]
  },
  {
   "cell_type": "code",
   "execution_count": 2,
   "metadata": {},
   "outputs": [
    {
     "data": {
      "application/vnd.jupyter.widget-view+json": {
       "model_id": "cfba0b35a18942f9bf260e31884a3ff1",
       "version_major": 2,
       "version_minor": 0
      },
      "text/plain": [
       "VBox(children=(Dropdown(description='Telescope', options=('MAGIC', 'CTAN_alpha'), style=DescriptionStyle(descr…"
      ]
     },
     "metadata": {},
     "output_type": "display_data"
    }
   ],
   "source": [
    "#     IRF_u = inp_config[\"IRF_u\"]    \n",
    "fitfuncs = [\"PWL\", \"LP\", \"MBPWL\", \"freeLP\"]\n",
    "spectrumfuncs = [\"PWL\", \"LP\"]\n",
    "checkboxes_fit = [widgets.Checkbox(value=True, description=label) for label in fitfuncs]\n",
    "checkboxes_spectrum = [widgets.Checkbox(value=True, description=label) for label in spectrumfuncs]\n",
    "TextS = widgets.HTML('Simulated spectrum functions: ')\n",
    "TextF = widgets.HTML('Functions to fit:')\n",
    "Specbox = widgets.HBox(checkboxes_spectrum)\n",
    "Fitbox = widgets.HBox(checkboxes_fit)\n",
    "# Specbox = widgets.HBox([TextS, checkboxes_spectrum])\n",
    "# Fitbox = widgets.HBox([TextF, checkboxes_fit])\n",
    "Telescope1 = widgets.Dropdown(options = [\"MAGIC\", \"CTAN_alpha\"], description = \"Telescope\", style= {'description_width': 'initial'})\n",
    "\n",
    "\n",
    "niter1 = widgets.IntSlider(value = 1000, min = 1, max = 1e5, step= 10, description = \"Number of simulations\", style= {'description_width': 'initial'})\n",
    "Energy_migration1 = widgets.Checkbox(value=True, description='Energy migration', indent=True, style= {'description_width': 'initial'})\n",
    "Forward_folding1 = widgets.Checkbox(value=True, description='Forward folding', indent=True, style= {'description_width': 'initial'})\n",
    "Background1 = widgets.Checkbox(value=True, description='Simulated Bacgkround', indent=True, style= {'description_width': 'initial'})\n",
    "IRF_u1 = widgets.Checkbox(value=True, description='IRF uncertainty', indent=True, style= {'description_width': 'initial'})\n",
    "box1 = widgets.HBox([Forward_folding1, Energy_migration1])\n",
    "box2 = widgets.HBox([IRF_u1, Background1])\n",
    "box = widgets.VBox([Telescope1, TextS, Specbox, TextF, Fitbox, niter1, box1, box2])\n",
    "display(box)"
   ]
  },
  {
   "cell_type": "code",
   "execution_count": 3,
   "metadata": {},
   "outputs": [],
   "source": [
    "fit_func_name1 = []\n",
    "for i in range(0, len(checkboxes_fit)):\n",
    "    if checkboxes_fit[i].value == True:\n",
    "        fit_func_name1 = fit_func_name1 + [checkboxes_fit[i].description]\n",
    "Spectrum_func_name1 = []\n",
    "for i in range(0, len(checkboxes_spectrum)):\n",
    "    if checkboxes_spectrum[i].value == True:\n",
    "        Spectrum_func_name1 = Spectrum_func_name1 + [checkboxes_spectrum[i].description]\n",
    "\n",
    "config = dict(\n",
    "    Telescope = Telescope1.value,\n",
    "    fit_func_name = fit_func_name1,\n",
    "    Spectrum_func_name = Spectrum_func_name1,\n",
    "    niter = niter1.value,\n",
    "    Energy_migration = Energy_migration1.value,\n",
    "    Background = Background1.value,\n",
    "    Forward_folding = Forward_folding1.value,\n",
    "    IRF_u = IRF_u1.value,\n",
    "    )\n",
    "\n",
    "with open('EBL_MC_general_config.yml', 'w') as outfile:\n",
    "    yaml.dump(config, outfile, default_flow_style=False)"
   ]
  },
  {
   "attachments": {},
   "cell_type": "markdown",
   "metadata": {},
   "source": [
    "Data generation config"
   ]
  },
  {
   "cell_type": "code",
   "execution_count": 7,
   "metadata": {},
   "outputs": [
    {
     "data": {
      "application/vnd.jupyter.widget-view+json": {
       "model_id": "9f7a3552a1bf493f9578e47c08fd581f",
       "version_major": 2,
       "version_minor": 0
      },
      "text/plain": [
       "HBox(children=(Dropdown(description='Simulated spectrum function', options=('PWL', 'LP'), style=DescriptionSty…"
      ]
     },
     "metadata": {},
     "output_type": "display_data"
    }
   ],
   "source": [
    "Spectrum_func_name1 = widgets.Dropdown(options = [\"PWL\", \"LP\"], description = \"Simulated spectrum function\", style= {'description_width': 'initial'})\n",
    "display(widgets.HBox([Spectrum_func_name1]))"
   ]
  },
  {
   "cell_type": "code",
   "execution_count": 8,
   "metadata": {},
   "outputs": [
    {
     "data": {
      "application/vnd.jupyter.widget-view+json": {
       "model_id": "0a77a2b4d1914beea6676f086b1b2759",
       "version_major": 2,
       "version_minor": 0
      },
      "text/plain": [
       "VBox(children=(Dropdown(description='EBL model', options=('Dominguez',), style=DescriptionStyle(description_wi…"
      ]
     },
     "metadata": {},
     "output_type": "display_data"
    }
   ],
   "source": [
    "EBL_Model1 = widgets.Dropdown(options = [\"Dominguez\"], description = \"EBL model\", style= {'description_width': 'initial'})\n",
    "Source_flux1 = widgets.FloatText(value=8.7e-6, min=1e-8, max=1e-3, step=1e-7, description='Source flux:', disabled=False, continuous_update=True, style= {'description_width': 'initial'})\n",
    "Source_z1 = widgets.FloatText(value=0.212, min=0.0, max=0.76, step=1e-2, description='Source redshift:', disabled=False, continuous_update=True, style= {'description_width': 'initial'})\n",
    "Observation_time1 = widgets.IntSlider(value = 42480, min = 1e3, max = 1e5, step= 1e3, description = \"Observation time\", indent = True, style= {'description_width': 'initial'})\n",
    "Background_scale1 = widgets.FloatSlider(value = 1., min = 0., max = 3, step= 1e-2, description = \"Background scale\", style= {'description_width': 'initial'})\n",
    "Norm1 = widgets.FloatSlider(min = 0.1, max = 10, value = 0.25, step = 0.1, disabled=True, description=\"Normalization Energy in TeV\", style= {'description_width': 'initial'})\n",
    "Ph_index1 = widgets.FloatSlider(value =2.03, min = 1., max = 3., step = 0.01, description = \"Photon index\", style= {'description_width': 'initial'})\n",
    "LP_curvature = widgets.FloatSlider(value = 0.01, min = -1, max = 1, step = 0.005, description=\"Log-Parabola curvature\", style= {'description_width': 'initial'}, readout_format='.3f')\n",
    "box = widgets.VBox(children = [EBL_Model1, Source_flux1, Source_z1, Observation_time1, Background_scale1, Norm1, Ph_index1, LP_curvature])\n",
    "display(box)"
   ]
  },
  {
   "cell_type": "code",
   "execution_count": 9,
   "metadata": {},
   "outputs": [],
   "source": [
    "config = dict(\n",
    "    EBL_Model = EBL_Model1.value,\n",
    "    Source_flux = Source_flux1.value,\n",
    "    Source_z = Source_z1.value,\n",
    "    Observation_time = Observation_time1.value,\n",
    "    Background_scale = Background_scale1.value,\n",
    "    Norm = Norm1.value,\n",
    "    Ph_index = Ph_index1.value,\n",
    "    LP_curvature = LP_curvature.value,\n",
    ")\n",
    "\n",
    "with open(\"EBL_MC_config_data_{0}.yml\".format(Spectrum_func_name1.value), 'w') as outfile:\n",
    "    yaml.dump(config, outfile, default_flow_style=False)"
   ]
  },
  {
   "attachments": {},
   "cell_type": "markdown",
   "metadata": {},
   "source": [
    "Fit configuration"
   ]
  },
  {
   "cell_type": "code",
   "execution_count": 18,
   "metadata": {},
   "outputs": [
    {
     "data": {
      "application/vnd.jupyter.widget-view+json": {
       "model_id": "f0130c99ec1a4b07b6fc34ce9df9d86c",
       "version_major": 2,
       "version_minor": 0
      },
      "text/plain": [
       "HBox(children=(Dropdown(description='Function to fit', options=('PWL', 'LP', 'MBPWL', 'freeLP'), style=Descrip…"
      ]
     },
     "metadata": {},
     "output_type": "display_data"
    }
   ],
   "source": [
    "fit_func_name1 = widgets.Dropdown(options = [\"PWL\", \"LP\", \"MBPWL\", \"freeLP\"], description = \"Function to fit\", style= {'description_width': 'initial'})\n",
    "display(widgets.HBox([fit_func_name1]))"
   ]
  },
  {
   "cell_type": "code",
   "execution_count": 19,
   "metadata": {},
   "outputs": [
    {
     "data": {
      "application/vnd.jupyter.widget-view+json": {
       "model_id": "d312c7953bca4f42a5d92fb0a7649c78",
       "version_major": 2,
       "version_minor": 0
      },
      "text/plain": [
       "VBox(children=(Dropdown(description='EBL model', options=('Dominguez',), style=DescriptionStyle(description_wi…"
      ]
     },
     "metadata": {},
     "output_type": "display_data"
    }
   ],
   "source": [
    "EBL_Model1 = widgets.Dropdown(options = [\"Dominguez\"], description = \"EBL model\", style= {'description_width': 'initial'})\n",
    "first_bin1 = widgets.FloatSlider(min = 0., max = 1., value = 0., step = 0.01, description = \"First alpha bin\", style= {'description_width': 'initial'})\n",
    "last_bin1 = widgets.FloatSlider(min = 1., max = 2., value = 2., step = 0.01, description = \"Last alpha bin\", style= {'description_width': 'initial'})\n",
    "step1  = widgets.FloatSlider(min = 0.01, max = 0.1, value = 0.05, step = 0.01, description = \"Alpha bin width (step)\", style= {'description_width': 'initial'})\n",
    "initial_guess_pos1 = widgets.FloatSlider(value = 1.2, description = \"Initial guess alpha position\", style= {'description_width': 'initial'})\n",
    "Source_z1 = widgets.FloatText(value=0.212, min=0.0, max=0.76, step=1e-2, description='Source redshift:', disabled=False, continuous_update=True, style= {'description_width': 'initial'})\n",
    "widgets.jslink((first_bin1, 'value'), (initial_guess_pos1, 'min'))\n",
    "widgets.jslink((last_bin1, 'value'), (initial_guess_pos1, 'max'))\n",
    "widgets.jslink((step1, 'value'), (initial_guess_pos1, 'step'))\n",
    "widgets.jslink((step1, 'value'), (last_bin1, 'step'))\n",
    "widgets.jslink((step1, 'value'), (first_bin1, 'step'))\n",
    "box4 = widgets.HBox([first_bin1,last_bin1, step1, initial_guess_pos1])\n",
    "box = widgets.VBox(children=[EBL_Model1, Source_z1, box4])\n",
    "display(box)\n"
   ]
  },
  {
   "cell_type": "code",
   "execution_count": 20,
   "metadata": {},
   "outputs": [
    {
     "data": {
      "application/vnd.jupyter.widget-view+json": {
       "model_id": "8cd06cd1d8e34258a8f5f68c4ecc28ba",
       "version_major": 2,
       "version_minor": 0
      },
      "text/plain": [
       "HBox(children=(IntSlider(value=2, description='Number of knots', max=20, min=1, style=SliderStyle(description_…"
      ]
     },
     "metadata": {},
     "output_type": "display_data"
    }
   ],
   "source": [
    "if fit_func_name1.value == \"MBPWL\":\n",
    "        knots1 = widgets.IntSlider(value = 2, min = 1, max = 20, description=\"Number of knots\", style= {'description_width': 'initial'}) #Number of knots of the function. 3 is the default.\n",
    "        Efirst1 = widgets.FloatSlider(value = 0.1694, min = 0.01, max = 1., step = 0.01, description = \"Energy of the first knot\", style= {'description_width': 'initial'}) #Energy of the first knot\n",
    "        DeltaE1 = widgets.FloatSlider(value = 0.157, min = 0.01, max = 4., step = 0.1, description = \"Energy of the last knot - Energy of first knot\", style= {'description_width': 'initial'})\n",
    "        #the rest of the bins are distributed logaritmically between those two values\n",
    "        display(widgets.HBox([knots1, Efirst1, DeltaE1]))\n",
    "\n",
    "#for PWL\n",
    "elif fit_func_name1.value == \"PWL\":\n",
    "        initial_guess_0 = np.array([5e-6, 2.00])#phi_0, gamma\n",
    "#for LP and freeLP\n",
    "elif fit_func_name1.value == \"LP\":\n",
    "        initial_guess_0 = np.array([5e-6, 2., 0.])#phi_0, alpha, beta\n",
    "        \n",
    "elif fit_func_name1.value == \"freeLP\":\n",
    "        initial_guess_0 = np.array([5e-6, 2., 0.])#phi_0, alpha, beta"
   ]
  },
  {
   "cell_type": "code",
   "execution_count": 21,
   "metadata": {},
   "outputs": [],
   "source": [
    "if fit_func_name1.value == \"MBPWL\":\n",
    "    knots = knots1.value\n",
    "    initial_guess_0 = np.zeros(knots+2)\n",
    "    initial_guess_0[0] = 5e-6\n",
    "    initial_guess_0[1] = 2.\n",
    "    config = dict(\n",
    "        EBL_Model = EBL_Model1.value,\n",
    "        first_bin = first_bin1.value,\n",
    "        last_bin = last_bin1.value,\n",
    "        step = step1.value,\n",
    "        initial_guess_pos = initial_guess_pos1.value,\n",
    "        Source_z = Source_z1.value,\n",
    "        initial_guess_0 = initial_guess_0.tolist(),\n",
    "        knots = knots1.value,\n",
    "        Efirst = Efirst1.value,\n",
    "        DeltaE = DeltaE1.value,\n",
    "    )\n",
    "\n",
    "else:\n",
    "    config = dict(\n",
    "        EBL_Model = EBL_Model1.value,\n",
    "        first_bin = first_bin1.value,\n",
    "        last_bin = last_bin1.value,\n",
    "        step = step1.value,\n",
    "        initial_guess_pos = initial_guess_pos1.value,\n",
    "        Source_z = Source_z1.value,\n",
    "        initial_guess_0 = initial_guess_0.tolist(),\n",
    "    )\n",
    "with open(\"EBL_MC_config_fit_{0}.yml\".format(fit_func_name1.value), 'w') as outfile:\n",
    "    yaml.dump(config, outfile, default_flow_style=False)"
   ]
  },
  {
   "attachments": {},
   "cell_type": "markdown",
   "metadata": {},
   "source": [
    "Chech that the output is correct"
   ]
  },
  {
   "cell_type": "code",
   "execution_count": 40,
   "metadata": {},
   "outputs": [
    {
     "name": "stdout",
     "output_type": "stream",
     "text": [
      "{'EBL_Model': 'Dominguez', 'Source_z': 0.212, 'first_bin': 0.0, 'initial_guess_0': [5e-06, 2.0], 'initial_guess_pos': 1.2, 'last_bin': 2.0, 'step': 0.05}\n"
     ]
    }
   ],
   "source": [
    "with open(\"EBL_MC_config_fit_{0}.yml\".format(fit_func_name1.value), \"r\") as f:\n",
    "    inp_config = yaml.safe_load(f)\n",
    "\n",
    "print(inp_config)"
   ]
  },
  {
   "cell_type": "code",
   "execution_count": null,
   "metadata": {},
   "outputs": [],
   "source": []
  }
 ],
 "metadata": {
  "kernelspec": {
   "display_name": "Python 3",
   "language": "python",
   "name": "python3"
  },
  "language_info": {
   "codemirror_mode": {
    "name": "ipython",
    "version": 3
   },
   "file_extension": ".py",
   "mimetype": "text/x-python",
   "name": "python",
   "nbconvert_exporter": "python",
   "pygments_lexer": "ipython3",
   "version": "3.8.10"
  }
 },
 "nbformat": 4,
 "nbformat_minor": 4
}
