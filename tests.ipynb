{
 "cells": [
  {
   "cell_type": "code",
   "execution_count": 1,
   "metadata": {},
   "outputs": [],
   "source": [
    "import numpy as np\n",
    "import matplotlib.pyplot as plt\n",
    "from EBL_fit_MC_functions import *\n",
    "import scipy as sc\n",
    "\n",
    "import ipywidgets as widgets\n",
    "from IPython.display import display\n",
    "\n",
    "from joblib import Parallel, delayed"
   ]
  },
  {
   "cell_type": "code",
   "execution_count": 3,
   "metadata": {},
   "outputs": [],
   "source": [
    "x_vals = np.logspace(-3,6,1000)\n",
    "y_1 = (x_vals/5)**-2\n",
    "y_2 = y_1 * (x_vals/30)**-0.5"
   ]
  },
  {
   "cell_type": "code",
   "execution_count": 4,
   "metadata": {},
   "outputs": [
    {
     "data": {
      "image/png": "[encoded data removed]",
      "text/plain": [
       "<Figure size 432x288 with 1 Axes>"
      ]
     },
     "metadata": {
      "needs_background": "light"
     },
     "output_type": "display_data"
    }
   ],
   "source": [
    "plt.plot(x_vals,y_1)\n",
    "plt.plot(x_vals,y_2)\n",
    "plt.xscale('log')\n",
    "plt.yscale('log')\n",
    "plt.show()"
   ]
  },
  {
   "cell_type": "code",
   "execution_count": 5,
   "metadata": {},
   "outputs": [
    {
     "name": "stdout",
     "output_type": "stream",
     "text": [
      "[2000  340    0   17   95]\n",
      "[3000   17  400   40    0]\n",
      "['f1(Non, Noff, mu_gam)' 'f1(Non, Noff, mu_gam)' 'f3(Non,Noff)'\n",
      " 'f1(Non, Noff, mu_gam)' 'f4(Non, Noff)']\n"
     ]
    }
   ],
   "source": [
    "Non = np.array([2000, 340, 0, 17, 95])\n",
    "Noff = np.array([3000, 17, 400, 40, 0])\n",
    "mu_gam = np.array([3,4,5,0,55])\n",
    "mu_bg = np.array([25, 3, 0, 65, 18])\n",
    "# Non = N_rnd(12, mu_on)\n",
    "\n",
    "def f1(Non, Noff, mu_gam):\n",
    "    return Non + Noff + mu_gam\n",
    "def f2(Non, Noff):\n",
    "    return Non - Noff\n",
    "def f3(Non, Noff):\n",
    "    mu_gam2 = 30000\n",
    "    return Non + Noff + mu_gam2\n",
    "def f4(Non, Noff):\n",
    "    return 235564\n",
    "\n",
    "conditions = [((Non >= 20)| (Noff >= 20)) & ((Non > 0 ) & (Noff > 0)), (Non != 0) & (Noff != 0), (Non == 0), (Noff == 0)]\n",
    "choices = [\"f1(Non, Noff, mu_gam)\", \"f2(Non, Noff)\", \"f3(Non,Noff)\", \"f4(Non, Noff)\"]\n",
    "res = np.select(conditions, choices, default=70)\n",
    "# res = np.where((Non>20) & (Noff>20), f1(Non,Noff, mu_gam), f2(Non,Noff)) + np.where((Non>0) & (Noff == 0))\n",
    "print(Non)\n",
    "print(Noff)\n",
    "print(res)"
   ]
  },
  {
   "cell_type": "code",
   "execution_count": 6,
   "metadata": {},
   "outputs": [
    {
     "name": "stdout",
     "output_type": "stream",
     "text": [
      "[         -inf          -inf          -inf -231.50812228  -96.22141196]\n",
      "[         -inf          -inf          -inf -231.50812228  -96.22141196]\n"
     ]
    },
    {
     "name": "stderr",
     "output_type": "stream",
     "text": [
      "/tmp/ipykernel_5629/1378640056.py:1: RuntimeWarning: divide by zero encountered in log\n",
      "  logL = -mu_gam - 6 * mu_bg + Non * np.log(mu_gam + mu_bg) + Noff * np.log(5 * mu_bg) - np.log(sc.special.factorial(Non) * sc.special.factorial(Noff))\n",
      "/tmp/ipykernel_5629/1378640056.py:2: RuntimeWarning: divide by zero encountered in log\n",
      "  logL2 = np.log(sc.stats.poisson.pmf(Non, mu_gam+mu_bg)* sc.stats.poisson.pmf(Noff, 5 * mu_bg))\n"
     ]
    }
   ],
   "source": [
    "logL = -mu_gam - 6 * mu_bg + Non * np.log(mu_gam + mu_bg) + Noff * np.log(5 * mu_bg) - np.log(sc.special.factorial(Non) * sc.special.factorial(Noff))\n",
    "logL2 = np.log(sc.stats.poisson.pmf(Non, mu_gam+mu_bg)* sc.stats.poisson.pmf(Noff, 5 * mu_bg))\n",
    "\n",
    "print(logL)\n",
    "print(logL2)"
   ]
  },
  {
   "cell_type": "code",
   "execution_count": 7,
   "metadata": {},
   "outputs": [
    {
     "data": {
      "text/plain": [
       "array([0.00000000e+00, 0.00000000e+00, 6.73794700e-03, 1.09475572e-12,\n",
       "       1.98643846e-03])"
      ]
     },
     "execution_count": 7,
     "metadata": {},
     "output_type": "execute_result"
    }
   ],
   "source": [
    "sc.stats.poisson.pmf(Non, mu_gam+mu_bg)"
   ]
  },
  {
   "cell_type": "markdown",
   "metadata": {},
   "source": [
    "WIDGETS"
   ]
  },
  {
   "cell_type": "code",
   "execution_count": 8,
   "metadata": {},
   "outputs": [
    {
     "data": {
      "application/vnd.jupyter.widget-view+json": {
       "model_id": "1e1c98e71b3548e285d695d4c44be8dc",
       "version_major": 2,
       "version_minor": 0
      },
      "text/plain": [
       "IntSlider(value=3, description='Slider:', max=10)"
      ]
     },
     "metadata": {},
     "output_type": "display_data"
    }
   ],
   "source": [
    "widgets.IntSlider(\n",
    "    min=0,\n",
    "    max=10,\n",
    "    step=1,\n",
    "    description='Slider:',\n",
    "    value=3\n",
    ")"
   ]
  },
  {
   "cell_type": "code",
   "execution_count": 15,
   "metadata": {},
   "outputs": [
    {
     "data": {
      "application/vnd.jupyter.widget-view+json": {
       "model_id": "fb997982fcd745979bee4b467da4841d",
       "version_major": 2,
       "version_minor": 0
      },
      "text/plain": [
       "IntSlider(value=0)"
      ]
     },
     "metadata": {},
     "output_type": "display_data"
    }
   ],
   "source": [
    "patata = widgets.IntSlider()\n",
    "display(patata)"
   ]
  },
  {
   "cell_type": "code",
   "execution_count": 17,
   "metadata": {},
   "outputs": [
    {
     "name": "stdout",
     "output_type": "stream",
     "text": [
      "46\n"
     ]
    }
   ],
   "source": [
    "print(patata.value)"
   ]
  },
  {
   "cell_type": "code",
   "execution_count": 21,
   "metadata": {},
   "outputs": [
    {
     "data": {
      "application/vnd.jupyter.widget-view+json": {
       "model_id": "5c466e75ed634e68a1d7c52e6f762549",
       "version_major": 2,
       "version_minor": 0
      },
      "text/plain": [
       "IntText(value=0)"
      ]
     },
     "metadata": {},
     "output_type": "display_data"
    },
    {
     "data": {
      "application/vnd.jupyter.widget-view+json": {
       "model_id": "b2d185f3e6a94c14a0db6261e4f2d96b",
       "version_major": 2,
       "version_minor": 0
      },
      "text/plain": [
       "IntSlider(value=0)"
      ]
     },
     "metadata": {},
     "output_type": "display_data"
    },
    {
     "data": {
      "text/plain": [
       "Link(source=(IntSlider(value=0), 'value'), target=(IntText(value=0), 'value'))"
      ]
     },
     "metadata": {},
     "output_type": "display_data"
    }
   ],
   "source": [
    "text = widgets.IntText()\n",
    "slider = widgets.IntSlider()\n",
    "display(text, slider)\n",
    "widgets.jslink((slider, 'value'), (text, 'value'))"
   ]
  },
  {
   "cell_type": "code",
   "execution_count": 22,
   "metadata": {},
   "outputs": [
    {
     "name": "stdout",
     "output_type": "stream",
     "text": [
      "['Accordion', 'AppLayout', 'Audio', 'BoundedFloatText', 'BoundedIntText', 'Box', 'Button', 'ButtonStyle', 'CallbackDispatcher', 'Checkbox', 'Color', 'ColorPicker', 'Combobox', 'Controller', 'CoreWidget', 'DOMWidget', 'DatePicker', 'Datetime', 'Dropdown', 'FileUpload', 'FloatLogSlider', 'FloatProgress', 'FloatRangeSlider', 'FloatSlider', 'FloatText', 'GridBox', 'GridspecLayout', 'HBox', 'HTML', 'HTMLMath', 'Image', 'IntProgress', 'IntRangeSlider', 'IntSlider', 'IntText', 'Label', 'Layout', 'NumberFormat', 'Output', 'Password', 'Play', 'RadioButtons', 'Select', 'SelectMultiple', 'SelectionRangeSlider', 'SelectionSlider', 'SliderStyle', 'Style', 'Tab', 'Text', 'Textarea', 'ToggleButton', 'ToggleButtons', 'ToggleButtonsStyle', 'TwoByTwoLayout', 'VBox', 'Valid', 'ValueWidget', 'Video', 'Widget', '__builtins__', '__cached__', '__doc__', '__file__', '__jupyter_widgets_base_version__', '__jupyter_widgets_controls_version__', '__loader__', '__name__', '__package__', '__path__', '__protocol_version__', '__spec__', '__version__', '_handle_ipython', '_version', 'dlink', 'docutils', 'domwidget', 'fixed', 'get_ipython', 'handle_kernel', 'interact', 'interact_manual', 'interaction', 'interactive', 'interactive_output', 'jsdlink', 'jslink', 'link', 'load_ipython_extension', 'os', 'register', 'register_comm_target', 'trait_types', 'util', 'valuewidget', 'version_info', 'widget', 'widget_bool', 'widget_box', 'widget_button', 'widget_color', 'widget_controller', 'widget_core', 'widget_date', 'widget_description', 'widget_float', 'widget_int', 'widget_layout', 'widget_link', 'widget_media', 'widget_output', 'widget_selection', 'widget_selectioncontainer', 'widget_serialization', 'widget_string', 'widget_style', 'widget_templates', 'widget_upload', 'widgets']\n"
     ]
    }
   ],
   "source": [
    "print(dir(widgets))"
   ]
  },
  {
   "cell_type": "code",
   "execution_count": 24,
   "metadata": {},
   "outputs": [
    {
     "data": {
      "application/vnd.jupyter.widget-view+json": {
       "model_id": "424d8b2b84294e328b0a3351f0689703",
       "version_major": 2,
       "version_minor": 0
      },
      "text/plain": [
       "Dropdown(options=('PWL', 'LP', 'MBPWL', 'freeLP'), value='PWL')"
      ]
     },
     "metadata": {},
     "output_type": "display_data"
    }
   ],
   "source": [
    "fit_func_name = widgets.Dropdown(options = [\"PWL\", \"LP\", \"MBPWL\", \"freeLP\"])\n",
    "display(fit_func_name)"
   ]
  },
  {
   "cell_type": "code",
   "execution_count": 37,
   "metadata": {},
   "outputs": [
    {
     "data": {
      "application/vnd.jupyter.widget-view+json": {
       "model_id": "5d6c0256284546deb433b75e8d7e223e",
       "version_major": 2,
       "version_minor": 0
      },
      "text/plain": [
       "FloatText(value=8.7e-06, continuous_update=True, description='Source flux:', step=1e-07)"
      ]
     },
     "metadata": {},
     "output_type": "display_data"
    },
    {
     "data": {
      "application/vnd.jupyter.widget-view+json": {
       "model_id": "f66084278856489c8061a6a663f563bc",
       "version_major": 2,
       "version_minor": 0
      },
      "text/plain": [
       "FloatLogSlider(value=0.001, description='Source flux', max=-3.0, min=-8.0, step=0.2)"
      ]
     },
     "metadata": {},
     "output_type": "display_data"
    }
   ],
   "source": [
    "Source_flux = widgets.FloatText(value=8.7e-6,\n",
    "    min=1e-8,\n",
    "    max=1e-3,\n",
    "    step=1e-7,\n",
    "    description='Source flux:',\n",
    "    disabled=False,\n",
    "    continuous_update=True,\n",
    "    orientation='horizontal',\n",
    "    readout=True,\n",
    "    readout_format='.1f',)\n",
    "Source_flux_slider = widgets.FloatLogSlider(value=10,\n",
    "    base=10,\n",
    "    min=-8, # max exponent of base\n",
    "    max=-3, # min exponent of base\n",
    "    step=0.2, # exponent step\n",
    "    description='Source flux')\n",
    "widgets.jslink((Source_flux, 'value'), (Source_flux_slider, 'value'))\n",
    "display(Source_flux, Source_flux_slider)"
   ]
  },
  {
   "cell_type": "code",
   "execution_count": 54,
   "metadata": {},
   "outputs": [
    {
     "data": {
      "application/vnd.jupyter.widget-view+json": {
       "model_id": "7952dc181ddb43c4bf6bb962f10f3a2c",
       "version_major": 2,
       "version_minor": 0
      },
      "text/plain": [
       "Box(children=(Checkbox(value=True, description='potato'), Checkbox(value=True, description='Mongeto'), Checkbo…"
      ]
     },
     "metadata": {},
     "output_type": "display_data"
    },
    {
     "name": "stdout",
     "output_type": "stream",
     "text": [
      "True\n"
     ]
    }
   ],
   "source": [
    "potato = widgets.Checkbox(\n",
    "    value=True,\n",
    "    description='potato',\n",
    "    disabled=False,\n",
    "    indent=True,\n",
    "    continuous_update=True,\n",
    ")\n",
    "mongeto = widgets.Checkbox(\n",
    "    value=True,\n",
    "    description='Mongeto',\n",
    "    disabled=False,\n",
    ")\n",
    "box = widgets.Box([potato, mongeto, potato, mongeto, potato, mongeto])\n",
    "display(box)\n",
    "print(potato.value)"
   ]
  },
  {
   "cell_type": "code",
   "execution_count": 59,
   "metadata": {},
   "outputs": [
    {
     "data": {
      "text/plain": [
       "'TITLE'"
      ]
     },
     "metadata": {},
     "output_type": "display_data"
    },
    {
     "data": {
      "application/vnd.jupyter.widget-view+json": {
       "model_id": "8d3d35f4aa524a2a9338020cf10b4ff5",
       "version_major": 2,
       "version_minor": 0
      },
      "text/plain": [
       "HBox(children=(FloatSlider(value=0.0, description='First alpha bin', max=1.0, step=0.01), FloatSlider(value=2.…"
      ]
     },
     "metadata": {},
     "output_type": "display_data"
    }
   ],
   "source": [
    "first_bin = widgets.FloatSlider(min = 0., max = 1., value = 0., step = 0.01, description = \"First alpha bin\")\n",
    "last_bin = widgets.FloatSlider(min = 1., max = 2., value = 2., step = 0.01, description = \"Last alpha bin\")\n",
    "step  = widgets.FloatSlider(min = 0.01, max = 0.1, value = 0.05, step = 0.01, description = \"Alpha bin width (step)\")\n",
    "initial_guess_pos = widgets.FloatSlider(value = 2., description = \"Initial guess alpha position\")\n",
    "widgets.jslink((first_bin, 'value'), (initial_guess_pos, 'min'))\n",
    "widgets.jslink((last_bin, 'value'), (initial_guess_pos, 'max'))\n",
    "widgets.jslink((step, 'value'), (initial_guess_pos, 'step'))\n",
    "display(widgets.HBox([first_bin,last_bin,step, initial_guess_pos]))"
   ]
  },
  {
   "cell_type": "code",
   "execution_count": 57,
   "metadata": {},
   "outputs": [
    {
     "data": {
      "text/plain": [
       "'TITLE'"
      ]
     },
     "metadata": {},
     "output_type": "display_data"
    }
   ],
   "source": [
    "display(\"TITLE\")"
   ]
  },
  {
   "cell_type": "code",
   "execution_count": 74,
   "metadata": {},
   "outputs": [
    {
     "data": {
      "text/plain": [
       "True"
      ]
     },
     "execution_count": 74,
     "metadata": {},
     "output_type": "execute_result"
    }
   ],
   "source": [
    "np.inf >= 999999999999999\n"
   ]
  },
  {
   "cell_type": "code",
   "execution_count": 13,
   "metadata": {},
   "outputs": [],
   "source": [
    "def testinbgjob(iter):\n",
    "    i = iter\n",
    "    a = np.array([1,2,3])\n",
    "    return i * a\n"
   ]
  },
  {
   "cell_type": "code",
   "execution_count": 14,
   "metadata": {},
   "outputs": [
    {
     "name": "stdout",
     "output_type": "stream",
     "text": [
      "[array([0, 0, 0]), array([1, 2, 3]), array([2, 4, 6]), array([3, 6, 9]), array([ 4,  8, 12])]\n"
     ]
    }
   ],
   "source": [
    "totals = Parallel(n_jobs = -2)(delayed(testinbgjob)(patata) for patata in range(5))\n",
    "print(totals)"
   ]
  },
  {
   "cell_type": "code",
   "execution_count": 15,
   "metadata": {},
   "outputs": [
    {
     "name": "stdout",
     "output_type": "stream",
     "text": [
      "[180, 175, 165, 153, 203]\n"
     ]
    }
   ],
   "source": [
    "def testrand(iter):\n",
    "    my_generator = np.random.default_rng(iter)\n",
    "    patata = my_generator.poisson(175)\n",
    "    return patata\n",
    "\n",
    "randoms = Parallel(n_jobs=-2)(delayed(testrand)(tont) for tont in range(5))\n",
    "print(randoms)"
   ]
  },
  {
   "cell_type": "code",
   "execution_count": null,
   "metadata": {},
   "outputs": [],
   "source": [
    "#esta a mitges\n",
    "    def process(alpha0):\n",
    "        global alpha\n",
    "        alpha = alpha0   \n",
    "        things = fit(initial_guess = initial_guess_0)\n",
    "        if things.valid == False:\n",
    "            raise Warning(\"The minimum is not valid\")\n",
    "        # if alpha == 1:\n",
    "        #     print(\"The best fit params for alpha = 1 are: \", things.values)\n",
    "        return m2LogL(things.values)\n",
    "\n",
    "\n",
    "\n",
    "for i, alpha in enumerate(alphas):\n",
    "            ydata, ydata_u = SED_alpha(alpha, dNdE_b, dNdE_b_u, tau, E_final)\n",
    "            initial_guess = initial_guess_mat[i] #phi_0, lam1, deltas (len(deltas)=knots))\n",
    "            if alpha == initial_guess_pos:\n",
    "                initial_guess = initial_guess_mat[0]\n",
    "            things = fit(initial_guess=initial_guess)\n",
    "            if i < (len(alphas)):\n",
    "                initial_guess_mat[i+1] = things.values\n",
    "            chi2 = chisq(ydata, fit_func(E_final, things.values), ydata_u)\n",
    "            chisqs.append(chi2)\n",
    "\n",
    "\n",
    "\n",
    "    def process2(iter, alphas, mu_on, mu_off):\n",
    "        chisqs = []\n",
    "        i = iter\n",
    "        my_generator = np.random.default_rng(rng_num)\n",
    "        Non, Noff = my_generator.poisson(mu_on), my_generator.poisson(5 * mu_off)\n",
    "        Non_u, Noff_u = np.sqrt(Non), np.sqrt(Noff)\n",
    "        things = fit(initial_guess=initial_guess_0)\n",
    "        initial_guess_mat = ig_mat_create(fit_func_name, alphas, knots)\n",
    "        initial_guess_mat[0] = things.values\n",
    "        for i, alpha in enumerate(alphas):\n",
    "            initial_guess = initial_guess_mat[i]\n",
    "            if alpha == initial_guess_pos:\n",
    "                initial_guess = initial_guess_mat[0]\n",
    "            things = fit(initial_guess = initial_guess)\n",
    "            if i < len(alphas):\n",
    "                initial_guess_mat[i+1] = things.values\n",
    "            chi2 = m2LogL(things.values)\n",
    "            chisqs.append(chi2)\n",
    "        return chisqs\n",
    "\n",
    "\n",
    "\n",
    "\n",
    "        print(2)\n",
    "\n",
    "    alphas_iter = []\n",
    "    chisqs_iter = []\n",
    "#fins aquí \n",
    "    if niter == 1:\n",
    "        if fit_func_name == \"MBPWL\":\n",
    "                \n",
    "            alphas = alphas_creation(initial_guess_pos, first_bin, last_bin, step)\n",
    "            chisqs = []\n",
    "\n",
    "            mu_on = mu_vec_final + bckgmu_final\n",
    "            mu_off = bckgmu_final \n",
    "\n",
    "            rng_num = 231654\n",
    "            my_generator = np.random.default_rng(rng_num)\n",
    "            Non, Noff = my_generator.poisson(mu_on), my_generator.poisson(5 * mu_off)\n",
    "            Non_u, Noff_u = np.sqrt(Non), np.sqrt(Noff)\n",
    "            chisqs = Parallel(n_jobs=5)(delayed(process)(alpha0) for alpha0 in alphas)\n",
    "\n",
    "            print(\"The minimum for the -2logL is at: \", alphas[np.where(chisqs == min(chisqs))])\n",
    "            plt.plot(alphas, chisqs, 'o')\n",
    "            # plt.yscale('log')\n",
    "            plt.xlabel(r'$\\alpha$')\n",
    "            plt.ylabel(r'$-2log(L/L_{max})$')\n",
    "            plt.show()"
   ]
  },
  {
   "cell_type": "code",
   "execution_count": 16,
   "metadata": {},
   "outputs": [
    {
     "name": "stdout",
     "output_type": "stream",
     "text": [
      "3 3\n"
     ]
    }
   ],
   "source": [
    "def testing2(a,b,c):\n",
    "    d = a + b\n",
    "    return d,c\n",
    "\n",
    "d,c = testing2(1,2,3)\n",
    "print(d,c)"
   ]
  },
  {
   "cell_type": "code",
   "execution_count": 22,
   "metadata": {},
   "outputs": [
    {
     "name": "stdout",
     "output_type": "stream",
     "text": [
      "[array([1. , 1.5, 2. , 2.5, 3. , 3.5]), array([1. , 1.5, 2. , 2.5, 3. , 3.5]), array([1. , 1.5, 2. , 2.5, 3. , 3.5]), array([1. , 1.5, 2. , 2.5, 3. , 3.5])]\n"
     ]
    }
   ],
   "source": [
    "a = np.arange(1, 4, 0.5)\n",
    "aas = np.tile(a, [4,1])\n",
    "print(aas)"
   ]
  },
  {
   "cell_type": "code",
   "execution_count": 24,
   "metadata": {},
   "outputs": [
    {
     "name": "stdout",
     "output_type": "stream",
     "text": [
      "0\n",
      "1\n",
      "2\n",
      "3\n",
      "4\n"
     ]
    }
   ],
   "source": [
    "for i in range(5):\n",
    "    print(i)"
   ]
  },
  {
   "cell_type": "code",
   "execution_count": 1,
   "metadata": {},
   "outputs": [],
   "source": [
    "import numpy as np\n",
    "import h5py"
   ]
  },
  {
   "cell_type": "code",
   "execution_count": 2,
   "metadata": {},
   "outputs": [],
   "source": [
    "hdf5test1 = np.array([1,2,3,4,5])\n",
    "alphas = np.array([0., 0.5, 1, 1.5, 2.])\n",
    "tes4 = []\n",
    "tes4.append(hdf5test1)\n",
    "tes4.append(hdf5test1)"
   ]
  },
  {
   "cell_type": "code",
   "execution_count": 3,
   "metadata": {},
   "outputs": [],
   "source": [
    "f = h5py.File(\"mytestfile.hdf5\", \"w\")"
   ]
  },
  {
   "cell_type": "code",
   "execution_count": 4,
   "metadata": {},
   "outputs": [],
   "source": [
    "dset = f.create_dataset(\"alhpas\", data = alphas, dtype='float')\n",
    "dset = f.create_dataset(\"hdf5test1\", data = tes4, dtype='float')"
   ]
  },
  {
   "cell_type": "code",
   "execution_count": 5,
   "metadata": {},
   "outputs": [
    {
     "name": "stdout",
     "output_type": "stream",
     "text": [
      "[[1. 2. 3. 4. 5.]\n",
      " [1. 2. 3. 4. 5.]]\n"
     ]
    }
   ],
   "source": [
    "load = h5py.File(\"mytestfile.hdf5\",\"r\")\n",
    "X = np.array(load['hdf5test1'])\n",
    "print(X)"
   ]
  },
  {
   "cell_type": "code",
   "execution_count": 4,
   "metadata": {},
   "outputs": [],
   "source": [
    "import os"
   ]
  },
  {
   "cell_type": "code",
   "execution_count": 7,
   "metadata": {},
   "outputs": [],
   "source": [
    "LP_curvature = 0.2\n",
    "Spectrum_func_name = \"LP\"\n",
    "fit_func_name = \"MBWPL\"\n",
    "niter = 50\n",
    "\n",
    "if not os.path.exists('/data/magic/users-ifae/rgrau/EBL-splines/EBL{niter}_{func1}({curv})_{func2}'.format(curv = LP_curvature, func1 = Spectrum_func_name, func2 = fit_func_name, niter = niter)):\n",
    "    os.mkdir('/data/magic/users-ifae/rgrau/EBL-splines/EBL{niter}_{func1}({curv})_{func2}'.format(curv = LP_curvature, func1 = Spectrum_func_name, func2 = fit_func_name, niter = niter))\n"
   ]
  },
  {
   "cell_type": "code",
   "execution_count": 8,
   "metadata": {},
   "outputs": [],
   "source": [
    "caca = ([(1e-6, 1e-3), (-4., 4.), (0., 4.), (0., 4.), (0., 4.), (0., 4.), (0., 4.)])"
   ]
  },
  {
   "cell_type": "code",
   "execution_count": 3,
   "metadata": {},
   "outputs": [
    {
     "data": {
      "text/plain": [
       "tuple"
      ]
     },
     "execution_count": 3,
     "metadata": {},
     "output_type": "execute_result"
    }
   ],
   "source": [
    "type(caca[0])"
   ]
  },
  {
   "cell_type": "code",
   "execution_count": 5,
   "metadata": {},
   "outputs": [
    {
     "data": {
      "text/plain": [
       "(1e-06, 0.001)"
      ]
     },
     "execution_count": 5,
     "metadata": {},
     "output_type": "execute_result"
    }
   ],
   "source": [
    "caca[0]"
   ]
  },
  {
   "cell_type": "code",
   "execution_count": 6,
   "metadata": {},
   "outputs": [
    {
     "name": "stdout",
     "output_type": "stream",
     "text": [
      "[(1e-06, 0.001), (-4.0, 4.0), (0.0, 4.0), (0.0, 4.0), (0.0, 4.0), (0.0, 4.0), (0.0, 4.0), (0.0, 4.0)]\n"
     ]
    }
   ],
   "source": [
    "caca.append((0.,4.))\n",
    "print(caca)"
   ]
  },
  {
   "cell_type": "code",
   "execution_count": 7,
   "metadata": {},
   "outputs": [
    {
     "name": "stdout",
     "output_type": "stream",
     "text": [
      "[(1e-06, 0.001), (-4.0, 4.0), (0.0, 4.0), (0.0, 4.0), (0.0, 4.0), (0.0, 4.0), (0.0, 4.0)]\n"
     ]
    }
   ],
   "source": [
    "knots = 5\n",
    "MBPWL_limits = ([(1e-6, 1e-3), (-4., 4.)])\n",
    "for i in range(knots):\n",
    "    MBPWL_limits.append((0., 4.))\n",
    "print(MBPWL_limits)"
   ]
  },
  {
   "cell_type": "code",
   "execution_count": 9,
   "metadata": {},
   "outputs": [
    {
     "data": {
      "text/plain": [
       "True"
      ]
     },
     "execution_count": 9,
     "metadata": {},
     "output_type": "execute_result"
    }
   ],
   "source": [
    "MBPWL_limits == caca"
   ]
  },
  {
   "cell_type": "code",
   "execution_count": null,
   "metadata": {},
   "outputs": [],
   "source": []
  }
 ],
 "metadata": {
  "interpreter": {
   "hash": "1f2f7e8324b75f14826c3d6674dd3eaf600318dfcda051e77b4683649f0eb20c"
  },
  "kernelspec": {
   "display_name": "Python 3.6.8 ('pythonenv': virtualenv)",
   "language": "python",
   "name": "python3"
  },
  "language_info": {
   "codemirror_mode": {
    "name": "ipython",
    "version": 3
   },
   "file_extension": ".py",
   "mimetype": "text/x-python",
   "name": "python",
   "nbconvert_exporter": "python",
   "pygments_lexer": "ipython3",
   "version": "3.6.8"
  },
  "orig_nbformat": 4
 },
 "nbformat": 4,
 "nbformat_minor": 2
}
